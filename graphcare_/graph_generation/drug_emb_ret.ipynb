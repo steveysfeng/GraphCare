{
 "cells": [
  {
   "cell_type": "code",
   "execution_count": 1,
   "metadata": {},
   "outputs": [],
   "source": [
    "import csv\n",
    "\n",
    "condition_mapping_file = \"../../resources/CCSCM.csv\"\n",
    "procedure_mapping_file = \"../../resources/CCSPROC.csv\"\n",
    "drug_file = \"../../resources/ATC.csv\"\n",
    "\n",
    "condition_dict = {}\n",
    "with open(condition_mapping_file, newline='') as csvfile:\n",
    "    reader = csv.DictReader(csvfile)\n",
    "    for row in reader:\n",
    "        condition_dict[row['code']] = row['name'].lower()\n",
    "\n",
    "procedure_dict = {}\n",
    "with open(procedure_mapping_file, newline='') as csvfile:\n",
    "    reader = csv.DictReader(csvfile)\n",
    "    for row in reader:\n",
    "        procedure_dict[row['code']] = row['name'].lower()\n",
    "\n",
    "drug_dict = {}\n",
    "with open(drug_file, newline='') as csvfile:\n",
    "    reader = csv.DictReader(csvfile)\n",
    "    for row in reader:\n",
    "        if row['level'] == '3':   #the prior cade was '5.0', changed to '3' to match graph_gen.ipynb\n",
    "            drug_dict[row['code']] = row['name'].lower()\n"
   ]
  },
  {
   "cell_type": "code",
   "execution_count": 2,
   "metadata": {},
   "outputs": [],
   "source": [
    "from tqdm import tqdm\n",
    "import json\n",
    "\n",
    "drug_ent = set()\n",
    "drug_rel = set()\n",
    "\n",
    "file_dir = \"../../graphs/drug/ATC3\"  #why in some files the level of the drug is 5 and in others 3? confusing.\n",
    "\n",
    "for key in drug_dict.keys():\n",
    "    file = f\"{file_dir}/{key}.txt\"\n",
    "    with open(file=file, mode='r') as f:\n",
    "        lines = f.readlines()\n",
    "    \n",
    "    for line in lines:\n",
    "        parsed = line.split('\\t')\n",
    "        if len(parsed) == 3:\n",
    "            h, r, t = line.split('\\t')\n",
    "            t = t[:-1]\n",
    "            drug_ent.add(h)\n",
    "            drug_ent.add(t)\n",
    "            drug_rel.add(r)\n",
    "\n",
    "\n",
    "drug_id2ent = {index: value for index, value in enumerate(drug_ent)}\n",
    "drug_ent2id = {value: index for index, value in enumerate(drug_ent)}\n",
    "drug_id2rel = {index: value for index, value in enumerate(drug_rel)}\n",
    "drug_rel2id = {value: index for index, value in enumerate(drug_rel)}\n",
    "\n",
    "out_file_id2ent = f\"{file_dir}/id2ent.json\"\n",
    "out_file_ent2id = f\"{file_dir}/ent2id.json\"\n",
    "out_file_id2rel = f\"{file_dir}/id2rel.json\"\n",
    "out_file_rel2id = f\"{file_dir}/rel2id.json\"\n",
    "\n",
    "with open(out_file_id2ent, 'w') as file:\n",
    "    json.dump(drug_id2ent, file, indent=6)\n",
    "with open(out_file_ent2id, 'w') as file:\n",
    "    json.dump(drug_ent2id, file, indent=6)\n",
    "with open(out_file_id2rel, 'w') as file:\n",
    "    json.dump(drug_id2rel, file, indent=6)\n",
    "with open(out_file_rel2id, 'w') as file:\n",
    "    json.dump(drug_rel2id, file, indent=6)\n",
    "    "
   ]
  },
  {
   "cell_type": "code",
   "execution_count": 3,
   "metadata": {},
   "outputs": [],
   "source": [
    "import json\n",
    "\n",
    "file_dir = \"../../graphs/drug/ATC3\"\n",
    "\n",
    "file_id2ent = f\"{file_dir}/id2ent.json\"\n",
    "file_ent2id = f\"{file_dir}/ent2id.json\"\n",
    "file_id2rel = f\"{file_dir}/id2rel.json\"\n",
    "file_rel2id = f\"{file_dir}/rel2id.json\"\n",
    "\n",
    "with open(file_id2ent, 'r') as file:\n",
    "    drug_id2ent = json.load(file)\n",
    "with open(file_ent2id, 'r') as file:\n",
    "    drug_ent2id = json.load(file)\n",
    "with open(file_id2rel, 'r') as file:\n",
    "    drug_id2rel = json.load(file)\n",
    "with open(file_rel2id, 'r') as file:\n",
    "    drug_rel2id = json.load(file)"
   ]
  },
  {
   "cell_type": "code",
   "execution_count": 4,
   "metadata": {},
   "outputs": [
    {
     "name": "stderr",
     "output_type": "stream",
     "text": [
      "  0%|          | 0/20859 [00:00<?, ?it/s]"
     ]
    },
    {
     "name": "stdout",
     "output_type": "stream",
     "text": [
      "Skipping at dialysis center. Embedding file already exists.\n"
     ]
    },
    {
     "name": "stderr",
     "output_type": "stream",
     "text": [
      "  0%|          | 2/20859 [00:00<2:48:14,  2.07it/s]"
     ]
    },
    {
     "name": "stdout",
     "output_type": "stream",
     "text": [
      "Saved embedding for using hormonal contraceptives for systemic use to ../../graphs/drug/ATC3/drug_ent_emb/using hormonal contraceptives for systemic use.json\n"
     ]
    },
    {
     "name": "stderr",
     "output_type": "stream",
     "text": [
      "  0%|          | 3/20859 [00:01<2:41:31,  2.15it/s]"
     ]
    },
    {
     "name": "stdout",
     "output_type": "stream",
     "text": [
      "Saved embedding for risk of respiratory depression to ../../graphs/drug/ATC3/drug_ent_emb/risk of respiratory depression.json\n"
     ]
    },
    {
     "name": "stderr",
     "output_type": "stream",
     "text": [
      "  0%|          | 4/20859 [00:02<3:55:04,  1.48it/s]"
     ]
    },
    {
     "name": "stdout",
     "output_type": "stream",
     "text": [
      "Saved embedding for end-stage renal disease treatment to ../../graphs/drug/ATC3/drug_ent_emb/end-stage renal disease treatment.json\n",
      "Skipping edema in lymphedema. Embedding file already exists.\n",
      "Skipping drug therapy. Embedding file already exists.\n",
      "Skipping preferred in certain situations. Embedding file already exists.\n",
      "Skipping specific bacterial proteins. Embedding file already exists.\n"
     ]
    },
    {
     "name": "stderr",
     "output_type": "stream",
     "text": [
      "  0%|          | 9/20859 [00:03<1:35:26,  3.64it/s]"
     ]
    },
    {
     "name": "stdout",
     "output_type": "stream",
     "text": [
      "Saved embedding for must be adjusted to ../../graphs/drug/ATC3/drug_ent_emb/must be adjusted.json\n"
     ]
    },
    {
     "name": "stderr",
     "output_type": "stream",
     "text": [
      "  0%|          | 10/20859 [00:03<1:53:14,  3.07it/s]"
     ]
    },
    {
     "name": "stdout",
     "output_type": "stream",
     "text": [
      "Saved embedding for harmful to dogs to ../../graphs/drug/ATC3/drug_ent_emb/harmful to dogs.json\n",
      "Skipping various drugs. Embedding file already exists.\n"
     ]
    },
    {
     "name": "stderr",
     "output_type": "stream",
     "text": [
      "  0%|          | 12/20859 [00:04<2:11:36,  2.64it/s]"
     ]
    },
    {
     "name": "stdout",
     "output_type": "stream",
     "text": [
      "Saved embedding for contraindicated in patients with certain medical conditions to ../../graphs/drug/ATC3/drug_ent_emb/contraindicated in patients with certain medical conditions.json\n",
      "Skipping ability of the kidneys to filter waste and produce urine. Embedding file already exists.\n",
      "Skipping inflammation of the diverticula. Embedding file already exists.\n",
      "Skipping losartan. Embedding file already exists.\n"
     ]
    },
    {
     "name": "stderr",
     "output_type": "stream",
     "text": [
      "  0%|          | 16/20859 [00:05<1:34:02,  3.69it/s]"
     ]
    },
    {
     "name": "stdout",
     "output_type": "stream",
     "text": [
      "Saved embedding for autoimmune liver disease to ../../graphs/drug/ATC3/drug_ent_emb/autoimmune liver disease.json\n",
      "Skipping scabies. Embedding file already exists.\n",
      "Skipping with caution in patients with a history of genitourinary disorders. Embedding file already exists.\n",
      "Skipping peripheral vascular disease. Embedding file already exists.\n"
     ]
    },
    {
     "name": "stderr",
     "output_type": "stream",
     "text": [
      "  0%|          | 20/20859 [00:05<1:21:35,  4.26it/s]"
     ]
    },
    {
     "name": "stdout",
     "output_type": "stream",
     "text": [
      "Saved embedding for resuscitation to ../../graphs/drug/ATC3/drug_ent_emb/resuscitation.json\n",
      "Skipping treat ulcerative colitis. Embedding file already exists.\n",
      "Skipping some patients. Embedding file already exists.\n",
      "Skipping chronic respiratory conditions. Embedding file already exists.\n",
      "Skipping contact lenses. Embedding file already exists.\n",
      "Skipping abnormal substances from plasma. Embedding file already exists.\n"
     ]
    },
    {
     "name": "stderr",
     "output_type": "stream",
     "text": [
      "  0%|          | 26/20859 [00:06<57:41,  6.02it/s]  "
     ]
    },
    {
     "name": "stdout",
     "output_type": "stream",
     "text": [
      "Saved embedding for gastrointestinal toxicity to ../../graphs/drug/ATC3/drug_ent_emb/gastrointestinal toxicity.json\n",
      "Skipping relief from pain. Embedding file already exists.\n",
      "Skipping varying strengths of the medication. Embedding file already exists.\n"
     ]
    },
    {
     "name": "stderr",
     "output_type": "stream",
     "text": [
      "  0%|          | 29/20859 [00:07<58:42,  5.91it/s]"
     ]
    },
    {
     "name": "stdout",
     "output_type": "stream",
     "text": [
      "Saved embedding for non-steroids to ../../graphs/drug/ATC3/drug_ent_emb/non-steroids.json\n",
      "Skipping rapid distribution. Embedding file already exists.\n",
      "Skipping important public health intervention. Embedding file already exists.\n",
      "Skipping orthodontic appliances. Embedding file already exists.\n"
     ]
    },
    {
     "name": "stderr",
     "output_type": "stream",
     "text": [
      "  0%|          | 33/20859 [00:07<52:01,  6.67it/s]"
     ]
    },
    {
     "name": "stdout",
     "output_type": "stream",
     "text": [
      "Saved embedding for beneficial for individuals with muscle wasting conditions to ../../graphs/drug/ATC3/drug_ent_emb/beneficial for individuals with muscle wasting conditions.json\n"
     ]
    },
    {
     "name": "stderr",
     "output_type": "stream",
     "text": [
      "  0%|          | 34/20859 [00:08<1:08:31,  5.07it/s]"
     ]
    },
    {
     "name": "stdout",
     "output_type": "stream",
     "text": [
      "Saved embedding for improve eye health to ../../graphs/drug/ATC3/drug_ent_emb/improve eye health.json\n"
     ]
    },
    {
     "name": "stderr",
     "output_type": "stream",
     "text": [
      "  0%|          | 35/20859 [00:08<1:18:57,  4.40it/s]"
     ]
    },
    {
     "name": "stdout",
     "output_type": "stream",
     "text": [
      "Saved embedding for involved in the reduction of iron for utilization in the body to ../../graphs/drug/ATC3/drug_ent_emb/involved in the reduction of iron for utilization in the body.json\n",
      "Skipping not exceeding the recommended frequency. Embedding file already exists.\n",
      "Skipping form in response to injury. Embedding file already exists.\n"
     ]
    },
    {
     "name": "stderr",
     "output_type": "stream",
     "text": [
      "  0%|          | 38/20859 [00:09<1:13:15,  4.74it/s]"
     ]
    },
    {
     "name": "stdout",
     "output_type": "stream",
     "text": [
      "Saved embedding for ocular vascular disorders to ../../graphs/drug/ATC3/drug_ent_emb/ocular vascular disorders.json\n",
      "Skipping administered as directed. Embedding file already exists.\n",
      "Skipping G6PD deficiency. Embedding file already exists.\n"
     ]
    },
    {
     "name": "stderr",
     "output_type": "stream",
     "text": [
      "  0%|          | 41/20859 [00:09<1:11:29,  4.85it/s]"
     ]
    },
    {
     "name": "stdout",
     "output_type": "stream",
     "text": [
      "Saved embedding for treating overactive bladder to ../../graphs/drug/ATC3/drug_ent_emb/treating overactive bladder.json\n"
     ]
    },
    {
     "name": "stderr",
     "output_type": "stream",
     "text": [
      "  0%|          | 42/20859 [00:10<1:23:27,  4.16it/s]"
     ]
    },
    {
     "name": "stdout",
     "output_type": "stream",
     "text": [
      "Saved embedding for effective treatment to ../../graphs/drug/ATC3/drug_ent_emb/effective treatment.json\n"
     ]
    },
    {
     "name": "stderr",
     "output_type": "stream",
     "text": [
      "  0%|          | 43/20859 [00:10<1:34:55,  3.65it/s]"
     ]
    },
    {
     "name": "stdout",
     "output_type": "stream",
     "text": [
      "Saved embedding for sickle cell disease to ../../graphs/drug/ATC3/drug_ent_emb/sickle cell disease.json\n",
      "Skipping androgenic effects. Embedding file already exists.\n",
      "Skipping enzymes. Embedding file already exists.\n",
      "Skipping hemodiafiltration. Embedding file already exists.\n"
     ]
    },
    {
     "name": "stderr",
     "output_type": "stream",
     "text": [
      "  0%|          | 47/20859 [00:11<1:09:15,  5.01it/s]"
     ]
    },
    {
     "name": "stdout",
     "output_type": "stream",
     "text": [
      "Saved embedding for to manage angioedema to ../../graphs/drug/ATC3/drug_ent_emb/to manage angioedema.json\n"
     ]
    },
    {
     "name": "stderr",
     "output_type": "stream",
     "text": [
      "  0%|          | 48/20859 [00:11<1:21:17,  4.27it/s]"
     ]
    },
    {
     "name": "stdout",
     "output_type": "stream",
     "text": [
      "Saved embedding for combination with other imaging techniques to ../../graphs/drug/ATC3/drug_ent_emb/combination with other imaging techniques.json\n"
     ]
    },
    {
     "name": "stderr",
     "output_type": "stream",
     "text": [
      "  0%|          | 49/20859 [00:11<1:33:50,  3.70it/s]"
     ]
    },
    {
     "name": "stdout",
     "output_type": "stream",
     "text": [
      "Saved embedding for strength options to ../../graphs/drug/ATC3/drug_ent_emb/strength options.json\n",
      "Skipping drug dependence. Embedding file already exists.\n",
      "Skipping serogroup-specific vaccines. Embedding file already exists.\n"
     ]
    },
    {
     "name": "stderr",
     "output_type": "stream",
     "text": [
      "  0%|          | 52/20859 [00:12<1:32:06,  3.77it/s]"
     ]
    },
    {
     "name": "stdout",
     "output_type": "stream",
     "text": [
      "Saved embedding for peripheral circulation to ../../graphs/drug/ATC3/drug_ent_emb/peripheral circulation.json\n",
      "Skipping medicated. Embedding file already exists.\n",
      "Skipping widely available. Embedding file already exists.\n"
     ]
    },
    {
     "name": "stderr",
     "output_type": "stream",
     "text": [
      "  0%|          | 55/20859 [00:13<1:16:46,  4.52it/s]"
     ]
    },
    {
     "name": "stdout",
     "output_type": "stream",
     "text": [
      "Saved embedding for specific needs to ../../graphs/drug/ATC3/drug_ent_emb/specific needs.json\n"
     ]
    },
    {
     "name": "stderr",
     "output_type": "stream",
     "text": [
      "  0%|          | 56/20859 [00:13<1:27:58,  3.94it/s]"
     ]
    },
    {
     "name": "stdout",
     "output_type": "stream",
     "text": [
      "Saved embedding for for the treatment of cutaneous indolent B-cell lymphoma to ../../graphs/drug/ATC3/drug_ent_emb/for the treatment of cutaneous indolent B-cell lymphoma.json\n",
      "Skipping used to treat deficiencies. Embedding file already exists.\n",
      "Skipping iv solutions. Embedding file already exists.\n"
     ]
    },
    {
     "name": "stderr",
     "output_type": "stream",
     "text": [
      "  0%|          | 59/20859 [00:14<1:16:40,  4.52it/s]"
     ]
    },
    {
     "name": "stdout",
     "output_type": "stream",
     "text": [
      "Saved embedding for oral rinses to ../../graphs/drug/ATC3/drug_ent_emb/oral rinses.json\n",
      "Skipping immunized animals. Embedding file already exists.\n",
      "Skipping contraceptives for topical use. Embedding file already exists.\n",
      "Skipping prevent chronic diseases. Embedding file already exists.\n",
      "Skipping as needed for nausea and vomiting. Embedding file already exists.\n"
     ]
    },
    {
     "name": "stderr",
     "output_type": "stream",
     "text": [
      "  0%|          | 64/20859 [00:14<55:37,  6.23it/s]  "
     ]
    },
    {
     "name": "stdout",
     "output_type": "stream",
     "text": [
      "Saved embedding for administered intranasally to ../../graphs/drug/ATC3/drug_ent_emb/administered intranasally.json\n",
      "Skipping blood glucose lowering drugs. Embedding file already exists.\n"
     ]
    },
    {
     "name": "stderr",
     "output_type": "stream",
     "text": [
      "  0%|          | 66/20859 [00:15<1:00:59,  5.68it/s]"
     ]
    },
    {
     "name": "stdout",
     "output_type": "stream",
     "text": [
      "Saved embedding for relief of symptoms in pharyngitis to ../../graphs/drug/ATC3/drug_ent_emb/relief of symptoms in pharyngitis.json\n",
      "Skipping medical procedures to enhance fertility. Embedding file already exists.\n",
      "Skipping restrictions in certain countries. Embedding file already exists.\n",
      "Skipping age-appropriate dosing. Embedding file already exists.\n"
     ]
    },
    {
     "name": "stderr",
     "output_type": "stream",
     "text": [
      "  0%|          | 70/20859 [00:15<52:32,  6.59it/s]  "
     ]
    },
    {
     "name": "stdout",
     "output_type": "stream",
     "text": [
      "Saved embedding for a comprehensive approach to ../../graphs/drug/ATC3/drug_ent_emb/a comprehensive approach.json\n"
     ]
    },
    {
     "name": "stderr",
     "output_type": "stream",
     "text": [
      "  0%|          | 71/20859 [00:15<1:04:56,  5.33it/s]"
     ]
    },
    {
     "name": "stdout",
     "output_type": "stream",
     "text": [
      "Saved embedding for harmful to termites to ../../graphs/drug/ATC3/drug_ent_emb/harmful to termites.json\n"
     ]
    },
    {
     "name": "stderr",
     "output_type": "stream",
     "text": [
      "  0%|          | 72/20859 [00:16<1:31:56,  3.77it/s]"
     ]
    },
    {
     "name": "stdout",
     "output_type": "stream",
     "text": [
      "Saved embedding for ability to conceive to ../../graphs/drug/ATC3/drug_ent_emb/ability to conceive.json\n",
      "Skipping taken with certain supplements. Embedding file already exists.\n",
      "Skipping therapy effectiveness. Embedding file already exists.\n",
      "Skipping airway narrowing. Embedding file already exists.\n"
     ]
    },
    {
     "name": "stderr",
     "output_type": "stream",
     "text": [
      "  0%|          | 76/20859 [00:18<2:02:42,  2.82it/s]"
     ]
    },
    {
     "name": "stdout",
     "output_type": "stream",
     "text": [
      "Saved embedding for blood dyscrasias to ../../graphs/drug/ATC3/drug_ent_emb/blood dyscrasias.json\n",
      "Skipping parental behavior. Embedding file already exists.\n",
      "Skipping in patients with certain medical conditions. Embedding file already exists.\n",
      "Skipping enzymes involved in DNA repair. Embedding file already exists.\n"
     ]
    },
    {
     "name": "stderr",
     "output_type": "stream",
     "text": [
      "  0%|          | 80/20859 [00:18<1:30:06,  3.84it/s]"
     ]
    },
    {
     "name": "stdout",
     "output_type": "stream",
     "text": [
      "Saved embedding for top priority to ../../graphs/drug/ATC3/drug_ent_emb/top priority.json\n",
      "Skipping vaccine carriers. Embedding file already exists.\n"
     ]
    },
    {
     "name": "stderr",
     "output_type": "stream",
     "text": [
      "  0%|          | 82/20859 [00:19<1:33:41,  3.70it/s]"
     ]
    },
    {
     "name": "stdout",
     "output_type": "stream",
     "text": [
      "Saved embedding for beneficial for individuals with cancer to ../../graphs/drug/ATC3/drug_ent_emb/beneficial for individuals with cancer.json\n",
      "Skipping in patients with prosthetic heart valves. Embedding file already exists.\n"
     ]
    },
    {
     "name": "stderr",
     "output_type": "stream",
     "text": [
      "  0%|          | 84/20859 [00:20<1:30:32,  3.82it/s]"
     ]
    },
    {
     "name": "stdout",
     "output_type": "stream",
     "text": [
      "Saved embedding for can cause weakness to ../../graphs/drug/ATC3/drug_ent_emb/can cause weakness.json\n",
      "Skipping higher risk for infection. Embedding file already exists.\n",
      "Skipping migraine-associated symptoms. Embedding file already exists.\n",
      "Skipping cardioprotective. Embedding file already exists.\n"
     ]
    },
    {
     "name": "stderr",
     "output_type": "stream",
     "text": [
      "  0%|          | 88/20859 [00:20<1:10:11,  4.93it/s]"
     ]
    },
    {
     "name": "stdout",
     "output_type": "stream",
     "text": [
      "Saved embedding for improve the chances of a successful pregnancy to ../../graphs/drug/ATC3/drug_ent_emb/improve the chances of a successful pregnancy.json\n"
     ]
    },
    {
     "name": "stderr",
     "output_type": "stream",
     "text": [
      "  0%|          | 89/20859 [00:21<1:27:42,  3.95it/s]"
     ]
    },
    {
     "name": "stdout",
     "output_type": "stream",
     "text": [
      "Saved embedding for for the treatment of inflammatory bowel disease to ../../graphs/drug/ATC3/drug_ent_emb/for the treatment of inflammatory bowel disease.json\n"
     ]
    },
    {
     "name": "stderr",
     "output_type": "stream",
     "text": [
      "  0%|          | 90/20859 [00:21<1:40:25,  3.45it/s]"
     ]
    },
    {
     "name": "stdout",
     "output_type": "stream",
     "text": [
      "Saved embedding for fluid retention to ../../graphs/drug/ATC3/drug_ent_emb/fluid retention.json\n"
     ]
    },
    {
     "name": "stderr",
     "output_type": "stream",
     "text": [
      "  0%|          | 91/20859 [00:22<1:59:07,  2.91it/s]"
     ]
    },
    {
     "name": "stdout",
     "output_type": "stream",
     "text": [
      "Saved embedding for by intramuscular injection to ../../graphs/drug/ATC3/drug_ent_emb/by intramuscular injection.json\n"
     ]
    },
    {
     "name": "stderr",
     "output_type": "stream",
     "text": [
      "  0%|          | 92/20859 [00:22<2:30:21,  2.30it/s]"
     ]
    },
    {
     "name": "stdout",
     "output_type": "stream",
     "text": [
      "Saved embedding for pediatric combination vaccines to ../../graphs/drug/ATC3/drug_ent_emb/pediatric combination vaccines.json\n",
      "Skipping diabetes. Embedding file already exists.\n",
      "Skipping type of dizziness. Embedding file already exists.\n",
      "Skipping control bleeding in patients with acquired hemophilia. Embedding file already exists.\n",
      "Skipping red blood cell destruction. Embedding file already exists.\n"
     ]
    },
    {
     "name": "stderr",
     "output_type": "stream",
     "text": [
      "  0%|          | 97/20859 [00:23<1:29:13,  3.88it/s]"
     ]
    },
    {
     "name": "stdout",
     "output_type": "stream",
     "text": [
      "Saved embedding for manage bleeding in patients with gastric ulcer to ../../graphs/drug/ATC3/drug_ent_emb/manage bleeding in patients with gastric ulcer.json\n",
      "Skipping blood parameter monitoring. Embedding file already exists.\n",
      "Skipping certain lab tests. Embedding file already exists.\n",
      "Skipping type of dementia. Embedding file already exists.\n",
      "Skipping kidney conditions. Embedding file already exists.\n",
      "Skipping oral medications. Embedding file already exists.\n",
      "Skipping gestational diabetes. Embedding file already exists.\n"
     ]
    },
    {
     "name": "stderr",
     "output_type": "stream",
     "text": [
      "  0%|          | 104/20859 [00:24<53:45,  6.43it/s] "
     ]
    },
    {
     "name": "stdout",
     "output_type": "stream",
     "text": [
      "Saved embedding for blood calcium levels to ../../graphs/drug/ATC3/drug_ent_emb/blood calcium levels.json\n"
     ]
    },
    {
     "name": "stderr",
     "output_type": "stream",
     "text": [
      "  1%|          | 105/20859 [00:24<1:04:28,  5.36it/s]"
     ]
    },
    {
     "name": "stdout",
     "output_type": "stream",
     "text": [
      "Saved embedding for prevent esophageal irritation to ../../graphs/drug/ATC3/drug_ent_emb/prevent esophageal irritation.json\n",
      "Skipping tablets and syrups. Embedding file already exists.\n",
      "Skipping telithromycin. Embedding file already exists.\n"
     ]
    },
    {
     "name": "stderr",
     "output_type": "stream",
     "text": [
      "  1%|          | 108/20859 [00:25<1:14:16,  4.66it/s]"
     ]
    },
    {
     "name": "stdout",
     "output_type": "stream",
     "text": [
      "Saved embedding for for the treatment of bacterial pneumonia to ../../graphs/drug/ATC3/drug_ent_emb/for the treatment of bacterial pneumonia.json\n",
      "Skipping allergic rhinitis. Embedding file already exists.\n"
     ]
    },
    {
     "name": "stderr",
     "output_type": "stream",
     "text": [
      "  1%|          | 110/20859 [00:25<1:14:56,  4.61it/s]"
     ]
    },
    {
     "name": "stdout",
     "output_type": "stream",
     "text": [
      "Saved embedding for gastrointestinal parasitic infections to ../../graphs/drug/ATC3/drug_ent_emb/gastrointestinal parasitic infections.json\n"
     ]
    },
    {
     "name": "stderr",
     "output_type": "stream",
     "text": [
      "  1%|          | 111/20859 [00:26<1:25:12,  4.06it/s]"
     ]
    },
    {
     "name": "stdout",
     "output_type": "stream",
     "text": [
      "Saved embedding for social anxiety disorder to ../../graphs/drug/ATC3/drug_ent_emb/social anxiety disorder.json\n"
     ]
    },
    {
     "name": "stderr",
     "output_type": "stream",
     "text": [
      "  1%|          | 112/20859 [00:26<1:37:54,  3.53it/s]"
     ]
    },
    {
     "name": "stdout",
     "output_type": "stream",
     "text": [
      "Saved embedding for muscle spasm to ../../graphs/drug/ATC3/drug_ent_emb/muscle spasm.json\n"
     ]
    },
    {
     "name": "stderr",
     "output_type": "stream",
     "text": [
      "  1%|          | 113/20859 [00:27<1:51:27,  3.10it/s]"
     ]
    },
    {
     "name": "stdout",
     "output_type": "stream",
     "text": [
      "Saved embedding for peritoneal cavity to ../../graphs/drug/ATC3/drug_ent_emb/peritoneal cavity.json\n"
     ]
    },
    {
     "name": "stderr",
     "output_type": "stream",
     "text": [
      "  1%|          | 114/20859 [00:28<2:41:36,  2.14it/s]"
     ]
    },
    {
     "name": "stdout",
     "output_type": "stream",
     "text": [
      "Saved embedding for generally well-tolerated to ../../graphs/drug/ATC3/drug_ent_emb/generally well-tolerated.json\n",
      "Skipping kept in a secure place. Embedding file already exists.\n",
      "Skipping derived from human plasma. Embedding file already exists.\n",
      "Skipping careful assessment. Embedding file already exists.\n"
     ]
    },
    {
     "name": "stderr",
     "output_type": "stream",
     "text": [
      "  1%|          | 118/20859 [00:28<1:36:07,  3.60it/s]"
     ]
    },
    {
     "name": "stdout",
     "output_type": "stream",
     "text": [
      "Saved embedding for angle-closure glaucoma to ../../graphs/drug/ATC3/drug_ent_emb/angle-closure glaucoma.json\n",
      "Skipping nutrient intake. Embedding file already exists.\n"
     ]
    },
    {
     "name": "stderr",
     "output_type": "stream",
     "text": [
      "  1%|          | 120/20859 [00:29<1:33:25,  3.70it/s]"
     ]
    },
    {
     "name": "stdout",
     "output_type": "stream",
     "text": [
      "Saved embedding for muscle strength to ../../graphs/drug/ATC3/drug_ent_emb/muscle strength.json\n"
     ]
    },
    {
     "name": "stderr",
     "output_type": "stream",
     "text": [
      "  1%|          | 121/20859 [00:29<1:45:57,  3.26it/s]"
     ]
    },
    {
     "name": "stdout",
     "output_type": "stream",
     "text": [
      "Saved embedding for characterized by blister formation to ../../graphs/drug/ATC3/drug_ent_emb/characterized by blister formation.json\n",
      "Skipping for short-term diarrhea management. Embedding file already exists.\n"
     ]
    },
    {
     "name": "stderr",
     "output_type": "stream",
     "text": [
      "  1%|          | 123/20859 [00:30<1:55:50,  2.98it/s]"
     ]
    },
    {
     "name": "stdout",
     "output_type": "stream",
     "text": [
      "Saved embedding for guide treatment decisions to ../../graphs/drug/ATC3/drug_ent_emb/guide treatment decisions.json\n"
     ]
    },
    {
     "name": "stderr",
     "output_type": "stream",
     "text": [
      "  1%|          | 124/20859 [00:30<2:03:51,  2.79it/s]"
     ]
    },
    {
     "name": "stdout",
     "output_type": "stream",
     "text": [
      "Saved embedding for for hyperparathyroidism to ../../graphs/drug/ATC3/drug_ent_emb/for hyperparathyroidism.json\n",
      "Skipping treatment progress. Embedding file already exists.\n"
     ]
    },
    {
     "name": "stderr",
     "output_type": "stream",
     "text": [
      "  1%|          | 126/20859 [00:31<1:49:52,  3.15it/s]"
     ]
    },
    {
     "name": "stdout",
     "output_type": "stream",
     "text": [
      "Saved embedding for visualizing salivary glands to ../../graphs/drug/ATC3/drug_ent_emb/visualizing salivary glands.json\n"
     ]
    },
    {
     "name": "stderr",
     "output_type": "stream",
     "text": [
      "  1%|          | 127/20859 [00:31<1:57:46,  2.93it/s]"
     ]
    },
    {
     "name": "stdout",
     "output_type": "stream",
     "text": [
      "Saved embedding for medication or surgery to ../../graphs/drug/ATC3/drug_ent_emb/medication or surgery.json\n"
     ]
    },
    {
     "name": "stderr",
     "output_type": "stream",
     "text": [
      "  1%|          | 128/20859 [00:32<2:11:14,  2.63it/s]"
     ]
    },
    {
     "name": "stdout",
     "output_type": "stream",
     "text": [
      "Saved embedding for integral to neurology practice to ../../graphs/drug/ATC3/drug_ent_emb/integral to neurology practice.json\n",
      "Skipping the functioning of the nervous system. Embedding file already exists.\n"
     ]
    },
    {
     "name": "stderr",
     "output_type": "stream",
     "text": [
      "  1%|          | 130/20859 [00:32<1:52:10,  3.08it/s]"
     ]
    },
    {
     "name": "stdout",
     "output_type": "stream",
     "text": [
      "Saved embedding for severe cognitive decline to ../../graphs/drug/ATC3/drug_ent_emb/severe cognitive decline.json\n"
     ]
    },
    {
     "name": "stderr",
     "output_type": "stream",
     "text": [
      "  1%|          | 131/20859 [00:33<2:11:26,  2.63it/s]"
     ]
    },
    {
     "name": "stdout",
     "output_type": "stream",
     "text": [
      "Saved embedding for immunological memory to ../../graphs/drug/ATC3/drug_ent_emb/immunological memory.json\n"
     ]
    },
    {
     "name": "stderr",
     "output_type": "stream",
     "text": [
      "  1%|          | 132/20859 [00:33<2:15:05,  2.56it/s]"
     ]
    },
    {
     "name": "stdout",
     "output_type": "stream",
     "text": [
      "Saved embedding for hormones to ../../graphs/drug/ATC3/drug_ent_emb/hormones.json\n"
     ]
    },
    {
     "name": "stderr",
     "output_type": "stream",
     "text": [
      "  1%|          | 133/20859 [00:34<2:32:10,  2.27it/s]"
     ]
    },
    {
     "name": "stdout",
     "output_type": "stream",
     "text": [
      "Saved embedding for drug absorption to ../../graphs/drug/ATC3/drug_ent_emb/drug absorption.json\n"
     ]
    },
    {
     "name": "stderr",
     "output_type": "stream",
     "text": [
      "  1%|          | 134/20859 [00:34<2:33:31,  2.25it/s]"
     ]
    },
    {
     "name": "stdout",
     "output_type": "stream",
     "text": [
      "Saved embedding for immunocompromised individuals to ../../graphs/drug/ATC3/drug_ent_emb/immunocompromised individuals.json\n"
     ]
    },
    {
     "name": "stderr",
     "output_type": "stream",
     "text": [
      "  1%|          | 135/20859 [00:35<2:55:58,  1.96it/s]"
     ]
    },
    {
     "name": "stdout",
     "output_type": "stream",
     "text": [
      "Saved embedding for chronic liver disease to ../../graphs/drug/ATC3/drug_ent_emb/chronic liver disease.json\n",
      "Skipping heart failure with preserved ejection fraction. Embedding file already exists.\n",
      "Skipping braces. Embedding file already exists.\n"
     ]
    },
    {
     "name": "stderr",
     "output_type": "stream",
     "text": [
      "  1%|          | 138/20859 [00:36<1:50:03,  3.14it/s]"
     ]
    },
    {
     "name": "stdout",
     "output_type": "stream",
     "text": [
      "Saved embedding for prevent recurring diarrhea to ../../graphs/drug/ATC3/drug_ent_emb/prevent recurring diarrhea.json\n",
      "Skipping overall well-being and satisfaction with daily life. Embedding file already exists.\n"
     ]
    },
    {
     "name": "stderr",
     "output_type": "stream",
     "text": [
      "  1%|          | 140/20859 [00:36<2:01:02,  2.85it/s]"
     ]
    },
    {
     "name": "stdout",
     "output_type": "stream",
     "text": [
      "Saved embedding for in patients with pheochromocytoma crisis to ../../graphs/drug/ATC3/drug_ent_emb/in patients with pheochromocytoma crisis.json\n",
      "Skipping the risk of disease outbreaks. Embedding file already exists.\n"
     ]
    },
    {
     "name": "stderr",
     "output_type": "stream",
     "text": [
      "  1%|          | 142/20859 [00:37<1:54:27,  3.02it/s]"
     ]
    },
    {
     "name": "stdout",
     "output_type": "stream",
     "text": [
      "Saved embedding for able to kill bacteria to ../../graphs/drug/ATC3/drug_ent_emb/able to kill bacteria.json\n",
      "Skipping systolic blood pressure. Embedding file already exists.\n",
      "Skipping allergic individuals. Embedding file already exists.\n",
      "Skipping as a solution. Embedding file already exists.\n"
     ]
    },
    {
     "name": "stderr",
     "output_type": "stream",
     "text": [
      "  1%|          | 146/20859 [00:38<1:21:56,  4.21it/s]"
     ]
    },
    {
     "name": "stdout",
     "output_type": "stream",
     "text": [
      "Saved embedding for reduce the risk of heart failure to ../../graphs/drug/ATC3/drug_ent_emb/reduce the risk of heart failure.json\n",
      "Skipping iron to be stored in macrophages. Embedding file already exists.\n",
      "Skipping suitability for potassium supplements. Embedding file already exists.\n",
      "Skipping the function of real blood. Embedding file already exists.\n",
      "Skipping reduce liver fibrosis. Embedding file already exists.\n"
     ]
    },
    {
     "name": "stderr",
     "output_type": "stream",
     "text": [
      "  1%|          | 151/20859 [00:38<58:35,  5.89it/s]  "
     ]
    },
    {
     "name": "stdout",
     "output_type": "stream",
     "text": [
      "Saved embedding for UV-blocking clothing detergent to ../../graphs/drug/ATC3/drug_ent_emb/UV-blocking clothing detergent.json\n",
      "Skipping monitored in patients taking these medications. Embedding file already exists.\n",
      "Skipping proper fetal development. Embedding file already exists.\n",
      "Skipping capillary permeability in insufficiency. Embedding file already exists.\n",
      "Skipping lip balm. Embedding file already exists.\n"
     ]
    },
    {
     "name": "stderr",
     "output_type": "stream",
     "text": [
      "  1%|          | 156/20859 [00:39<50:09,  6.88it/s]"
     ]
    },
    {
     "name": "stdout",
     "output_type": "stream",
     "text": [
      "Saved embedding for chronic illness to ../../graphs/drug/ATC3/drug_ent_emb/chronic illness.json\n"
     ]
    },
    {
     "name": "stderr",
     "output_type": "stream",
     "text": [
      "  1%|          | 157/20859 [00:39<1:01:08,  5.64it/s]"
     ]
    },
    {
     "name": "stdout",
     "output_type": "stream",
     "text": [
      "Saved embedding for chronic pain disorder to ../../graphs/drug/ATC3/drug_ent_emb/chronic pain disorder.json\n"
     ]
    },
    {
     "name": "stderr",
     "output_type": "stream",
     "text": [
      "  1%|          | 158/20859 [00:40<1:22:29,  4.18it/s]"
     ]
    },
    {
     "name": "stdout",
     "output_type": "stream",
     "text": [
      "Saved embedding for used in combination with support groups to ../../graphs/drug/ATC3/drug_ent_emb/used in combination with support groups.json\n",
      "Skipping in patients with certain electrolyte imbalances. Embedding file already exists.\n"
     ]
    },
    {
     "name": "stderr",
     "output_type": "stream",
     "text": [
      "  1%|          | 160/20859 [00:40<1:20:37,  4.28it/s]"
     ]
    },
    {
     "name": "stdout",
     "output_type": "stream",
     "text": [
      "Saved embedding for used for primary prevention of cardiovascular diseases in high-risk individuals to ../../graphs/drug/ATC3/drug_ent_emb/used for primary prevention of cardiovascular diseases in high-risk individuals.json\n"
     ]
    },
    {
     "name": "stderr",
     "output_type": "stream",
     "text": [
      "  1%|          | 161/20859 [00:41<1:34:37,  3.65it/s]"
     ]
    },
    {
     "name": "stdout",
     "output_type": "stream",
     "text": [
      "Saved embedding for short-term symptom relief to ../../graphs/drug/ATC3/drug_ent_emb/short-term symptom relief.json\n",
      "Skipping to purchase the drugs. Embedding file already exists.\n",
      "Skipping normalize hormone levels. Embedding file already exists.\n"
     ]
    },
    {
     "name": "stderr",
     "output_type": "stream",
     "text": [
      "  1%|          | 164/20859 [00:41<1:28:36,  3.89it/s]"
     ]
    },
    {
     "name": "stdout",
     "output_type": "stream",
     "text": [
      "Saved embedding for posterior pituitary lobe to ../../graphs/drug/ATC3/drug_ent_emb/posterior pituitary lobe.json\n"
     ]
    },
    {
     "name": "stderr",
     "output_type": "stream",
     "text": [
      "  1%|          | 165/20859 [00:42<1:39:58,  3.45it/s]"
     ]
    },
    {
     "name": "stdout",
     "output_type": "stream",
     "text": [
      "Saved embedding for administered intraventricularly to ../../graphs/drug/ATC3/drug_ent_emb/administered intraventricularly.json\n"
     ]
    },
    {
     "name": "stderr",
     "output_type": "stream",
     "text": [
      "  1%|          | 166/20859 [00:42<2:04:01,  2.78it/s]"
     ]
    },
    {
     "name": "stdout",
     "output_type": "stream",
     "text": [
      "Saved embedding for tension headaches to ../../graphs/drug/ATC3/drug_ent_emb/tension headaches.json\n"
     ]
    },
    {
     "name": "stderr",
     "output_type": "stream",
     "text": [
      "  1%|          | 167/20859 [00:44<3:32:51,  1.62it/s]"
     ]
    },
    {
     "name": "stdout",
     "output_type": "stream",
     "text": [
      "Saved embedding for reduce joint damage to ../../graphs/drug/ATC3/drug_ent_emb/reduce joint damage.json\n"
     ]
    },
    {
     "name": "stderr",
     "output_type": "stream",
     "text": [
      "  1%|          | 168/20859 [00:44<3:20:00,  1.72it/s]"
     ]
    },
    {
     "name": "stdout",
     "output_type": "stream",
     "text": [
      "Saved embedding for shellfish allergies to ../../graphs/drug/ATC3/drug_ent_emb/shellfish allergies.json\n",
      "Skipping small tears. Embedding file already exists.\n",
      "Skipping chronic eye disease. Embedding file already exists.\n",
      "Skipping used for viral gastroenteritis. Embedding file already exists.\n"
     ]
    },
    {
     "name": "stderr",
     "output_type": "stream",
     "text": [
      "  1%|          | 172/20859 [00:45<1:56:36,  2.96it/s]"
     ]
    },
    {
     "name": "stdout",
     "output_type": "stream",
     "text": [
      "Saved embedding for administered via epidural injection to ../../graphs/drug/ATC3/drug_ent_emb/administered via epidural injection.json\n",
      "Skipping prevent moisture or air exposure. Embedding file already exists.\n"
     ]
    },
    {
     "name": "stderr",
     "output_type": "stream",
     "text": [
      "  1%|          | 174/20859 [00:46<1:46:57,  3.22it/s]"
     ]
    },
    {
     "name": "stdout",
     "output_type": "stream",
     "text": [
      "Saved embedding for improper storage to ../../graphs/drug/ATC3/drug_ent_emb/improper storage.json\n",
      "Skipping refugee camps. Embedding file already exists.\n",
      "Skipping enhance reproductive potential. Embedding file already exists.\n",
      "Skipping glycogen synthesis. Embedding file already exists.\n"
     ]
    },
    {
     "name": "stderr",
     "output_type": "stream",
     "text": [
      "  1%|          | 178/20859 [00:46<1:19:30,  4.33it/s]"
     ]
    },
    {
     "name": "stdout",
     "output_type": "stream",
     "text": [
      "Saved embedding for rebound insomnia to ../../graphs/drug/ATC3/drug_ent_emb/rebound insomnia.json\n",
      "Skipping stinging or burning sensation in the eyes. Embedding file already exists.\n",
      "Skipping used for chronic conditions. Embedding file already exists.\n",
      "Skipping broken prosthetic teeth. Embedding file already exists.\n",
      "Skipping on different body parts. Embedding file already exists.\n",
      "Skipping unpleasant to some individuals. Embedding file already exists.\n",
      "Skipping prevent bleeding in patients with chronic liver disease. Embedding file already exists.\n"
     ]
    },
    {
     "name": "stderr",
     "output_type": "stream",
     "text": [
      "  1%|          | 185/20859 [00:47<53:40,  6.42it/s]  "
     ]
    },
    {
     "name": "stdout",
     "output_type": "stream",
     "text": [
      "Saved embedding for abrupt discontinuation to ../../graphs/drug/ATC3/drug_ent_emb/abrupt discontinuation.json\n",
      "Skipping applied using gentle motions. Embedding file already exists.\n"
     ]
    },
    {
     "name": "stderr",
     "output_type": "stream",
     "text": [
      "  1%|          | 187/20859 [00:47<58:10,  5.92it/s]"
     ]
    },
    {
     "name": "stdout",
     "output_type": "stream",
     "text": [
      "Saved embedding for prescribed for Lyme disease to ../../graphs/drug/ATC3/drug_ent_emb/prescribed for Lyme disease.json\n"
     ]
    },
    {
     "name": "stderr",
     "output_type": "stream",
     "text": [
      "  1%|          | 188/20859 [00:48<1:11:22,  4.83it/s]"
     ]
    },
    {
     "name": "stdout",
     "output_type": "stream",
     "text": [
      "Saved embedding for specific serotypes to ../../graphs/drug/ATC3/drug_ent_emb/specific serotypes.json\n"
     ]
    },
    {
     "name": "stderr",
     "output_type": "stream",
     "text": [
      "  1%|          | 189/20859 [00:48<1:22:37,  4.17it/s]"
     ]
    },
    {
     "name": "stdout",
     "output_type": "stream",
     "text": [
      "Saved embedding for taken with plenty of fluids to ../../graphs/drug/ATC3/drug_ent_emb/taken with plenty of fluids.json\n",
      "Skipping part of a broader treatment plan. Embedding file already exists.\n",
      "Skipping muscle stiffness. Embedding file already exists.\n"
     ]
    },
    {
     "name": "stderr",
     "output_type": "stream",
     "text": [
      "  1%|          | 192/20859 [00:49<1:15:17,  4.57it/s]"
     ]
    },
    {
     "name": "stdout",
     "output_type": "stream",
     "text": [
      "Saved embedding for used for stroke recovery to ../../graphs/drug/ATC3/drug_ent_emb/used for stroke recovery.json\n",
      "Skipping for bronchial congestion. Embedding file already exists.\n",
      "Skipping prevent the oxidation of LDL cholesterol in individuals with atherosclerosis. Embedding file already exists.\n"
     ]
    },
    {
     "name": "stderr",
     "output_type": "stream",
     "text": [
      "  1%|          | 195/20859 [00:49<1:13:58,  4.66it/s]"
     ]
    },
    {
     "name": "stdout",
     "output_type": "stream",
     "text": [
      "Saved embedding for alcohol withdrawal syndrome to ../../graphs/drug/ATC3/drug_ent_emb/alcohol withdrawal syndrome.json\n",
      "Skipping treatment outcomes. Embedding file already exists.\n",
      "Skipping potassium-sparing agents. Embedding file already exists.\n",
      "Skipping as directed by healthcare provider. Embedding file already exists.\n",
      "Skipping risk of hepatotoxicity. Embedding file already exists.\n"
     ]
    },
    {
     "name": "stderr",
     "output_type": "stream",
     "text": [
      "  1%|          | 200/20859 [00:50<56:35,  6.09it/s]  "
     ]
    },
    {
     "name": "stdout",
     "output_type": "stream",
     "text": [
      "Saved embedding for risk of physical injury to ../../graphs/drug/ATC3/drug_ent_emb/risk of physical injury.json\n",
      "Skipping for wound healing. Embedding file already exists.\n",
      "Skipping for acute constipation episodes. Embedding file already exists.\n",
      "Skipping administered orally. Embedding file already exists.\n",
      "Skipping probiotic supplements. Embedding file already exists.\n",
      "Skipping important for the synthesis of enamel in teeth. Embedding file already exists.\n"
     ]
    },
    {
     "name": "stderr",
     "output_type": "stream",
     "text": [
      "  1%|          | 206/20859 [00:50<43:54,  7.84it/s]"
     ]
    },
    {
     "name": "stdout",
     "output_type": "stream",
     "text": [
      "Saved embedding for corticosteroid ophthalmologic and otologic preparations to ../../graphs/drug/ATC3/drug_ent_emb/corticosteroid ophthalmologic and otologic preparations.json\n"
     ]
    },
    {
     "name": "stderr",
     "output_type": "stream",
     "text": [
      "  1%|          | 207/20859 [00:51<59:48,  5.76it/s]"
     ]
    },
    {
     "name": "stdout",
     "output_type": "stream",
     "text": [
      "Saved embedding for hemofiltration to ../../graphs/drug/ATC3/drug_ent_emb/hemofiltration.json\n"
     ]
    },
    {
     "name": "stderr",
     "output_type": "stream",
     "text": [
      "  1%|          | 208/20859 [00:52<1:28:35,  3.88it/s]"
     ]
    },
    {
     "name": "stdout",
     "output_type": "stream",
     "text": [
      "Saved embedding for lithium to ../../graphs/drug/ATC3/drug_ent_emb/lithium.json\n"
     ]
    },
    {
     "name": "stderr",
     "output_type": "stream",
     "text": [
      "  1%|          | 209/20859 [00:53<1:58:49,  2.90it/s]"
     ]
    },
    {
     "name": "stdout",
     "output_type": "stream",
     "text": [
      "Saved embedding for risk of fungal or viral infections to ../../graphs/drug/ATC3/drug_ent_emb/risk of fungal or viral infections.json\n",
      "Skipping imaging teeth. Embedding file already exists.\n"
     ]
    },
    {
     "name": "stderr",
     "output_type": "stream",
     "text": [
      "  1%|          | 211/20859 [00:53<1:46:34,  3.23it/s]"
     ]
    },
    {
     "name": "stdout",
     "output_type": "stream",
     "text": [
      "Saved embedding for aging retinas to ../../graphs/drug/ATC3/drug_ent_emb/aging retinas.json\n"
     ]
    },
    {
     "name": "stderr",
     "output_type": "stream",
     "text": [
      "  1%|          | 212/20859 [00:54<2:14:01,  2.57it/s]"
     ]
    },
    {
     "name": "stdout",
     "output_type": "stream",
     "text": [
      "Saved embedding for alkylating agents or antimetabolites to ../../graphs/drug/ATC3/drug_ent_emb/alkylating agents or antimetabolites.json\n",
      "Skipping lipid metabolism. Embedding file already exists.\n",
      "Skipping ineffective for some individuals. Embedding file already exists.\n"
     ]
    },
    {
     "name": "stderr",
     "output_type": "stream",
     "text": [
      "  1%|          | 215/20859 [00:54<1:42:49,  3.35it/s]"
     ]
    },
    {
     "name": "stdout",
     "output_type": "stream",
     "text": [
      "Saved embedding for detecting specific antigens or antibodies to ../../graphs/drug/ATC3/drug_ent_emb/detecting specific antigens or antibodies.json\n",
      "Skipping away from heat and light. Embedding file already exists.\n"
     ]
    },
    {
     "name": "stderr",
     "output_type": "stream",
     "text": [
      "  1%|          | 217/20859 [00:55<1:40:21,  3.43it/s]"
     ]
    },
    {
     "name": "stdout",
     "output_type": "stream",
     "text": [
      "Saved embedding for use in pregnancy to ../../graphs/drug/ATC3/drug_ent_emb/use in pregnancy.json\n",
      "Skipping varying marketing strategies. Embedding file already exists.\n"
     ]
    },
    {
     "name": "stderr",
     "output_type": "stream",
     "text": [
      "  1%|          | 219/20859 [00:56<1:52:15,  3.06it/s]"
     ]
    },
    {
     "name": "stdout",
     "output_type": "stream",
     "text": [
      "Saved embedding for few side effects to ../../graphs/drug/ATC3/drug_ent_emb/few side effects.json\n",
      "Skipping careful monitoring. Embedding file already exists.\n"
     ]
    },
    {
     "name": "stderr",
     "output_type": "stream",
     "text": [
      "  1%|          | 221/20859 [00:57<1:56:50,  2.94it/s]"
     ]
    },
    {
     "name": "stdout",
     "output_type": "stream",
     "text": [
      "Saved embedding for in the management of vertigo to ../../graphs/drug/ATC3/drug_ent_emb/in the management of vertigo.json\n",
      "Skipping in the management of ascites. Embedding file already exists.\n",
      "Skipping used for overall digestive support. Embedding file already exists.\n",
      "Skipping vaccine wastage. Embedding file already exists.\n"
     ]
    },
    {
     "name": "stderr",
     "output_type": "stream",
     "text": [
      "  1%|          | 225/20859 [00:57<1:37:10,  3.54it/s]"
     ]
    },
    {
     "name": "stdout",
     "output_type": "stream",
     "text": [
      "Saved embedding for used to meet increased protein needs during pregnancy to ../../graphs/drug/ATC3/drug_ent_emb/used to meet increased protein needs during pregnancy.json\n"
     ]
    },
    {
     "name": "stderr",
     "output_type": "stream",
     "text": [
      "  1%|          | 226/20859 [00:58<1:45:16,  3.27it/s]"
     ]
    },
    {
     "name": "stdout",
     "output_type": "stream",
     "text": [
      "Saved embedding for water exposure to ../../graphs/drug/ATC3/drug_ent_emb/water exposure.json\n",
      "Skipping difficulty breathing. Embedding file already exists.\n"
     ]
    },
    {
     "name": "stderr",
     "output_type": "stream",
     "text": [
      "  1%|          | 228/20859 [00:58<1:36:23,  3.57it/s]"
     ]
    },
    {
     "name": "stdout",
     "output_type": "stream",
     "text": [
      "Saved embedding for be crushed or chewed to ../../graphs/drug/ATC3/drug_ent_emb/be crushed or chewed.json\n",
      "Skipping be used by people with acid reflux. Embedding file already exists.\n"
     ]
    },
    {
     "name": "stderr",
     "output_type": "stream",
     "text": [
      "  1%|          | 230/20859 [00:59<1:31:39,  3.75it/s]"
     ]
    },
    {
     "name": "stdout",
     "output_type": "stream",
     "text": [
      "Saved embedding for taken with water to ../../graphs/drug/ATC3/drug_ent_emb/taken with water.json\n",
      "Skipping in patients with neonatal respiratory distress syndrome. Embedding file already exists.\n",
      "Skipping primary hypertension. Embedding file already exists.\n"
     ]
    },
    {
     "name": "stderr",
     "output_type": "stream",
     "text": [
      "  1%|          | 233/20859 [00:59<1:17:04,  4.46it/s]"
     ]
    },
    {
     "name": "stdout",
     "output_type": "stream",
     "text": [
      "Saved embedding for prescribed for respiratory condition to ../../graphs/drug/ATC3/drug_ent_emb/prescribed for respiratory condition.json\n",
      "Skipping in the form of soaps. Embedding file already exists.\n",
      "Skipping impaired communication. Embedding file already exists.\n",
      "Skipping used to manage behavioral disturbances. Embedding file already exists.\n",
      "Skipping increased risk of neurologic symptoms. Embedding file already exists.\n",
      "Skipping for individuals at risk. Embedding file already exists.\n",
      "Skipping influence body composition. Embedding file already exists.\n",
      "Skipping patient's response to treatment. Embedding file already exists.\n",
      "Skipping improved stool consistency. Embedding file already exists.\n",
      "Skipping medication dispensing. Embedding file already exists.\n",
      "Skipping longer recovery times. Embedding file already exists.\n",
      "Skipping biperiden. Embedding file already exists.\n"
     ]
    },
    {
     "name": "stderr",
     "output_type": "stream",
     "text": [
      "  1%|          | 245/20859 [01:00<32:37, 10.53it/s]  "
     ]
    },
    {
     "name": "stdout",
     "output_type": "stream",
     "text": [
      "Saved embedding for used for malabsorption to ../../graphs/drug/ATC3/drug_ent_emb/used for malabsorption.json\n"
     ]
    },
    {
     "name": "stderr",
     "output_type": "stream",
     "text": [
      "  1%|          | 247/20859 [01:00<48:44,  7.05it/s]"
     ]
    },
    {
     "name": "stdout",
     "output_type": "stream",
     "text": [
      "Saved embedding for combined with antibiotics to ../../graphs/drug/ATC3/drug_ent_emb/combined with antibiotics.json\n",
      "Skipping used in combination with immunomodulators. Embedding file already exists.\n"
     ]
    },
    {
     "name": "stderr",
     "output_type": "stream",
     "text": [
      "  1%|          | 248/20859 [01:01<1:03:03,  5.45it/s]"
     ]
    },
    {
     "name": "stdout",
     "output_type": "stream",
     "text": [
      "Saved embedding for class of medications to ../../graphs/drug/ATC3/drug_ent_emb/class of medications.json\n",
      "Skipping beta-adrenergic receptors. Embedding file already exists.\n",
      "Skipping creating art. Embedding file already exists.\n",
      "Skipping based on individual needs. Embedding file already exists.\n"
     ]
    },
    {
     "name": "stderr",
     "output_type": "stream",
     "text": [
      "  1%|          | 252/20859 [01:02<54:23,  6.31it/s]  "
     ]
    },
    {
     "name": "stdout",
     "output_type": "stream",
     "text": [
      "Saved embedding for global health programs to ../../graphs/drug/ATC3/drug_ent_emb/global health programs.json\n"
     ]
    },
    {
     "name": "stderr",
     "output_type": "stream",
     "text": [
      "  1%|          | 253/20859 [01:02<1:04:40,  5.31it/s]"
     ]
    },
    {
     "name": "stdout",
     "output_type": "stream",
     "text": [
      "Saved embedding for heart attack prevention to ../../graphs/drug/ATC3/drug_ent_emb/heart attack prevention.json\n",
      "Skipping prescribed for non-malarial conditions. Embedding file already exists.\n",
      "Skipping to decreased levels. Embedding file already exists.\n",
      "Skipping sunglasses. Embedding file already exists.\n",
      "Skipping secondary hypertension. Embedding file already exists.\n",
      "Skipping fashion items. Embedding file already exists.\n"
     ]
    },
    {
     "name": "stderr",
     "output_type": "stream",
     "text": [
      "  1%|          | 259/20859 [01:03<51:59,  6.60it/s]  "
     ]
    },
    {
     "name": "stdout",
     "output_type": "stream",
     "text": [
      "Saved embedding for damaged tooth pulp to ../../graphs/drug/ATC3/drug_ent_emb/damaged tooth pulp.json\n"
     ]
    },
    {
     "name": "stderr",
     "output_type": "stream",
     "text": [
      "  1%|          | 260/20859 [01:03<1:02:48,  5.47it/s]"
     ]
    },
    {
     "name": "stdout",
     "output_type": "stream",
     "text": [
      "Saved embedding for generalized anxiety disorder to ../../graphs/drug/ATC3/drug_ent_emb/generalized anxiety disorder.json\n",
      "Skipping mycoplasma infections. Embedding file already exists.\n",
      "Skipping jaundice or yellowing of the skin. Embedding file already exists.\n"
     ]
    },
    {
     "name": "stderr",
     "output_type": "stream",
     "text": [
      "  1%|▏         | 263/20859 [01:04<58:48,  5.84it/s]  "
     ]
    },
    {
     "name": "stdout",
     "output_type": "stream",
     "text": [
      "Saved embedding for sanitize surfaces to ../../graphs/drug/ATC3/drug_ent_emb/sanitize surfaces.json\n",
      "Skipping for each patient. Embedding file already exists.\n"
     ]
    },
    {
     "name": "stderr",
     "output_type": "stream",
     "text": [
      "  1%|▏         | 265/20859 [01:04<1:02:09,  5.52it/s]"
     ]
    },
    {
     "name": "stdout",
     "output_type": "stream",
     "text": [
      "Saved embedding for regular follow-up visits to ../../graphs/drug/ATC3/drug_ent_emb/regular follow-up visits.json\n",
      "Skipping cervical mucus production. Embedding file already exists.\n",
      "Skipping symptoms of venous disease. Embedding file already exists.\n",
      "Skipping to side effects. Embedding file already exists.\n"
     ]
    },
    {
     "name": "stderr",
     "output_type": "stream",
     "text": [
      "  1%|▏         | 269/20859 [01:05<56:37,  6.06it/s]  "
     ]
    },
    {
     "name": "stdout",
     "output_type": "stream",
     "text": [
      "Saved embedding for post-void dribbling to ../../graphs/drug/ATC3/drug_ent_emb/post-void dribbling.json\n",
      "Skipping recurrent abdominal pain. Embedding file already exists.\n"
     ]
    },
    {
     "name": "stderr",
     "output_type": "stream",
     "text": [
      "  1%|▏         | 271/20859 [01:05<1:04:38,  5.31it/s]"
     ]
    },
    {
     "name": "stdout",
     "output_type": "stream",
     "text": [
      "Saved embedding for cold hands and feet to ../../graphs/drug/ATC3/drug_ent_emb/cold hands and feet.json\n",
      "Skipping used by adults. Embedding file already exists.\n",
      "Skipping used for reducing inflammation in the gut. Embedding file already exists.\n",
      "Skipping be warmed before feeding. Embedding file already exists.\n",
      "Skipping used in patients with emphysema. Embedding file already exists.\n",
      "Skipping effects on immune function. Embedding file already exists.\n"
     ]
    },
    {
     "name": "stderr",
     "output_type": "stream",
     "text": [
      "  1%|▏         | 277/20859 [01:06<45:41,  7.51it/s]  "
     ]
    },
    {
     "name": "stdout",
     "output_type": "stream",
     "text": [
      "Saved embedding for interacting with alcohol to ../../graphs/drug/ATC3/drug_ent_emb/interacting with alcohol.json\n"
     ]
    },
    {
     "name": "stderr",
     "output_type": "stream",
     "text": [
      "  1%|▏         | 278/20859 [01:06<57:25,  5.97it/s]"
     ]
    },
    {
     "name": "stdout",
     "output_type": "stream",
     "text": [
      "Saved embedding for intestinal obstruction to ../../graphs/drug/ATC3/drug_ent_emb/intestinal obstruction.json\n",
      "Skipping used in combination with weight management. Embedding file already exists.\n"
     ]
    },
    {
     "name": "stderr",
     "output_type": "stream",
     "text": [
      "  1%|▏         | 280/20859 [01:07<1:21:01,  4.23it/s]"
     ]
    },
    {
     "name": "stdout",
     "output_type": "stream",
     "text": [
      "Saved embedding for the regulation of blood pressure to ../../graphs/drug/ATC3/drug_ent_emb/the regulation of blood pressure.json\n"
     ]
    },
    {
     "name": "stderr",
     "output_type": "stream",
     "text": [
      "  1%|▏         | 281/20859 [01:07<1:30:56,  3.77it/s]"
     ]
    },
    {
     "name": "stdout",
     "output_type": "stream",
     "text": [
      "Saved embedding for widely used to ../../graphs/drug/ATC3/drug_ent_emb/widely used.json\n",
      "Skipping self-image and social interactions. Embedding file already exists.\n",
      "Skipping provided at home. Embedding file already exists.\n"
     ]
    },
    {
     "name": "stderr",
     "output_type": "stream",
     "text": [
      "  1%|▏         | 284/20859 [01:08<1:35:32,  3.59it/s]"
     ]
    },
    {
     "name": "stdout",
     "output_type": "stream",
     "text": [
      "Saved embedding for asthma exacerbation to ../../graphs/drug/ATC3/drug_ent_emb/asthma exacerbation.json\n"
     ]
    },
    {
     "name": "stderr",
     "output_type": "stream",
     "text": [
      "  1%|▏         | 285/20859 [01:09<1:45:07,  3.26it/s]"
     ]
    },
    {
     "name": "stdout",
     "output_type": "stream",
     "text": [
      "Saved embedding for rheumatology to ../../graphs/drug/ATC3/drug_ent_emb/rheumatology.json\n",
      "Skipping result in bleeding. Embedding file already exists.\n"
     ]
    },
    {
     "name": "stderr",
     "output_type": "stream",
     "text": [
      "  1%|▏         | 287/20859 [01:10<1:53:55,  3.01it/s]"
     ]
    },
    {
     "name": "stdout",
     "output_type": "stream",
     "text": [
      "Saved embedding for harmful to silverfish to ../../graphs/drug/ATC3/drug_ent_emb/harmful to silverfish.json\n"
     ]
    },
    {
     "name": "stderr",
     "output_type": "stream",
     "text": [
      "  1%|▏         | 288/20859 [01:10<2:11:51,  2.60it/s]"
     ]
    },
    {
     "name": "stdout",
     "output_type": "stream",
     "text": [
      "Saved embedding for contraindicated in certain patient populations to ../../graphs/drug/ATC3/drug_ent_emb/contraindicated in certain patient populations.json\n",
      "Skipping in cake form. Embedding file already exists.\n"
     ]
    },
    {
     "name": "stderr",
     "output_type": "stream",
     "text": [
      "  1%|▏         | 290/20859 [01:11<1:54:45,  2.99it/s]"
     ]
    },
    {
     "name": "stdout",
     "output_type": "stream",
     "text": [
      "Saved embedding for stored in vaccine coolers to ../../graphs/drug/ATC3/drug_ent_emb/stored in vaccine coolers.json\n",
      "Skipping false beliefs. Embedding file already exists.\n"
     ]
    },
    {
     "name": "stderr",
     "output_type": "stream",
     "text": [
      "  1%|▏         | 292/20859 [01:11<1:48:08,  3.17it/s]"
     ]
    },
    {
     "name": "stdout",
     "output_type": "stream",
     "text": [
      "Saved embedding for mass vaccination campaigns to ../../graphs/drug/ATC3/drug_ent_emb/mass vaccination campaigns.json\n",
      "Skipping reducing gastrointestinal bleeding. Embedding file already exists.\n",
      "Skipping virilization in females. Embedding file already exists.\n",
      "Skipping rapid heart rate that originates above the ventricles. Embedding file already exists.\n",
      "Skipping dose adjustments based on body weight and renal function. Embedding file already exists.\n",
      "Skipping treating epilepsy. Embedding file already exists.\n",
      "Skipping in overdose. Embedding file already exists.\n"
     ]
    },
    {
     "name": "stderr",
     "output_type": "stream",
     "text": [
      "  1%|▏         | 299/20859 [01:12<1:02:41,  5.47it/s]"
     ]
    },
    {
     "name": "stdout",
     "output_type": "stream",
     "text": [
      "Saved embedding for the risk of digestive diseases to ../../graphs/drug/ATC3/drug_ent_emb/the risk of digestive diseases.json\n",
      "Skipping before applying other topical treatments. Embedding file already exists.\n",
      "Skipping fluid retention in pregnancy. Embedding file already exists.\n",
      "Skipping occasional heartburn. Embedding file already exists.\n"
     ]
    },
    {
     "name": "stderr",
     "output_type": "stream",
     "text": [
      "  1%|▏         | 303/20859 [01:12<56:59,  6.01it/s]  "
     ]
    },
    {
     "name": "stdout",
     "output_type": "stream",
     "text": [
      "Saved embedding for required for the synthesis of collagen in skin to ../../graphs/drug/ATC3/drug_ent_emb/required for the synthesis of collagen in skin.json\n"
     ]
    },
    {
     "name": "stderr",
     "output_type": "stream",
     "text": [
      "  1%|▏         | 304/20859 [01:13<1:07:23,  5.08it/s]"
     ]
    },
    {
     "name": "stdout",
     "output_type": "stream",
     "text": [
      "Saved embedding for the hormone insulin to ../../graphs/drug/ATC3/drug_ent_emb/the hormone insulin.json\n"
     ]
    },
    {
     "name": "stderr",
     "output_type": "stream",
     "text": [
      "  1%|▏         | 305/20859 [01:13<1:18:50,  4.35it/s]"
     ]
    },
    {
     "name": "stdout",
     "output_type": "stream",
     "text": [
      "Saved embedding for used for leg ulcers caused by venous stasis to ../../graphs/drug/ATC3/drug_ent_emb/used for leg ulcers caused by venous stasis.json\n",
      "Skipping dental practices. Embedding file already exists.\n",
      "Skipping veterinary ophthalmology. Embedding file already exists.\n",
      "Skipping prescribed for renal impairment. Embedding file already exists.\n"
     ]
    },
    {
     "name": "stderr",
     "output_type": "stream",
     "text": [
      "  1%|▏         | 309/20859 [01:14<1:05:07,  5.26it/s]"
     ]
    },
    {
     "name": "stdout",
     "output_type": "stream",
     "text": [
      "Saved embedding for used for chemoprophylaxis in individuals with chronic kidney disease to ../../graphs/drug/ATC3/drug_ent_emb/used for chemoprophylaxis in individuals with chronic kidney disease.json\n"
     ]
    },
    {
     "name": "stderr",
     "output_type": "stream",
     "text": [
      "  1%|▏         | 310/20859 [01:15<1:32:48,  3.69it/s]"
     ]
    },
    {
     "name": "stdout",
     "output_type": "stream",
     "text": [
      "Saved embedding for parathyroid hormone levels to ../../graphs/drug/ATC3/drug_ent_emb/parathyroid hormone levels.json\n",
      "Skipping cancer spread. Embedding file already exists.\n"
     ]
    },
    {
     "name": "stderr",
     "output_type": "stream",
     "text": [
      "  1%|▏         | 312/20859 [01:15<1:28:36,  3.86it/s]"
     ]
    },
    {
     "name": "stdout",
     "output_type": "stream",
     "text": [
      "Saved embedding for used for acute or chronic conditions to ../../graphs/drug/ATC3/drug_ent_emb/used for acute or chronic conditions.json\n",
      "Skipping irritation. Embedding file already exists.\n"
     ]
    },
    {
     "name": "stderr",
     "output_type": "stream",
     "text": [
      "  2%|▏         | 314/20859 [01:16<1:25:17,  4.01it/s]"
     ]
    },
    {
     "name": "stdout",
     "output_type": "stream",
     "text": [
      "Saved embedding for contaminated food or water to ../../graphs/drug/ATC3/drug_ent_emb/contaminated food or water.json\n",
      "Skipping different indications for use. Embedding file already exists.\n"
     ]
    },
    {
     "name": "stderr",
     "output_type": "stream",
     "text": [
      "  2%|▏         | 316/20859 [01:16<1:23:56,  4.08it/s]"
     ]
    },
    {
     "name": "stdout",
     "output_type": "stream",
     "text": [
      "Saved embedding for appropriate strength to ../../graphs/drug/ATC3/drug_ent_emb/appropriate strength.json\n",
      "Skipping decreased saliva production. Embedding file already exists.\n",
      "Skipping quality of life for the patient and their caregiver. Embedding file already exists.\n"
     ]
    },
    {
     "name": "stderr",
     "output_type": "stream",
     "text": [
      "  2%|▏         | 319/20859 [01:16<1:12:10,  4.74it/s]"
     ]
    },
    {
     "name": "stdout",
     "output_type": "stream",
     "text": [
      "Saved embedding for used for acute skin conditions to ../../graphs/drug/ATC3/drug_ent_emb/used for acute skin conditions.json\n"
     ]
    },
    {
     "name": "stderr",
     "output_type": "stream",
     "text": [
      "  2%|▏         | 320/20859 [01:17<1:33:36,  3.66it/s]"
     ]
    },
    {
     "name": "stdout",
     "output_type": "stream",
     "text": [
      "Saved embedding for with recovery to ../../graphs/drug/ATC3/drug_ent_emb/with recovery.json\n",
      "Skipping eczema. Embedding file already exists.\n"
     ]
    },
    {
     "name": "stderr",
     "output_type": "stream",
     "text": [
      "  2%|▏         | 322/20859 [01:18<1:35:04,  3.60it/s]"
     ]
    },
    {
     "name": "stdout",
     "output_type": "stream",
     "text": [
      "Saved embedding for can affect the cardiovascular system to ../../graphs/drug/ATC3/drug_ent_emb/can affect the cardiovascular system.json\n"
     ]
    },
    {
     "name": "stderr",
     "output_type": "stream",
     "text": [
      "  2%|▏         | 323/20859 [01:19<2:59:25,  1.91it/s]"
     ]
    },
    {
     "name": "stdout",
     "output_type": "stream",
     "text": [
      "Saved embedding for avoidance of certain activities to ../../graphs/drug/ATC3/drug_ent_emb/avoidance of certain activities.json\n",
      "Skipping in healthcare settings. Embedding file already exists.\n",
      "Skipping have interactions with alcohol. Embedding file already exists.\n",
      "Skipping changes in stool color. Embedding file already exists.\n"
     ]
    },
    {
     "name": "stderr",
     "output_type": "stream",
     "text": [
      "  2%|▏         | 327/20859 [01:20<1:52:12,  3.05it/s]"
     ]
    },
    {
     "name": "stdout",
     "output_type": "stream",
     "text": [
      "Saved embedding for addiction symptoms to ../../graphs/drug/ATC3/drug_ent_emb/addiction symptoms.json\n",
      "Skipping fermented foods. Embedding file already exists.\n",
      "Skipping half-lives. Embedding file already exists.\n"
     ]
    },
    {
     "name": "stderr",
     "output_type": "stream",
     "text": [
      "  2%|▏         | 330/20859 [01:20<1:31:22,  3.74it/s]"
     ]
    },
    {
     "name": "stdout",
     "output_type": "stream",
     "text": [
      "Saved embedding for used in combination with corticosteroids to ../../graphs/drug/ATC3/drug_ent_emb/used in combination with corticosteroids.json\n"
     ]
    },
    {
     "name": "stderr",
     "output_type": "stream",
     "text": [
      "  2%|▏         | 331/20859 [01:21<1:42:27,  3.34it/s]"
     ]
    },
    {
     "name": "stdout",
     "output_type": "stream",
     "text": [
      "Saved embedding for individual needs and circumstances to ../../graphs/drug/ATC3/drug_ent_emb/individual needs and circumstances.json\n"
     ]
    },
    {
     "name": "stderr",
     "output_type": "stream",
     "text": [
      "  2%|▏         | 332/20859 [01:21<1:49:49,  3.12it/s]"
     ]
    },
    {
     "name": "stdout",
     "output_type": "stream",
     "text": [
      "Saved embedding for diagnostic procedure to ../../graphs/drug/ATC3/drug_ent_emb/diagnostic procedure.json\n"
     ]
    },
    {
     "name": "stderr",
     "output_type": "stream",
     "text": [
      "  2%|▏         | 333/20859 [01:22<1:57:44,  2.91it/s]"
     ]
    },
    {
     "name": "stdout",
     "output_type": "stream",
     "text": [
      "Saved embedding for added preservatives to ../../graphs/drug/ATC3/drug_ent_emb/added preservatives.json\n"
     ]
    },
    {
     "name": "stderr",
     "output_type": "stream",
     "text": [
      "  2%|▏         | 334/20859 [01:22<2:06:36,  2.70it/s]"
     ]
    },
    {
     "name": "stdout",
     "output_type": "stream",
     "text": [
      "Saved embedding for long-term protective effects to ../../graphs/drug/ATC3/drug_ent_emb/long-term protective effects.json\n",
      "Skipping the risk of dizziness when taken with anticonvulsant medications. Embedding file already exists.\n",
      "Skipping hair health. Embedding file already exists.\n"
     ]
    },
    {
     "name": "stderr",
     "output_type": "stream",
     "text": [
      "  2%|▏         | 337/20859 [01:23<1:49:48,  3.11it/s]"
     ]
    },
    {
     "name": "stdout",
     "output_type": "stream",
     "text": [
      "Saved embedding for blood coagulation to ../../graphs/drug/ATC3/drug_ent_emb/blood coagulation.json\n",
      "Skipping medication degradation. Embedding file already exists.\n",
      "Skipping certain antidepressants. Embedding file already exists.\n"
     ]
    },
    {
     "name": "stderr",
     "output_type": "stream",
     "text": [
      "  2%|▏         | 340/20859 [01:24<1:35:36,  3.58it/s]"
     ]
    },
    {
     "name": "stdout",
     "output_type": "stream",
     "text": [
      "Saved embedding for red blood cell formation to ../../graphs/drug/ATC3/drug_ent_emb/red blood cell formation.json\n",
      "Skipping eliminate bacteria. Embedding file already exists.\n"
     ]
    },
    {
     "name": "stderr",
     "output_type": "stream",
     "text": [
      "  2%|▏         | 342/20859 [01:24<1:32:47,  3.68it/s]"
     ]
    },
    {
     "name": "stdout",
     "output_type": "stream",
     "text": [
      "Saved embedding for assisted reproductive technology to ../../graphs/drug/ATC3/drug_ent_emb/assisted reproductive technology.json\n",
      "Skipping person to person. Embedding file already exists.\n",
      "Skipping new strains. Embedding file already exists.\n",
      "Skipping bacteria in the mouth. Embedding file already exists.\n"
     ]
    },
    {
     "name": "stderr",
     "output_type": "stream",
     "text": [
      "  2%|▏         | 346/20859 [01:25<1:09:03,  4.95it/s]"
     ]
    },
    {
     "name": "stdout",
     "output_type": "stream",
     "text": [
      "Saved embedding for animal healthcare to ../../graphs/drug/ATC3/drug_ent_emb/animal healthcare.json\n",
      "Skipping ondansetron. Embedding file already exists.\n"
     ]
    },
    {
     "name": "stderr",
     "output_type": "stream",
     "text": [
      "  2%|▏         | 348/20859 [01:25<1:10:46,  4.83it/s]"
     ]
    },
    {
     "name": "stdout",
     "output_type": "stream",
     "text": [
      "Saved embedding for associated with radiation safety protocols to ../../graphs/drug/ATC3/drug_ent_emb/associated with radiation safety protocols.json\n",
      "Skipping calcium carbonate. Embedding file already exists.\n"
     ]
    },
    {
     "name": "stderr",
     "output_type": "stream",
     "text": [
      "  2%|▏         | 350/20859 [01:26<1:17:21,  4.42it/s]"
     ]
    },
    {
     "name": "stdout",
     "output_type": "stream",
     "text": [
      "Saved embedding for disease surveillance to ../../graphs/drug/ATC3/drug_ent_emb/disease surveillance.json\n",
      "Skipping essential for certain populations. Embedding file already exists.\n"
     ]
    },
    {
     "name": "stderr",
     "output_type": "stream",
     "text": [
      "  2%|▏         | 352/20859 [01:26<1:27:11,  3.92it/s]"
     ]
    },
    {
     "name": "stdout",
     "output_type": "stream",
     "text": [
      "Saved embedding for a dry cough to ../../graphs/drug/ATC3/drug_ent_emb/a dry cough.json\n",
      "Skipping legal document. Embedding file already exists.\n"
     ]
    },
    {
     "name": "stderr",
     "output_type": "stream",
     "text": [
      "  2%|▏         | 354/20859 [01:27<1:26:27,  3.95it/s]"
     ]
    },
    {
     "name": "stdout",
     "output_type": "stream",
     "text": [
      "Saved embedding for enhance athletic performance to ../../graphs/drug/ATC3/drug_ent_emb/enhance athletic performance.json\n",
      "Skipping on dehisced wounds. Embedding file already exists.\n"
     ]
    },
    {
     "name": "stderr",
     "output_type": "stream",
     "text": [
      "  2%|▏         | 356/20859 [01:27<1:23:06,  4.11it/s]"
     ]
    },
    {
     "name": "stdout",
     "output_type": "stream",
     "text": [
      "Saved embedding for progressive brain disorder to ../../graphs/drug/ATC3/drug_ent_emb/progressive brain disorder.json\n"
     ]
    },
    {
     "name": "stderr",
     "output_type": "stream",
     "text": [
      "  2%|▏         | 357/20859 [01:28<1:33:37,  3.65it/s]"
     ]
    },
    {
     "name": "stdout",
     "output_type": "stream",
     "text": [
      "Saved embedding for heart palpitations to ../../graphs/drug/ATC3/drug_ent_emb/heart palpitations.json\n",
      "Skipping heavy. Embedding file already exists.\n"
     ]
    },
    {
     "name": "stderr",
     "output_type": "stream",
     "text": [
      "  2%|▏         | 359/20859 [01:28<1:27:43,  3.89it/s]"
     ]
    },
    {
     "name": "stdout",
     "output_type": "stream",
     "text": [
      "Saved embedding for patient adherence to ../../graphs/drug/ATC3/drug_ent_emb/patient adherence.json\n"
     ]
    },
    {
     "name": "stderr",
     "output_type": "stream",
     "text": [
      "  2%|▏         | 360/20859 [01:28<1:39:15,  3.44it/s]"
     ]
    },
    {
     "name": "stdout",
     "output_type": "stream",
     "text": [
      "Saved embedding for prescribed for angina to ../../graphs/drug/ATC3/drug_ent_emb/prescribed for angina.json\n"
     ]
    },
    {
     "name": "stderr",
     "output_type": "stream",
     "text": [
      "  2%|▏         | 361/20859 [01:29<2:19:50,  2.44it/s]"
     ]
    },
    {
     "name": "stdout",
     "output_type": "stream",
     "text": [
      "Saved embedding for certain viruses to ../../graphs/drug/ATC3/drug_ent_emb/certain viruses.json\n",
      "Skipping contraindications for certain individuals. Embedding file already exists.\n",
      "Skipping social anxiety. Embedding file already exists.\n"
     ]
    },
    {
     "name": "stderr",
     "output_type": "stream",
     "text": [
      "  2%|▏         | 364/20859 [01:30<1:37:25,  3.51it/s]"
     ]
    },
    {
     "name": "stdout",
     "output_type": "stream",
     "text": [
      "Saved embedding for fundamental principle to ../../graphs/drug/ATC3/drug_ent_emb/fundamental principle.json\n"
     ]
    },
    {
     "name": "stderr",
     "output_type": "stream",
     "text": [
      "  2%|▏         | 365/20859 [01:30<1:47:23,  3.18it/s]"
     ]
    },
    {
     "name": "stdout",
     "output_type": "stream",
     "text": [
      "Saved embedding for gout symptoms to ../../graphs/drug/ATC3/drug_ent_emb/gout symptoms.json\n",
      "Skipping the hypothalamus. Embedding file already exists.\n"
     ]
    },
    {
     "name": "stderr",
     "output_type": "stream",
     "text": [
      "  2%|▏         | 367/20859 [01:31<1:42:58,  3.32it/s]"
     ]
    },
    {
     "name": "stdout",
     "output_type": "stream",
     "text": [
      "Saved embedding for reflex tachycardia to ../../graphs/drug/ATC3/drug_ent_emb/reflex tachycardia.json\n",
      "Skipping varying release mechanisms. Embedding file already exists.\n"
     ]
    },
    {
     "name": "stderr",
     "output_type": "stream",
     "text": [
      "  2%|▏         | 369/20859 [01:31<1:40:56,  3.38it/s]"
     ]
    },
    {
     "name": "stdout",
     "output_type": "stream",
     "text": [
      "Saved embedding for bone seeking agents to ../../graphs/drug/ATC3/drug_ent_emb/bone seeking agents.json\n",
      "Skipping ensure treatment effectiveness. Embedding file already exists.\n",
      "Skipping used by individuals with tendonitis for pain relief. Embedding file already exists.\n",
      "Skipping a balanced diet. Embedding file already exists.\n"
     ]
    },
    {
     "name": "stderr",
     "output_type": "stream",
     "text": [
      "  2%|▏         | 373/20859 [01:32<1:12:06,  4.74it/s]"
     ]
    },
    {
     "name": "stdout",
     "output_type": "stream",
     "text": [
      "Saved embedding for avoided by individuals with a known allergy to antibiotics to ../../graphs/drug/ATC3/drug_ent_emb/avoided by individuals with a known allergy to antibiotics.json\n",
      "Skipping systemic diseases. Embedding file already exists.\n"
     ]
    },
    {
     "name": "stderr",
     "output_type": "stream",
     "text": [
      "  2%|▏         | 375/20859 [01:33<1:23:01,  4.11it/s]"
     ]
    },
    {
     "name": "stdout",
     "output_type": "stream",
     "text": [
      "Saved embedding for used by weightlifters to ../../graphs/drug/ATC3/drug_ent_emb/used by weightlifters.json\n",
      "Skipping used for short-term or long-term treatment. Embedding file already exists.\n",
      "Skipping serious side effect of ace inhibitors. Embedding file already exists.\n",
      "Skipping sudden onset of severe heartburn. Embedding file already exists.\n"
     ]
    },
    {
     "name": "stderr",
     "output_type": "stream",
     "text": [
      "  2%|▏         | 379/20859 [01:33<1:10:07,  4.87it/s]"
     ]
    },
    {
     "name": "stdout",
     "output_type": "stream",
     "text": [
      "Saved embedding for their healthcare provider to ../../graphs/drug/ATC3/drug_ent_emb/their healthcare provider.json\n"
     ]
    },
    {
     "name": "stderr",
     "output_type": "stream",
     "text": [
      "  2%|▏         | 380/20859 [01:34<1:20:14,  4.25it/s]"
     ]
    },
    {
     "name": "stdout",
     "output_type": "stream",
     "text": [
      "Saved embedding for restore teeth to ../../graphs/drug/ATC3/drug_ent_emb/restore teeth.json\n",
      "Skipping travelers to disease-endemic areas. Embedding file already exists.\n",
      "Skipping periodic monitoring of renal function. Embedding file already exists.\n",
      "Skipping patches. Embedding file already exists.\n",
      "Skipping the risk of certain infections. Embedding file already exists.\n",
      "Skipping isolation. Embedding file already exists.\n",
      "Skipping mimic the effects of the sympathetic nervous system. Embedding file already exists.\n",
      "Skipping osteoporosis. Embedding file already exists.\n"
     ]
    },
    {
     "name": "stderr",
     "output_type": "stream",
     "text": [
      "  2%|▏         | 388/20859 [01:34<53:52,  6.33it/s]  "
     ]
    },
    {
     "name": "stdout",
     "output_type": "stream",
     "text": [
      "Saved embedding for assist in disease management to ../../graphs/drug/ATC3/drug_ent_emb/assist in disease management.json\n",
      "Skipping for end-of-life care. Embedding file already exists.\n",
      "Skipping used as diagnostic tools. Embedding file already exists.\n"
     ]
    },
    {
     "name": "stderr",
     "output_type": "stream",
     "text": [
      "  2%|▏         | 391/20859 [01:35<53:47,  6.34it/s]"
     ]
    },
    {
     "name": "stdout",
     "output_type": "stream",
     "text": [
      "Saved embedding for professional help to ../../graphs/drug/ATC3/drug_ent_emb/professional help.json\n",
      "Skipping before swallowing. Embedding file already exists.\n",
      "Skipping natural ingredients. Embedding file already exists.\n"
     ]
    },
    {
     "name": "stderr",
     "output_type": "stream",
     "text": [
      "  2%|▏         | 394/20859 [01:36<1:13:35,  4.63it/s]"
     ]
    },
    {
     "name": "stdout",
     "output_type": "stream",
     "text": [
      "Saved embedding for specific pharmacokinetics to ../../graphs/drug/ATC3/drug_ent_emb/specific pharmacokinetics.json\n"
     ]
    },
    {
     "name": "stderr",
     "output_type": "stream",
     "text": [
      "  2%|▏         | 395/20859 [01:37<1:29:34,  3.81it/s]"
     ]
    },
    {
     "name": "stdout",
     "output_type": "stream",
     "text": [
      "Saved embedding for childhood vaccines to ../../graphs/drug/ATC3/drug_ent_emb/childhood vaccines.json\n"
     ]
    },
    {
     "name": "stderr",
     "output_type": "stream",
     "text": [
      "  2%|▏         | 396/20859 [01:37<1:43:50,  3.28it/s]"
     ]
    },
    {
     "name": "stdout",
     "output_type": "stream",
     "text": [
      "Saved embedding for hypothyroidism to ../../graphs/drug/ATC3/drug_ent_emb/hypothyroidism.json\n"
     ]
    },
    {
     "name": "stderr",
     "output_type": "stream",
     "text": [
      "  2%|▏         | 397/20859 [01:38<1:53:47,  3.00it/s]"
     ]
    },
    {
     "name": "stdout",
     "output_type": "stream",
     "text": [
      "Saved embedding for dose titration to ../../graphs/drug/ATC3/drug_ent_emb/dose titration.json\n",
      "Skipping for assessing treatment response. Embedding file already exists.\n"
     ]
    },
    {
     "name": "stderr",
     "output_type": "stream",
     "text": [
      "  2%|▏         | 399/20859 [01:38<1:42:57,  3.31it/s]"
     ]
    },
    {
     "name": "stdout",
     "output_type": "stream",
     "text": [
      "Saved embedding for in patients with Bartter syndrome to ../../graphs/drug/ATC3/drug_ent_emb/in patients with Bartter syndrome.json\n"
     ]
    },
    {
     "name": "stderr",
     "output_type": "stream",
     "text": [
      "  2%|▏         | 400/20859 [01:39<1:52:17,  3.04it/s]"
     ]
    },
    {
     "name": "stdout",
     "output_type": "stream",
     "text": [
      "Saved embedding for used to prevent excessive bleeding in patients with bleeding disorders to ../../graphs/drug/ATC3/drug_ent_emb/used to prevent excessive bleeding in patients with bleeding disorders.json\n"
     ]
    },
    {
     "name": "stderr",
     "output_type": "stream",
     "text": [
      "  2%|▏         | 401/20859 [01:39<2:01:13,  2.81it/s]"
     ]
    },
    {
     "name": "stdout",
     "output_type": "stream",
     "text": [
      "Saved embedding for ileus to ../../graphs/drug/ATC3/drug_ent_emb/ileus.json\n"
     ]
    },
    {
     "name": "stderr",
     "output_type": "stream",
     "text": [
      "  2%|▏         | 402/20859 [01:42<5:19:51,  1.07it/s]"
     ]
    },
    {
     "name": "stdout",
     "output_type": "stream",
     "text": [
      "Saved embedding for innovative techniques and technologies to ../../graphs/drug/ATC3/drug_ent_emb/innovative techniques and technologies.json\n",
      "Skipping dental scaling. Embedding file already exists.\n"
     ]
    },
    {
     "name": "stderr",
     "output_type": "stream",
     "text": [
      "  2%|▏         | 404/20859 [01:43<3:48:05,  1.49it/s]"
     ]
    },
    {
     "name": "stdout",
     "output_type": "stream",
     "text": [
      "Saved embedding for risks and complications to ../../graphs/drug/ATC3/drug_ent_emb/risks and complications.json\n",
      "Skipping memory and learning. Embedding file already exists.\n",
      "Skipping administered subconjunctivally. Embedding file already exists.\n"
     ]
    },
    {
     "name": "stderr",
     "output_type": "stream",
     "text": [
      "  2%|▏         | 407/20859 [01:43<2:38:34,  2.15it/s]"
     ]
    },
    {
     "name": "stdout",
     "output_type": "stream",
     "text": [
      "Saved embedding for pregnant individuals to ../../graphs/drug/ATC3/drug_ent_emb/pregnant individuals.json\n"
     ]
    },
    {
     "name": "stderr",
     "output_type": "stream",
     "text": [
      "  2%|▏         | 408/20859 [01:44<2:37:08,  2.17it/s]"
     ]
    },
    {
     "name": "stdout",
     "output_type": "stream",
     "text": [
      "Saved embedding for bile acid replacement to ../../graphs/drug/ATC3/drug_ent_emb/bile acid replacement.json\n",
      "Skipping multiple parasitic infections. Embedding file already exists.\n"
     ]
    },
    {
     "name": "stderr",
     "output_type": "stream",
     "text": [
      "  2%|▏         | 410/20859 [01:44<2:09:18,  2.64it/s]"
     ]
    },
    {
     "name": "stdout",
     "output_type": "stream",
     "text": [
      "Saved embedding for with certain muscle relaxant medications to ../../graphs/drug/ATC3/drug_ent_emb/with certain muscle relaxant medications.json\n",
      "Skipping safe weight loss. Embedding file already exists.\n"
     ]
    },
    {
     "name": "stderr",
     "output_type": "stream",
     "text": [
      "  2%|▏         | 412/20859 [01:45<1:58:15,  2.88it/s]"
     ]
    },
    {
     "name": "stdout",
     "output_type": "stream",
     "text": [
      "Saved embedding for elevated calcium level in the blood to ../../graphs/drug/ATC3/drug_ent_emb/elevated calcium level in the blood.json\n"
     ]
    },
    {
     "name": "stderr",
     "output_type": "stream",
     "text": [
      "  2%|▏         | 413/20859 [01:45<2:17:13,  2.48it/s]"
     ]
    },
    {
     "name": "stdout",
     "output_type": "stream",
     "text": [
      "Saved embedding for restore normal bodily functions to ../../graphs/drug/ATC3/drug_ent_emb/restore normal bodily functions.json\n",
      "Skipping used for cramping. Embedding file already exists.\n",
      "Skipping patients with thyroid disease. Embedding file already exists.\n",
      "Skipping with certain sedative medications. Embedding file already exists.\n",
      "Skipping with milk. Embedding file already exists.\n",
      "Skipping increased risk of osteoporosis. Embedding file already exists.\n",
      "Skipping a burden for patients. Embedding file already exists.\n"
     ]
    },
    {
     "name": "stderr",
     "output_type": "stream",
     "text": [
      "  2%|▏         | 420/20859 [01:46<1:05:40,  5.19it/s]"
     ]
    },
    {
     "name": "stdout",
     "output_type": "stream",
     "text": [
      "Saved embedding for antithrombotics to ../../graphs/drug/ATC3/drug_ent_emb/antithrombotics.json\n"
     ]
    },
    {
     "name": "stderr",
     "output_type": "stream",
     "text": [
      "  2%|▏         | 421/20859 [01:46<1:18:50,  4.32it/s]"
     ]
    },
    {
     "name": "stdout",
     "output_type": "stream",
     "text": [
      "Saved embedding for different pharmaceutical companies to ../../graphs/drug/ATC3/drug_ent_emb/different pharmaceutical companies.json\n"
     ]
    },
    {
     "name": "stderr",
     "output_type": "stream",
     "text": [
      "  2%|▏         | 422/20859 [01:47<1:31:34,  3.72it/s]"
     ]
    },
    {
     "name": "stdout",
     "output_type": "stream",
     "text": [
      "Saved embedding for for pregnant or breastfeeding individuals who require insulin therapy to ../../graphs/drug/ATC3/drug_ent_emb/for pregnant or breastfeeding individuals who require insulin therapy.json\n"
     ]
    },
    {
     "name": "stderr",
     "output_type": "stream",
     "text": [
      "  2%|▏         | 423/20859 [01:49<3:09:13,  1.80it/s]"
     ]
    },
    {
     "name": "stdout",
     "output_type": "stream",
     "text": [
      "Saved embedding for DPP-4 inhibitors to ../../graphs/drug/ATC3/drug_ent_emb/DPP-4 inhibitors.json\n",
      "Skipping drugs for disorders of the musculo-skeletal system. Embedding file already exists.\n",
      "Skipping localized drug delivery. Embedding file already exists.\n"
     ]
    },
    {
     "name": "stderr",
     "output_type": "stream",
     "text": [
      "  2%|▏         | 426/20859 [01:50<2:31:51,  2.24it/s]"
     ]
    },
    {
     "name": "stdout",
     "output_type": "stream",
     "text": [
      "Saved embedding for prior to eye surgery to ../../graphs/drug/ATC3/drug_ent_emb/prior to eye surgery.json\n",
      "Skipping for certain populations. Embedding file already exists.\n"
     ]
    },
    {
     "name": "stderr",
     "output_type": "stream",
     "text": [
      "  2%|▏         | 428/20859 [01:50<2:11:49,  2.58it/s]"
     ]
    },
    {
     "name": "stdout",
     "output_type": "stream",
     "text": [
      "Saved embedding for community-level immunity and protection to ../../graphs/drug/ATC3/drug_ent_emb/community-level immunity and protection.json\n",
      "Skipping urinary hesitancy. Embedding file already exists.\n"
     ]
    },
    {
     "name": "stderr",
     "output_type": "stream",
     "text": [
      "  2%|▏         | 430/20859 [01:51<1:55:12,  2.96it/s]"
     ]
    },
    {
     "name": "stdout",
     "output_type": "stream",
     "text": [
      "Saved embedding for in treatment guidelines for dyslipidemia to ../../graphs/drug/ATC3/drug_ent_emb/in treatment guidelines for dyslipidemia.json\n",
      "Skipping long-term management. Embedding file already exists.\n"
     ]
    },
    {
     "name": "stderr",
     "output_type": "stream",
     "text": [
      "  2%|▏         | 432/20859 [01:51<1:44:17,  3.26it/s]"
     ]
    },
    {
     "name": "stdout",
     "output_type": "stream",
     "text": [
      "Saved embedding for if deemed appropriate to ../../graphs/drug/ATC3/drug_ent_emb/if deemed appropriate.json\n"
     ]
    },
    {
     "name": "stderr",
     "output_type": "stream",
     "text": [
      "  2%|▏         | 433/20859 [01:52<1:55:42,  2.94it/s]"
     ]
    },
    {
     "name": "stdout",
     "output_type": "stream",
     "text": [
      "Saved embedding for in the breakdown of complex proteins to ../../graphs/drug/ATC3/drug_ent_emb/in the breakdown of complex proteins.json\n",
      "Skipping infection after organ transplantation. Embedding file already exists.\n",
      "Skipping administered by trained healthcare professionals. Embedding file already exists.\n"
     ]
    },
    {
     "name": "stderr",
     "output_type": "stream",
     "text": [
      "  2%|▏         | 436/20859 [01:52<1:27:38,  3.88it/s]"
     ]
    },
    {
     "name": "stdout",
     "output_type": "stream",
     "text": [
      "Saved embedding for digoxin to ../../graphs/drug/ATC3/drug_ent_emb/digoxin.json\n",
      "Skipping used with caution in patients with impaired liver function. Embedding file already exists.\n",
      "Skipping regulatory approval. Embedding file already exists.\n",
      "Skipping immune globulin administration. Embedding file already exists.\n",
      "Skipping the safety and efficacy of medications. Embedding file already exists.\n"
     ]
    },
    {
     "name": "stderr",
     "output_type": "stream",
     "text": [
      "  2%|▏         | 441/20859 [01:53<1:04:45,  5.25it/s]"
     ]
    },
    {
     "name": "stdout",
     "output_type": "stream",
     "text": [
      "Saved embedding for reduce the risk of heart disease to ../../graphs/drug/ATC3/drug_ent_emb/reduce the risk of heart disease.json\n"
     ]
    },
    {
     "name": "stderr",
     "output_type": "stream",
     "text": [
      "  2%|▏         | 442/20859 [01:53<1:15:41,  4.50it/s]"
     ]
    },
    {
     "name": "stdout",
     "output_type": "stream",
     "text": [
      "Saved embedding for tablets to ../../graphs/drug/ATC3/drug_ent_emb/tablets.json\n"
     ]
    },
    {
     "name": "stderr",
     "output_type": "stream",
     "text": [
      "  2%|▏         | 443/20859 [01:54<1:43:30,  3.29it/s]"
     ]
    },
    {
     "name": "stdout",
     "output_type": "stream",
     "text": [
      "Saved embedding for changes in libido to ../../graphs/drug/ATC3/drug_ent_emb/changes in libido.json\n"
     ]
    },
    {
     "name": "stderr",
     "output_type": "stream",
     "text": [
      "  2%|▏         | 444/20859 [01:54<1:53:52,  2.99it/s]"
     ]
    },
    {
     "name": "stdout",
     "output_type": "stream",
     "text": [
      "Saved embedding for spicy foods to ../../graphs/drug/ATC3/drug_ent_emb/spicy foods.json\n",
      "Skipping impaired blood clotting. Embedding file already exists.\n",
      "Skipping calcium and phosphate levels. Embedding file already exists.\n",
      "Skipping streptomycin. Embedding file already exists.\n",
      "Skipping for salvage therapy. Embedding file already exists.\n",
      "Skipping administered as an ointment. Embedding file already exists.\n"
     ]
    },
    {
     "name": "stderr",
     "output_type": "stream",
     "text": [
      "  2%|▏         | 450/20859 [01:55<1:05:08,  5.22it/s]"
     ]
    },
    {
     "name": "stdout",
     "output_type": "stream",
     "text": [
      "Saved embedding for reproduction to ../../graphs/drug/ATC3/drug_ent_emb/reproduction.json\n",
      "Skipping seasonal. Embedding file already exists.\n"
     ]
    },
    {
     "name": "stderr",
     "output_type": "stream",
     "text": [
      "  2%|▏         | 452/20859 [01:55<1:07:27,  5.04it/s]"
     ]
    },
    {
     "name": "stdout",
     "output_type": "stream",
     "text": [
      "Saved embedding for bone loss to ../../graphs/drug/ATC3/drug_ent_emb/bone loss.json\n"
     ]
    },
    {
     "name": "stderr",
     "output_type": "stream",
     "text": [
      "  2%|▏         | 453/20859 [01:57<1:56:48,  2.91it/s]"
     ]
    },
    {
     "name": "stdout",
     "output_type": "stream",
     "text": [
      "Saved embedding for echocardiogram to ../../graphs/drug/ATC3/drug_ent_emb/echocardiogram.json\n",
      "Skipping increase accessibility. Embedding file already exists.\n"
     ]
    },
    {
     "name": "stderr",
     "output_type": "stream",
     "text": [
      "  2%|▏         | 455/20859 [01:57<1:44:44,  3.25it/s]"
     ]
    },
    {
     "name": "stdout",
     "output_type": "stream",
     "text": [
      "Saved embedding for recombinant DNA technology to ../../graphs/drug/ATC3/drug_ent_emb/recombinant DNA technology.json\n"
     ]
    },
    {
     "name": "stderr",
     "output_type": "stream",
     "text": [
      "  2%|▏         | 456/20859 [01:58<2:08:03,  2.66it/s]"
     ]
    },
    {
     "name": "stdout",
     "output_type": "stream",
     "text": [
      "Saved embedding for performance anxiety to ../../graphs/drug/ATC3/drug_ent_emb/performance anxiety.json\n",
      "Skipping if no longer needed. Embedding file already exists.\n"
     ]
    },
    {
     "name": "stderr",
     "output_type": "stream",
     "text": [
      "  2%|▏         | 458/20859 [01:58<1:50:16,  3.08it/s]"
     ]
    },
    {
     "name": "stdout",
     "output_type": "stream",
     "text": [
      "Saved embedding for used by athletes to ../../graphs/drug/ATC3/drug_ent_emb/used by athletes.json\n"
     ]
    },
    {
     "name": "stderr",
     "output_type": "stream",
     "text": [
      "  2%|▏         | 459/20859 [01:59<1:57:43,  2.89it/s]"
     ]
    },
    {
     "name": "stdout",
     "output_type": "stream",
     "text": [
      "Saved embedding for healthy teeth to ../../graphs/drug/ATC3/drug_ent_emb/healthy teeth.json\n"
     ]
    },
    {
     "name": "stderr",
     "output_type": "stream",
     "text": [
      "  2%|▏         | 460/20859 [02:00<3:01:50,  1.87it/s]"
     ]
    },
    {
     "name": "stdout",
     "output_type": "stream",
     "text": [
      "Saved embedding for modifying dosage in older adults to ../../graphs/drug/ATC3/drug_ent_emb/modifying dosage in older adults.json\n"
     ]
    },
    {
     "name": "stderr",
     "output_type": "stream",
     "text": [
      "  2%|▏         | 461/20859 [02:01<3:36:10,  1.57it/s]"
     ]
    },
    {
     "name": "stdout",
     "output_type": "stream",
     "text": [
      "Saved embedding for as directed to ../../graphs/drug/ATC3/drug_ent_emb/as directed.json\n"
     ]
    },
    {
     "name": "stderr",
     "output_type": "stream",
     "text": [
      "  2%|▏         | 462/20859 [02:02<4:46:00,  1.19it/s]"
     ]
    },
    {
     "name": "stdout",
     "output_type": "stream",
     "text": [
      "Saved embedding for patient's medical history to ../../graphs/drug/ATC3/drug_ent_emb/patient's medical history.json\n"
     ]
    },
    {
     "name": "stderr",
     "output_type": "stream",
     "text": [
      "  2%|▏         | 463/20859 [02:03<4:09:19,  1.36it/s]"
     ]
    },
    {
     "name": "stdout",
     "output_type": "stream",
     "text": [
      "Saved embedding for by individuals with certain medical conditions to ../../graphs/drug/ATC3/drug_ent_emb/by individuals with certain medical conditions.json\n",
      "Skipping harmful to beneficial insects. Embedding file already exists.\n",
      "Skipping after certain types of surgeries. Embedding file already exists.\n"
     ]
    },
    {
     "name": "stderr",
     "output_type": "stream",
     "text": [
      "  2%|▏         | 466/20859 [02:03<2:26:02,  2.33it/s]"
     ]
    },
    {
     "name": "stdout",
     "output_type": "stream",
     "text": [
      "Saved embedding for providing care and relief to ../../graphs/drug/ATC3/drug_ent_emb/providing care and relief.json\n",
      "Skipping harmful to aquatic plants. Embedding file already exists.\n",
      "Skipping the risk of myocardial infarction. Embedding file already exists.\n",
      "Skipping long-term for chronic allergies. Embedding file already exists.\n",
      "Skipping for psychotic anxiety. Embedding file already exists.\n"
     ]
    },
    {
     "name": "stderr",
     "output_type": "stream",
     "text": [
      "  2%|▏         | 471/20859 [02:04<1:24:35,  4.02it/s]"
     ]
    },
    {
     "name": "stdout",
     "output_type": "stream",
     "text": [
      "Saved embedding for intolerable side effects to ../../graphs/drug/ATC3/drug_ent_emb/intolerable side effects.json\n"
     ]
    },
    {
     "name": "stderr",
     "output_type": "stream",
     "text": [
      "  2%|▏         | 472/20859 [02:04<1:48:13,  3.14it/s]"
     ]
    },
    {
     "name": "stdout",
     "output_type": "stream",
     "text": [
      "Saved embedding for in patients with acute kidney injury to ../../graphs/drug/ATC3/drug_ent_emb/in patients with acute kidney injury.json\n"
     ]
    },
    {
     "name": "stderr",
     "output_type": "stream",
     "text": [
      "  2%|▏         | 473/20859 [02:05<2:24:51,  2.35it/s]"
     ]
    },
    {
     "name": "stdout",
     "output_type": "stream",
     "text": [
      "Saved embedding for angiodysplasia to ../../graphs/drug/ATC3/drug_ent_emb/angiodysplasia.json\n",
      "Skipping mindfulness-based therapies. Embedding file already exists.\n",
      "Skipping iron to be absorbed in the testes. Embedding file already exists.\n",
      "Skipping used for bladder pain. Embedding file already exists.\n"
     ]
    },
    {
     "name": "stderr",
     "output_type": "stream",
     "text": [
      "  2%|▏         | 477/20859 [02:06<1:34:30,  3.59it/s]"
     ]
    },
    {
     "name": "stdout",
     "output_type": "stream",
     "text": [
      "Saved embedding for diagnosing bone and joint disorders to ../../graphs/drug/ATC3/drug_ent_emb/diagnosing bone and joint disorders.json\n"
     ]
    },
    {
     "name": "stderr",
     "output_type": "stream",
     "text": [
      "  2%|▏         | 478/20859 [02:06<1:48:17,  3.14it/s]"
     ]
    },
    {
     "name": "stdout",
     "output_type": "stream",
     "text": [
      "Saved embedding for menopause to ../../graphs/drug/ATC3/drug_ent_emb/menopause.json\n"
     ]
    },
    {
     "name": "stderr",
     "output_type": "stream",
     "text": [
      "  2%|▏         | 479/20859 [02:07<1:56:12,  2.92it/s]"
     ]
    },
    {
     "name": "stdout",
     "output_type": "stream",
     "text": [
      "Saved embedding for consider before prescribing to ../../graphs/drug/ATC3/drug_ent_emb/consider before prescribing.json\n",
      "Skipping novel adjuvanted vaccines. Embedding file already exists.\n",
      "Skipping to incorrect dosing. Embedding file already exists.\n"
     ]
    },
    {
     "name": "stderr",
     "output_type": "stream",
     "text": [
      "  2%|▏         | 482/20859 [02:08<1:42:34,  3.31it/s]"
     ]
    },
    {
     "name": "stdout",
     "output_type": "stream",
     "text": [
      "Saved embedding for disease staging to ../../graphs/drug/ATC3/drug_ent_emb/disease staging.json\n",
      "Skipping teeth from grinding. Embedding file already exists.\n",
      "Skipping improved outcomes. Embedding file already exists.\n",
      "Skipping used for promoting overall well-being. Embedding file already exists.\n",
      "Skipping fitness equipment. Embedding file already exists.\n"
     ]
    },
    {
     "name": "stderr",
     "output_type": "stream",
     "text": [
      "  2%|▏         | 487/20859 [02:08<1:08:15,  4.97it/s]"
     ]
    },
    {
     "name": "stdout",
     "output_type": "stream",
     "text": [
      "Saved embedding for certain legumes to ../../graphs/drug/ATC3/drug_ent_emb/certain legumes.json\n"
     ]
    },
    {
     "name": "stderr",
     "output_type": "stream",
     "text": [
      "  2%|▏         | 488/20859 [02:09<1:28:38,  3.83it/s]"
     ]
    },
    {
     "name": "stdout",
     "output_type": "stream",
     "text": [
      "Saved embedding for cardiac stimulants to ../../graphs/drug/ATC3/drug_ent_emb/cardiac stimulants.json\n",
      "Skipping iron to be absorbed in the spleen. Embedding file already exists.\n",
      "Skipping with over-the-counter medications. Embedding file already exists.\n"
     ]
    },
    {
     "name": "stderr",
     "output_type": "stream",
     "text": [
      "  2%|▏         | 491/20859 [02:10<1:23:08,  4.08it/s]"
     ]
    },
    {
     "name": "stdout",
     "output_type": "stream",
     "text": [
      "Saved embedding for accuracy of time-dependent measurements to ../../graphs/drug/ATC3/drug_ent_emb/accuracy of time-dependent measurements.json\n",
      "Skipping disease remission. Embedding file already exists.\n",
      "Skipping safety and effectiveness. Embedding file already exists.\n"
     ]
    },
    {
     "name": "stderr",
     "output_type": "stream",
     "text": [
      "  2%|▏         | 494/20859 [02:10<1:12:04,  4.71it/s]"
     ]
    },
    {
     "name": "stdout",
     "output_type": "stream",
     "text": [
      "Saved embedding for frequency options to ../../graphs/drug/ATC3/drug_ent_emb/frequency options.json\n"
     ]
    },
    {
     "name": "stderr",
     "output_type": "stream",
     "text": [
      "  2%|▏         | 495/20859 [02:11<1:48:40,  3.12it/s]"
     ]
    },
    {
     "name": "stdout",
     "output_type": "stream",
     "text": [
      "Saved embedding for varying efficacy rates to ../../graphs/drug/ATC3/drug_ent_emb/varying efficacy rates.json\n"
     ]
    },
    {
     "name": "stderr",
     "output_type": "stream",
     "text": [
      "  2%|▏         | 496/20859 [02:11<1:55:22,  2.94it/s]"
     ]
    },
    {
     "name": "stdout",
     "output_type": "stream",
     "text": [
      "Saved embedding for the amount of hormones in the body to ../../graphs/drug/ATC3/drug_ent_emb/the amount of hormones in the body.json\n"
     ]
    },
    {
     "name": "stderr",
     "output_type": "stream",
     "text": [
      "  2%|▏         | 497/20859 [02:12<2:40:49,  2.11it/s]"
     ]
    },
    {
     "name": "stdout",
     "output_type": "stream",
     "text": [
      "Saved embedding for intravenous infusion to ../../graphs/drug/ATC3/drug_ent_emb/intravenous infusion.json\n"
     ]
    },
    {
     "name": "stderr",
     "output_type": "stream",
     "text": [
      "  2%|▏         | 498/20859 [02:13<2:45:42,  2.05it/s]"
     ]
    },
    {
     "name": "stdout",
     "output_type": "stream",
     "text": [
      "Saved embedding for improved overall health to ../../graphs/drug/ATC3/drug_ent_emb/improved overall health.json\n",
      "Skipping different generic and brand names. Embedding file already exists.\n",
      "Skipping by individuals with a history of penicillin allergy. Embedding file already exists.\n",
      "Skipping for patients with high cholesterol levels. Embedding file already exists.\n"
     ]
    },
    {
     "name": "stderr",
     "output_type": "stream",
     "text": [
      "  2%|▏         | 502/20859 [02:14<1:50:55,  3.06it/s]"
     ]
    },
    {
     "name": "stdout",
     "output_type": "stream",
     "text": [
      "Saved embedding for urinary calcium loss to ../../graphs/drug/ATC3/drug_ent_emb/urinary calcium loss.json\n",
      "Skipping relieving urinary urgency. Embedding file already exists.\n"
     ]
    },
    {
     "name": "stderr",
     "output_type": "stream",
     "text": [
      "  2%|▏         | 504/20859 [02:15<2:17:24,  2.47it/s]"
     ]
    },
    {
     "name": "stdout",
     "output_type": "stream",
     "text": [
      "Saved embedding for affected by ear conditions to ../../graphs/drug/ATC3/drug_ent_emb/affected by ear conditions.json\n",
      "Skipping ensure effectiveness and safety. Embedding file already exists.\n"
     ]
    },
    {
     "name": "stderr",
     "output_type": "stream",
     "text": [
      "  2%|▏         | 506/20859 [02:16<2:17:29,  2.47it/s]"
     ]
    },
    {
     "name": "stdout",
     "output_type": "stream",
     "text": [
      "Saved embedding for buprenorphine to ../../graphs/drug/ATC3/drug_ent_emb/buprenorphine.json\n"
     ]
    },
    {
     "name": "stderr",
     "output_type": "stream",
     "text": [
      "  2%|▏         | 507/20859 [02:16<2:18:56,  2.44it/s]"
     ]
    },
    {
     "name": "stdout",
     "output_type": "stream",
     "text": [
      "Saved embedding for patients with heart disease to ../../graphs/drug/ATC3/drug_ent_emb/patients with heart disease.json\n"
     ]
    },
    {
     "name": "stderr",
     "output_type": "stream",
     "text": [
      "  2%|▏         | 508/20859 [02:17<2:23:57,  2.36it/s]"
     ]
    },
    {
     "name": "stdout",
     "output_type": "stream",
     "text": [
      "Saved embedding for drug access to ../../graphs/drug/ATC3/drug_ent_emb/drug access.json\n",
      "Skipping to other organs. Embedding file already exists.\n",
      "Skipping migraines with aura. Embedding file already exists.\n",
      "Skipping genetically engineered viruses. Embedding file already exists.\n"
     ]
    },
    {
     "name": "stderr",
     "output_type": "stream",
     "text": [
      "  2%|▏         | 512/20859 [02:17<1:28:47,  3.82it/s]"
     ]
    },
    {
     "name": "stdout",
     "output_type": "stream",
     "text": [
      "Saved embedding for antigens through inhalation to ../../graphs/drug/ATC3/drug_ent_emb/antigens through inhalation.json\n",
      "Skipping for immunoprecipitation. Embedding file already exists.\n",
      "Skipping periodontal condition. Embedding file already exists.\n"
     ]
    },
    {
     "name": "stderr",
     "output_type": "stream",
     "text": [
      "  2%|▏         | 515/20859 [02:18<1:16:32,  4.43it/s]"
     ]
    },
    {
     "name": "stdout",
     "output_type": "stream",
     "text": [
      "Saved embedding for categorizing drugs to ../../graphs/drug/ATC3/drug_ent_emb/categorizing drugs.json\n"
     ]
    },
    {
     "name": "stderr",
     "output_type": "stream",
     "text": [
      "  2%|▏         | 516/20859 [02:18<1:34:51,  3.57it/s]"
     ]
    },
    {
     "name": "stdout",
     "output_type": "stream",
     "text": [
      "Saved embedding for patient counseling to ../../graphs/drug/ATC3/drug_ent_emb/patient counseling.json\n",
      "Skipping reduced risk of chronic diseases. Embedding file already exists.\n"
     ]
    },
    {
     "name": "stderr",
     "output_type": "stream",
     "text": [
      "  2%|▏         | 518/20859 [02:19<1:37:24,  3.48it/s]"
     ]
    },
    {
     "name": "stdout",
     "output_type": "stream",
     "text": [
      "Saved embedding for done responsibly to ../../graphs/drug/ATC3/drug_ent_emb/done responsibly.json\n",
      "Skipping prescription requirements. Embedding file already exists.\n"
     ]
    },
    {
     "name": "stderr",
     "output_type": "stream",
     "text": [
      "  2%|▏         | 520/20859 [02:19<1:36:41,  3.51it/s]"
     ]
    },
    {
     "name": "stdout",
     "output_type": "stream",
     "text": [
      "Saved embedding for used for imaging of rectum and colon to ../../graphs/drug/ATC3/drug_ent_emb/used for imaging of rectum and colon.json\n"
     ]
    },
    {
     "name": "stderr",
     "output_type": "stream",
     "text": [
      "  2%|▏         | 521/20859 [02:20<1:57:54,  2.88it/s]"
     ]
    },
    {
     "name": "stdout",
     "output_type": "stream",
     "text": [
      "Saved embedding for man-made to ../../graphs/drug/ATC3/drug_ent_emb/man-made.json\n",
      "Skipping different stages of wound healing. Embedding file already exists.\n",
      "Skipping obstetric imaging. Embedding file already exists.\n"
     ]
    },
    {
     "name": "stderr",
     "output_type": "stream",
     "text": [
      "  3%|▎         | 524/20859 [02:21<1:28:47,  3.82it/s]"
     ]
    },
    {
     "name": "stdout",
     "output_type": "stream",
     "text": [
      "Saved embedding for side effect to ../../graphs/drug/ATC3/drug_ent_emb/side effect.json\n"
     ]
    },
    {
     "name": "stderr",
     "output_type": "stream",
     "text": [
      "  3%|▎         | 525/20859 [02:21<2:09:05,  2.63it/s]"
     ]
    },
    {
     "name": "stdout",
     "output_type": "stream",
     "text": [
      "Saved embedding for used for the prescribed duration to ../../graphs/drug/ATC3/drug_ent_emb/used for the prescribed duration.json\n"
     ]
    },
    {
     "name": "stderr",
     "output_type": "stream",
     "text": [
      "  3%|▎         | 526/20859 [02:22<2:16:32,  2.48it/s]"
     ]
    },
    {
     "name": "stdout",
     "output_type": "stream",
     "text": [
      "Saved embedding for genetic mutations to ../../graphs/drug/ATC3/drug_ent_emb/genetic mutations.json\n",
      "Skipping healthcare services. Embedding file already exists.\n"
     ]
    },
    {
     "name": "stderr",
     "output_type": "stream",
     "text": [
      "  3%|▎         | 528/20859 [02:23<2:13:09,  2.54it/s]"
     ]
    },
    {
     "name": "stdout",
     "output_type": "stream",
     "text": [
      "Saved embedding for associated with QT prolongation to ../../graphs/drug/ATC3/drug_ent_emb/associated with QT prolongation.json\n"
     ]
    },
    {
     "name": "stderr",
     "output_type": "stream",
     "text": [
      "  3%|▎         | 529/20859 [02:23<2:21:59,  2.39it/s]"
     ]
    },
    {
     "name": "stdout",
     "output_type": "stream",
     "text": [
      "Saved embedding for temporary redness and peeling to ../../graphs/drug/ATC3/drug_ent_emb/temporary redness and peeling.json\n"
     ]
    },
    {
     "name": "stderr",
     "output_type": "stream",
     "text": [
      "  3%|▎         | 530/20859 [02:24<2:25:24,  2.33it/s]"
     ]
    },
    {
     "name": "stdout",
     "output_type": "stream",
     "text": [
      "Saved embedding for reduced activity level to ../../graphs/drug/ATC3/drug_ent_emb/reduced activity level.json\n",
      "Skipping female reproductive system. Embedding file already exists.\n",
      "Skipping have different consistency. Embedding file already exists.\n",
      "Skipping urine output. Embedding file already exists.\n",
      "Skipping in patients with diabetes mellitus. Embedding file already exists.\n"
     ]
    },
    {
     "name": "stderr",
     "output_type": "stream",
     "text": [
      "  3%|▎         | 535/20859 [02:24<1:13:36,  4.60it/s]"
     ]
    },
    {
     "name": "stdout",
     "output_type": "stream",
     "text": [
      "Saved embedding for ischemia to ../../graphs/drug/ATC3/drug_ent_emb/ischemia.json\n",
      "Skipping preventive vaccines. Embedding file already exists.\n"
     ]
    },
    {
     "name": "stderr",
     "output_type": "stream",
     "text": [
      "  3%|▎         | 537/20859 [02:25<1:15:03,  4.51it/s]"
     ]
    },
    {
     "name": "stdout",
     "output_type": "stream",
     "text": [
      "Saved embedding for tardive dyskinesia to ../../graphs/drug/ATC3/drug_ent_emb/tardive dyskinesia.json\n",
      "Skipping used by the elderly. Embedding file already exists.\n"
     ]
    },
    {
     "name": "stderr",
     "output_type": "stream",
     "text": [
      "  3%|▎         | 539/20859 [02:25<1:17:06,  4.39it/s]"
     ]
    },
    {
     "name": "stdout",
     "output_type": "stream",
     "text": [
      "Saved embedding for increased risk of drug interactions to ../../graphs/drug/ATC3/drug_ent_emb/increased risk of drug interactions.json\n",
      "Skipping alleviate nausea and vomiting from chemotherapy. Embedding file already exists.\n",
      "Skipping administered to adolescents. Embedding file already exists.\n",
      "Skipping progestogen sex hormones. Embedding file already exists.\n"
     ]
    },
    {
     "name": "stderr",
     "output_type": "stream",
     "text": [
      "  3%|▎         | 543/20859 [02:26<1:00:35,  5.59it/s]"
     ]
    },
    {
     "name": "stdout",
     "output_type": "stream",
     "text": [
      "Saved embedding for vaccination during pregnancy to ../../graphs/drug/ATC3/drug_ent_emb/vaccination during pregnancy.json\n"
     ]
    },
    {
     "name": "stderr",
     "output_type": "stream",
     "text": [
      "  3%|▎         | 544/20859 [02:26<1:21:40,  4.15it/s]"
     ]
    },
    {
     "name": "stdout",
     "output_type": "stream",
     "text": [
      "Saved embedding for antiseptic ingredients to ../../graphs/drug/ATC3/drug_ent_emb/antiseptic ingredients.json\n"
     ]
    },
    {
     "name": "stderr",
     "output_type": "stream",
     "text": [
      "  3%|▎         | 545/20859 [02:27<1:34:38,  3.58it/s]"
     ]
    },
    {
     "name": "stdout",
     "output_type": "stream",
     "text": [
      "Saved embedding for episodes of heartburn to ../../graphs/drug/ATC3/drug_ent_emb/episodes of heartburn.json\n"
     ]
    },
    {
     "name": "stderr",
     "output_type": "stream",
     "text": [
      "  3%|▎         | 546/20859 [02:28<2:28:10,  2.28it/s]"
     ]
    },
    {
     "name": "stdout",
     "output_type": "stream",
     "text": [
      "Saved embedding for vulnerability to addiction to ../../graphs/drug/ATC3/drug_ent_emb/vulnerability to addiction.json\n",
      "Skipping not habit-forming. Embedding file already exists.\n",
      "Skipping dosage adjustments based on weight or age. Embedding file already exists.\n",
      "Skipping in patients with cardiogenic shock. Embedding file already exists.\n",
      "Skipping diagnostic procedures. Embedding file already exists.\n",
      "Skipping preventive measure. Embedding file already exists.\n",
      "Skipping measured in saliva. Embedding file already exists.\n",
      "Skipping public health priority. Embedding file already exists.\n",
      "Skipping risk of neurological side effects. Embedding file already exists.\n",
      "Skipping nutrient assimilation. Embedding file already exists.\n"
     ]
    },
    {
     "name": "stderr",
     "output_type": "stream",
     "text": [
      "  3%|▎         | 556/20859 [02:28<56:29,  5.99it/s]  "
     ]
    },
    {
     "name": "stdout",
     "output_type": "stream",
     "text": [
      "Saved embedding for hypertrophic obstructive cardiomyopathy to ../../graphs/drug/ATC3/drug_ent_emb/hypertrophic obstructive cardiomyopathy.json\n",
      "Skipping valsartan. Embedding file already exists.\n",
      "Skipping different types of microorganisms. Embedding file already exists.\n"
     ]
    },
    {
     "name": "stderr",
     "output_type": "stream",
     "text": [
      "  3%|▎         | 559/20859 [02:29<54:50,  6.17it/s]"
     ]
    },
    {
     "name": "stdout",
     "output_type": "stream",
     "text": [
      "Saved embedding for contraindicated in patients with severe renal impairment to ../../graphs/drug/ATC3/drug_ent_emb/contraindicated in patients with severe renal impairment.json\n"
     ]
    },
    {
     "name": "stderr",
     "output_type": "stream",
     "text": [
      "  3%|▎         | 560/20859 [02:29<1:04:20,  5.26it/s]"
     ]
    },
    {
     "name": "stdout",
     "output_type": "stream",
     "text": [
      "Saved embedding for symptomatic treatment to ../../graphs/drug/ATC3/drug_ent_emb/symptomatic treatment.json\n",
      "Skipping medications with proven efficacy and safety. Embedding file already exists.\n"
     ]
    },
    {
     "name": "stderr",
     "output_type": "stream",
     "text": [
      "  3%|▎         | 562/20859 [02:30<1:17:46,  4.35it/s]"
     ]
    },
    {
     "name": "stdout",
     "output_type": "stream",
     "text": [
      "Saved embedding for used with caution in smokers to ../../graphs/drug/ATC3/drug_ent_emb/used with caution in smokers.json\n"
     ]
    },
    {
     "name": "stderr",
     "output_type": "stream",
     "text": [
      "  3%|▎         | 563/20859 [02:31<1:27:35,  3.86it/s]"
     ]
    },
    {
     "name": "stdout",
     "output_type": "stream",
     "text": [
      "Saved embedding for heart failure to ../../graphs/drug/ATC3/drug_ent_emb/heart failure.json\n"
     ]
    },
    {
     "name": "stderr",
     "output_type": "stream",
     "text": [
      "  3%|▎         | 564/20859 [02:31<1:44:32,  3.24it/s]"
     ]
    },
    {
     "name": "stdout",
     "output_type": "stream",
     "text": [
      "Saved embedding for prescribing other drugs to ../../graphs/drug/ATC3/drug_ent_emb/prescribing other drugs.json\n"
     ]
    },
    {
     "name": "stderr",
     "output_type": "stream",
     "text": [
      "  3%|▎         | 565/20859 [02:32<1:58:36,  2.85it/s]"
     ]
    },
    {
     "name": "stdout",
     "output_type": "stream",
     "text": [
      "Saved embedding for parasite control programs to ../../graphs/drug/ATC3/drug_ent_emb/parasite control programs.json\n",
      "Skipping passive immunization of neonates. Embedding file already exists.\n",
      "Skipping a low incidence of adverse effects. Embedding file already exists.\n",
      "Skipping local anesthetic metabolism. Embedding file already exists.\n",
      "Skipping visualization of the kidneys. Embedding file already exists.\n",
      "Skipping from regular follow-up visits. Embedding file already exists.\n"
     ]
    },
    {
     "name": "stderr",
     "output_type": "stream",
     "text": [
      "  3%|▎         | 571/20859 [02:33<1:16:43,  4.41it/s]"
     ]
    },
    {
     "name": "stdout",
     "output_type": "stream",
     "text": [
      "Saved embedding for provide care to ../../graphs/drug/ATC3/drug_ent_emb/provide care.json\n",
      "Skipping result from antacid use. Embedding file already exists.\n",
      "Skipping renin levels. Embedding file already exists.\n"
     ]
    },
    {
     "name": "stderr",
     "output_type": "stream",
     "text": [
      "  3%|▎         | 574/20859 [02:33<1:10:35,  4.79it/s]"
     ]
    },
    {
     "name": "stdout",
     "output_type": "stream",
     "text": [
      "Saved embedding for migraine symptoms to ../../graphs/drug/ATC3/drug_ent_emb/migraine symptoms.json\n",
      "Skipping based on manufacturer. Embedding file already exists.\n",
      "Skipping specific dosage. Embedding file already exists.\n"
     ]
    },
    {
     "name": "stderr",
     "output_type": "stream",
     "text": [
      "  3%|▎         | 577/20859 [02:33<1:03:40,  5.31it/s]"
     ]
    },
    {
     "name": "stdout",
     "output_type": "stream",
     "text": [
      "Saved embedding for used in children under the age of 6 to ../../graphs/drug/ATC3/drug_ent_emb/used in children under the age of 6.json\n",
      "Skipping eye redness. Embedding file already exists.\n",
      "Skipping chronic diarrhea associated with microscopic colitis. Embedding file already exists.\n"
     ]
    },
    {
     "name": "stderr",
     "output_type": "stream",
     "text": [
      "  3%|▎         | 580/20859 [02:34<1:15:07,  4.50it/s]"
     ]
    },
    {
     "name": "stdout",
     "output_type": "stream",
     "text": [
      "Saved embedding for social factors to ../../graphs/drug/ATC3/drug_ent_emb/social factors.json\n"
     ]
    },
    {
     "name": "stderr",
     "output_type": "stream",
     "text": [
      "  3%|▎         | 581/20859 [02:35<1:25:00,  3.98it/s]"
     ]
    },
    {
     "name": "stdout",
     "output_type": "stream",
     "text": [
      "Saved embedding for improved skin elasticity to ../../graphs/drug/ATC3/drug_ent_emb/improved skin elasticity.json\n",
      "Skipping quicker onset of action. Embedding file already exists.\n",
      "Skipping urinary flow. Embedding file already exists.\n"
     ]
    },
    {
     "name": "stderr",
     "output_type": "stream",
     "text": [
      "  3%|▎         | 584/20859 [02:35<1:12:32,  4.66it/s]"
     ]
    },
    {
     "name": "stdout",
     "output_type": "stream",
     "text": [
      "Saved embedding for help neutralize stomach acid in people with pancreatitis to ../../graphs/drug/ATC3/drug_ent_emb/help neutralize stomach acid in people with pancreatitis.json\n"
     ]
    },
    {
     "name": "stderr",
     "output_type": "stream",
     "text": [
      "  3%|▎         | 585/20859 [02:36<1:23:43,  4.04it/s]"
     ]
    },
    {
     "name": "stdout",
     "output_type": "stream",
     "text": [
      "Saved embedding for several weeks to show full effects to ../../graphs/drug/ATC3/drug_ent_emb/several weeks to show full effects.json\n",
      "Skipping used cautiously in certain populations. Embedding file already exists.\n",
      "Skipping vitamin deficiency treatment. Embedding file already exists.\n",
      "Skipping cramping and urgency associated with diarrhea. Embedding file already exists.\n"
     ]
    },
    {
     "name": "stderr",
     "output_type": "stream",
     "text": [
      "  3%|▎         | 589/20859 [02:36<1:03:12,  5.35it/s]"
     ]
    },
    {
     "name": "stdout",
     "output_type": "stream",
     "text": [
      "Saved embedding for intra-articular injection to ../../graphs/drug/ATC3/drug_ent_emb/intra-articular injection.json\n",
      "Skipping cultural implications. Embedding file already exists.\n"
     ]
    },
    {
     "name": "stderr",
     "output_type": "stream",
     "text": [
      "  3%|▎         | 591/20859 [02:37<1:07:32,  5.00it/s]"
     ]
    },
    {
     "name": "stdout",
     "output_type": "stream",
     "text": [
      "Saved embedding for cause discomfort to ../../graphs/drug/ATC3/drug_ent_emb/cause discomfort.json\n",
      "Skipping medical tests. Embedding file already exists.\n"
     ]
    },
    {
     "name": "stderr",
     "output_type": "stream",
     "text": [
      "  3%|▎         | 593/20859 [02:37<1:10:25,  4.80it/s]"
     ]
    },
    {
     "name": "stdout",
     "output_type": "stream",
     "text": [
      "Saved embedding for cocaine to ../../graphs/drug/ATC3/drug_ent_emb/cocaine.json\n",
      "Skipping in patients with premenstrual bloating. Embedding file already exists.\n",
      "Skipping dose adjustments during illness or surgery. Embedding file already exists.\n"
     ]
    },
    {
     "name": "stderr",
     "output_type": "stream",
     "text": [
      "  3%|▎         | 596/20859 [02:38<1:03:16,  5.34it/s]"
     ]
    },
    {
     "name": "stdout",
     "output_type": "stream",
     "text": [
      "Saved embedding for the digestive tract to ../../graphs/drug/ATC3/drug_ent_emb/the digestive tract.json\n",
      "Skipping oral thrush. Embedding file already exists.\n",
      "Skipping used in combination with other imaging techniques. Embedding file already exists.\n"
     ]
    },
    {
     "name": "stderr",
     "output_type": "stream",
     "text": [
      "  3%|▎         | 599/20859 [02:38<1:00:28,  5.58it/s]"
     ]
    },
    {
     "name": "stdout",
     "output_type": "stream",
     "text": [
      "Saved embedding for multiple diseases to ../../graphs/drug/ATC3/drug_ent_emb/multiple diseases.json\n",
      "Skipping with caution in patients with a history of dental disorders. Embedding file already exists.\n"
     ]
    },
    {
     "name": "stderr",
     "output_type": "stream",
     "text": [
      "  3%|▎         | 601/20859 [02:39<1:11:50,  4.70it/s]"
     ]
    },
    {
     "name": "stdout",
     "output_type": "stream",
     "text": [
      "Saved embedding for for serological testing to ../../graphs/drug/ATC3/drug_ent_emb/for serological testing.json\n"
     ]
    },
    {
     "name": "stderr",
     "output_type": "stream",
     "text": [
      "  3%|▎         | 602/20859 [02:39<1:23:59,  4.02it/s]"
     ]
    },
    {
     "name": "stdout",
     "output_type": "stream",
     "text": [
      "Saved embedding for using in individuals with dry throat to ../../graphs/drug/ATC3/drug_ent_emb/using in individuals with dry throat.json\n",
      "Skipping late effects. Embedding file already exists.\n",
      "Skipping for a specified duration. Embedding file already exists.\n",
      "Skipping disease monitoring. Embedding file already exists.\n",
      "Skipping fetal arrhythmias. Embedding file already exists.\n",
      "Skipping skincare. Embedding file already exists.\n"
     ]
    },
    {
     "name": "stderr",
     "output_type": "stream",
     "text": [
      "  3%|▎         | 608/20859 [02:40<55:47,  6.05it/s]  "
     ]
    },
    {
     "name": "stdout",
     "output_type": "stream",
     "text": [
      "Saved embedding for treatment failure to ../../graphs/drug/ATC3/drug_ent_emb/treatment failure.json\n"
     ]
    },
    {
     "name": "stderr",
     "output_type": "stream",
     "text": [
      "  3%|▎         | 609/20859 [02:40<1:10:20,  4.80it/s]"
     ]
    },
    {
     "name": "stdout",
     "output_type": "stream",
     "text": [
      "Saved embedding for images to ../../graphs/drug/ATC3/drug_ent_emb/images.json\n",
      "Skipping access to treatment. Embedding file already exists.\n"
     ]
    },
    {
     "name": "stderr",
     "output_type": "stream",
     "text": [
      "  3%|▎         | 611/20859 [02:41<1:12:21,  4.66it/s]"
     ]
    },
    {
     "name": "stdout",
     "output_type": "stream",
     "text": [
      "Saved embedding for used for self-diagnosis to ../../graphs/drug/ATC3/drug_ent_emb/used for self-diagnosis.json\n"
     ]
    },
    {
     "name": "stderr",
     "output_type": "stream",
     "text": [
      "  3%|▎         | 612/20859 [02:41<1:25:01,  3.97it/s]"
     ]
    },
    {
     "name": "stdout",
     "output_type": "stream",
     "text": [
      "Saved embedding for preventive treatment to ../../graphs/drug/ATC3/drug_ent_emb/preventive treatment.json\n",
      "Skipping dental bridges. Embedding file already exists.\n",
      "Skipping dose adjustments for patients with gastrointestinal disorders. Embedding file already exists.\n",
      "Skipping taken consistently for maximum benefit. Embedding file already exists.\n"
     ]
    },
    {
     "name": "stderr",
     "output_type": "stream",
     "text": [
      "  3%|▎         | 616/20859 [02:42<1:02:46,  5.37it/s]"
     ]
    },
    {
     "name": "stdout",
     "output_type": "stream",
     "text": [
      "Saved embedding for by various factors to ../../graphs/drug/ATC3/drug_ent_emb/by various factors.json\n",
      "Skipping product deterioration. Embedding file already exists.\n",
      "Skipping sanitation practices. Embedding file already exists.\n",
      "Skipping the need for surgery. Embedding file already exists.\n",
      "Skipping UTI symptoms. Embedding file already exists.\n",
      "Skipping for individuals with asthma. Embedding file already exists.\n",
      "Skipping everyone. Embedding file already exists.\n"
     ]
    },
    {
     "name": "stderr",
     "output_type": "stream",
     "text": [
      "  3%|▎         | 623/20859 [02:42<41:31,  8.12it/s]  "
     ]
    },
    {
     "name": "stdout",
     "output_type": "stream",
     "text": [
      "Saved embedding for live viral vectors to ../../graphs/drug/ATC3/drug_ent_emb/live viral vectors.json\n"
     ]
    },
    {
     "name": "stderr",
     "output_type": "stream",
     "text": [
      "  3%|▎         | 624/20859 [02:43<52:11,  6.46it/s]"
     ]
    },
    {
     "name": "stdout",
     "output_type": "stream",
     "text": [
      "Saved embedding for reducing swelling to ../../graphs/drug/ATC3/drug_ent_emb/reducing swelling.json\n",
      "Skipping with caution in patients with sleep disorders. Embedding file already exists.\n",
      "Skipping used as part of a multimodal pain management plan. Embedding file already exists.\n"
     ]
    },
    {
     "name": "stderr",
     "output_type": "stream",
     "text": [
      "  3%|▎         | 627/20859 [02:44<1:35:44,  3.52it/s]"
     ]
    },
    {
     "name": "stdout",
     "output_type": "stream",
     "text": [
      "Saved embedding for soothing and hydrating effect to ../../graphs/drug/ATC3/drug_ent_emb/soothing and hydrating effect.json\n"
     ]
    },
    {
     "name": "stderr",
     "output_type": "stream",
     "text": [
      "  3%|▎         | 628/20859 [02:45<2:09:59,  2.59it/s]"
     ]
    },
    {
     "name": "stdout",
     "output_type": "stream",
     "text": [
      "Saved embedding for patient's medical condition to ../../graphs/drug/ATC3/drug_ent_emb/patient's medical condition.json\n",
      "Skipping for individuals with chronic respiratory conditions. Embedding file already exists.\n",
      "Skipping patient needs. Embedding file already exists.\n",
      "Skipping antiviral agents. Embedding file already exists.\n",
      "Skipping specific proteins in a sample. Embedding file already exists.\n"
     ]
    },
    {
     "name": "stderr",
     "output_type": "stream",
     "text": [
      "  3%|▎         | 633/20859 [02:46<1:23:57,  4.02it/s]"
     ]
    },
    {
     "name": "stdout",
     "output_type": "stream",
     "text": [
      "Saved embedding for digestive system conditions to ../../graphs/drug/ATC3/drug_ent_emb/digestive system conditions.json\n",
      "Skipping cognitive performance. Embedding file already exists.\n",
      "Skipping with postoperative recovery. Embedding file already exists.\n"
     ]
    },
    {
     "name": "stderr",
     "output_type": "stream",
     "text": [
      "  3%|▎         | 636/20859 [02:46<1:18:50,  4.28it/s]"
     ]
    },
    {
     "name": "stdout",
     "output_type": "stream",
     "text": [
      "Saved embedding for proper immune function to ../../graphs/drug/ATC3/drug_ent_emb/proper immune function.json\n",
      "Skipping antioxidant effects. Embedding file already exists.\n"
     ]
    },
    {
     "name": "stderr",
     "output_type": "stream",
     "text": [
      "  3%|▎         | 638/20859 [02:47<1:26:45,  3.88it/s]"
     ]
    },
    {
     "name": "stdout",
     "output_type": "stream",
     "text": [
      "Saved embedding for outdoor equipment to ../../graphs/drug/ATC3/drug_ent_emb/outdoor equipment.json\n"
     ]
    },
    {
     "name": "stderr",
     "output_type": "stream",
     "text": [
      "  3%|▎         | 639/20859 [02:48<1:35:31,  3.53it/s]"
     ]
    },
    {
     "name": "stdout",
     "output_type": "stream",
     "text": [
      "Saved embedding for symptoms to ../../graphs/drug/ATC3/drug_ent_emb/symptoms.json\n",
      "Skipping drainage procedures. Embedding file already exists.\n"
     ]
    },
    {
     "name": "stderr",
     "output_type": "stream",
     "text": [
      "  3%|▎         | 641/20859 [02:48<1:31:24,  3.69it/s]"
     ]
    },
    {
     "name": "stdout",
     "output_type": "stream",
     "text": [
      "Saved embedding for patient factors and drug interactions to ../../graphs/drug/ATC3/drug_ent_emb/patient factors and drug interactions.json\n"
     ]
    },
    {
     "name": "stderr",
     "output_type": "stream",
     "text": [
      "  3%|▎         | 642/20859 [02:49<1:42:55,  3.27it/s]"
     ]
    },
    {
     "name": "stdout",
     "output_type": "stream",
     "text": [
      "Saved embedding for risk for certain cancers to ../../graphs/drug/ATC3/drug_ent_emb/risk for certain cancers.json\n"
     ]
    },
    {
     "name": "stderr",
     "output_type": "stream",
     "text": [
      "  3%|▎         | 643/20859 [02:49<1:51:21,  3.03it/s]"
     ]
    },
    {
     "name": "stdout",
     "output_type": "stream",
     "text": [
      "Saved embedding for improve access to treatment to ../../graphs/drug/ATC3/drug_ent_emb/improve access to treatment.json\n"
     ]
    },
    {
     "name": "stderr",
     "output_type": "stream",
     "text": [
      "  3%|▎         | 644/20859 [02:50<2:12:40,  2.54it/s]"
     ]
    },
    {
     "name": "stdout",
     "output_type": "stream",
     "text": [
      "Saved embedding for prescribed for pain management after surgery to ../../graphs/drug/ATC3/drug_ent_emb/prescribed for pain management after surgery.json\n"
     ]
    },
    {
     "name": "stderr",
     "output_type": "stream",
     "text": [
      "  3%|▎         | 645/20859 [02:50<2:18:36,  2.43it/s]"
     ]
    },
    {
     "name": "stdout",
     "output_type": "stream",
     "text": [
      "Saved embedding for used in combination with rest to ../../graphs/drug/ATC3/drug_ent_emb/used in combination with rest.json\n"
     ]
    },
    {
     "name": "stderr",
     "output_type": "stream",
     "text": [
      "  3%|▎         | 646/20859 [02:51<2:24:27,  2.33it/s]"
     ]
    },
    {
     "name": "stdout",
     "output_type": "stream",
     "text": [
      "Saved embedding for rigorous approval process to ../../graphs/drug/ATC3/drug_ent_emb/rigorous approval process.json\n"
     ]
    },
    {
     "name": "stderr",
     "output_type": "stream",
     "text": [
      "  3%|▎         | 647/20859 [02:51<2:31:07,  2.23it/s]"
     ]
    },
    {
     "name": "stdout",
     "output_type": "stream",
     "text": [
      "Saved embedding for support liver function to ../../graphs/drug/ATC3/drug_ent_emb/support liver function.json\n",
      "Skipping used for neuralgia. Embedding file already exists.\n"
     ]
    },
    {
     "name": "stderr",
     "output_type": "stream",
     "text": [
      "  3%|▎         | 649/20859 [02:52<2:05:56,  2.67it/s]"
     ]
    },
    {
     "name": "stdout",
     "output_type": "stream",
     "text": [
      "Saved embedding for bacteria or viruses to ../../graphs/drug/ATC3/drug_ent_emb/bacteria or viruses.json\n",
      "Skipping beneficial for individuals with compromised immune function. Embedding file already exists.\n"
     ]
    },
    {
     "name": "stderr",
     "output_type": "stream",
     "text": [
      "  3%|▎         | 651/20859 [02:52<1:46:34,  3.16it/s]"
     ]
    },
    {
     "name": "stdout",
     "output_type": "stream",
     "text": [
      "Saved embedding for fat burning to ../../graphs/drug/ATC3/drug_ent_emb/fat burning.json\n",
      "Skipping impact eye health. Embedding file already exists.\n"
     ]
    },
    {
     "name": "stderr",
     "output_type": "stream",
     "text": [
      "  3%|▎         | 653/20859 [02:53<1:57:51,  2.86it/s]"
     ]
    },
    {
     "name": "stdout",
     "output_type": "stream",
     "text": [
      "Saved embedding for dosage forms to ../../graphs/drug/ATC3/drug_ent_emb/dosage forms.json\n"
     ]
    },
    {
     "name": "stderr",
     "output_type": "stream",
     "text": [
      "  3%|▎         | 654/20859 [02:54<2:16:45,  2.46it/s]"
     ]
    },
    {
     "name": "stdout",
     "output_type": "stream",
     "text": [
      "Saved embedding for used for pain relief to ../../graphs/drug/ATC3/drug_ent_emb/used for pain relief.json\n",
      "Skipping implant longevity. Embedding file already exists.\n"
     ]
    },
    {
     "name": "stderr",
     "output_type": "stream",
     "text": [
      "  3%|▎         | 656/20859 [02:54<2:11:13,  2.57it/s]"
     ]
    },
    {
     "name": "stdout",
     "output_type": "stream",
     "text": [
      "Saved embedding for caution to ../../graphs/drug/ATC3/drug_ent_emb/caution.json\n",
      "Skipping suspensions. Embedding file already exists.\n"
     ]
    },
    {
     "name": "stderr",
     "output_type": "stream",
     "text": [
      "  3%|▎         | 658/20859 [02:55<2:10:12,  2.59it/s]"
     ]
    },
    {
     "name": "stdout",
     "output_type": "stream",
     "text": [
      "Saved embedding for used in patients with narrow-angle glaucoma to ../../graphs/drug/ATC3/drug_ent_emb/used in patients with narrow-angle glaucoma.json\n",
      "Skipping proper handling and storage. Embedding file already exists.\n",
      "Skipping used for preventing digestive problems. Embedding file already exists.\n",
      "Skipping used in pediatric patients. Embedding file already exists.\n",
      "Skipping used if the skin is sensitive or irritated. Embedding file already exists.\n",
      "Skipping suppression of androgens. Embedding file already exists.\n"
     ]
    },
    {
     "name": "stderr",
     "output_type": "stream",
     "text": [
      "  3%|▎         | 664/20859 [02:55<1:07:47,  4.97it/s]"
     ]
    },
    {
     "name": "stdout",
     "output_type": "stream",
     "text": [
      "Saved embedding for administered to individuals with heart disease to ../../graphs/drug/ATC3/drug_ent_emb/administered to individuals with heart disease.json\n",
      "Skipping organ visualization. Embedding file already exists.\n"
     ]
    },
    {
     "name": "stderr",
     "output_type": "stream",
     "text": [
      "  3%|▎         | 666/20859 [02:56<1:08:55,  4.88it/s]"
     ]
    },
    {
     "name": "stdout",
     "output_type": "stream",
     "text": [
      "Saved embedding for for adverse effects to ../../graphs/drug/ATC3/drug_ent_emb/for adverse effects.json\n",
      "Skipping the mouth with water. Embedding file already exists.\n",
      "Skipping DNA repair. Embedding file already exists.\n"
     ]
    },
    {
     "name": "stderr",
     "output_type": "stream",
     "text": [
      "  3%|▎         | 669/20859 [02:56<1:03:36,  5.29it/s]"
     ]
    },
    {
     "name": "stdout",
     "output_type": "stream",
     "text": [
      "Saved embedding for involuntary muscle contractions to ../../graphs/drug/ATC3/drug_ent_emb/involuntary muscle contractions.json\n",
      "Skipping permanent vision damage. Embedding file already exists.\n"
     ]
    },
    {
     "name": "stderr",
     "output_type": "stream",
     "text": [
      "  3%|▎         | 671/20859 [02:57<1:19:44,  4.22it/s]"
     ]
    },
    {
     "name": "stdout",
     "output_type": "stream",
     "text": [
      "Saved embedding for help women with polycystic ovary syndrome to ../../graphs/drug/ATC3/drug_ent_emb/help women with polycystic ovary syndrome.json\n"
     ]
    },
    {
     "name": "stderr",
     "output_type": "stream",
     "text": [
      "  3%|▎         | 672/20859 [02:58<1:30:52,  3.70it/s]"
     ]
    },
    {
     "name": "stdout",
     "output_type": "stream",
     "text": [
      "Saved embedding for self-esteem to ../../graphs/drug/ATC3/drug_ent_emb/self-esteem.json\n",
      "Skipping in patients with corneal graft rejection. Embedding file already exists.\n",
      "Skipping alternative therapies. Embedding file already exists.\n"
     ]
    },
    {
     "name": "stderr",
     "output_type": "stream",
     "text": [
      "  3%|▎         | 675/20859 [02:58<1:24:09,  4.00it/s]"
     ]
    },
    {
     "name": "stdout",
     "output_type": "stream",
     "text": [
      "Saved embedding for administered through different routes to ../../graphs/drug/ATC3/drug_ent_emb/administered through different routes.json\n"
     ]
    },
    {
     "name": "stderr",
     "output_type": "stream",
     "text": [
      "  3%|▎         | 676/20859 [02:59<1:33:44,  3.59it/s]"
     ]
    },
    {
     "name": "stdout",
     "output_type": "stream",
     "text": [
      "Saved embedding for drug interactions with certain antipsychotics to ../../graphs/drug/ATC3/drug_ent_emb/drug interactions with certain antipsychotics.json\n"
     ]
    },
    {
     "name": "stderr",
     "output_type": "stream",
     "text": [
      "  3%|▎         | 677/20859 [02:59<1:45:06,  3.20it/s]"
     ]
    },
    {
     "name": "stdout",
     "output_type": "stream",
     "text": [
      "Saved embedding for if ineffective to ../../graphs/drug/ATC3/drug_ent_emb/if ineffective.json\n"
     ]
    },
    {
     "name": "stderr",
     "output_type": "stream",
     "text": [
      "  3%|▎         | 678/20859 [03:00<2:00:05,  2.80it/s]"
     ]
    },
    {
     "name": "stdout",
     "output_type": "stream",
     "text": [
      "Saved embedding for hand sanitizers to ../../graphs/drug/ATC3/drug_ent_emb/hand sanitizers.json\n",
      "Skipping used in individuals with allergies to pollen. Embedding file already exists.\n"
     ]
    },
    {
     "name": "stderr",
     "output_type": "stream",
     "text": [
      "  3%|▎         | 680/20859 [03:00<1:59:54,  2.80it/s]"
     ]
    },
    {
     "name": "stdout",
     "output_type": "stream",
     "text": [
      "Saved embedding for combined with physical therapy to ../../graphs/drug/ATC3/drug_ent_emb/combined with physical therapy.json\n",
      "Skipping assist in disease staging. Embedding file already exists.\n"
     ]
    },
    {
     "name": "stderr",
     "output_type": "stream",
     "text": [
      "  3%|▎         | 682/20859 [03:01<1:45:28,  3.19it/s]"
     ]
    },
    {
     "name": "stdout",
     "output_type": "stream",
     "text": [
      "Saved embedding for applying a medication patch to the skin to ../../graphs/drug/ATC3/drug_ent_emb/applying a medication patch to the skin.json\n"
     ]
    },
    {
     "name": "stderr",
     "output_type": "stream",
     "text": [
      "  3%|▎         | 683/20859 [03:03<3:44:46,  1.50it/s]"
     ]
    },
    {
     "name": "stdout",
     "output_type": "stream",
     "text": [
      "Saved embedding for dopaminergics to ../../graphs/drug/ATC3/drug_ent_emb/dopaminergics.json\n"
     ]
    },
    {
     "name": "stderr",
     "output_type": "stream",
     "text": [
      "  3%|▎         | 684/20859 [03:03<3:31:39,  1.59it/s]"
     ]
    },
    {
     "name": "stdout",
     "output_type": "stream",
     "text": [
      "Saved embedding for commonly used for migraine prophylaxis to ../../graphs/drug/ATC3/drug_ent_emb/commonly used for migraine prophylaxis.json\n"
     ]
    },
    {
     "name": "stderr",
     "output_type": "stream",
     "text": [
      "  3%|▎         | 685/20859 [03:04<3:15:42,  1.72it/s]"
     ]
    },
    {
     "name": "stdout",
     "output_type": "stream",
     "text": [
      "Saved embedding for rapid breathing to ../../graphs/drug/ATC3/drug_ent_emb/rapid breathing.json\n"
     ]
    },
    {
     "name": "stderr",
     "output_type": "stream",
     "text": [
      "  3%|▎         | 686/20859 [03:04<3:12:30,  1.75it/s]"
     ]
    },
    {
     "name": "stdout",
     "output_type": "stream",
     "text": [
      "Saved embedding for immunodeficiency to ../../graphs/drug/ATC3/drug_ent_emb/immunodeficiency.json\n"
     ]
    },
    {
     "name": "stderr",
     "output_type": "stream",
     "text": [
      "  3%|▎         | 687/20859 [03:05<3:31:14,  1.59it/s]"
     ]
    },
    {
     "name": "stdout",
     "output_type": "stream",
     "text": [
      "Saved embedding for applied before sexual activity to ../../graphs/drug/ATC3/drug_ent_emb/applied before sexual activity.json\n",
      "Skipping certain antiemetics. Embedding file already exists.\n"
     ]
    },
    {
     "name": "stderr",
     "output_type": "stream",
     "text": [
      "  3%|▎         | 689/20859 [03:06<2:38:33,  2.12it/s]"
     ]
    },
    {
     "name": "stdout",
     "output_type": "stream",
     "text": [
      "Saved embedding for prevent the oxidation of LDL cholesterol in diabetics to ../../graphs/drug/ATC3/drug_ent_emb/prevent the oxidation of LDL cholesterol in diabetics.json\n"
     ]
    },
    {
     "name": "stderr",
     "output_type": "stream",
     "text": [
      "  3%|▎         | 690/20859 [03:06<2:37:09,  2.14it/s]"
     ]
    },
    {
     "name": "stdout",
     "output_type": "stream",
     "text": [
      "Saved embedding for in patients with hyperparathyroidism to ../../graphs/drug/ATC3/drug_ent_emb/in patients with hyperparathyroidism.json\n"
     ]
    },
    {
     "name": "stderr",
     "output_type": "stream",
     "text": [
      "  3%|▎         | 691/20859 [03:07<2:41:12,  2.09it/s]"
     ]
    },
    {
     "name": "stdout",
     "output_type": "stream",
     "text": [
      "Saved embedding for used for treatment of lupus to ../../graphs/drug/ATC3/drug_ent_emb/used for treatment of lupus.json\n",
      "Skipping a higher risk of thrombosis. Embedding file already exists.\n",
      "Skipping for hypertension management. Embedding file already exists.\n"
     ]
    },
    {
     "name": "stderr",
     "output_type": "stream",
     "text": [
      "  3%|▎         | 694/20859 [03:07<1:50:26,  3.04it/s]"
     ]
    },
    {
     "name": "stdout",
     "output_type": "stream",
     "text": [
      "Saved embedding for used for reactive arthritis to ../../graphs/drug/ATC3/drug_ent_emb/used for reactive arthritis.json\n"
     ]
    },
    {
     "name": "stderr",
     "output_type": "stream",
     "text": [
      "  3%|▎         | 695/20859 [03:08<2:00:49,  2.78it/s]"
     ]
    },
    {
     "name": "stdout",
     "output_type": "stream",
     "text": [
      "Saved embedding for angiotensin receptor blockers to ../../graphs/drug/ATC3/drug_ent_emb/angiotensin receptor blockers.json\n",
      "Skipping different efficacy profiles. Embedding file already exists.\n",
      "Skipping treatment cycles. Embedding file already exists.\n",
      "Skipping dosage instructions. Embedding file already exists.\n",
      "Skipping selecting appropriate treatment. Embedding file already exists.\n",
      "Skipping lives. Embedding file already exists.\n"
     ]
    },
    {
     "name": "stderr",
     "output_type": "stream",
     "text": [
      "  3%|▎         | 701/20859 [03:08<1:07:19,  4.99it/s]"
     ]
    },
    {
     "name": "stdout",
     "output_type": "stream",
     "text": [
      "Saved embedding for DNA vaccines to ../../graphs/drug/ATC3/drug_ent_emb/DNA vaccines.json\n",
      "Skipping with belladonna and derivatives containing drugs. Embedding file already exists.\n",
      "Skipping unnecessary excessive use. Embedding file already exists.\n"
     ]
    },
    {
     "name": "stderr",
     "output_type": "stream",
     "text": [
      "  3%|▎         | 704/20859 [03:09<1:05:50,  5.10it/s]"
     ]
    },
    {
     "name": "stdout",
     "output_type": "stream",
     "text": [
      "Saved embedding for new treatments to ../../graphs/drug/ATC3/drug_ent_emb/new treatments.json\n",
      "Skipping monitored carefully. Embedding file already exists.\n",
      "Skipping tablets and oral solution. Embedding file already exists.\n"
     ]
    },
    {
     "name": "stderr",
     "output_type": "stream",
     "text": [
      "  3%|▎         | 707/20859 [03:10<1:17:31,  4.33it/s]"
     ]
    },
    {
     "name": "stdout",
     "output_type": "stream",
     "text": [
      "Saved embedding for endocrine drugs to ../../graphs/drug/ATC3/drug_ent_emb/endocrine drugs.json\n"
     ]
    },
    {
     "name": "stderr",
     "output_type": "stream",
     "text": [
      "  3%|▎         | 708/20859 [03:10<1:26:22,  3.89it/s]"
     ]
    },
    {
     "name": "stdout",
     "output_type": "stream",
     "text": [
      "Saved embedding for manage any potential risks to ../../graphs/drug/ATC3/drug_ent_emb/manage any potential risks.json\n"
     ]
    },
    {
     "name": "stderr",
     "output_type": "stream",
     "text": [
      "  3%|▎         | 709/20859 [03:11<1:39:56,  3.36it/s]"
     ]
    },
    {
     "name": "stdout",
     "output_type": "stream",
     "text": [
      "Saved embedding for for venous ulcers to ../../graphs/drug/ATC3/drug_ent_emb/for venous ulcers.json\n",
      "Skipping musculoskeletal imaging. Embedding file already exists.\n"
     ]
    },
    {
     "name": "stderr",
     "output_type": "stream",
     "text": [
      "  3%|▎         | 711/20859 [03:11<1:33:40,  3.58it/s]"
     ]
    },
    {
     "name": "stdout",
     "output_type": "stream",
     "text": [
      "Saved embedding for patient assistance programs to ../../graphs/drug/ATC3/drug_ent_emb/patient assistance programs.json\n",
      "Skipping excruciating. Embedding file already exists.\n",
      "Skipping applied correctly. Embedding file already exists.\n",
      "Skipping treatment of arrhythmias. Embedding file already exists.\n",
      "Skipping different cost implications. Embedding file already exists.\n"
     ]
    },
    {
     "name": "stderr",
     "output_type": "stream",
     "text": [
      "  3%|▎         | 716/20859 [03:12<1:00:00,  5.59it/s]"
     ]
    },
    {
     "name": "stdout",
     "output_type": "stream",
     "text": [
      "Saved embedding for improve cognitive abilities to ../../graphs/drug/ATC3/drug_ent_emb/improve cognitive abilities.json\n"
     ]
    },
    {
     "name": "stderr",
     "output_type": "stream",
     "text": [
      "  3%|▎         | 717/20859 [03:12<1:11:57,  4.67it/s]"
     ]
    },
    {
     "name": "stdout",
     "output_type": "stream",
     "text": [
      "Saved embedding for for long-term effects to ../../graphs/drug/ATC3/drug_ent_emb/for long-term effects.json\n"
     ]
    },
    {
     "name": "stderr",
     "output_type": "stream",
     "text": [
      "  3%|▎         | 718/20859 [03:13<1:24:26,  3.98it/s]"
     ]
    },
    {
     "name": "stdout",
     "output_type": "stream",
     "text": [
      "Saved embedding for improve cardiac output to ../../graphs/drug/ATC3/drug_ent_emb/improve cardiac output.json\n",
      "Skipping regular monitoring of kidney function. Embedding file already exists.\n",
      "Skipping scabies mites. Embedding file already exists.\n",
      "Skipping prevent allergic reactions. Embedding file already exists.\n"
     ]
    },
    {
     "name": "stderr",
     "output_type": "stream",
     "text": [
      "  3%|▎         | 722/20859 [03:13<1:04:58,  5.17it/s]"
     ]
    },
    {
     "name": "stdout",
     "output_type": "stream",
     "text": [
      "Saved embedding for access to ../../graphs/drug/ATC3/drug_ent_emb/access.json\n",
      "Skipping valuable information. Embedding file already exists.\n",
      "Skipping stress reduction techniques. Embedding file already exists.\n"
     ]
    },
    {
     "name": "stderr",
     "output_type": "stream",
     "text": [
      "  3%|▎         | 725/20859 [03:14<1:03:41,  5.27it/s]"
     ]
    },
    {
     "name": "stdout",
     "output_type": "stream",
     "text": [
      "Saved embedding for patients with a history of stomach ulcers to ../../graphs/drug/ATC3/drug_ent_emb/patients with a history of stomach ulcers.json\n"
     ]
    },
    {
     "name": "stderr",
     "output_type": "stream",
     "text": [
      "  3%|▎         | 726/20859 [03:14<1:21:02,  4.14it/s]"
     ]
    },
    {
     "name": "stdout",
     "output_type": "stream",
     "text": [
      "Saved embedding for beneficial for individuals with metabolic disorders to ../../graphs/drug/ATC3/drug_ent_emb/beneficial for individuals with metabolic disorders.json\n"
     ]
    },
    {
     "name": "stderr",
     "output_type": "stream",
     "text": [
      "  3%|▎         | 727/20859 [03:15<1:44:35,  3.21it/s]"
     ]
    },
    {
     "name": "stdout",
     "output_type": "stream",
     "text": [
      "Saved embedding for followed to ../../graphs/drug/ATC3/drug_ent_emb/followed.json\n",
      "Skipping chemotherapy agents. Embedding file already exists.\n",
      "Skipping specific hormones for growth. Embedding file already exists.\n",
      "Skipping avoided in patients with liver disease. Embedding file already exists.\n"
     ]
    },
    {
     "name": "stderr",
     "output_type": "stream",
     "text": [
      "  4%|▎         | 731/20859 [03:15<1:11:37,  4.68it/s]"
     ]
    },
    {
     "name": "stdout",
     "output_type": "stream",
     "text": [
      "Saved embedding for bacterial peritonitis to ../../graphs/drug/ATC3/drug_ent_emb/bacterial peritonitis.json\n"
     ]
    },
    {
     "name": "stderr",
     "output_type": "stream",
     "text": [
      "  4%|▎         | 732/20859 [03:16<1:31:26,  3.67it/s]"
     ]
    },
    {
     "name": "stdout",
     "output_type": "stream",
     "text": [
      "Saved embedding for worsened by gout to ../../graphs/drug/ATC3/drug_ent_emb/worsened by gout.json\n",
      "Skipping ATC code N. Embedding file already exists.\n"
     ]
    },
    {
     "name": "stderr",
     "output_type": "stream",
     "text": [
      "  4%|▎         | 734/20859 [03:17<1:28:05,  3.81it/s]"
     ]
    },
    {
     "name": "stdout",
     "output_type": "stream",
     "text": [
      "Saved embedding for commonly used as a dietary supplement to ../../graphs/drug/ATC3/drug_ent_emb/commonly used as a dietary supplement.json\n",
      "Skipping common during pregnancy. Embedding file already exists.\n"
     ]
    },
    {
     "name": "stderr",
     "output_type": "stream",
     "text": [
      "  4%|▎         | 736/20859 [03:17<1:35:32,  3.51it/s]"
     ]
    },
    {
     "name": "stdout",
     "output_type": "stream",
     "text": [
      "Saved embedding for in weight management to ../../graphs/drug/ATC3/drug_ent_emb/in weight management.json\n",
      "Skipping radiopharmaceutical care. Embedding file already exists.\n"
     ]
    },
    {
     "name": "stderr",
     "output_type": "stream",
     "text": [
      "  4%|▎         | 738/20859 [03:18<1:31:35,  3.66it/s]"
     ]
    },
    {
     "name": "stdout",
     "output_type": "stream",
     "text": [
      "Saved embedding for varying half-life to ../../graphs/drug/ATC3/drug_ent_emb/varying half-life.json\n"
     ]
    },
    {
     "name": "stderr",
     "output_type": "stream",
     "text": [
      "  4%|▎         | 739/20859 [03:19<2:48:52,  1.99it/s]"
     ]
    },
    {
     "name": "stdout",
     "output_type": "stream",
     "text": [
      "Saved embedding for drug interactions with certain antifibrinolytic agents to ../../graphs/drug/ATC3/drug_ent_emb/drug interactions with certain antifibrinolytic agents.json\n",
      "Skipping imported from other countries. Embedding file already exists.\n",
      "Skipping subcutaneously injected. Embedding file already exists.\n"
     ]
    },
    {
     "name": "stderr",
     "output_type": "stream",
     "text": [
      "  4%|▎         | 742/20859 [03:20<2:01:39,  2.76it/s]"
     ]
    },
    {
     "name": "stdout",
     "output_type": "stream",
     "text": [
      "Saved embedding for trauma during removal to ../../graphs/drug/ATC3/drug_ent_emb/trauma during removal.json\n",
      "Skipping reduce fluid retention. Embedding file already exists.\n"
     ]
    },
    {
     "name": "stderr",
     "output_type": "stream",
     "text": [
      "  4%|▎         | 744/20859 [03:20<1:48:05,  3.10it/s]"
     ]
    },
    {
     "name": "stdout",
     "output_type": "stream",
     "text": [
      "Saved embedding for low calorie intake to ../../graphs/drug/ATC3/drug_ent_emb/low calorie intake.json\n",
      "Skipping pulmonary arterial hypertension. Embedding file already exists.\n",
      "Skipping grayscale imaging. Embedding file already exists.\n"
     ]
    },
    {
     "name": "stderr",
     "output_type": "stream",
     "text": [
      "  4%|▎         | 747/20859 [03:22<2:02:34,  2.73it/s]"
     ]
    },
    {
     "name": "stdout",
     "output_type": "stream",
     "text": [
      "Saved embedding for first-line treatment to ../../graphs/drug/ATC3/drug_ent_emb/first-line treatment.json\n",
      "Skipping sympathetic nervous system. Embedding file already exists.\n",
      "Skipping systemic infection. Embedding file already exists.\n",
      "Skipping abnormal heart rhythms. Embedding file already exists.\n"
     ]
    },
    {
     "name": "stderr",
     "output_type": "stream",
     "text": [
      "  4%|▎         | 751/20859 [03:22<1:32:38,  3.62it/s]"
     ]
    },
    {
     "name": "stdout",
     "output_type": "stream",
     "text": [
      "Saved embedding for antifungal agents to ../../graphs/drug/ATC3/drug_ent_emb/antifungal agents.json\n",
      "Skipping group of conditions that occur due to reduced blood flow to the heart. Embedding file already exists.\n",
      "Skipping reducing sweat production. Embedding file already exists.\n"
     ]
    },
    {
     "name": "stderr",
     "output_type": "stream",
     "text": [
      "  4%|▎         | 754/20859 [03:23<1:18:46,  4.25it/s]"
     ]
    },
    {
     "name": "stdout",
     "output_type": "stream",
     "text": [
      "Saved embedding for regular review to ../../graphs/drug/ATC3/drug_ent_emb/regular review.json\n",
      "Skipping fighting infections. Embedding file already exists.\n"
     ]
    },
    {
     "name": "stderr",
     "output_type": "stream",
     "text": [
      "  4%|▎         | 756/20859 [03:23<1:18:13,  4.28it/s]"
     ]
    },
    {
     "name": "stdout",
     "output_type": "stream",
     "text": [
      "Saved embedding for used in veterinary ophthalmology to ../../graphs/drug/ATC3/drug_ent_emb/used in veterinary ophthalmology.json\n"
     ]
    },
    {
     "name": "stderr",
     "output_type": "stream",
     "text": [
      "  4%|▎         | 757/20859 [03:24<1:29:30,  3.74it/s]"
     ]
    },
    {
     "name": "stdout",
     "output_type": "stream",
     "text": [
      "Saved embedding for enhance the absorption of plant-based selenium in individuals undergoing chemotherapy to ../../graphs/drug/ATC3/drug_ent_emb/enhance the absorption of plant-based selenium in individuals undergoing chemotherapy.json\n"
     ]
    },
    {
     "name": "stderr",
     "output_type": "stream",
     "text": [
      "  4%|▎         | 758/20859 [03:24<1:46:37,  3.14it/s]"
     ]
    },
    {
     "name": "stdout",
     "output_type": "stream",
     "text": [
      "Saved embedding for gonadotropins and other ovulation stimulants to ../../graphs/drug/ATC3/drug_ent_emb/gonadotropins and other ovulation stimulants.json\n",
      "Skipping specific bacterial antigens. Embedding file already exists.\n"
     ]
    },
    {
     "name": "stderr",
     "output_type": "stream",
     "text": [
      "  4%|▎         | 760/20859 [03:25<1:44:13,  3.21it/s]"
     ]
    },
    {
     "name": "stdout",
     "output_type": "stream",
     "text": [
      "Saved embedding for public health intervention to ../../graphs/drug/ATC3/drug_ent_emb/public health intervention.json\n"
     ]
    },
    {
     "name": "stderr",
     "output_type": "stream",
     "text": [
      "  4%|▎         | 761/20859 [03:25<1:52:15,  2.98it/s]"
     ]
    },
    {
     "name": "stdout",
     "output_type": "stream",
     "text": [
      "Saved embedding for a numbing effect on the throat to ../../graphs/drug/ATC3/drug_ent_emb/a numbing effect on the throat.json\n",
      "Skipping pain in capillaritis. Embedding file already exists.\n"
     ]
    },
    {
     "name": "stderr",
     "output_type": "stream",
     "text": [
      "  4%|▎         | 763/20859 [03:26<1:43:17,  3.24it/s]"
     ]
    },
    {
     "name": "stdout",
     "output_type": "stream",
     "text": [
      "Saved embedding for nosebleeds to ../../graphs/drug/ATC3/drug_ent_emb/nosebleeds.json\n",
      "Skipping reducing snoring. Embedding file already exists.\n"
     ]
    },
    {
     "name": "stderr",
     "output_type": "stream",
     "text": [
      "  4%|▎         | 765/20859 [03:26<1:35:11,  3.52it/s]"
     ]
    },
    {
     "name": "stdout",
     "output_type": "stream",
     "text": [
      "Saved embedding for in tablet or capsule form to ../../graphs/drug/ATC3/drug_ent_emb/in tablet or capsule form.json\n",
      "Skipping when used as part of a comprehensive treatment plan. Embedding file already exists.\n"
     ]
    },
    {
     "name": "stderr",
     "output_type": "stream",
     "text": [
      "  4%|▎         | 767/20859 [03:27<1:27:43,  3.82it/s]"
     ]
    },
    {
     "name": "stdout",
     "output_type": "stream",
     "text": [
      "Saved embedding for biliary obstruction to ../../graphs/drug/ATC3/drug_ent_emb/biliary obstruction.json\n",
      "Skipping gallstone treatment. Embedding file already exists.\n",
      "Skipping diltiazem as a generic name. Embedding file already exists.\n",
      "Skipping patients with heart block. Embedding file already exists.\n",
      "Skipping dose adjustments based on coexisting medical conditions. Embedding file already exists.\n",
      "Skipping spastic bladder. Embedding file already exists.\n",
      "Skipping not be ingested. Embedding file already exists.\n"
     ]
    },
    {
     "name": "stderr",
     "output_type": "stream",
     "text": [
      "  4%|▎         | 774/20859 [03:27<50:39,  6.61it/s]  "
     ]
    },
    {
     "name": "stdout",
     "output_type": "stream",
     "text": [
      "Saved embedding for tonics to ../../graphs/drug/ATC3/drug_ent_emb/tonics.json\n"
     ]
    },
    {
     "name": "stderr",
     "output_type": "stream",
     "text": [
      "  4%|▎         | 775/20859 [03:28<1:02:31,  5.35it/s]"
     ]
    },
    {
     "name": "stdout",
     "output_type": "stream",
     "text": [
      "Saved embedding for morphine to ../../graphs/drug/ATC3/drug_ent_emb/morphine.json\n",
      "Skipping for patient safety. Embedding file already exists.\n"
     ]
    },
    {
     "name": "stderr",
     "output_type": "stream",
     "text": [
      "  4%|▎         | 777/20859 [03:28<1:07:49,  4.93it/s]"
     ]
    },
    {
     "name": "stdout",
     "output_type": "stream",
     "text": [
      "Saved embedding for contraception to ../../graphs/drug/ATC3/drug_ent_emb/contraception.json\n",
      "Skipping should be adjusted. Embedding file already exists.\n"
     ]
    },
    {
     "name": "stderr",
     "output_type": "stream",
     "text": [
      "  4%|▎         | 779/20859 [03:29<1:23:56,  3.99it/s]"
     ]
    },
    {
     "name": "stdout",
     "output_type": "stream",
     "text": [
      "Saved embedding for different age groups to ../../graphs/drug/ATC3/drug_ent_emb/different age groups.json\n"
     ]
    },
    {
     "name": "stderr",
     "output_type": "stream",
     "text": [
      "  4%|▎         | 780/20859 [03:30<2:13:51,  2.50it/s]"
     ]
    },
    {
     "name": "stdout",
     "output_type": "stream",
     "text": [
      "Saved embedding for liver excretion to ../../graphs/drug/ATC3/drug_ent_emb/liver excretion.json\n"
     ]
    },
    {
     "name": "stderr",
     "output_type": "stream",
     "text": [
      "  4%|▎         | 781/20859 [03:31<2:20:01,  2.39it/s]"
     ]
    },
    {
     "name": "stdout",
     "output_type": "stream",
     "text": [
      "Saved embedding for worsening or persistent symptoms to ../../graphs/drug/ATC3/drug_ent_emb/worsening or persistent symptoms.json\n"
     ]
    },
    {
     "name": "stderr",
     "output_type": "stream",
     "text": [
      "  4%|▎         | 782/20859 [03:31<2:22:40,  2.35it/s]"
     ]
    },
    {
     "name": "stdout",
     "output_type": "stream",
     "text": [
      "Saved embedding for dental root planing to ../../graphs/drug/ATC3/drug_ent_emb/dental root planing.json\n"
     ]
    },
    {
     "name": "stderr",
     "output_type": "stream",
     "text": [
      "  4%|▍         | 783/20859 [03:31<2:23:18,  2.33it/s]"
     ]
    },
    {
     "name": "stdout",
     "output_type": "stream",
     "text": [
      "Saved embedding for taking with a meal to ../../graphs/drug/ATC3/drug_ent_emb/taking with a meal.json\n",
      "Skipping an overdose. Embedding file already exists.\n"
     ]
    },
    {
     "name": "stderr",
     "output_type": "stream",
     "text": [
      "  4%|▍         | 785/20859 [03:32<1:59:14,  2.81it/s]"
     ]
    },
    {
     "name": "stdout",
     "output_type": "stream",
     "text": [
      "Saved embedding for UV-blocking t-shirts to ../../graphs/drug/ATC3/drug_ent_emb/UV-blocking t-shirts.json\n",
      "Skipping temporary protection. Embedding file already exists.\n",
      "Skipping targets bacterial DNA replication. Embedding file already exists.\n"
     ]
    },
    {
     "name": "stderr",
     "output_type": "stream",
     "text": [
      "  4%|▍         | 788/20859 [03:34<2:33:57,  2.17it/s]"
     ]
    },
    {
     "name": "stdout",
     "output_type": "stream",
     "text": [
      "Saved embedding for regular handwashing to ../../graphs/drug/ATC3/drug_ent_emb/regular handwashing.json\n"
     ]
    },
    {
     "name": "stderr",
     "output_type": "stream",
     "text": [
      "  4%|▍         | 789/20859 [03:34<2:32:27,  2.19it/s]"
     ]
    },
    {
     "name": "stdout",
     "output_type": "stream",
     "text": [
      "Saved embedding for digestion in individuals with lactose intolerance to ../../graphs/drug/ATC3/drug_ent_emb/digestion in individuals with lactose intolerance.json\n"
     ]
    },
    {
     "name": "stderr",
     "output_type": "stream",
     "text": [
      "  4%|▍         | 790/20859 [03:35<2:37:29,  2.12it/s]"
     ]
    },
    {
     "name": "stdout",
     "output_type": "stream",
     "text": [
      "Saved embedding for used in combination with anti-VEGF injections to ../../graphs/drug/ATC3/drug_ent_emb/used in combination with anti-VEGF injections.json\n",
      "Skipping the function of the digestive system. Embedding file already exists.\n",
      "Skipping response to therapy. Embedding file already exists.\n",
      "Skipping enlarged prostate. Embedding file already exists.\n"
     ]
    },
    {
     "name": "stderr",
     "output_type": "stream",
     "text": [
      "  4%|▍         | 794/20859 [03:35<1:35:04,  3.52it/s]"
     ]
    },
    {
     "name": "stdout",
     "output_type": "stream",
     "text": [
      "Saved embedding for the risk of side effects when used with antibiotics for topical use to ../../graphs/drug/ATC3/drug_ent_emb/the risk of side effects when used with antibiotics for topical use.json\n",
      "Skipping with quinolone antibacterials. Embedding file already exists.\n",
      "Skipping degradation of the medication. Embedding file already exists.\n",
      "Skipping skin burns. Embedding file already exists.\n",
      "Skipping specific therapeutic applications. Embedding file already exists.\n"
     ]
    },
    {
     "name": "stderr",
     "output_type": "stream",
     "text": [
      "  4%|▍         | 799/20859 [03:36<1:04:11,  5.21it/s]"
     ]
    },
    {
     "name": "stdout",
     "output_type": "stream",
     "text": [
      "Saved embedding for vaccine quality to ../../graphs/drug/ATC3/drug_ent_emb/vaccine quality.json\n"
     ]
    },
    {
     "name": "stderr",
     "output_type": "stream",
     "text": [
      "  4%|▍         | 800/20859 [03:36<1:16:40,  4.36it/s]"
     ]
    },
    {
     "name": "stdout",
     "output_type": "stream",
     "text": [
      "Saved embedding for involved in the metabolism of tryptophan and phenylalanine to ../../graphs/drug/ATC3/drug_ent_emb/involved in the metabolism of tryptophan and phenylalanine.json\n",
      "Skipping use in pandemics. Embedding file already exists.\n",
      "Skipping symptomatic relief. Embedding file already exists.\n"
     ]
    },
    {
     "name": "stderr",
     "output_type": "stream",
     "text": [
      "  4%|▍         | 803/20859 [03:37<1:10:09,  4.76it/s]"
     ]
    },
    {
     "name": "stdout",
     "output_type": "stream",
     "text": [
      "Saved embedding for reviewed before administration to ../../graphs/drug/ATC3/drug_ent_emb/reviewed before administration.json\n",
      "Skipping consistent drug levels. Embedding file already exists.\n",
      "Skipping evaluating kidney function. Embedding file already exists.\n",
      "Skipping capillary rupture risk. Embedding file already exists.\n",
      "Skipping diagnosis. Embedding file already exists.\n"
     ]
    },
    {
     "name": "stderr",
     "output_type": "stream",
     "text": [
      "  4%|▍         | 808/20859 [03:37<53:40,  6.23it/s]  "
     ]
    },
    {
     "name": "stdout",
     "output_type": "stream",
     "text": [
      "Saved embedding for poor skin turgor to ../../graphs/drug/ATC3/drug_ent_emb/poor skin turgor.json\n",
      "Skipping better patient prognosis. Embedding file already exists.\n"
     ]
    },
    {
     "name": "stderr",
     "output_type": "stream",
     "text": [
      "  4%|▍         | 810/20859 [03:38<57:34,  5.80it/s]"
     ]
    },
    {
     "name": "stdout",
     "output_type": "stream",
     "text": [
      "Saved embedding for in allergic asthma to ../../graphs/drug/ATC3/drug_ent_emb/in allergic asthma.json\n",
      "Skipping when medication may no longer be effective. Embedding file already exists.\n"
     ]
    },
    {
     "name": "stderr",
     "output_type": "stream",
     "text": [
      "  4%|▍         | 812/20859 [03:38<1:02:38,  5.33it/s]"
     ]
    },
    {
     "name": "stdout",
     "output_type": "stream",
     "text": [
      "Saved embedding for required for medication access to ../../graphs/drug/ATC3/drug_ent_emb/required for medication access.json\n",
      "Skipping developed specifically for the renal system. Embedding file already exists.\n",
      "Skipping inflammatory markers. Embedding file already exists.\n"
     ]
    },
    {
     "name": "stderr",
     "output_type": "stream",
     "text": [
      "  4%|▍         | 815/20859 [03:39<59:30,  5.61it/s]  "
     ]
    },
    {
     "name": "stdout",
     "output_type": "stream",
     "text": [
      "Saved embedding for normal growth and development to ../../graphs/drug/ATC3/drug_ent_emb/normal growth and development.json\n",
      "Skipping pre-existing medical conditions or diseases. Embedding file already exists.\n",
      "Skipping using for symptom relief in allergies. Embedding file already exists.\n"
     ]
    },
    {
     "name": "stderr",
     "output_type": "stream",
     "text": [
      "  4%|▍         | 818/20859 [03:39<1:00:01,  5.56it/s]"
     ]
    },
    {
     "name": "stdout",
     "output_type": "stream",
     "text": [
      "Saved embedding for urinary output to ../../graphs/drug/ATC3/drug_ent_emb/urinary output.json\n"
     ]
    },
    {
     "name": "stderr",
     "output_type": "stream",
     "text": [
      "  4%|▍         | 819/20859 [03:40<1:33:07,  3.59it/s]"
     ]
    },
    {
     "name": "stdout",
     "output_type": "stream",
     "text": [
      "Saved embedding for for effectiveness to ../../graphs/drug/ATC3/drug_ent_emb/for effectiveness.json\n",
      "Skipping bacterial infections in the mouth and throat. Embedding file already exists.\n"
     ]
    },
    {
     "name": "stderr",
     "output_type": "stream",
     "text": [
      "  4%|▍         | 821/20859 [03:40<1:27:15,  3.83it/s]"
     ]
    },
    {
     "name": "stdout",
     "output_type": "stream",
     "text": [
      "Saved embedding for health education and awareness campaigns to ../../graphs/drug/ATC3/drug_ent_emb/health education and awareness campaigns.json\n",
      "Skipping the drug. Embedding file already exists.\n"
     ]
    },
    {
     "name": "stderr",
     "output_type": "stream",
     "text": [
      "  4%|▍         | 823/20859 [03:41<1:24:16,  3.96it/s]"
     ]
    },
    {
     "name": "stdout",
     "output_type": "stream",
     "text": [
      "Saved embedding for in patients with sickle cell disease to ../../graphs/drug/ATC3/drug_ent_emb/in patients with sickle cell disease.json\n"
     ]
    },
    {
     "name": "stderr",
     "output_type": "stream",
     "text": [
      "  4%|▍         | 824/20859 [03:41<1:35:05,  3.51it/s]"
     ]
    },
    {
     "name": "stdout",
     "output_type": "stream",
     "text": [
      "Saved embedding for dose adjustments based on body weight and liver function to ../../graphs/drug/ATC3/drug_ent_emb/dose adjustments based on body weight and liver function.json\n"
     ]
    },
    {
     "name": "stderr",
     "output_type": "stream",
     "text": [
      "  4%|▍         | 825/20859 [03:42<1:46:46,  3.13it/s]"
     ]
    },
    {
     "name": "stdout",
     "output_type": "stream",
     "text": [
      "Saved embedding for developmental process to ../../graphs/drug/ATC3/drug_ent_emb/developmental process.json\n"
     ]
    },
    {
     "name": "stderr",
     "output_type": "stream",
     "text": [
      "  4%|▍         | 826/20859 [03:42<1:57:39,  2.84it/s]"
     ]
    },
    {
     "name": "stdout",
     "output_type": "stream",
     "text": [
      "Saved embedding for whole-body scans to ../../graphs/drug/ATC3/drug_ent_emb/whole-body scans.json\n",
      "Skipping full effect. Embedding file already exists.\n",
      "Skipping increased nutrient intake. Embedding file already exists.\n"
     ]
    },
    {
     "name": "stderr",
     "output_type": "stream",
     "text": [
      "  4%|▍         | 829/20859 [03:43<1:44:12,  3.20it/s]"
     ]
    },
    {
     "name": "stdout",
     "output_type": "stream",
     "text": [
      "Saved embedding for general health maintenance to ../../graphs/drug/ATC3/drug_ent_emb/general health maintenance.json\n"
     ]
    },
    {
     "name": "stderr",
     "output_type": "stream",
     "text": [
      "  4%|▍         | 830/20859 [03:44<2:06:25,  2.64it/s]"
     ]
    },
    {
     "name": "stdout",
     "output_type": "stream",
     "text": [
      "Saved embedding for used with NSAIDs to ../../graphs/drug/ATC3/drug_ent_emb/used with NSAIDs.json\n",
      "Skipping creams. Embedding file already exists.\n",
      "Skipping generic medications. Embedding file already exists.\n",
      "Skipping single doses. Embedding file already exists.\n"
     ]
    },
    {
     "name": "stderr",
     "output_type": "stream",
     "text": [
      "  4%|▍         | 834/20859 [03:44<1:20:27,  4.15it/s]"
     ]
    },
    {
     "name": "stdout",
     "output_type": "stream",
     "text": [
      "Saved embedding for maintaining bone health to ../../graphs/drug/ATC3/drug_ent_emb/maintaining bone health.json\n",
      "Skipping help identify fertility issues. Embedding file already exists.\n",
      "Skipping significantly affected by diarrhea. Embedding file already exists.\n",
      "Skipping oral corticosteroids. Embedding file already exists.\n",
      "Skipping resistant Gram-negative bacteria. Embedding file already exists.\n",
      "Skipping symptoms of hyperthyroidism. Embedding file already exists.\n",
      "Skipping stopped abruptly. Embedding file already exists.\n"
     ]
    },
    {
     "name": "stderr",
     "output_type": "stream",
     "text": [
      "  4%|▍         | 841/20859 [03:45<46:58,  7.10it/s]  "
     ]
    },
    {
     "name": "stdout",
     "output_type": "stream",
     "text": [
      "Saved embedding for cell division progression to ../../graphs/drug/ATC3/drug_ent_emb/cell division progression.json\n"
     ]
    },
    {
     "name": "stderr",
     "output_type": "stream",
     "text": [
      "  4%|▍         | 842/20859 [03:45<57:27,  5.81it/s]"
     ]
    },
    {
     "name": "stdout",
     "output_type": "stream",
     "text": [
      "Saved embedding for aortic stiffness to ../../graphs/drug/ATC3/drug_ent_emb/aortic stiffness.json\n",
      "Skipping sustained symptom relief. Embedding file already exists.\n",
      "Skipping treatment of irritable bowel syndrome. Embedding file already exists.\n",
      "Skipping carcinogenic. Embedding file already exists.\n",
      "Skipping risks to the fetus. Embedding file already exists.\n"
     ]
    },
    {
     "name": "stderr",
     "output_type": "stream",
     "text": [
      "  4%|▍         | 847/20859 [03:46<45:21,  7.35it/s]"
     ]
    },
    {
     "name": "stdout",
     "output_type": "stream",
     "text": [
      "Saved embedding for echocardiography to ../../graphs/drug/ATC3/drug_ent_emb/echocardiography.json\n",
      "Skipping manage urinary tract infections in men. Embedding file already exists.\n",
      "Skipping be reused. Embedding file already exists.\n"
     ]
    },
    {
     "name": "stderr",
     "output_type": "stream",
     "text": [
      "  4%|▍         | 850/20859 [03:46<46:05,  7.24it/s]"
     ]
    },
    {
     "name": "stdout",
     "output_type": "stream",
     "text": [
      "Saved embedding for ATC code to ../../graphs/drug/ATC3/drug_ent_emb/ATC code.json\n"
     ]
    },
    {
     "name": "stderr",
     "output_type": "stream",
     "text": [
      "  4%|▍         | 851/20859 [03:46<57:14,  5.83it/s]"
     ]
    },
    {
     "name": "stdout",
     "output_type": "stream",
     "text": [
      "Saved embedding for tachycardia to ../../graphs/drug/ATC3/drug_ent_emb/tachycardia.json\n",
      "Skipping patient-centered. Embedding file already exists.\n",
      "Skipping in patients with hyperimmunoglobulinemia D syndrome. Embedding file already exists.\n"
     ]
    },
    {
     "name": "stderr",
     "output_type": "stream",
     "text": [
      "  4%|▍         | 854/20859 [03:47<54:16,  6.14it/s]"
     ]
    },
    {
     "name": "stdout",
     "output_type": "stream",
     "text": [
      "Saved embedding for digestive disturbances to ../../graphs/drug/ATC3/drug_ent_emb/digestive disturbances.json\n"
     ]
    },
    {
     "name": "stderr",
     "output_type": "stream",
     "text": [
      "  4%|▍         | 855/20859 [03:48<1:15:56,  4.39it/s]"
     ]
    },
    {
     "name": "stdout",
     "output_type": "stream",
     "text": [
      "Saved embedding for the development of mood disorders to ../../graphs/drug/ATC3/drug_ent_emb/the development of mood disorders.json\n",
      "Skipping contraindicated in certain individuals. Embedding file already exists.\n",
      "Skipping oxycodone. Embedding file already exists.\n"
     ]
    },
    {
     "name": "stderr",
     "output_type": "stream",
     "text": [
      "  4%|▍         | 858/20859 [03:48<1:05:29,  5.09it/s]"
     ]
    },
    {
     "name": "stdout",
     "output_type": "stream",
     "text": [
      "Saved embedding for dryness to ../../graphs/drug/ATC3/drug_ent_emb/dryness.json\n",
      "Skipping specific policy. Embedding file already exists.\n",
      "Skipping Neisseria gonorrhoeae. Embedding file already exists.\n",
      "Skipping genetic component. Embedding file already exists.\n",
      "Skipping patients with certain heart conditions. Embedding file already exists.\n"
     ]
    },
    {
     "name": "stderr",
     "output_type": "stream",
     "text": [
      "  4%|▍         | 863/20859 [03:48<50:52,  6.55it/s]  "
     ]
    },
    {
     "name": "stdout",
     "output_type": "stream",
     "text": [
      "Saved embedding for legal issues to ../../graphs/drug/ATC3/drug_ent_emb/legal issues.json\n",
      "Skipping eliminated from the body through various routes. Embedding file already exists.\n",
      "Skipping used for promoting a healthy balance of gut bacteria. Embedding file already exists.\n",
      "Skipping sodium reabsorption. Embedding file already exists.\n",
      "Skipping pregnant patients. Embedding file already exists.\n"
     ]
    },
    {
     "name": "stderr",
     "output_type": "stream",
     "text": [
      "  4%|▍         | 868/20859 [03:49<47:27,  7.02it/s]"
     ]
    },
    {
     "name": "stdout",
     "output_type": "stream",
     "text": [
      "Saved embedding for in the form of gummies to ../../graphs/drug/ATC3/drug_ent_emb/in the form of gummies.json\n"
     ]
    },
    {
     "name": "stderr",
     "output_type": "stream",
     "text": [
      "  4%|▍         | 869/20859 [03:50<1:10:05,  4.75it/s]"
     ]
    },
    {
     "name": "stdout",
     "output_type": "stream",
     "text": [
      "Saved embedding for prescribed for specific medical conditions to ../../graphs/drug/ATC3/drug_ent_emb/prescribed for specific medical conditions.json\n"
     ]
    },
    {
     "name": "stderr",
     "output_type": "stream",
     "text": [
      "  4%|▍         | 870/20859 [03:50<1:25:19,  3.90it/s]"
     ]
    },
    {
     "name": "stdout",
     "output_type": "stream",
     "text": [
      "Saved embedding for wounds to ../../graphs/drug/ATC3/drug_ent_emb/wounds.json\n"
     ]
    },
    {
     "name": "stderr",
     "output_type": "stream",
     "text": [
      "  4%|▍         | 871/20859 [03:51<1:35:35,  3.48it/s]"
     ]
    },
    {
     "name": "stdout",
     "output_type": "stream",
     "text": [
      "Saved embedding for national immunization programs to ../../graphs/drug/ATC3/drug_ent_emb/national immunization programs.json\n",
      "Skipping beta-adrenergic blocking agents. Embedding file already exists.\n",
      "Skipping mood disorders. Embedding file already exists.\n",
      "Skipping used for food poisoning. Embedding file already exists.\n",
      "Skipping lifestyle changes and self-care. Embedding file already exists.\n",
      "Skipping organs. Embedding file already exists.\n",
      "Skipping discussed with patients. Embedding file already exists.\n",
      "Skipping disorder. Embedding file already exists.\n",
      "Skipping age and gender. Embedding file already exists.\n"
     ]
    },
    {
     "name": "stderr",
     "output_type": "stream",
     "text": [
      "  4%|▍         | 880/20859 [03:51<42:57,  7.75it/s]  "
     ]
    },
    {
     "name": "stdout",
     "output_type": "stream",
     "text": [
      "Saved embedding for ear infections to ../../graphs/drug/ATC3/drug_ent_emb/ear infections.json\n",
      "Skipping combination regimens. Embedding file already exists.\n"
     ]
    },
    {
     "name": "stderr",
     "output_type": "stream",
     "text": [
      "  4%|▍         | 882/20859 [03:52<55:24,  6.01it/s]"
     ]
    },
    {
     "name": "stdout",
     "output_type": "stream",
     "text": [
      "Saved embedding for the manufacturer to ../../graphs/drug/ATC3/drug_ent_emb/the manufacturer.json\n"
     ]
    },
    {
     "name": "stderr",
     "output_type": "stream",
     "text": [
      "  4%|▍         | 883/20859 [03:53<1:33:36,  3.56it/s]"
     ]
    },
    {
     "name": "stdout",
     "output_type": "stream",
     "text": [
      "Saved embedding for treatment plan accordingly to ../../graphs/drug/ATC3/drug_ent_emb/treatment plan accordingly.json\n"
     ]
    },
    {
     "name": "stderr",
     "output_type": "stream",
     "text": [
      "  4%|▍         | 884/20859 [03:54<1:48:27,  3.07it/s]"
     ]
    },
    {
     "name": "stdout",
     "output_type": "stream",
     "text": [
      "Saved embedding for ADHD to ../../graphs/drug/ATC3/drug_ent_emb/ADHD.json\n"
     ]
    },
    {
     "name": "stderr",
     "output_type": "stream",
     "text": [
      "  4%|▍         | 885/20859 [03:54<1:54:23,  2.91it/s]"
     ]
    },
    {
     "name": "stdout",
     "output_type": "stream",
     "text": [
      "Saved embedding for regular monitoring of liver function to ../../graphs/drug/ATC3/drug_ent_emb/regular monitoring of liver function.json\n"
     ]
    },
    {
     "name": "stderr",
     "output_type": "stream",
     "text": [
      "  4%|▍         | 886/20859 [03:55<2:00:24,  2.76it/s]"
     ]
    },
    {
     "name": "stdout",
     "output_type": "stream",
     "text": [
      "Saved embedding for adjusted to individual needs to ../../graphs/drug/ATC3/drug_ent_emb/adjusted to individual needs.json\n"
     ]
    },
    {
     "name": "stderr",
     "output_type": "stream",
     "text": [
      "  4%|▍         | 887/20859 [03:55<2:06:14,  2.64it/s]"
     ]
    },
    {
     "name": "stdout",
     "output_type": "stream",
     "text": [
      "Saved embedding for bacterium to ../../graphs/drug/ATC3/drug_ent_emb/bacterium.json\n",
      "Skipping used on a regular basis for optimal results. Embedding file already exists.\n"
     ]
    },
    {
     "name": "stderr",
     "output_type": "stream",
     "text": [
      "  4%|▍         | 889/20859 [03:56<1:46:44,  3.12it/s]"
     ]
    },
    {
     "name": "stdout",
     "output_type": "stream",
     "text": [
      "Saved embedding for absorbed by the body to ../../graphs/drug/ATC3/drug_ent_emb/absorbed by the body.json\n",
      "Skipping hypersensitivity to the drug. Embedding file already exists.\n",
      "Skipping appropriate storage conditions. Embedding file already exists.\n",
      "Skipping vasopressors. Embedding file already exists.\n"
     ]
    },
    {
     "name": "stderr",
     "output_type": "stream",
     "text": [
      "  4%|▍         | 893/20859 [03:56<1:14:10,  4.49it/s]"
     ]
    },
    {
     "name": "stdout",
     "output_type": "stream",
     "text": [
      "Saved embedding for inhibiting parasite growth to ../../graphs/drug/ATC3/drug_ent_emb/inhibiting parasite growth.json\n",
      "Skipping using as an adjunctive therapy for voice disorders. Embedding file already exists.\n"
     ]
    },
    {
     "name": "stderr",
     "output_type": "stream",
     "text": [
      "  4%|▍         | 895/20859 [03:57<1:13:40,  4.52it/s]"
     ]
    },
    {
     "name": "stdout",
     "output_type": "stream",
     "text": [
      "Saved embedding for address underlying issues to ../../graphs/drug/ATC3/drug_ent_emb/address underlying issues.json\n",
      "Skipping centrally acting sympatholytics. Embedding file already exists.\n",
      "Skipping necessity. Embedding file already exists.\n"
     ]
    },
    {
     "name": "stderr",
     "output_type": "stream",
     "text": [
      "  4%|▍         | 898/20859 [03:57<1:04:32,  5.15it/s]"
     ]
    },
    {
     "name": "stdout",
     "output_type": "stream",
     "text": [
      "Saved embedding for interchangeably to ../../graphs/drug/ATC3/drug_ent_emb/interchangeably.json\n",
      "Skipping different brand and generic names. Embedding file already exists.\n",
      "Skipping a comprehensive treatment plan for diarrhea. Embedding file already exists.\n",
      "Skipping detection of perfusion abnormalities. Embedding file already exists.\n",
      "Skipping sunken fontanelle in infants. Embedding file already exists.\n"
     ]
    },
    {
     "name": "stderr",
     "output_type": "stream",
     "text": [
      "  4%|▍         | 903/20859 [03:58<51:30,  6.46it/s]  "
     ]
    },
    {
     "name": "stdout",
     "output_type": "stream",
     "text": [
      "Saved embedding for radioactive half-lives to ../../graphs/drug/ATC3/drug_ent_emb/radioactive half-lives.json\n",
      "Skipping abruptly. Embedding file already exists.\n"
     ]
    },
    {
     "name": "stderr",
     "output_type": "stream",
     "text": [
      "  4%|▍         | 905/20859 [03:58<57:56,  5.74it/s]"
     ]
    },
    {
     "name": "stdout",
     "output_type": "stream",
     "text": [
      "Saved embedding for underactive thyroid to ../../graphs/drug/ATC3/drug_ent_emb/underactive thyroid.json\n"
     ]
    },
    {
     "name": "stderr",
     "output_type": "stream",
     "text": [
      "  4%|▍         | 906/20859 [03:59<1:10:28,  4.72it/s]"
     ]
    },
    {
     "name": "stdout",
     "output_type": "stream",
     "text": [
      "Saved embedding for thyroid nodules to ../../graphs/drug/ATC3/drug_ent_emb/thyroid nodules.json\n",
      "Skipping revolutionized Hepatitis C treatment. Embedding file already exists.\n",
      "Skipping global vaccination efforts and initiatives. Embedding file already exists.\n",
      "Skipping non-invasive procedures. Embedding file already exists.\n"
     ]
    },
    {
     "name": "stderr",
     "output_type": "stream",
     "text": [
      "  4%|▍         | 910/20859 [03:59<56:09,  5.92it/s]  "
     ]
    },
    {
     "name": "stdout",
     "output_type": "stream",
     "text": [
      "Saved embedding for used in combination with fiber supplements to ../../graphs/drug/ATC3/drug_ent_emb/used in combination with fiber supplements.json\n",
      "Skipping in the form of gels. Embedding file already exists.\n",
      "Skipping topical treatment. Embedding file already exists.\n"
     ]
    },
    {
     "name": "stderr",
     "output_type": "stream",
     "text": [
      "  4%|▍         | 913/20859 [03:59<53:20,  6.23it/s]"
     ]
    },
    {
     "name": "stdout",
     "output_type": "stream",
     "text": [
      "Saved embedding for nondepolarizing muscle relaxants to ../../graphs/drug/ATC3/drug_ent_emb/nondepolarizing muscle relaxants.json\n"
     ]
    },
    {
     "name": "stderr",
     "output_type": "stream",
     "text": [
      "  4%|▍         | 914/20859 [04:00<1:15:04,  4.43it/s]"
     ]
    },
    {
     "name": "stdout",
     "output_type": "stream",
     "text": [
      "Saved embedding for drug interaction monitoring to ../../graphs/drug/ATC3/drug_ent_emb/drug interaction monitoring.json\n"
     ]
    },
    {
     "name": "stderr",
     "output_type": "stream",
     "text": [
      "  4%|▍         | 915/20859 [04:01<1:27:38,  3.79it/s]"
     ]
    },
    {
     "name": "stdout",
     "output_type": "stream",
     "text": [
      "Saved embedding for in conjunction with mechanical debridement to ../../graphs/drug/ATC3/drug_ent_emb/in conjunction with mechanical debridement.json\n",
      "Skipping infants. Embedding file already exists.\n",
      "Skipping for cancer pain. Embedding file already exists.\n",
      "Skipping beneficial for individuals with low calorie intake. Embedding file already exists.\n"
     ]
    },
    {
     "name": "stderr",
     "output_type": "stream",
     "text": [
      "  4%|▍         | 919/20859 [04:01<1:11:18,  4.66it/s]"
     ]
    },
    {
     "name": "stdout",
     "output_type": "stream",
     "text": [
      "Saved embedding for protective barrier to ../../graphs/drug/ATC3/drug_ent_emb/protective barrier.json\n"
     ]
    },
    {
     "name": "stderr",
     "output_type": "stream",
     "text": [
      "  4%|▍         | 920/20859 [04:02<1:21:30,  4.08it/s]"
     ]
    },
    {
     "name": "stdout",
     "output_type": "stream",
     "text": [
      "Saved embedding for in the breakdown of complex carbohydrates to ../../graphs/drug/ATC3/drug_ent_emb/in the breakdown of complex carbohydrates.json\n",
      "Skipping relief for bladder discomfort. Embedding file already exists.\n",
      "Skipping appropriate considerations. Embedding file already exists.\n"
     ]
    },
    {
     "name": "stderr",
     "output_type": "stream",
     "text": [
      "  4%|▍         | 923/20859 [04:02<1:09:36,  4.77it/s]"
     ]
    },
    {
     "name": "stdout",
     "output_type": "stream",
     "text": [
      "Saved embedding for additional methods when taking antiepileptics to ../../graphs/drug/ATC3/drug_ent_emb/additional methods when taking antiepileptics.json\n"
     ]
    },
    {
     "name": "stderr",
     "output_type": "stream",
     "text": [
      "  4%|▍         | 924/20859 [04:03<1:23:05,  4.00it/s]"
     ]
    },
    {
     "name": "stdout",
     "output_type": "stream",
     "text": [
      "Saved embedding for recommended as part of a balanced diet to ../../graphs/drug/ATC3/drug_ent_emb/recommended as part of a balanced diet.json\n"
     ]
    },
    {
     "name": "stderr",
     "output_type": "stream",
     "text": [
      "  4%|▍         | 925/20859 [04:03<1:46:09,  3.13it/s]"
     ]
    },
    {
     "name": "stdout",
     "output_type": "stream",
     "text": [
      "Saved embedding for specialized tests to ../../graphs/drug/ATC3/drug_ent_emb/specialized tests.json\n"
     ]
    },
    {
     "name": "stderr",
     "output_type": "stream",
     "text": [
      "  4%|▍         | 926/20859 [04:04<2:14:06,  2.48it/s]"
     ]
    },
    {
     "name": "stdout",
     "output_type": "stream",
     "text": [
      "Saved embedding for to prevent nausea and vomiting during anesthesia to ../../graphs/drug/ATC3/drug_ent_emb/to prevent nausea and vomiting during anesthesia.json\n",
      "Skipping harmful to beetles. Embedding file already exists.\n",
      "Skipping a process of cell reproduction. Embedding file already exists.\n"
     ]
    },
    {
     "name": "stderr",
     "output_type": "stream",
     "text": [
      "  4%|▍         | 929/20859 [04:05<1:52:48,  2.94it/s]"
     ]
    },
    {
     "name": "stdout",
     "output_type": "stream",
     "text": [
      "Saved embedding for optimal treatment management to ../../graphs/drug/ATC3/drug_ent_emb/optimal treatment management.json\n"
     ]
    },
    {
     "name": "stderr",
     "output_type": "stream",
     "text": [
      "  4%|▍         | 930/20859 [04:05<1:58:12,  2.81it/s]"
     ]
    },
    {
     "name": "stdout",
     "output_type": "stream",
     "text": [
      "Saved embedding for manage systemic sclerosis to ../../graphs/drug/ATC3/drug_ent_emb/manage systemic sclerosis.json\n"
     ]
    },
    {
     "name": "stderr",
     "output_type": "stream",
     "text": [
      "  4%|▍         | 931/20859 [04:06<2:03:30,  2.69it/s]"
     ]
    },
    {
     "name": "stdout",
     "output_type": "stream",
     "text": [
      "Saved embedding for a need for reevaluation of the treatment plan to ../../graphs/drug/ATC3/drug_ent_emb/a need for reevaluation of the treatment plan.json\n",
      "Skipping prescribed for respiratory infection. Embedding file already exists.\n"
     ]
    },
    {
     "name": "stderr",
     "output_type": "stream",
     "text": [
      "  4%|▍         | 933/20859 [04:06<1:51:39,  2.97it/s]"
     ]
    },
    {
     "name": "stdout",
     "output_type": "stream",
     "text": [
      "Saved embedding for hematology to ../../graphs/drug/ATC3/drug_ent_emb/hematology.json\n",
      "Skipping prescribed for sexually transmitted infections. Embedding file already exists.\n",
      "Skipping a process of DNA copying. Embedding file already exists.\n",
      "Skipping class switching. Embedding file already exists.\n"
     ]
    },
    {
     "name": "stderr",
     "output_type": "stream",
     "text": [
      "  4%|▍         | 937/20859 [04:07<1:12:37,  4.57it/s]"
     ]
    },
    {
     "name": "stdout",
     "output_type": "stream",
     "text": [
      "Saved embedding for gastrointestinal illness to ../../graphs/drug/ATC3/drug_ent_emb/gastrointestinal illness.json\n",
      "Skipping for post-operative wound care. Embedding file already exists.\n",
      "Skipping treatment initiation. Embedding file already exists.\n",
      "Skipping constant infusion. Embedding file already exists.\n",
      "Skipping effective strategy. Embedding file already exists.\n",
      "Skipping iron to be utilized in bone development. Embedding file already exists.\n"
     ]
    },
    {
     "name": "stderr",
     "output_type": "stream",
     "text": [
      "  5%|▍         | 943/20859 [04:07<47:25,  7.00it/s]  "
     ]
    },
    {
     "name": "stdout",
     "output_type": "stream",
     "text": [
      "Saved embedding for redness of the eyes to ../../graphs/drug/ATC3/drug_ent_emb/redness of the eyes.json\n",
      "Skipping antiemetics. Embedding file already exists.\n",
      "Skipping neurobehavioral abnormalities. Embedding file already exists.\n",
      "Skipping regular monitoring of blood pressure. Embedding file already exists.\n",
      "Skipping diabetes type. Embedding file already exists.\n",
      "Skipping rebound headaches. Embedding file already exists.\n",
      "Skipping a side effect of alkylating agents. Embedding file already exists.\n",
      "Skipping using in individuals with pollen allergies. Embedding file already exists.\n",
      "Skipping purchased in pharmacies. Embedding file already exists.\n",
      "Skipping used for rashes caused by allergic reactions. Embedding file already exists.\n",
      "Skipping respiratory allergies. Embedding file already exists.\n",
      "Skipping generating immune responses. Embedding file already exists.\n"
     ]
    },
    {
     "name": "stderr",
     "output_type": "stream",
     "text": [
      "  5%|▍         | 955/20859 [04:07<26:54, 12.33it/s]"
     ]
    },
    {
     "name": "stdout",
     "output_type": "stream",
     "text": [
      "Saved embedding for infertility in females to ../../graphs/drug/ATC3/drug_ent_emb/infertility in females.json\n"
     ]
    },
    {
     "name": "stderr",
     "output_type": "stream",
     "text": [
      "  5%|▍         | 957/20859 [04:08<32:58, 10.06it/s]"
     ]
    },
    {
     "name": "stdout",
     "output_type": "stream",
     "text": [
      "Saved embedding for storing at controlled room temperature to ../../graphs/drug/ATC3/drug_ent_emb/storing at controlled room temperature.json\n",
      "Skipping protective immunity. Embedding file already exists.\n"
     ]
    },
    {
     "name": "stderr",
     "output_type": "stream",
     "text": [
      "  5%|▍         | 959/20859 [04:08<39:04,  8.49it/s]"
     ]
    },
    {
     "name": "stdout",
     "output_type": "stream",
     "text": [
      "Saved embedding for breast milk to ../../graphs/drug/ATC3/drug_ent_emb/breast milk.json\n",
      "Skipping 5-alpha-reductase enzyme. Embedding file already exists.\n",
      "Skipping regulation by authorities. Embedding file already exists.\n",
      "Skipping parasitic infections in animals. Embedding file already exists.\n",
      "Skipping needle-free vaccines. Embedding file already exists.\n"
     ]
    },
    {
     "name": "stderr",
     "output_type": "stream",
     "text": [
      "  5%|▍         | 963/20859 [04:09<44:35,  7.44it/s]"
     ]
    },
    {
     "name": "stdout",
     "output_type": "stream",
     "text": [
      "Saved embedding for certain medical conditions to ../../graphs/drug/ATC3/drug_ent_emb/certain medical conditions.json\n"
     ]
    },
    {
     "name": "stderr",
     "output_type": "stream",
     "text": [
      "  5%|▍         | 964/20859 [04:10<55:18,  6.00it/s]"
     ]
    },
    {
     "name": "stdout",
     "output_type": "stream",
     "text": [
      "Saved embedding for burn patients to ../../graphs/drug/ATC3/drug_ent_emb/burn patients.json\n"
     ]
    },
    {
     "name": "stderr",
     "output_type": "stream",
     "text": [
      "  5%|▍         | 965/20859 [04:10<1:06:41,  4.97it/s]"
     ]
    },
    {
     "name": "stdout",
     "output_type": "stream",
     "text": [
      "Saved embedding for blood infection to ../../graphs/drug/ATC3/drug_ent_emb/blood infection.json\n"
     ]
    },
    {
     "name": "stderr",
     "output_type": "stream",
     "text": [
      "  5%|▍         | 966/20859 [04:10<1:18:48,  4.21it/s]"
     ]
    },
    {
     "name": "stdout",
     "output_type": "stream",
     "text": [
      "Saved embedding for established treatment guidelines to ../../graphs/drug/ATC3/drug_ent_emb/established treatment guidelines.json\n"
     ]
    },
    {
     "name": "stderr",
     "output_type": "stream",
     "text": [
      "  5%|▍         | 967/20859 [04:11<1:36:22,  3.44it/s]"
     ]
    },
    {
     "name": "stdout",
     "output_type": "stream",
     "text": [
      "Saved embedding for antifungal agent to ../../graphs/drug/ATC3/drug_ent_emb/antifungal agent.json\n",
      "Skipping different contraindications. Embedding file already exists.\n",
      "Skipping due to cancer treatment. Embedding file already exists.\n",
      "Skipping metabolic disturbances. Embedding file already exists.\n",
      "Skipping reducing the risk of autoimmune diseases. Embedding file already exists.\n",
      "Skipping administered via oral route. Embedding file already exists.\n"
     ]
    },
    {
     "name": "stderr",
     "output_type": "stream",
     "text": [
      "  5%|▍         | 973/20859 [04:12<58:15,  5.69it/s]  "
     ]
    },
    {
     "name": "stdout",
     "output_type": "stream",
     "text": [
      "Saved embedding for administered via an intraluminal route to ../../graphs/drug/ATC3/drug_ent_emb/administered via an intraluminal route.json\n",
      "Skipping family dynamics. Embedding file already exists.\n"
     ]
    },
    {
     "name": "stderr",
     "output_type": "stream",
     "text": [
      "  5%|▍         | 975/20859 [04:12<1:03:37,  5.21it/s]"
     ]
    },
    {
     "name": "stdout",
     "output_type": "stream",
     "text": [
      "Saved embedding for be used for short-term relief to ../../graphs/drug/ATC3/drug_ent_emb/be used for short-term relief.json\n"
     ]
    },
    {
     "name": "stderr",
     "output_type": "stream",
     "text": [
      "  5%|▍         | 976/20859 [04:13<1:16:25,  4.34it/s]"
     ]
    },
    {
     "name": "stdout",
     "output_type": "stream",
     "text": [
      "Saved embedding for addiction to ../../graphs/drug/ATC3/drug_ent_emb/addiction.json\n"
     ]
    },
    {
     "name": "stderr",
     "output_type": "stream",
     "text": [
      "  5%|▍         | 977/20859 [04:13<1:34:47,  3.50it/s]"
     ]
    },
    {
     "name": "stdout",
     "output_type": "stream",
     "text": [
      "Saved embedding for broad-spectrum antibiotics to ../../graphs/drug/ATC3/drug_ent_emb/broad-spectrum antibiotics.json\n"
     ]
    },
    {
     "name": "stderr",
     "output_type": "stream",
     "text": [
      "  5%|▍         | 978/20859 [04:14<1:53:44,  2.91it/s]"
     ]
    },
    {
     "name": "stdout",
     "output_type": "stream",
     "text": [
      "Saved embedding for prescribed by primary care physicians and cardiologists to ../../graphs/drug/ATC3/drug_ent_emb/prescribed by primary care physicians and cardiologists.json\n",
      "Skipping bone and joint disorders. Embedding file already exists.\n"
     ]
    },
    {
     "name": "stderr",
     "output_type": "stream",
     "text": [
      "  5%|▍         | 980/20859 [04:15<2:08:36,  2.58it/s]"
     ]
    },
    {
     "name": "stdout",
     "output_type": "stream",
     "text": [
      "Saved embedding for the abdomen to ../../graphs/drug/ATC3/drug_ent_emb/the abdomen.json\n",
      "Skipping vesicoureteral reflux. Embedding file already exists.\n"
     ]
    },
    {
     "name": "stderr",
     "output_type": "stream",
     "text": [
      "  5%|▍         | 982/20859 [04:15<1:52:52,  2.94it/s]"
     ]
    },
    {
     "name": "stdout",
     "output_type": "stream",
     "text": [
      "Saved embedding for relieve eye pressure to ../../graphs/drug/ATC3/drug_ent_emb/relieve eye pressure.json\n",
      "Skipping exercise and dietary modifications. Embedding file already exists.\n",
      "Skipping individuals with travel plans. Embedding file already exists.\n"
     ]
    },
    {
     "name": "stderr",
     "output_type": "stream",
     "text": [
      "  5%|▍         | 985/20859 [04:16<1:28:11,  3.76it/s]"
     ]
    },
    {
     "name": "stdout",
     "output_type": "stream",
     "text": [
      "Saved embedding for liver impairment to ../../graphs/drug/ATC3/drug_ent_emb/liver impairment.json\n",
      "Skipping used for prolonged periods. Embedding file already exists.\n",
      "Skipping part of a healthy lifestyle. Embedding file already exists.\n"
     ]
    },
    {
     "name": "stderr",
     "output_type": "stream",
     "text": [
      "  5%|▍         | 988/20859 [04:16<1:13:12,  4.52it/s]"
     ]
    },
    {
     "name": "stdout",
     "output_type": "stream",
     "text": [
      "Saved embedding for individuals planning travel to ../../graphs/drug/ATC3/drug_ent_emb/individuals planning travel.json\n"
     ]
    },
    {
     "name": "stderr",
     "output_type": "stream",
     "text": [
      "  5%|▍         | 989/20859 [04:17<1:31:33,  3.62it/s]"
     ]
    },
    {
     "name": "stdout",
     "output_type": "stream",
     "text": [
      "Saved embedding for brain development to ../../graphs/drug/ATC3/drug_ent_emb/brain development.json\n",
      "Skipping imaging results. Embedding file already exists.\n",
      "Skipping used in hemophilia. Embedding file already exists.\n",
      "Skipping rare side effects. Embedding file already exists.\n",
      "Skipping used without a doctor's prescription. Embedding file already exists.\n"
     ]
    },
    {
     "name": "stderr",
     "output_type": "stream",
     "text": [
      "  5%|▍         | 994/20859 [04:17<1:03:13,  5.24it/s]"
     ]
    },
    {
     "name": "stdout",
     "output_type": "stream",
     "text": [
      "Saved embedding for patients with gastrointestinal issues to ../../graphs/drug/ATC3/drug_ent_emb/patients with gastrointestinal issues.json\n",
      "Skipping certain cases of Hepatitis C. Embedding file already exists.\n",
      "Skipping supported by lifestyle changes. Embedding file already exists.\n"
     ]
    },
    {
     "name": "stderr",
     "output_type": "stream",
     "text": [
      "  5%|▍         | 997/20859 [04:18<1:07:53,  4.88it/s]"
     ]
    },
    {
     "name": "stdout",
     "output_type": "stream",
     "text": [
      "Saved embedding for multiple vitamins to ../../graphs/drug/ATC3/drug_ent_emb/multiple vitamins.json\n",
      "Skipping symptoms of heart failure. Embedding file already exists.\n",
      "Skipping treat bleeding in patients with warfarin-associated bleeding. Embedding file already exists.\n",
      "Skipping medical intervention. Embedding file already exists.\n"
     ]
    },
    {
     "name": "stderr",
     "output_type": "stream",
     "text": [
      "  5%|▍         | 1001/20859 [04:19<1:12:20,  4.57it/s]"
     ]
    },
    {
     "name": "stdout",
     "output_type": "stream",
     "text": [
      "Saved embedding for in patients with lung edema to ../../graphs/drug/ATC3/drug_ent_emb/in patients with lung edema.json\n",
      "Skipping biological process. Embedding file already exists.\n",
      "Skipping discomfort after eating. Embedding file already exists.\n",
      "Skipping proper treatment. Embedding file already exists.\n",
      "Skipping in patients with nephrotic syndrome. Embedding file already exists.\n",
      "Skipping renal failure. Embedding file already exists.\n",
      "Skipping avoiding potential side effects. Embedding file already exists.\n",
      "Skipping UV-blocking umbrellas. Embedding file already exists.\n",
      "Skipping renal dysfunction and hypotension. Embedding file already exists.\n",
      "Skipping be taken with other medications. Embedding file already exists.\n",
      "Skipping fertility and reproduction. Embedding file already exists.\n",
      "Skipping bowel movement. Embedding file already exists.\n"
     ]
    },
    {
     "name": "stderr",
     "output_type": "stream",
     "text": [
      "  5%|▍         | 1013/20859 [04:19<36:03,  9.17it/s]  "
     ]
    },
    {
     "name": "stdout",
     "output_type": "stream",
     "text": [
      "Saved embedding for dosage adjustments in renal impairment to ../../graphs/drug/ATC3/drug_ent_emb/dosage adjustments in renal impairment.json\n",
      "Skipping according to manufacturer's instructions. Embedding file already exists.\n",
      "Skipping administered at different frequencies. Embedding file already exists.\n",
      "Skipping their trust in the product. Embedding file already exists.\n",
      "Skipping maintenance therapy. Embedding file already exists.\n"
     ]
    },
    {
     "name": "stderr",
     "output_type": "stream",
     "text": [
      "  5%|▍         | 1018/20859 [04:20<34:26,  9.60it/s]"
     ]
    },
    {
     "name": "stdout",
     "output_type": "stream",
     "text": [
      "Saved embedding for the risk of addiction to ../../graphs/drug/ATC3/drug_ent_emb/the risk of addiction.json\n"
     ]
    },
    {
     "name": "stderr",
     "output_type": "stream",
     "text": [
      "  5%|▍         | 1020/20859 [04:21<50:35,  6.54it/s]"
     ]
    },
    {
     "name": "stdout",
     "output_type": "stream",
     "text": [
      "Saved embedding for help with ovulation induction to ../../graphs/drug/ATC3/drug_ent_emb/help with ovulation induction.json\n",
      "Skipping dosage adjustments for elderly patients. Embedding file already exists.\n"
     ]
    },
    {
     "name": "stderr",
     "output_type": "stream",
     "text": [
      "  5%|▍         | 1021/20859 [04:21<59:51,  5.52it/s]"
     ]
    },
    {
     "name": "stdout",
     "output_type": "stream",
     "text": [
      "Saved embedding for certain air pollutants to ../../graphs/drug/ATC3/drug_ent_emb/certain air pollutants.json\n"
     ]
    },
    {
     "name": "stderr",
     "output_type": "stream",
     "text": [
      "  5%|▍         | 1022/20859 [04:22<1:16:00,  4.35it/s]"
     ]
    },
    {
     "name": "stdout",
     "output_type": "stream",
     "text": [
      "Saved embedding for leg ulcers to ../../graphs/drug/ATC3/drug_ent_emb/leg ulcers.json\n",
      "Skipping children and infants. Embedding file already exists.\n"
     ]
    },
    {
     "name": "stderr",
     "output_type": "stream",
     "text": [
      "  5%|▍         | 1024/20859 [04:22<1:20:49,  4.09it/s]"
     ]
    },
    {
     "name": "stdout",
     "output_type": "stream",
     "text": [
      "Saved embedding for used for hives to ../../graphs/drug/ATC3/drug_ent_emb/used for hives.json\n"
     ]
    },
    {
     "name": "stderr",
     "output_type": "stream",
     "text": [
      "  5%|▍         | 1025/20859 [04:23<1:37:28,  3.39it/s]"
     ]
    },
    {
     "name": "stdout",
     "output_type": "stream",
     "text": [
      "Saved embedding for restricted blood flow to ../../graphs/drug/ATC3/drug_ent_emb/restricted blood flow.json\n",
      "Skipping specific bacterial and viral strains. Embedding file already exists.\n"
     ]
    },
    {
     "name": "stderr",
     "output_type": "stream",
     "text": [
      "  5%|▍         | 1027/20859 [04:24<1:49:24,  3.02it/s]"
     ]
    },
    {
     "name": "stdout",
     "output_type": "stream",
     "text": [
      "Saved embedding for clean wounds to ../../graphs/drug/ATC3/drug_ent_emb/clean wounds.json\n"
     ]
    },
    {
     "name": "stderr",
     "output_type": "stream",
     "text": [
      "  5%|▍         | 1028/20859 [04:24<1:59:17,  2.77it/s]"
     ]
    },
    {
     "name": "stdout",
     "output_type": "stream",
     "text": [
      "Saved embedding for chronic acid reflux to ../../graphs/drug/ATC3/drug_ent_emb/chronic acid reflux.json\n"
     ]
    },
    {
     "name": "stderr",
     "output_type": "stream",
     "text": [
      "  5%|▍         | 1029/20859 [04:25<2:05:41,  2.63it/s]"
     ]
    },
    {
     "name": "stdout",
     "output_type": "stream",
     "text": [
      "Saved embedding for relieve constipation to ../../graphs/drug/ATC3/drug_ent_emb/relieve constipation.json\n"
     ]
    },
    {
     "name": "stderr",
     "output_type": "stream",
     "text": [
      "  5%|▍         | 1030/20859 [04:25<2:16:20,  2.42it/s]"
     ]
    },
    {
     "name": "stdout",
     "output_type": "stream",
     "text": [
      "Saved embedding for aggression to ../../graphs/drug/ATC3/drug_ent_emb/aggression.json\n",
      "Skipping used for reducing bloating and gas. Embedding file already exists.\n",
      "Skipping hemofiltrates. Embedding file already exists.\n",
      "Skipping used for chronic tension headache. Embedding file already exists.\n"
     ]
    },
    {
     "name": "stderr",
     "output_type": "stream",
     "text": [
      "  5%|▍         | 1034/20859 [04:26<1:28:32,  3.73it/s]"
     ]
    },
    {
     "name": "stdout",
     "output_type": "stream",
     "text": [
      "Saved embedding for nonsteroidal anti-inflammatory drug (NSAID) to ../../graphs/drug/ATC3/drug_ent_emb/nonsteroidal anti-inflammatory drug (NSAID).json\n"
     ]
    },
    {
     "name": "stderr",
     "output_type": "stream",
     "text": [
      "  5%|▍         | 1035/20859 [04:26<1:40:09,  3.30it/s]"
     ]
    },
    {
     "name": "stdout",
     "output_type": "stream",
     "text": [
      "Saved embedding for for the treatment of squamous cell carcinoma to ../../graphs/drug/ATC3/drug_ent_emb/for the treatment of squamous cell carcinoma.json\n",
      "Skipping surgeons. Embedding file already exists.\n",
      "Skipping administered. Embedding file already exists.\n",
      "Skipping bowel spasms. Embedding file already exists.\n"
     ]
    },
    {
     "name": "stderr",
     "output_type": "stream",
     "text": [
      "  5%|▍         | 1039/20859 [04:27<1:09:43,  4.74it/s]"
     ]
    },
    {
     "name": "stdout",
     "output_type": "stream",
     "text": [
      "Saved embedding for on potential drug interactions to ../../graphs/drug/ATC3/drug_ent_emb/on potential drug interactions.json\n"
     ]
    },
    {
     "name": "stderr",
     "output_type": "stream",
     "text": [
      "  5%|▍         | 1040/20859 [04:27<1:24:28,  3.91it/s]"
     ]
    },
    {
     "name": "stdout",
     "output_type": "stream",
     "text": [
      "Saved embedding for have side effects to ../../graphs/drug/ATC3/drug_ent_emb/have side effects.json\n",
      "Skipping absorption of magnesium. Embedding file already exists.\n",
      "Skipping in healing of superficial ulcers. Embedding file already exists.\n",
      "Skipping plasma transfusions. Embedding file already exists.\n",
      "Skipping a doctor. Embedding file already exists.\n",
      "Skipping enzyme production. Embedding file already exists.\n"
     ]
    },
    {
     "name": "stderr",
     "output_type": "stream",
     "text": [
      "  5%|▌         | 1046/20859 [04:28<51:35,  6.40it/s]  "
     ]
    },
    {
     "name": "stdout",
     "output_type": "stream",
     "text": [
      "Saved embedding for eyelid surgery to ../../graphs/drug/ATC3/drug_ent_emb/eyelid surgery.json\n"
     ]
    },
    {
     "name": "stderr",
     "output_type": "stream",
     "text": [
      "  5%|▌         | 1047/20859 [04:28<1:04:30,  5.12it/s]"
     ]
    },
    {
     "name": "stdout",
     "output_type": "stream",
     "text": [
      "Saved embedding for before prescribing to ../../graphs/drug/ATC3/drug_ent_emb/before prescribing.json\n"
     ]
    },
    {
     "name": "stderr",
     "output_type": "stream",
     "text": [
      "  5%|▌         | 1048/20859 [04:29<1:17:28,  4.26it/s]"
     ]
    },
    {
     "name": "stdout",
     "output_type": "stream",
     "text": [
      "Saved embedding for physician prescription to ../../graphs/drug/ATC3/drug_ent_emb/physician prescription.json\n",
      "Skipping specific serogroups. Embedding file already exists.\n"
     ]
    },
    {
     "name": "stderr",
     "output_type": "stream",
     "text": [
      "  5%|▌         | 1050/20859 [04:29<1:24:03,  3.93it/s]"
     ]
    },
    {
     "name": "stdout",
     "output_type": "stream",
     "text": [
      "Saved embedding for various thyroid conditions to ../../graphs/drug/ATC3/drug_ent_emb/various thyroid conditions.json\n",
      "Skipping patient's quality of life. Embedding file already exists.\n"
     ]
    },
    {
     "name": "stderr",
     "output_type": "stream",
     "text": [
      "  5%|▌         | 1052/20859 [04:30<1:21:12,  4.06it/s]"
     ]
    },
    {
     "name": "stdout",
     "output_type": "stream",
     "text": [
      "Saved embedding for reduce the risk of upper respiratory infections in individuals with chronic obstructive pulmonary disease to ../../graphs/drug/ATC3/drug_ent_emb/reduce the risk of upper respiratory infections in individuals with chronic obstructive pulmonary disease.json\n"
     ]
    },
    {
     "name": "stderr",
     "output_type": "stream",
     "text": [
      "  5%|▌         | 1053/20859 [04:30<1:32:41,  3.56it/s]"
     ]
    },
    {
     "name": "stdout",
     "output_type": "stream",
     "text": [
      "Saved embedding for prescribed for lung infection to ../../graphs/drug/ATC3/drug_ent_emb/prescribed for lung infection.json\n"
     ]
    },
    {
     "name": "stderr",
     "output_type": "stream",
     "text": [
      "  5%|▌         | 1054/20859 [04:31<1:46:30,  3.10it/s]"
     ]
    },
    {
     "name": "stdout",
     "output_type": "stream",
     "text": [
      "Saved embedding for diuretic drugs to ../../graphs/drug/ATC3/drug_ent_emb/diuretic drugs.json\n",
      "Skipping recommended daily intake. Embedding file already exists.\n",
      "Skipping neurological disorder. Embedding file already exists.\n",
      "Skipping two or more drugs react with each other. Embedding file already exists.\n"
     ]
    },
    {
     "name": "stderr",
     "output_type": "stream",
     "text": [
      "  5%|▌         | 1058/20859 [04:31<1:09:45,  4.73it/s]"
     ]
    },
    {
     "name": "stdout",
     "output_type": "stream",
     "text": [
      "Saved embedding for in minor surgical procedures to ../../graphs/drug/ATC3/drug_ent_emb/in minor surgical procedures.json\n"
     ]
    },
    {
     "name": "stderr",
     "output_type": "stream",
     "text": [
      "  5%|▌         | 1059/20859 [04:32<1:21:48,  4.03it/s]"
     ]
    },
    {
     "name": "stdout",
     "output_type": "stream",
     "text": [
      "Saved embedding for healthy lifestyle choices to ../../graphs/drug/ATC3/drug_ent_emb/healthy lifestyle choices.json\n"
     ]
    },
    {
     "name": "stderr",
     "output_type": "stream",
     "text": [
      "  5%|▌         | 1060/20859 [04:32<1:33:34,  3.53it/s]"
     ]
    },
    {
     "name": "stdout",
     "output_type": "stream",
     "text": [
      "Saved embedding for in patients with connective tissue disease to ../../graphs/drug/ATC3/drug_ent_emb/in patients with connective tissue disease.json\n"
     ]
    },
    {
     "name": "stderr",
     "output_type": "stream",
     "text": [
      "  5%|▌         | 1061/20859 [04:33<2:00:26,  2.74it/s]"
     ]
    },
    {
     "name": "stdout",
     "output_type": "stream",
     "text": [
      "Saved embedding for treatment for cancer to ../../graphs/drug/ATC3/drug_ent_emb/treatment for cancer.json\n",
      "Skipping drug clearance. Embedding file already exists.\n",
      "Skipping specific storage requirements to maintain potency. Embedding file already exists.\n",
      "Skipping calcium metabolism. Embedding file already exists.\n",
      "Skipping exacerbated symptoms. Embedding file already exists.\n"
     ]
    },
    {
     "name": "stderr",
     "output_type": "stream",
     "text": [
      "  5%|▌         | 1066/20859 [04:33<1:12:34,  4.55it/s]"
     ]
    },
    {
     "name": "stdout",
     "output_type": "stream",
     "text": [
      "Saved embedding for work or school performance to ../../graphs/drug/ATC3/drug_ent_emb/work or school performance.json\n",
      "Skipping stroke recovery. Embedding file already exists.\n"
     ]
    },
    {
     "name": "stderr",
     "output_type": "stream",
     "text": [
      "  5%|▌         | 1068/20859 [04:34<1:19:03,  4.17it/s]"
     ]
    },
    {
     "name": "stdout",
     "output_type": "stream",
     "text": [
      "Saved embedding for as mealtime insulin secretagogues to ../../graphs/drug/ATC3/drug_ent_emb/as mealtime insulin secretagogues.json\n",
      "Skipping blood substitutes. Embedding file already exists.\n",
      "Skipping treat high blood pressure. Embedding file already exists.\n",
      "Skipping extended shelf life. Embedding file already exists.\n",
      "Skipping government programs. Embedding file already exists.\n",
      "Skipping leishmaniasis. Embedding file already exists.\n"
     ]
    },
    {
     "name": "stderr",
     "output_type": "stream",
     "text": [
      "  5%|▌         | 1074/20859 [04:34<50:53,  6.48it/s]  "
     ]
    },
    {
     "name": "stdout",
     "output_type": "stream",
     "text": [
      "Saved embedding for purchasing online to ../../graphs/drug/ATC3/drug_ent_emb/purchasing online.json\n",
      "Skipping avoided in patients with prostate problems. Embedding file already exists.\n"
     ]
    },
    {
     "name": "stderr",
     "output_type": "stream",
     "text": [
      "  5%|▌         | 1076/20859 [04:35<1:05:16,  5.05it/s]"
     ]
    },
    {
     "name": "stdout",
     "output_type": "stream",
     "text": [
      "Saved embedding for potassium loss to ../../graphs/drug/ATC3/drug_ent_emb/potassium loss.json\n",
      "Skipping in certain patients. Embedding file already exists.\n",
      "Skipping exhibit increased microbial kill with higher doses. Embedding file already exists.\n",
      "Skipping the pharmacokinetics or pharmacodynamics of antimycotics for systemic use. Embedding file already exists.\n"
     ]
    },
    {
     "name": "stderr",
     "output_type": "stream",
     "text": [
      "  5%|▌         | 1080/20859 [04:36<1:11:03,  4.64it/s]"
     ]
    },
    {
     "name": "stdout",
     "output_type": "stream",
     "text": [
      "Saved embedding for impaired liver function to ../../graphs/drug/ATC3/drug_ent_emb/impaired liver function.json\n"
     ]
    },
    {
     "name": "stderr",
     "output_type": "stream",
     "text": [
      "  5%|▌         | 1081/20859 [04:37<1:19:21,  4.15it/s]"
     ]
    },
    {
     "name": "stdout",
     "output_type": "stream",
     "text": [
      "Saved embedding for collagen formation to ../../graphs/drug/ATC3/drug_ent_emb/collagen formation.json\n",
      "Skipping a type of arthritis caused by uric acid buildup. Embedding file already exists.\n"
     ]
    },
    {
     "name": "stderr",
     "output_type": "stream",
     "text": [
      "  5%|▌         | 1083/20859 [04:37<1:17:25,  4.26it/s]"
     ]
    },
    {
     "name": "stdout",
     "output_type": "stream",
     "text": [
      "Saved embedding for opportunistic pathogens to ../../graphs/drug/ATC3/drug_ent_emb/opportunistic pathogens.json\n",
      "Skipping helping patients. Embedding file already exists.\n",
      "Skipping formulation choice. Embedding file already exists.\n"
     ]
    },
    {
     "name": "stderr",
     "output_type": "stream",
     "text": [
      "  5%|▌         | 1086/20859 [04:38<1:08:21,  4.82it/s]"
     ]
    },
    {
     "name": "stdout",
     "output_type": "stream",
     "text": [
      "Saved embedding for in infected wounds to ../../graphs/drug/ATC3/drug_ent_emb/in infected wounds.json\n",
      "Skipping hormone-dependent cancers. Embedding file already exists.\n",
      "Skipping can cause temporary memory loss. Embedding file already exists.\n"
     ]
    },
    {
     "name": "stderr",
     "output_type": "stream",
     "text": [
      "  5%|▌         | 1089/20859 [04:38<1:03:01,  5.23it/s]"
     ]
    },
    {
     "name": "stdout",
     "output_type": "stream",
     "text": [
      "Saved embedding for bone condition to ../../graphs/drug/ATC3/drug_ent_emb/bone condition.json\n"
     ]
    },
    {
     "name": "stderr",
     "output_type": "stream",
     "text": [
      "  5%|▌         | 1090/20859 [04:39<1:17:09,  4.27it/s]"
     ]
    },
    {
     "name": "stdout",
     "output_type": "stream",
     "text": [
      "Saved embedding for administered at home to ../../graphs/drug/ATC3/drug_ent_emb/administered at home.json\n"
     ]
    },
    {
     "name": "stderr",
     "output_type": "stream",
     "text": [
      "  5%|▌         | 1091/20859 [04:39<1:34:41,  3.48it/s]"
     ]
    },
    {
     "name": "stdout",
     "output_type": "stream",
     "text": [
      "Saved embedding for calcium excretion to ../../graphs/drug/ATC3/drug_ent_emb/calcium excretion.json\n",
      "Skipping more susceptible to side effects. Embedding file already exists.\n",
      "Skipping blood glucose regulation. Embedding file already exists.\n",
      "Skipping relieving symptoms of dry throat. Embedding file already exists.\n"
     ]
    },
    {
     "name": "stderr",
     "output_type": "stream",
     "text": [
      "  5%|▌         | 1095/20859 [04:40<1:07:34,  4.87it/s]"
     ]
    },
    {
     "name": "stdout",
     "output_type": "stream",
     "text": [
      "Saved embedding for intracavitary administration of parasympathomimetics to ../../graphs/drug/ATC3/drug_ent_emb/intracavitary administration of parasympathomimetics.json\n",
      "Skipping dose adjustments over time. Embedding file already exists.\n",
      "Skipping social bonding. Embedding file already exists.\n"
     ]
    },
    {
     "name": "stderr",
     "output_type": "stream",
     "text": [
      "  5%|▌         | 1098/20859 [04:40<1:11:00,  4.64it/s]"
     ]
    },
    {
     "name": "stdout",
     "output_type": "stream",
     "text": [
      "Saved embedding for caregiver education to ../../graphs/drug/ATC3/drug_ent_emb/caregiver education.json\n",
      "Skipping HDL cholesterol levels. Embedding file already exists.\n"
     ]
    },
    {
     "name": "stderr",
     "output_type": "stream",
     "text": [
      "  5%|▌         | 1100/20859 [04:41<1:10:58,  4.64it/s]"
     ]
    },
    {
     "name": "stdout",
     "output_type": "stream",
     "text": [
      "Saved embedding for medicated dressings to ../../graphs/drug/ATC3/drug_ent_emb/medicated dressings.json\n"
     ]
    },
    {
     "name": "stderr",
     "output_type": "stream",
     "text": [
      "  5%|▌         | 1101/20859 [04:41<1:27:48,  3.75it/s]"
     ]
    },
    {
     "name": "stdout",
     "output_type": "stream",
     "text": [
      "Saved embedding for vary by country to ../../graphs/drug/ATC3/drug_ent_emb/vary by country.json\n"
     ]
    },
    {
     "name": "stderr",
     "output_type": "stream",
     "text": [
      "  5%|▌         | 1102/20859 [04:42<1:38:16,  3.35it/s]"
     ]
    },
    {
     "name": "stdout",
     "output_type": "stream",
     "text": [
      "Saved embedding for used in combination with counseling to ../../graphs/drug/ATC3/drug_ent_emb/used in combination with counseling.json\n"
     ]
    },
    {
     "name": "stderr",
     "output_type": "stream",
     "text": [
      "  5%|▌         | 1103/20859 [04:42<1:46:41,  3.09it/s]"
     ]
    },
    {
     "name": "stdout",
     "output_type": "stream",
     "text": [
      "Saved embedding for the hypothalamic-pituitary axis to ../../graphs/drug/ATC3/drug_ent_emb/the hypothalamic-pituitary axis.json\n"
     ]
    },
    {
     "name": "stderr",
     "output_type": "stream",
     "text": [
      "  5%|▌         | 1104/20859 [04:43<1:55:24,  2.85it/s]"
     ]
    },
    {
     "name": "stdout",
     "output_type": "stream",
     "text": [
      "Saved embedding for uric acid excretion to ../../graphs/drug/ATC3/drug_ent_emb/uric acid excretion.json\n",
      "Skipping monitoring treatment response. Embedding file already exists.\n",
      "Skipping public health programs. Embedding file already exists.\n",
      "Skipping adult vaccines. Embedding file already exists.\n",
      "Skipping different expiration dates. Embedding file already exists.\n",
      "Skipping for anxiolytic administration. Embedding file already exists.\n",
      "Skipping anticoagulation properties. Embedding file already exists.\n",
      "Skipping administered in emergency situations. Embedding file already exists.\n",
      "Skipping able to inhibit bacterial growth. Embedding file already exists.\n"
     ]
    },
    {
     "name": "stderr",
     "output_type": "stream",
     "text": [
      "  5%|▌         | 1113/20859 [04:43<42:26,  7.75it/s]  "
     ]
    },
    {
     "name": "stdout",
     "output_type": "stream",
     "text": [
      "Saved embedding for gallbladder imaging to ../../graphs/drug/ATC3/drug_ent_emb/gallbladder imaging.json\n"
     ]
    },
    {
     "name": "stderr",
     "output_type": "stream",
     "text": [
      "  5%|▌         | 1114/20859 [04:43<52:56,  6.22it/s]"
     ]
    },
    {
     "name": "stdout",
     "output_type": "stream",
     "text": [
      "Saved embedding for be used by people with upper gastrointestinal bleeding to ../../graphs/drug/ATC3/drug_ent_emb/be used by people with upper gastrointestinal bleeding.json\n"
     ]
    },
    {
     "name": "stderr",
     "output_type": "stream",
     "text": [
      "  5%|▌         | 1115/20859 [04:44<1:04:53,  5.07it/s]"
     ]
    },
    {
     "name": "stdout",
     "output_type": "stream",
     "text": [
      "Saved embedding for chemotherapy-induced peripheral neuropathy to ../../graphs/drug/ATC3/drug_ent_emb/chemotherapy-induced peripheral neuropathy.json\n"
     ]
    },
    {
     "name": "stderr",
     "output_type": "stream",
     "text": [
      "  5%|▌         | 1116/20859 [04:44<1:18:42,  4.18it/s]"
     ]
    },
    {
     "name": "stdout",
     "output_type": "stream",
     "text": [
      "Saved embedding for in patients with cataracts to ../../graphs/drug/ATC3/drug_ent_emb/in patients with cataracts.json\n",
      "Skipping evaluate treatment effectiveness. Embedding file already exists.\n"
     ]
    },
    {
     "name": "stderr",
     "output_type": "stream",
     "text": [
      "  5%|▌         | 1118/20859 [04:45<1:20:42,  4.08it/s]"
     ]
    },
    {
     "name": "stdout",
     "output_type": "stream",
     "text": [
      "Saved embedding for dental prophylaxis to ../../graphs/drug/ATC3/drug_ent_emb/dental prophylaxis.json\n"
     ]
    },
    {
     "name": "stderr",
     "output_type": "stream",
     "text": [
      "  5%|▌         | 1119/20859 [04:45<1:31:54,  3.58it/s]"
     ]
    },
    {
     "name": "stdout",
     "output_type": "stream",
     "text": [
      "Saved embedding for antidiarrheals to ../../graphs/drug/ATC3/drug_ent_emb/antidiarrheals.json\n",
      "Skipping combined with other cancer treatments. Embedding file already exists.\n"
     ]
    },
    {
     "name": "stderr",
     "output_type": "stream",
     "text": [
      "  5%|▌         | 1121/20859 [04:46<1:26:35,  3.80it/s]"
     ]
    },
    {
     "name": "stdout",
     "output_type": "stream",
     "text": [
      "Saved embedding for beneficial for individuals with fitness goals to ../../graphs/drug/ATC3/drug_ent_emb/beneficial for individuals with fitness goals.json\n",
      "Skipping used for chemoprophylaxis in travelers. Embedding file already exists.\n",
      "Skipping effectiveness of agents acting on. Embedding file already exists.\n",
      "Skipping used in patients with liver impairment. Embedding file already exists.\n"
     ]
    },
    {
     "name": "stderr",
     "output_type": "stream",
     "text": [
      "  5%|▌         | 1125/20859 [04:46<1:02:16,  5.28it/s]"
     ]
    },
    {
     "name": "stdout",
     "output_type": "stream",
     "text": [
      "Saved embedding for nasal irritation to ../../graphs/drug/ATC3/drug_ent_emb/nasal irritation.json\n",
      "Skipping generally safe. Embedding file already exists.\n",
      "Skipping the route of administration. Embedding file already exists.\n"
     ]
    },
    {
     "name": "stderr",
     "output_type": "stream",
     "text": [
      "  5%|▌         | 1128/20859 [04:47<57:16,  5.74it/s]  "
     ]
    },
    {
     "name": "stdout",
     "output_type": "stream",
     "text": [
      "Saved embedding for regular intervals to ../../graphs/drug/ATC3/drug_ent_emb/regular intervals.json\n"
     ]
    },
    {
     "name": "stderr",
     "output_type": "stream",
     "text": [
      "  5%|▌         | 1129/20859 [04:47<1:09:12,  4.75it/s]"
     ]
    },
    {
     "name": "stdout",
     "output_type": "stream",
     "text": [
      "Saved embedding for severity of acne to ../../graphs/drug/ATC3/drug_ent_emb/severity of acne.json\n",
      "Skipping sublingual administration. Embedding file already exists.\n",
      "Skipping in small amounts. Embedding file already exists.\n",
      "Skipping cognitive abilities. Embedding file already exists.\n",
      "Skipping a measure of bone strength. Embedding file already exists.\n",
      "Skipping changes in taste. Embedding file already exists.\n",
      "Skipping maintaining balance. Embedding file already exists.\n",
      "Skipping enhance their effectiveness. Embedding file already exists.\n"
     ]
    },
    {
     "name": "stderr",
     "output_type": "stream",
     "text": [
      "  5%|▌         | 1137/20859 [04:48<38:05,  8.63it/s]  "
     ]
    },
    {
     "name": "stdout",
     "output_type": "stream",
     "text": [
      "Saved embedding for trigger an immune response to ../../graphs/drug/ATC3/drug_ent_emb/trigger an immune response.json\n",
      "Skipping accidental ingestion. Embedding file already exists.\n",
      "Skipping for neuropathic pain. Embedding file already exists.\n"
     ]
    },
    {
     "name": "stderr",
     "output_type": "stream",
     "text": [
      "  5%|▌         | 1140/20859 [04:48<40:46,  8.06it/s]"
     ]
    },
    {
     "name": "stdout",
     "output_type": "stream",
     "text": [
      "Saved embedding for varying manufacturing processes to ../../graphs/drug/ATC3/drug_ent_emb/varying manufacturing processes.json\n"
     ]
    },
    {
     "name": "stderr",
     "output_type": "stream",
     "text": [
      "  5%|▌         | 1141/20859 [04:49<53:16,  6.17it/s]"
     ]
    },
    {
     "name": "stdout",
     "output_type": "stream",
     "text": [
      "Saved embedding for administered via an intraurethral route to ../../graphs/drug/ATC3/drug_ent_emb/administered via an intraurethral route.json\n"
     ]
    },
    {
     "name": "stderr",
     "output_type": "stream",
     "text": [
      "  5%|▌         | 1142/20859 [04:49<1:05:13,  5.04it/s]"
     ]
    },
    {
     "name": "stdout",
     "output_type": "stream",
     "text": [
      "Saved embedding for formation of collagen fibers to ../../graphs/drug/ATC3/drug_ent_emb/formation of collagen fibers.json\n"
     ]
    },
    {
     "name": "stderr",
     "output_type": "stream",
     "text": [
      "  5%|▌         | 1143/20859 [04:49<1:18:57,  4.16it/s]"
     ]
    },
    {
     "name": "stdout",
     "output_type": "stream",
     "text": [
      "Saved embedding for neurogenic bladder to ../../graphs/drug/ATC3/drug_ent_emb/neurogenic bladder.json\n"
     ]
    },
    {
     "name": "stderr",
     "output_type": "stream",
     "text": [
      "  5%|▌         | 1144/20859 [04:50<1:30:59,  3.61it/s]"
     ]
    },
    {
     "name": "stdout",
     "output_type": "stream",
     "text": [
      "Saved embedding for virus-like particles to ../../graphs/drug/ATC3/drug_ent_emb/virus-like particles.json\n",
      "Skipping nutrient imbalances. Embedding file already exists.\n",
      "Skipping used for improving quality of life. Embedding file already exists.\n"
     ]
    },
    {
     "name": "stderr",
     "output_type": "stream",
     "text": [
      "  5%|▌         | 1147/20859 [04:50<1:19:28,  4.13it/s]"
     ]
    },
    {
     "name": "stdout",
     "output_type": "stream",
     "text": [
      "Saved embedding for overactive bladder to ../../graphs/drug/ATC3/drug_ent_emb/overactive bladder.json\n",
      "Skipping mechanisms of bacterial killing. Embedding file already exists.\n"
     ]
    },
    {
     "name": "stderr",
     "output_type": "stream",
     "text": [
      "  6%|▌         | 1149/20859 [04:51<1:24:18,  3.90it/s]"
     ]
    },
    {
     "name": "stdout",
     "output_type": "stream",
     "text": [
      "Saved embedding for rapid weight gain to ../../graphs/drug/ATC3/drug_ent_emb/rapid weight gain.json\n",
      "Skipping injectable and topical forms. Embedding file already exists.\n"
     ]
    },
    {
     "name": "stderr",
     "output_type": "stream",
     "text": [
      "  6%|▌         | 1151/20859 [04:52<1:28:10,  3.73it/s]"
     ]
    },
    {
     "name": "stdout",
     "output_type": "stream",
     "text": [
      "Saved embedding for urinary sphincter to ../../graphs/drug/ATC3/drug_ent_emb/urinary sphincter.json\n",
      "Skipping a major drug-metabolizing enzyme in the liver. Embedding file already exists.\n",
      "Skipping to liver detoxification processes. Embedding file already exists.\n"
     ]
    },
    {
     "name": "stderr",
     "output_type": "stream",
     "text": [
      "  6%|▌         | 1154/20859 [04:52<1:14:18,  4.42it/s]"
     ]
    },
    {
     "name": "stdout",
     "output_type": "stream",
     "text": [
      "Saved embedding for duration of diarrhea to ../../graphs/drug/ATC3/drug_ent_emb/duration of diarrhea.json\n",
      "Skipping stomach pain and indigestion. Embedding file already exists.\n"
     ]
    },
    {
     "name": "stderr",
     "output_type": "stream",
     "text": [
      "  6%|▌         | 1156/20859 [04:53<1:16:53,  4.27it/s]"
     ]
    },
    {
     "name": "stdout",
     "output_type": "stream",
     "text": [
      "Saved embedding for developing countries to ../../graphs/drug/ATC3/drug_ent_emb/developing countries.json\n",
      "Skipping stable angina. Embedding file already exists.\n",
      "Skipping approval from regulatory bodies. Embedding file already exists.\n",
      "Skipping clavulanic acid. Embedding file already exists.\n"
     ]
    },
    {
     "name": "stderr",
     "output_type": "stream",
     "text": [
      "  6%|▌         | 1160/20859 [04:53<59:26,  5.52it/s]  "
     ]
    },
    {
     "name": "stdout",
     "output_type": "stream",
     "text": [
      "Saved embedding for recommended for certain conditions to ../../graphs/drug/ATC3/drug_ent_emb/recommended for certain conditions.json\n",
      "Skipping proper instruction. Embedding file already exists.\n",
      "Skipping risk of heart block. Embedding file already exists.\n",
      "Skipping avoid the use of a medication. Embedding file already exists.\n",
      "Skipping adverse events. Embedding file already exists.\n"
     ]
    },
    {
     "name": "stderr",
     "output_type": "stream",
     "text": [
      "  6%|▌         | 1165/20859 [04:54<47:37,  6.89it/s]"
     ]
    },
    {
     "name": "stdout",
     "output_type": "stream",
     "text": [
      "Saved embedding for at a pharmacy to ../../graphs/drug/ATC3/drug_ent_emb/at a pharmacy.json\n",
      "Skipping hypothalamic hormones. Embedding file already exists.\n"
     ]
    },
    {
     "name": "stderr",
     "output_type": "stream",
     "text": [
      "  6%|▌         | 1167/20859 [04:54<52:51,  6.21it/s]"
     ]
    },
    {
     "name": "stdout",
     "output_type": "stream",
     "text": [
      "Saved embedding for treatment-related complications to ../../graphs/drug/ATC3/drug_ent_emb/treatment-related complications.json\n"
     ]
    },
    {
     "name": "stderr",
     "output_type": "stream",
     "text": [
      "  6%|▌         | 1168/20859 [04:54<1:04:26,  5.09it/s]"
     ]
    },
    {
     "name": "stdout",
     "output_type": "stream",
     "text": [
      "Saved embedding for iron to be utilized in dopamine synthesis to ../../graphs/drug/ATC3/drug_ent_emb/iron to be utilized in dopamine synthesis.json\n"
     ]
    },
    {
     "name": "stderr",
     "output_type": "stream",
     "text": [
      "  6%|▌         | 1169/20859 [04:55<1:16:51,  4.27it/s]"
     ]
    },
    {
     "name": "stdout",
     "output_type": "stream",
     "text": [
      "Saved embedding for sleep medications to ../../graphs/drug/ATC3/drug_ent_emb/sleep medications.json\n",
      "Skipping the risk of suicidal thoughts. Embedding file already exists.\n"
     ]
    },
    {
     "name": "stderr",
     "output_type": "stream",
     "text": [
      "  6%|▌         | 1171/20859 [04:55<1:15:24,  4.35it/s]"
     ]
    },
    {
     "name": "stdout",
     "output_type": "stream",
     "text": [
      "Saved embedding for therapeutic decision-making to ../../graphs/drug/ATC3/drug_ent_emb/therapeutic decision-making.json\n"
     ]
    },
    {
     "name": "stderr",
     "output_type": "stream",
     "text": [
      "  6%|▌         | 1172/20859 [04:56<1:29:09,  3.68it/s]"
     ]
    },
    {
     "name": "stdout",
     "output_type": "stream",
     "text": [
      "Saved embedding for a limited shelf life to ../../graphs/drug/ATC3/drug_ent_emb/a limited shelf life.json\n"
     ]
    },
    {
     "name": "stderr",
     "output_type": "stream",
     "text": [
      "  6%|▌         | 1173/20859 [04:56<1:40:57,  3.25it/s]"
     ]
    },
    {
     "name": "stdout",
     "output_type": "stream",
     "text": [
      "Saved embedding for iron to be utilized in cell proliferation to ../../graphs/drug/ATC3/drug_ent_emb/iron to be utilized in cell proliferation.json\n"
     ]
    },
    {
     "name": "stderr",
     "output_type": "stream",
     "text": [
      "  6%|▌         | 1174/20859 [04:57<1:53:37,  2.89it/s]"
     ]
    },
    {
     "name": "stdout",
     "output_type": "stream",
     "text": [
      "Saved embedding for for prophylaxis against infections to ../../graphs/drug/ATC3/drug_ent_emb/for prophylaxis against infections.json\n",
      "Skipping a biochemical process. Embedding file already exists.\n"
     ]
    },
    {
     "name": "stderr",
     "output_type": "stream",
     "text": [
      "  6%|▌         | 1176/20859 [04:58<2:01:14,  2.71it/s]"
     ]
    },
    {
     "name": "stdout",
     "output_type": "stream",
     "text": [
      "Saved embedding for mucosal protectants to ../../graphs/drug/ATC3/drug_ent_emb/mucosal protectants.json\n"
     ]
    },
    {
     "name": "stderr",
     "output_type": "stream",
     "text": [
      "  6%|▌         | 1177/20859 [04:58<2:06:45,  2.59it/s]"
     ]
    },
    {
     "name": "stdout",
     "output_type": "stream",
     "text": [
      "Saved embedding for food interactions to ../../graphs/drug/ATC3/drug_ent_emb/food interactions.json\n",
      "Skipping immediate medical attention. Embedding file already exists.\n"
     ]
    },
    {
     "name": "stderr",
     "output_type": "stream",
     "text": [
      "  6%|▌         | 1179/20859 [04:59<2:14:38,  2.44it/s]"
     ]
    },
    {
     "name": "stdout",
     "output_type": "stream",
     "text": [
      "Saved embedding for can have effects on liver and kidney function to ../../graphs/drug/ATC3/drug_ent_emb/can have effects on liver and kidney function.json\n",
      "Skipping false positives. Embedding file already exists.\n"
     ]
    },
    {
     "name": "stderr",
     "output_type": "stream",
     "text": [
      "  6%|▌         | 1181/20859 [04:59<1:53:09,  2.90it/s]"
     ]
    },
    {
     "name": "stdout",
     "output_type": "stream",
     "text": [
      "Saved embedding for blocking the actions of certain hormones to ../../graphs/drug/ATC3/drug_ent_emb/blocking the actions of certain hormones.json\n",
      "Skipping failure. Embedding file already exists.\n",
      "Skipping metallic taste. Embedding file already exists.\n",
      "Skipping respiratory symptoms. Embedding file already exists.\n",
      "Skipping altered by substance abuse. Embedding file already exists.\n"
     ]
    },
    {
     "name": "stderr",
     "output_type": "stream",
     "text": [
      "  6%|▌         | 1186/20859 [05:00<1:07:07,  4.88it/s]"
     ]
    },
    {
     "name": "stdout",
     "output_type": "stream",
     "text": [
      "Saved embedding for a healthy diet to ../../graphs/drug/ATC3/drug_ent_emb/a healthy diet.json\n"
     ]
    },
    {
     "name": "stderr",
     "output_type": "stream",
     "text": [
      "  6%|▌         | 1187/20859 [05:00<1:17:48,  4.21it/s]"
     ]
    },
    {
     "name": "stdout",
     "output_type": "stream",
     "text": [
      "Saved embedding for suitable for individuals with certain medical conditions to ../../graphs/drug/ATC3/drug_ent_emb/suitable for individuals with certain medical conditions.json\n"
     ]
    },
    {
     "name": "stderr",
     "output_type": "stream",
     "text": [
      "  6%|▌         | 1188/20859 [05:01<1:28:37,  3.70it/s]"
     ]
    },
    {
     "name": "stdout",
     "output_type": "stream",
     "text": [
      "Saved embedding for hypersensitivity reactions at the site of administration to ../../graphs/drug/ATC3/drug_ent_emb/hypersensitivity reactions at the site of administration.json\n",
      "Skipping the spread of infections in a population. Embedding file already exists.\n",
      "Skipping treating inflammatory bowel disease. Embedding file already exists.\n"
     ]
    },
    {
     "name": "stderr",
     "output_type": "stream",
     "text": [
      "  6%|▌         | 1191/20859 [05:01<1:13:16,  4.47it/s]"
     ]
    },
    {
     "name": "stdout",
     "output_type": "stream",
     "text": [
      "Saved embedding for iron to be absorbed by food components to ../../graphs/drug/ATC3/drug_ent_emb/iron to be absorbed by food components.json\n",
      "Skipping optimal treatment outcomes. Embedding file already exists.\n"
     ]
    },
    {
     "name": "stderr",
     "output_type": "stream",
     "text": [
      "  6%|▌         | 1193/20859 [05:02<1:20:08,  4.09it/s]"
     ]
    },
    {
     "name": "stdout",
     "output_type": "stream",
     "text": [
      "Saved embedding for pain management to ../../graphs/drug/ATC3/drug_ent_emb/pain management.json\n",
      "Skipping used as meal replacements. Embedding file already exists.\n",
      "Skipping psychiatric disorder. Embedding file already exists.\n",
      "Skipping include headache and dizziness. Embedding file already exists.\n",
      "Skipping essential hypertension. Embedding file already exists.\n",
      "Skipping prescribed for migraines. Embedding file already exists.\n",
      "Skipping lactose intolerance. Embedding file already exists.\n",
      "Skipping UV-blocking arm covers. Embedding file already exists.\n"
     ]
    },
    {
     "name": "stderr",
     "output_type": "stream",
     "text": [
      "  6%|▌         | 1201/20859 [05:03<56:28,  5.80it/s]  "
     ]
    },
    {
     "name": "stdout",
     "output_type": "stream",
     "text": [
      "Saved embedding for other vitamin products to ../../graphs/drug/ATC3/drug_ent_emb/other vitamin products.json\n"
     ]
    },
    {
     "name": "stderr",
     "output_type": "stream",
     "text": [
      "  6%|▌         | 1202/20859 [05:03<1:05:06,  5.03it/s]"
     ]
    },
    {
     "name": "stdout",
     "output_type": "stream",
     "text": [
      "Saved embedding for used for post-operative pain to ../../graphs/drug/ATC3/drug_ent_emb/used for post-operative pain.json\n"
     ]
    },
    {
     "name": "stderr",
     "output_type": "stream",
     "text": [
      "  6%|▌         | 1203/20859 [05:04<1:14:44,  4.38it/s]"
     ]
    },
    {
     "name": "stdout",
     "output_type": "stream",
     "text": [
      "Saved embedding for in combination with rehydration therapy to ../../graphs/drug/ATC3/drug_ent_emb/in combination with rehydration therapy.json\n",
      "Skipping controlled release of hormones. Embedding file already exists.\n",
      "Skipping used cautiously in patients with kidney disease. Embedding file already exists.\n",
      "Skipping iron to be absorbed in the bladder. Embedding file already exists.\n",
      "Skipping prevalent. Embedding file already exists.\n",
      "Skipping using antacids in children. Embedding file already exists.\n"
     ]
    },
    {
     "name": "stderr",
     "output_type": "stream",
     "text": [
      "  6%|▌         | 1209/20859 [05:04<49:00,  6.68it/s]  "
     ]
    },
    {
     "name": "stdout",
     "output_type": "stream",
     "text": [
      "Saved embedding for used to treat infected piercings to ../../graphs/drug/ATC3/drug_ent_emb/used to treat infected piercings.json\n"
     ]
    },
    {
     "name": "stderr",
     "output_type": "stream",
     "text": [
      "  6%|▌         | 1210/20859 [05:05<59:07,  5.54it/s]"
     ]
    },
    {
     "name": "stdout",
     "output_type": "stream",
     "text": [
      "Saved embedding for used for transitioning to solid foods to ../../graphs/drug/ATC3/drug_ent_emb/used for transitioning to solid foods.json\n",
      "Skipping suitable for pregnant women. Embedding file already exists.\n",
      "Skipping to reduce microvascular complications in type 2 diabetes. Embedding file already exists.\n",
      "Skipping pastes. Embedding file already exists.\n"
     ]
    },
    {
     "name": "stderr",
     "output_type": "stream",
     "text": [
      "  6%|▌         | 1214/20859 [05:05<55:12,  5.93it/s]"
     ]
    },
    {
     "name": "stdout",
     "output_type": "stream",
     "text": [
      "Saved embedding for dental sealants to ../../graphs/drug/ATC3/drug_ent_emb/dental sealants.json\n"
     ]
    },
    {
     "name": "stderr",
     "output_type": "stream",
     "text": [
      "  6%|▌         | 1215/20859 [05:06<1:05:58,  4.96it/s]"
     ]
    },
    {
     "name": "stdout",
     "output_type": "stream",
     "text": [
      "Saved embedding for low-carbohydrate or low-fat to ../../graphs/drug/ATC3/drug_ent_emb/low-carbohydrate or low-fat.json\n"
     ]
    },
    {
     "name": "stderr",
     "output_type": "stream",
     "text": [
      "  6%|▌         | 1216/20859 [05:06<1:17:08,  4.24it/s]"
     ]
    },
    {
     "name": "stdout",
     "output_type": "stream",
     "text": [
      "Saved embedding for in terms of efficacy to ../../graphs/drug/ATC3/drug_ent_emb/in terms of efficacy.json\n",
      "Skipping visualizing bile ducts. Embedding file already exists.\n"
     ]
    },
    {
     "name": "stderr",
     "output_type": "stream",
     "text": [
      "  6%|▌         | 1218/20859 [05:06<1:17:31,  4.22it/s]"
     ]
    },
    {
     "name": "stdout",
     "output_type": "stream",
     "text": [
      "Saved embedding for varying digestibility to ../../graphs/drug/ATC3/drug_ent_emb/varying digestibility.json\n",
      "Skipping important to monitor. Embedding file already exists.\n"
     ]
    },
    {
     "name": "stderr",
     "output_type": "stream",
     "text": [
      "  6%|▌         | 1220/20859 [05:07<1:21:39,  4.01it/s]"
     ]
    },
    {
     "name": "stdout",
     "output_type": "stream",
     "text": [
      "Saved embedding for opioid to ../../graphs/drug/ATC3/drug_ent_emb/opioid.json\n",
      "Skipping intrapleural administration. Embedding file already exists.\n"
     ]
    },
    {
     "name": "stderr",
     "output_type": "stream",
     "text": [
      "  6%|▌         | 1222/20859 [05:07<1:18:20,  4.18it/s]"
     ]
    },
    {
     "name": "stdout",
     "output_type": "stream",
     "text": [
      "Saved embedding for risk of falls to ../../graphs/drug/ATC3/drug_ent_emb/risk of falls.json\n",
      "Skipping with caution in patients with a history of hepatic disorders. Embedding file already exists.\n",
      "Skipping combined modality therapy. Embedding file already exists.\n"
     ]
    },
    {
     "name": "stderr",
     "output_type": "stream",
     "text": [
      "  6%|▌         | 1225/20859 [05:08<1:07:44,  4.83it/s]"
     ]
    },
    {
     "name": "stdout",
     "output_type": "stream",
     "text": [
      "Saved embedding for blocking parasite's reproduction to ../../graphs/drug/ATC3/drug_ent_emb/blocking parasite's reproduction.json\n"
     ]
    },
    {
     "name": "stderr",
     "output_type": "stream",
     "text": [
      "  6%|▌         | 1226/20859 [05:08<1:19:50,  4.10it/s]"
     ]
    },
    {
     "name": "stdout",
     "output_type": "stream",
     "text": [
      "Saved embedding for obtained without a prescription to ../../graphs/drug/ATC3/drug_ent_emb/obtained without a prescription.json\n",
      "Skipping the condition. Embedding file already exists.\n",
      "Skipping empty stomach administration. Embedding file already exists.\n"
     ]
    },
    {
     "name": "stderr",
     "output_type": "stream",
     "text": [
      "  6%|▌         | 1229/20859 [05:09<1:13:26,  4.45it/s]"
     ]
    },
    {
     "name": "stdout",
     "output_type": "stream",
     "text": [
      "Saved embedding for discontinued gradually to ../../graphs/drug/ATC3/drug_ent_emb/discontinued gradually.json\n"
     ]
    },
    {
     "name": "stderr",
     "output_type": "stream",
     "text": [
      "  6%|▌         | 1230/20859 [05:09<1:24:44,  3.86it/s]"
     ]
    },
    {
     "name": "stdout",
     "output_type": "stream",
     "text": [
      "Saved embedding for cell cycle regulation to ../../graphs/drug/ATC3/drug_ent_emb/cell cycle regulation.json\n",
      "Skipping available in combination formulations. Embedding file already exists.\n"
     ]
    },
    {
     "name": "stderr",
     "output_type": "stream",
     "text": [
      "  6%|▌         | 1232/20859 [05:10<1:21:29,  4.01it/s]"
     ]
    },
    {
     "name": "stdout",
     "output_type": "stream",
     "text": [
      "Saved embedding for dose adjustments based on body surface area and renal function to ../../graphs/drug/ATC3/drug_ent_emb/dose adjustments based on body surface area and renal function.json\n",
      "Skipping result in adverse reactions. Embedding file already exists.\n"
     ]
    },
    {
     "name": "stderr",
     "output_type": "stream",
     "text": [
      "  6%|▌         | 1234/20859 [05:10<1:17:54,  4.20it/s]"
     ]
    },
    {
     "name": "stdout",
     "output_type": "stream",
     "text": [
      "Saved embedding for body's energy needs to ../../graphs/drug/ATC3/drug_ent_emb/body's energy needs.json\n",
      "Skipping administered through transdermal patches. Embedding file already exists.\n"
     ]
    },
    {
     "name": "stderr",
     "output_type": "stream",
     "text": [
      "  6%|▌         | 1236/20859 [05:11<1:17:51,  4.20it/s]"
     ]
    },
    {
     "name": "stdout",
     "output_type": "stream",
     "text": [
      "Saved embedding for respiratory depression as a side effect to ../../graphs/drug/ATC3/drug_ent_emb/respiratory depression as a side effect.json\n"
     ]
    },
    {
     "name": "stderr",
     "output_type": "stream",
     "text": [
      "  6%|▌         | 1237/20859 [05:11<1:29:47,  3.64it/s]"
     ]
    },
    {
     "name": "stdout",
     "output_type": "stream",
     "text": [
      "Saved embedding for sympathetic nervous system activity to ../../graphs/drug/ATC3/drug_ent_emb/sympathetic nervous system activity.json\n"
     ]
    },
    {
     "name": "stderr",
     "output_type": "stream",
     "text": [
      "  6%|▌         | 1238/20859 [05:12<1:54:03,  2.87it/s]"
     ]
    },
    {
     "name": "stdout",
     "output_type": "stream",
     "text": [
      "Saved embedding for increased intraocular pressure to ../../graphs/drug/ATC3/drug_ent_emb/increased intraocular pressure.json\n",
      "Skipping diagnostic agent efficacy. Embedding file already exists.\n",
      "Skipping swallow for certain individuals. Embedding file already exists.\n",
      "Skipping prevent worsening of symptoms. Embedding file already exists.\n"
     ]
    },
    {
     "name": "stderr",
     "output_type": "stream",
     "text": [
      "  6%|▌         | 1242/20859 [05:12<1:11:51,  4.55it/s]"
     ]
    },
    {
     "name": "stdout",
     "output_type": "stream",
     "text": [
      "Saved embedding for reviewed with healthcare provider to ../../graphs/drug/ATC3/drug_ent_emb/reviewed with healthcare provider.json\n"
     ]
    },
    {
     "name": "stderr",
     "output_type": "stream",
     "text": [
      "  6%|▌         | 1243/20859 [05:13<1:40:22,  3.26it/s]"
     ]
    },
    {
     "name": "stdout",
     "output_type": "stream",
     "text": [
      "Saved embedding for with caution in patients with a history of respiratory disorders to ../../graphs/drug/ATC3/drug_ent_emb/with caution in patients with a history of respiratory disorders.json\n",
      "Skipping packaging formats. Embedding file already exists.\n"
     ]
    },
    {
     "name": "stderr",
     "output_type": "stream",
     "text": [
      "  6%|▌         | 1245/20859 [05:14<1:37:51,  3.34it/s]"
     ]
    },
    {
     "name": "stdout",
     "output_type": "stream",
     "text": [
      "Saved embedding for bladder spasms to ../../graphs/drug/ATC3/drug_ent_emb/bladder spasms.json\n",
      "Skipping adult patients. Embedding file already exists.\n",
      "Skipping be taken with or without food. Embedding file already exists.\n",
      "Skipping as rescue medication. Embedding file already exists.\n",
      "Skipping neurologic disturbances. Embedding file already exists.\n",
      "Skipping a genetic disorder. Embedding file already exists.\n",
      "Skipping should consult their doctor before taking antacids. Embedding file already exists.\n",
      "Skipping anti-nausea medications. Embedding file already exists.\n",
      "Skipping stored out of reach of children. Embedding file already exists.\n",
      "Skipping treatment efficacy. Embedding file already exists.\n",
      "Skipping individuals with weakened immune systems. Embedding file already exists.\n",
      "Skipping increase urine output. Embedding file already exists.\n",
      "Skipping nuclear medicine technologists. Embedding file already exists.\n",
      "Skipping coronary vasospasm. Embedding file already exists.\n",
      "Skipping oral antibiotics. Embedding file already exists.\n"
     ]
    },
    {
     "name": "stderr",
     "output_type": "stream",
     "text": [
      "  6%|▌         | 1260/20859 [05:14<33:16,  9.81it/s]  "
     ]
    },
    {
     "name": "stdout",
     "output_type": "stream",
     "text": [
      "Saved embedding for bonding between partners to ../../graphs/drug/ATC3/drug_ent_emb/bonding between partners.json\n"
     ]
    },
    {
     "name": "stderr",
     "output_type": "stream",
     "text": [
      "  6%|▌         | 1261/20859 [05:15<41:04,  7.95it/s]"
     ]
    },
    {
     "name": "stdout",
     "output_type": "stream",
     "text": [
      "Saved embedding for pain medication to ../../graphs/drug/ATC3/drug_ent_emb/pain medication.json\n",
      "Skipping certain bodily processes. Embedding file already exists.\n",
      "Skipping as strong or weak. Embedding file already exists.\n",
      "Skipping administered via an intrathecal pump. Embedding file already exists.\n",
      "Skipping used for treating infections caused by atypical bacteria. Embedding file already exists.\n",
      "Skipping mental health. Embedding file already exists.\n",
      "Skipping appropriate indications. Embedding file already exists.\n",
      "Skipping immune deficiencies. Embedding file already exists.\n",
      "Skipping bowel frequency and urgency in diarrhea. Embedding file already exists.\n",
      "Skipping metabolism of other drugs. Embedding file already exists.\n",
      "Skipping taken at the same time each day. Embedding file already exists.\n",
      "Skipping a major surgery. Embedding file already exists.\n",
      "Skipping anti-acne preparations. Embedding file already exists.\n"
     ]
    },
    {
     "name": "stderr",
     "output_type": "stream",
     "text": [
      "  6%|▌         | 1274/20859 [05:15<24:33, 13.29it/s]"
     ]
    },
    {
     "name": "stdout",
     "output_type": "stream",
     "text": [
      "Saved embedding for healthy nutrient assimilation to ../../graphs/drug/ATC3/drug_ent_emb/healthy nutrient assimilation.json\n"
     ]
    },
    {
     "name": "stderr",
     "output_type": "stream",
     "text": [
      "  6%|▌         | 1276/20859 [05:16<32:09, 10.15it/s]"
     ]
    },
    {
     "name": "stdout",
     "output_type": "stream",
     "text": [
      "Saved embedding for patients with no urine output and severe electrolyte imbalance to ../../graphs/drug/ATC3/drug_ent_emb/patients with no urine output and severe electrolyte imbalance.json\n",
      "Skipping antibody production. Embedding file already exists.\n"
     ]
    },
    {
     "name": "stderr",
     "output_type": "stream",
     "text": [
      "  6%|▌         | 1278/20859 [05:16<37:19,  8.75it/s]"
     ]
    },
    {
     "name": "stdout",
     "output_type": "stream",
     "text": [
      "Saved embedding for effectiveness of antiinfective drugs to ../../graphs/drug/ATC3/drug_ent_emb/effectiveness of antiinfective drugs.json\n",
      "Skipping with caution in patients with retinopathy. Embedding file already exists.\n"
     ]
    },
    {
     "name": "stderr",
     "output_type": "stream",
     "text": [
      "  6%|▌         | 1279/20859 [05:17<54:31,  5.99it/s]"
     ]
    },
    {
     "name": "stdout",
     "output_type": "stream",
     "text": [
      "Saved embedding for used for supporting a healthy gut to ../../graphs/drug/ATC3/drug_ent_emb/used for supporting a healthy gut.json\n"
     ]
    },
    {
     "name": "stderr",
     "output_type": "stream",
     "text": [
      "  6%|▌         | 1280/20859 [05:17<1:06:00,  4.94it/s]"
     ]
    },
    {
     "name": "stdout",
     "output_type": "stream",
     "text": [
      "Saved embedding for absence of movement to ../../graphs/drug/ATC3/drug_ent_emb/absence of movement.json\n",
      "Skipping used for non-productive cough. Embedding file already exists.\n"
     ]
    },
    {
     "name": "stderr",
     "output_type": "stream",
     "text": [
      "  6%|▌         | 1282/20859 [05:18<1:11:14,  4.58it/s]"
     ]
    },
    {
     "name": "stdout",
     "output_type": "stream",
     "text": [
      "Saved embedding for combinations of antihypertensives to ../../graphs/drug/ATC3/drug_ent_emb/combinations of antihypertensives.json\n",
      "Skipping for paroxysmal supraventricular tachycardia. Embedding file already exists.\n",
      "Skipping diagnostic capabilities. Embedding file already exists.\n",
      "Skipping lupus. Embedding file already exists.\n",
      "Skipping be taken with caution in people with high blood pressure. Embedding file already exists.\n"
     ]
    },
    {
     "name": "stderr",
     "output_type": "stream",
     "text": [
      "  6%|▌         | 1287/20859 [05:19<1:15:28,  4.32it/s]"
     ]
    },
    {
     "name": "stdout",
     "output_type": "stream",
     "text": [
      "Saved embedding for used for first-degree burns to ../../graphs/drug/ATC3/drug_ent_emb/used for first-degree burns.json\n",
      "Skipping correctly. Embedding file already exists.\n",
      "Skipping before the test. Embedding file already exists.\n"
     ]
    },
    {
     "name": "stderr",
     "output_type": "stream",
     "text": [
      "  6%|▌         | 1290/20859 [05:20<1:07:51,  4.81it/s]"
     ]
    },
    {
     "name": "stdout",
     "output_type": "stream",
     "text": [
      "Saved embedding for tissue sealing to ../../graphs/drug/ATC3/drug_ent_emb/tissue sealing.json\n"
     ]
    },
    {
     "name": "stderr",
     "output_type": "stream",
     "text": [
      "  6%|▌         | 1291/20859 [05:20<1:17:30,  4.21it/s]"
     ]
    },
    {
     "name": "stdout",
     "output_type": "stream",
     "text": [
      "Saved embedding for antihistamine drugs to ../../graphs/drug/ATC3/drug_ent_emb/antihistamine drugs.json\n"
     ]
    },
    {
     "name": "stderr",
     "output_type": "stream",
     "text": [
      "  6%|▌         | 1292/20859 [05:21<1:39:43,  3.27it/s]"
     ]
    },
    {
     "name": "stdout",
     "output_type": "stream",
     "text": [
      "Saved embedding for reduce the need for surgery to ../../graphs/drug/ATC3/drug_ent_emb/reduce the need for surgery.json\n"
     ]
    },
    {
     "name": "stderr",
     "output_type": "stream",
     "text": [
      "  6%|▌         | 1293/20859 [05:21<1:55:28,  2.82it/s]"
     ]
    },
    {
     "name": "stdout",
     "output_type": "stream",
     "text": [
      "Saved embedding for a cofactor for several enzymes to ../../graphs/drug/ATC3/drug_ent_emb/a cofactor for several enzymes.json\n",
      "Skipping weight gain in adolescents. Embedding file already exists.\n",
      "Skipping used for treating infections in the urinary tract. Embedding file already exists.\n",
      "Skipping renin. Embedding file already exists.\n",
      "Skipping the risk of adverse events. Embedding file already exists.\n"
     ]
    },
    {
     "name": "stderr",
     "output_type": "stream",
     "text": [
      "  6%|▌         | 1298/20859 [05:22<1:07:49,  4.81it/s]"
     ]
    },
    {
     "name": "stdout",
     "output_type": "stream",
     "text": [
      "Saved embedding for hematological toxicities to ../../graphs/drug/ATC3/drug_ent_emb/hematological toxicities.json\n",
      "Skipping administered via infusion. Embedding file already exists.\n",
      "Skipping the risk of drug interactions. Embedding file already exists.\n"
     ]
    },
    {
     "name": "stderr",
     "output_type": "stream",
     "text": [
      "  6%|▌         | 1301/20859 [05:22<1:01:19,  5.32it/s]"
     ]
    },
    {
     "name": "stdout",
     "output_type": "stream",
     "text": [
      "Saved embedding for can cause dizziness to ../../graphs/drug/ATC3/drug_ent_emb/can cause dizziness.json\n"
     ]
    },
    {
     "name": "stderr",
     "output_type": "stream",
     "text": [
      "  6%|▌         | 1302/20859 [05:23<1:11:41,  4.55it/s]"
     ]
    },
    {
     "name": "stdout",
     "output_type": "stream",
     "text": [
      "Saved embedding for pouchitis to ../../graphs/drug/ATC3/drug_ent_emb/pouchitis.json\n"
     ]
    },
    {
     "name": "stderr",
     "output_type": "stream",
     "text": [
      "  6%|▌         | 1303/20859 [05:23<1:24:07,  3.87it/s]"
     ]
    },
    {
     "name": "stdout",
     "output_type": "stream",
     "text": [
      "Saved embedding for patient characteristics and conditions to ../../graphs/drug/ATC3/drug_ent_emb/patient characteristics and conditions.json\n",
      "Skipping addictive properties. Embedding file already exists.\n"
     ]
    },
    {
     "name": "stderr",
     "output_type": "stream",
     "text": [
      "  6%|▋         | 1305/20859 [05:24<1:20:12,  4.06it/s]"
     ]
    },
    {
     "name": "stdout",
     "output_type": "stream",
     "text": [
      "Saved embedding for the regulation of sleep patterns to ../../graphs/drug/ATC3/drug_ent_emb/the regulation of sleep patterns.json\n",
      "Skipping mandatory vaccines. Embedding file already exists.\n",
      "Skipping clinical use. Embedding file already exists.\n",
      "Skipping various brand names. Embedding file already exists.\n",
      "Skipping applied directly to the affected area. Embedding file already exists.\n"
     ]
    },
    {
     "name": "stderr",
     "output_type": "stream",
     "text": [
      "  6%|▋         | 1310/20859 [05:24<53:08,  6.13it/s]  "
     ]
    },
    {
     "name": "stdout",
     "output_type": "stream",
     "text": [
      "Saved embedding for hormonal side effects to ../../graphs/drug/ATC3/drug_ent_emb/hormonal side effects.json\n"
     ]
    },
    {
     "name": "stderr",
     "output_type": "stream",
     "text": [
      "  6%|▋         | 1311/20859 [05:24<1:07:11,  4.85it/s]"
     ]
    },
    {
     "name": "stdout",
     "output_type": "stream",
     "text": [
      "Saved embedding for global health security to ../../graphs/drug/ATC3/drug_ent_emb/global health security.json\n",
      "Skipping used on genital areas. Embedding file already exists.\n"
     ]
    },
    {
     "name": "stderr",
     "output_type": "stream",
     "text": [
      "  6%|▋         | 1313/20859 [05:25<1:09:00,  4.72it/s]"
     ]
    },
    {
     "name": "stdout",
     "output_type": "stream",
     "text": [
      "Saved embedding for intraoperative imaging to ../../graphs/drug/ATC3/drug_ent_emb/intraoperative imaging.json\n"
     ]
    },
    {
     "name": "stderr",
     "output_type": "stream",
     "text": [
      "  6%|▋         | 1314/20859 [05:26<1:31:53,  3.54it/s]"
     ]
    },
    {
     "name": "stdout",
     "output_type": "stream",
     "text": [
      "Saved embedding for seizure threshold to ../../graphs/drug/ATC3/drug_ent_emb/seizure threshold.json\n",
      "Skipping cleared from the body. Embedding file already exists.\n",
      "Skipping lose efficacy over time. Embedding file already exists.\n"
     ]
    },
    {
     "name": "stderr",
     "output_type": "stream",
     "text": [
      "  6%|▋         | 1317/20859 [05:26<1:13:22,  4.44it/s]"
     ]
    },
    {
     "name": "stdout",
     "output_type": "stream",
     "text": [
      "Saved embedding for unintentional ingestion or environmental pollution to ../../graphs/drug/ATC3/drug_ent_emb/unintentional ingestion or environmental pollution.json\n",
      "Skipping can cause hypothermia. Embedding file already exists.\n"
     ]
    },
    {
     "name": "stderr",
     "output_type": "stream",
     "text": [
      "  6%|▋         | 1319/20859 [05:27<1:32:17,  3.53it/s]"
     ]
    },
    {
     "name": "stdout",
     "output_type": "stream",
     "text": [
      "Saved embedding for treating primary aldosteronism to ../../graphs/drug/ATC3/drug_ent_emb/treating primary aldosteronism.json\n",
      "Skipping treat dermatitis. Embedding file already exists.\n",
      "Skipping TSH levels. Embedding file already exists.\n",
      "Skipping essential for drug metabolism. Embedding file already exists.\n"
     ]
    },
    {
     "name": "stderr",
     "output_type": "stream",
     "text": [
      "  6%|▋         | 1323/20859 [05:27<1:08:10,  4.78it/s]"
     ]
    },
    {
     "name": "stdout",
     "output_type": "stream",
     "text": [
      "Saved embedding for antigens through the nasal route to ../../graphs/drug/ATC3/drug_ent_emb/antigens through the nasal route.json\n",
      "Skipping mild itching to severe anaphylaxis. Embedding file already exists.\n"
     ]
    },
    {
     "name": "stderr",
     "output_type": "stream",
     "text": [
      "  6%|▋         | 1325/20859 [05:28<1:11:49,  4.53it/s]"
     ]
    },
    {
     "name": "stdout",
     "output_type": "stream",
     "text": [
      "Saved embedding for chronic inflammatory disease to ../../graphs/drug/ATC3/drug_ent_emb/chronic inflammatory disease.json\n",
      "Skipping scurvy. Embedding file already exists.\n",
      "Skipping avoided when taking antiepileptics. Embedding file already exists.\n",
      "Skipping intraperitoneal administration of parasympathomimetics. Embedding file already exists.\n",
      "Skipping stricter regulations and monitoring. Embedding file already exists.\n",
      "Skipping drug pharmacokinetics and drug response. Embedding file already exists.\n"
     ]
    },
    {
     "name": "stderr",
     "output_type": "stream",
     "text": [
      "  6%|▋         | 1331/20859 [05:28<49:50,  6.53it/s]  "
     ]
    },
    {
     "name": "stdout",
     "output_type": "stream",
     "text": [
      "Saved embedding for frequency of change to ../../graphs/drug/ATC3/drug_ent_emb/frequency of change.json\n",
      "Skipping subject to abuse. Embedding file already exists.\n"
     ]
    },
    {
     "name": "stderr",
     "output_type": "stream",
     "text": [
      "  6%|▋         | 1333/20859 [05:29<55:57,  5.82it/s]"
     ]
    },
    {
     "name": "stdout",
     "output_type": "stream",
     "text": [
      "Saved embedding for in their effectiveness to ../../graphs/drug/ATC3/drug_ent_emb/in their effectiveness.json\n",
      "Skipping prevention and treatment strategies. Embedding file already exists.\n",
      "Skipping the range of targeted bacteria. Embedding file already exists.\n"
     ]
    },
    {
     "name": "stderr",
     "output_type": "stream",
     "text": [
      "  6%|▋         | 1336/20859 [05:29<58:45,  5.54it/s]"
     ]
    },
    {
     "name": "stdout",
     "output_type": "stream",
     "text": [
      "Saved embedding for behavior to ../../graphs/drug/ATC3/drug_ent_emb/behavior.json\n"
     ]
    },
    {
     "name": "stderr",
     "output_type": "stream",
     "text": [
      "  6%|▋         | 1337/20859 [05:30<1:14:44,  4.35it/s]"
     ]
    },
    {
     "name": "stdout",
     "output_type": "stream",
     "text": [
      "Saved embedding for with caution in patients with a history of cardiovascular events to ../../graphs/drug/ATC3/drug_ent_emb/with caution in patients with a history of cardiovascular events.json\n",
      "Skipping specialized facilities. Embedding file already exists.\n",
      "Skipping drug-induced hematologic disorders. Embedding file already exists.\n",
      "Skipping brand-name equivalents. Embedding file already exists.\n"
     ]
    },
    {
     "name": "stderr",
     "output_type": "stream",
     "text": [
      "  6%|▋         | 1341/20859 [05:31<1:00:28,  5.38it/s]"
     ]
    },
    {
     "name": "stdout",
     "output_type": "stream",
     "text": [
      "Saved embedding for treating mental disorders to ../../graphs/drug/ATC3/drug_ent_emb/treating mental disorders.json\n"
     ]
    },
    {
     "name": "stderr",
     "output_type": "stream",
     "text": [
      "  6%|▋         | 1342/20859 [05:31<1:19:13,  4.11it/s]"
     ]
    },
    {
     "name": "stdout",
     "output_type": "stream",
     "text": [
      "Saved embedding for obtained from immune donors to ../../graphs/drug/ATC3/drug_ent_emb/obtained from immune donors.json\n",
      "Skipping airway smooth muscles. Embedding file already exists.\n",
      "Skipping individuals with compromised immune systems. Embedding file already exists.\n",
      "Skipping in patients with hypersensitivity. Embedding file already exists.\n"
     ]
    },
    {
     "name": "stderr",
     "output_type": "stream",
     "text": [
      "  6%|▋         | 1346/20859 [05:32<1:01:52,  5.26it/s]"
     ]
    },
    {
     "name": "stdout",
     "output_type": "stream",
     "text": [
      "Saved embedding for prescribed by a neurologist or a geriatrician to ../../graphs/drug/ATC3/drug_ent_emb/prescribed by a neurologist or a geriatrician.json\n"
     ]
    },
    {
     "name": "stderr",
     "output_type": "stream",
     "text": [
      "  6%|▋         | 1347/20859 [05:32<1:13:12,  4.44it/s]"
     ]
    },
    {
     "name": "stdout",
     "output_type": "stream",
     "text": [
      "Saved embedding for rid the body of excess fluid to ../../graphs/drug/ATC3/drug_ent_emb/rid the body of excess fluid.json\n",
      "Skipping further treatment. Embedding file already exists.\n",
      "Skipping by specialists. Embedding file already exists.\n"
     ]
    },
    {
     "name": "stderr",
     "output_type": "stream",
     "text": [
      "  6%|▋         | 1350/20859 [05:33<1:12:01,  4.51it/s]"
     ]
    },
    {
     "name": "stdout",
     "output_type": "stream",
     "text": [
      "Saved embedding for orderly cell progression to ../../graphs/drug/ATC3/drug_ent_emb/orderly cell progression.json\n",
      "Skipping ophthalmic infections. Embedding file already exists.\n"
     ]
    },
    {
     "name": "stderr",
     "output_type": "stream",
     "text": [
      "  6%|▋         | 1352/20859 [05:33<1:16:32,  4.25it/s]"
     ]
    },
    {
     "name": "stdout",
     "output_type": "stream",
     "text": [
      "Saved embedding for cell cycle arrest in cancer cells to ../../graphs/drug/ATC3/drug_ent_emb/cell cycle arrest in cancer cells.json\n"
     ]
    },
    {
     "name": "stderr",
     "output_type": "stream",
     "text": [
      "  6%|▋         | 1353/20859 [05:34<1:27:03,  3.73it/s]"
     ]
    },
    {
     "name": "stdout",
     "output_type": "stream",
     "text": [
      "Saved embedding for patients with microalbuminuria to ../../graphs/drug/ATC3/drug_ent_emb/patients with microalbuminuria.json\n",
      "Skipping stored correctly. Embedding file already exists.\n",
      "Skipping alleviating symptoms of tonsillitis. Embedding file already exists.\n",
      "Skipping used cautiously in patients with liver impairment. Embedding file already exists.\n",
      "Skipping a role in regulating blood flow. Embedding file already exists.\n",
      "Skipping normal brain function. Embedding file already exists.\n"
     ]
    },
    {
     "name": "stderr",
     "output_type": "stream",
     "text": [
      "  7%|▋         | 1359/20859 [05:34<51:52,  6.26it/s]  "
     ]
    },
    {
     "name": "stdout",
     "output_type": "stream",
     "text": [
      "Saved embedding for rifampin to ../../graphs/drug/ATC3/drug_ent_emb/rifampin.json\n",
      "Skipping in preventing postoperative nausea and vomiting. Embedding file already exists.\n",
      "Skipping block beta-adrenergic receptors. Embedding file already exists.\n",
      "Skipping following the instructions given by the healthcare provider. Embedding file already exists.\n",
      "Skipping addiction treatment. Embedding file already exists.\n",
      "Skipping used in liver transplantation. Embedding file already exists.\n",
      "Skipping available as capsules and tablets. Embedding file already exists.\n",
      "Skipping affect body fluid balance. Embedding file already exists.\n",
      "Skipping used for abdominal spasms. Embedding file already exists.\n",
      "Skipping administered via an intravaginal route. Embedding file already exists.\n",
      "Skipping proper bodily functions. Embedding file already exists.\n",
      "Skipping the regulation of mood. Embedding file already exists.\n",
      "Skipping used by women. Embedding file already exists.\n"
     ]
    },
    {
     "name": "stderr",
     "output_type": "stream",
     "text": [
      "  7%|▋         | 1372/20859 [05:35<25:44, 12.62it/s]"
     ]
    },
    {
     "name": "stdout",
     "output_type": "stream",
     "text": [
      "Saved embedding for for children to ../../graphs/drug/ATC3/drug_ent_emb/for children.json\n"
     ]
    },
    {
     "name": "stderr",
     "output_type": "stream",
     "text": [
      "  7%|▋         | 1374/20859 [05:35<31:13, 10.40it/s]"
     ]
    },
    {
     "name": "stdout",
     "output_type": "stream",
     "text": [
      "Saved embedding for intraperitoneal injection to ../../graphs/drug/ATC3/drug_ent_emb/intraperitoneal injection.json\n",
      "Skipping based on patient's preferences. Embedding file already exists.\n",
      "Skipping healthy hair. Embedding file already exists.\n",
      "Skipping alter chemical composition. Embedding file already exists.\n",
      "Skipping drugs to the skin surface. Embedding file already exists.\n"
     ]
    },
    {
     "name": "stderr",
     "output_type": "stream",
     "text": [
      "  7%|▋         | 1378/20859 [05:36<32:27, 10.00it/s]"
     ]
    },
    {
     "name": "stdout",
     "output_type": "stream",
     "text": [
      "Saved embedding for liver cell membrane integrity to ../../graphs/drug/ATC3/drug_ent_emb/liver cell membrane integrity.json\n",
      "Skipping specific phobia. Embedding file already exists.\n",
      "Skipping prevent hypokalemia. Embedding file already exists.\n",
      "Skipping inratumescent administration of parasympathomimetics. Embedding file already exists.\n",
      "Skipping of intestinal adsorbents. Embedding file already exists.\n"
     ]
    },
    {
     "name": "stderr",
     "output_type": "stream",
     "text": [
      "  7%|▋         | 1383/20859 [05:36<31:00, 10.47it/s]"
     ]
    },
    {
     "name": "stdout",
     "output_type": "stream",
     "text": [
      "Saved embedding for open wounds to ../../graphs/drug/ATC3/drug_ent_emb/open wounds.json\n"
     ]
    },
    {
     "name": "stderr",
     "output_type": "stream",
     "text": [
      "  7%|▋         | 1385/20859 [05:36<37:11,  8.73it/s]"
     ]
    },
    {
     "name": "stdout",
     "output_type": "stream",
     "text": [
      "Saved embedding for increased residual urine volume to ../../graphs/drug/ATC3/drug_ent_emb/increased residual urine volume.json\n",
      "Skipping patch administration. Embedding file already exists.\n",
      "Skipping blood vessel appearance. Embedding file already exists.\n"
     ]
    },
    {
     "name": "stderr",
     "output_type": "stream",
     "text": [
      "  7%|▋         | 1387/20859 [05:37<45:28,  7.14it/s]"
     ]
    },
    {
     "name": "stdout",
     "output_type": "stream",
     "text": [
      "Saved embedding for an immune-mediated respiratory condition to ../../graphs/drug/ATC3/drug_ent_emb/an immune-mediated respiratory condition.json\n"
     ]
    },
    {
     "name": "stderr",
     "output_type": "stream",
     "text": [
      "  7%|▋         | 1388/20859 [05:37<58:10,  5.58it/s]"
     ]
    },
    {
     "name": "stdout",
     "output_type": "stream",
     "text": [
      "Saved embedding for relieving symptoms of a hoarse voice to ../../graphs/drug/ATC3/drug_ent_emb/relieving symptoms of a hoarse voice.json\n"
     ]
    },
    {
     "name": "stderr",
     "output_type": "stream",
     "text": [
      "  7%|▋         | 1389/20859 [05:38<1:11:48,  4.52it/s]"
     ]
    },
    {
     "name": "stdout",
     "output_type": "stream",
     "text": [
      "Saved embedding for long-term treatment to ../../graphs/drug/ATC3/drug_ent_emb/long-term treatment.json\n",
      "Skipping from plasma or serum. Embedding file already exists.\n"
     ]
    },
    {
     "name": "stderr",
     "output_type": "stream",
     "text": [
      "  7%|▋         | 1391/20859 [05:39<1:22:39,  3.93it/s]"
     ]
    },
    {
     "name": "stdout",
     "output_type": "stream",
     "text": [
      "Saved embedding for want to practice birth control to ../../graphs/drug/ATC3/drug_ent_emb/want to practice birth control.json\n",
      "Skipping time to show results. Embedding file already exists.\n",
      "Skipping esophageal spasm relief. Embedding file already exists.\n"
     ]
    },
    {
     "name": "stderr",
     "output_type": "stream",
     "text": [
      "  7%|▋         | 1394/20859 [05:39<1:09:57,  4.64it/s]"
     ]
    },
    {
     "name": "stdout",
     "output_type": "stream",
     "text": [
      "Saved embedding for a written order for medication to ../../graphs/drug/ATC3/drug_ent_emb/a written order for medication.json\n",
      "Skipping hair follicle growth. Embedding file already exists.\n",
      "Skipping for chronic obstructive pulmonary disease. Embedding file already exists.\n"
     ]
    },
    {
     "name": "stderr",
     "output_type": "stream",
     "text": [
      "  7%|▋         | 1397/20859 [05:39<1:02:29,  5.19it/s]"
     ]
    },
    {
     "name": "stdout",
     "output_type": "stream",
     "text": [
      "Saved embedding for by intravenous injection to ../../graphs/drug/ATC3/drug_ent_emb/by intravenous injection.json\n"
     ]
    },
    {
     "name": "stderr",
     "output_type": "stream",
     "text": [
      "  7%|▋         | 1398/20859 [05:40<1:17:23,  4.19it/s]"
     ]
    },
    {
     "name": "stdout",
     "output_type": "stream",
     "text": [
      "Saved embedding for used in patients with renal impairment to ../../graphs/drug/ATC3/drug_ent_emb/used in patients with renal impairment.json\n"
     ]
    },
    {
     "name": "stderr",
     "output_type": "stream",
     "text": [
      "  7%|▋         | 1399/20859 [05:41<1:43:56,  3.12it/s]"
     ]
    },
    {
     "name": "stdout",
     "output_type": "stream",
     "text": [
      "Saved embedding for symptomatic relief for chronic diarrhea to ../../graphs/drug/ATC3/drug_ent_emb/symptomatic relief for chronic diarrhea.json\n",
      "Skipping sprayed or applied topically. Embedding file already exists.\n",
      "Skipping anti-viral medications. Embedding file already exists.\n"
     ]
    },
    {
     "name": "stderr",
     "output_type": "stream",
     "text": [
      "  7%|▋         | 1402/20859 [05:42<1:47:20,  3.02it/s]"
     ]
    },
    {
     "name": "stdout",
     "output_type": "stream",
     "text": [
      "Saved embedding for as a topical solution to ../../graphs/drug/ATC3/drug_ent_emb/as a topical solution.json\n",
      "Skipping be used for persistent coughs. Embedding file already exists.\n",
      "Skipping benign prostatic hyperplasia. Embedding file already exists.\n"
     ]
    },
    {
     "name": "stderr",
     "output_type": "stream",
     "text": [
      "  7%|▋         | 1405/20859 [05:42<1:26:31,  3.75it/s]"
     ]
    },
    {
     "name": "stdout",
     "output_type": "stream",
     "text": [
      "Saved embedding for used in combination with surgery to ../../graphs/drug/ATC3/drug_ent_emb/used in combination with surgery.json\n",
      "Skipping lipotropics in combination. Embedding file already exists.\n",
      "Skipping purchased online or in stores. Embedding file already exists.\n"
     ]
    },
    {
     "name": "stderr",
     "output_type": "stream",
     "text": [
      "  7%|▋         | 1408/20859 [05:43<1:34:57,  3.41it/s]"
     ]
    },
    {
     "name": "stdout",
     "output_type": "stream",
     "text": [
      "Saved embedding for to be adjusted over time to ../../graphs/drug/ATC3/drug_ent_emb/to be adjusted over time.json\n"
     ]
    },
    {
     "name": "stderr",
     "output_type": "stream",
     "text": [
      "  7%|▋         | 1409/20859 [05:44<1:43:05,  3.14it/s]"
     ]
    },
    {
     "name": "stdout",
     "output_type": "stream",
     "text": [
      "Saved embedding for anticonvulsants to ../../graphs/drug/ATC3/drug_ent_emb/anticonvulsants.json\n"
     ]
    },
    {
     "name": "stderr",
     "output_type": "stream",
     "text": [
      "  7%|▋         | 1410/20859 [05:44<1:49:33,  2.96it/s]"
     ]
    },
    {
     "name": "stdout",
     "output_type": "stream",
     "text": [
      "Saved embedding for the risk of hyperuricemia to ../../graphs/drug/ATC3/drug_ent_emb/the risk of hyperuricemia.json\n",
      "Skipping used to treat impetigo. Embedding file already exists.\n"
     ]
    },
    {
     "name": "stderr",
     "output_type": "stream",
     "text": [
      "  7%|▋         | 1412/20859 [05:45<1:38:40,  3.28it/s]"
     ]
    },
    {
     "name": "stdout",
     "output_type": "stream",
     "text": [
      "Saved embedding for moisture from affecting the medication to ../../graphs/drug/ATC3/drug_ent_emb/moisture from affecting the medication.json\n",
      "Skipping patients with certain cardiovascular conditions. Embedding file already exists.\n"
     ]
    },
    {
     "name": "stderr",
     "output_type": "stream",
     "text": [
      "  7%|▋         | 1414/20859 [05:46<1:58:27,  2.74it/s]"
     ]
    },
    {
     "name": "stdout",
     "output_type": "stream",
     "text": [
      "Saved embedding for diabetic retinopathy to ../../graphs/drug/ATC3/drug_ent_emb/diabetic retinopathy.json\n"
     ]
    },
    {
     "name": "stderr",
     "output_type": "stream",
     "text": [
      "  7%|▋         | 1415/20859 [05:46<2:17:38,  2.35it/s]"
     ]
    },
    {
     "name": "stdout",
     "output_type": "stream",
     "text": [
      "Saved embedding for strict adherence to protocols to ../../graphs/drug/ATC3/drug_ent_emb/strict adherence to protocols.json\n",
      "Skipping harmful to crickets. Embedding file already exists.\n"
     ]
    },
    {
     "name": "stderr",
     "output_type": "stream",
     "text": [
      "  7%|▋         | 1417/20859 [05:47<1:56:35,  2.78it/s]"
     ]
    },
    {
     "name": "stdout",
     "output_type": "stream",
     "text": [
      "Saved embedding for scar visibility to ../../graphs/drug/ATC3/drug_ent_emb/scar visibility.json\n",
      "Skipping drug efficacy. Embedding file already exists.\n",
      "Skipping detecting pancreatic tumors. Embedding file already exists.\n",
      "Skipping multidrug-resistant. Embedding file already exists.\n"
     ]
    },
    {
     "name": "stderr",
     "output_type": "stream",
     "text": [
      "  7%|▋         | 1421/20859 [05:47<1:16:18,  4.25it/s]"
     ]
    },
    {
     "name": "stdout",
     "output_type": "stream",
     "text": [
      "Saved embedding for dendritic cells to ../../graphs/drug/ATC3/drug_ent_emb/dendritic cells.json\n"
     ]
    },
    {
     "name": "stderr",
     "output_type": "stream",
     "text": [
      "  7%|▋         | 1422/20859 [05:48<1:27:21,  3.71it/s]"
     ]
    },
    {
     "name": "stdout",
     "output_type": "stream",
     "text": [
      "Saved embedding for product safety to ../../graphs/drug/ATC3/drug_ent_emb/product safety.json\n",
      "Skipping medical doctor specializing in eye care. Embedding file already exists.\n",
      "Skipping for immunoassays. Embedding file already exists.\n"
     ]
    },
    {
     "name": "stderr",
     "output_type": "stream",
     "text": [
      "  7%|▋         | 1425/20859 [05:48<1:12:33,  4.46it/s]"
     ]
    },
    {
     "name": "stdout",
     "output_type": "stream",
     "text": [
      "Saved embedding for used by individuals with a history of hypersensitivity to the medication to ../../graphs/drug/ATC3/drug_ent_emb/used by individuals with a history of hypersensitivity to the medication.json\n",
      "Skipping used for preoperative anxiety. Embedding file already exists.\n"
     ]
    },
    {
     "name": "stderr",
     "output_type": "stream",
     "text": [
      "  7%|▋         | 1427/20859 [05:49<1:12:38,  4.46it/s]"
     ]
    },
    {
     "name": "stdout",
     "output_type": "stream",
     "text": [
      "Saved embedding for used in women with hormone deficiencies to ../../graphs/drug/ATC3/drug_ent_emb/used in women with hormone deficiencies.json\n",
      "Skipping be used with certain mental health disorders. Embedding file already exists.\n"
     ]
    },
    {
     "name": "stderr",
     "output_type": "stream",
     "text": [
      "  7%|▋         | 1429/20859 [05:49<1:12:52,  4.44it/s]"
     ]
    },
    {
     "name": "stdout",
     "output_type": "stream",
     "text": [
      "Saved embedding for to pregnant women with severe morning sickness to ../../graphs/drug/ATC3/drug_ent_emb/to pregnant women with severe morning sickness.json\n"
     ]
    },
    {
     "name": "stderr",
     "output_type": "stream",
     "text": [
      "  7%|▋         | 1430/20859 [05:49<1:24:28,  3.83it/s]"
     ]
    },
    {
     "name": "stdout",
     "output_type": "stream",
     "text": [
      "Saved embedding for for asthma to ../../graphs/drug/ATC3/drug_ent_emb/for asthma.json\n"
     ]
    },
    {
     "name": "stderr",
     "output_type": "stream",
     "text": [
      "  7%|▋         | 1431/20859 [05:50<1:37:44,  3.31it/s]"
     ]
    },
    {
     "name": "stdout",
     "output_type": "stream",
     "text": [
      "Saved embedding for through supplements to ../../graphs/drug/ATC3/drug_ent_emb/through supplements.json\n",
      "Skipping can cause mutations. Embedding file already exists.\n",
      "Skipping the effectiveness of diuretic medications. Embedding file already exists.\n",
      "Skipping respiratory infections. Embedding file already exists.\n",
      "Skipping blood purification. Embedding file already exists.\n",
      "Skipping used for stomach spasms. Embedding file already exists.\n",
      "Skipping in the treatment of acute pain. Embedding file already exists.\n"
     ]
    },
    {
     "name": "stderr",
     "output_type": "stream",
     "text": [
      "  7%|▋         | 1438/20859 [05:50<47:45,  6.78it/s]  "
     ]
    },
    {
     "name": "stdout",
     "output_type": "stream",
     "text": [
      "Saved embedding for in patients with cyclosporine nephrotoxicity to ../../graphs/drug/ATC3/drug_ent_emb/in patients with cyclosporine nephrotoxicity.json\n"
     ]
    },
    {
     "name": "stderr",
     "output_type": "stream",
     "text": [
      "  7%|▋         | 1439/20859 [05:51<58:55,  5.49it/s]"
     ]
    },
    {
     "name": "stdout",
     "output_type": "stream",
     "text": [
      "Saved embedding for healthy stomach acid production to ../../graphs/drug/ATC3/drug_ent_emb/healthy stomach acid production.json\n"
     ]
    },
    {
     "name": "stderr",
     "output_type": "stream",
     "text": [
      "  7%|▋         | 1440/20859 [05:51<1:10:34,  4.59it/s]"
     ]
    },
    {
     "name": "stdout",
     "output_type": "stream",
     "text": [
      "Saved embedding for magnetic resonance imaging contrast media to ../../graphs/drug/ATC3/drug_ent_emb/magnetic resonance imaging contrast media.json\n",
      "Skipping used for vertigo. Embedding file already exists.\n"
     ]
    },
    {
     "name": "stderr",
     "output_type": "stream",
     "text": [
      "  7%|▋         | 1442/20859 [05:52<1:13:24,  4.41it/s]"
     ]
    },
    {
     "name": "stdout",
     "output_type": "stream",
     "text": [
      "Saved embedding for individuals with nutrient deficiencies to ../../graphs/drug/ATC3/drug_ent_emb/individuals with nutrient deficiencies.json\n"
     ]
    },
    {
     "name": "stderr",
     "output_type": "stream",
     "text": [
      "  7%|▋         | 1443/20859 [05:52<1:25:40,  3.78it/s]"
     ]
    },
    {
     "name": "stdout",
     "output_type": "stream",
     "text": [
      "Saved embedding for interconnectedness to ../../graphs/drug/ATC3/drug_ent_emb/interconnectedness.json\n"
     ]
    },
    {
     "name": "stderr",
     "output_type": "stream",
     "text": [
      "  7%|▋         | 1444/20859 [05:53<1:36:43,  3.35it/s]"
     ]
    },
    {
     "name": "stdout",
     "output_type": "stream",
     "text": [
      "Saved embedding for abnormal cells to ../../graphs/drug/ATC3/drug_ent_emb/abnormal cells.json\n"
     ]
    },
    {
     "name": "stderr",
     "output_type": "stream",
     "text": [
      "  7%|▋         | 1445/20859 [05:53<1:52:17,  2.88it/s]"
     ]
    },
    {
     "name": "stdout",
     "output_type": "stream",
     "text": [
      "Saved embedding for administered on an outpatient basis to ../../graphs/drug/ATC3/drug_ent_emb/administered on an outpatient basis.json\n"
     ]
    },
    {
     "name": "stderr",
     "output_type": "stream",
     "text": [
      "  7%|▋         | 1446/20859 [05:54<2:02:07,  2.65it/s]"
     ]
    },
    {
     "name": "stdout",
     "output_type": "stream",
     "text": [
      "Saved embedding for affected by substance abuse to ../../graphs/drug/ATC3/drug_ent_emb/affected by substance abuse.json\n",
      "Skipping used as a last resort. Embedding file already exists.\n",
      "Skipping recommended for pregnant women. Embedding file already exists.\n",
      "Skipping for treatment understanding. Embedding file already exists.\n",
      "Skipping sports hygiene. Embedding file already exists.\n",
      "Skipping used in mass drug administration programs. Embedding file already exists.\n",
      "Skipping by glucose levels. Embedding file already exists.\n",
      "Skipping stigmatization. Embedding file already exists.\n",
      "Skipping important information and expiration date. Embedding file already exists.\n",
      "Skipping intrusive thoughts and repetitive behaviors. Embedding file already exists.\n",
      "Skipping diagnosis challenging. Embedding file already exists.\n"
     ]
    },
    {
     "name": "stderr",
     "output_type": "stream",
     "text": [
      "  7%|▋         | 1457/20859 [05:54<36:19,  8.90it/s]  "
     ]
    },
    {
     "name": "stdout",
     "output_type": "stream",
     "text": [
      "Saved embedding for contraindicated in patients with bradycardia to ../../graphs/drug/ATC3/drug_ent_emb/contraindicated in patients with bradycardia.json\n",
      "Skipping runny nose. Embedding file already exists.\n",
      "Skipping bone health. Embedding file already exists.\n"
     ]
    },
    {
     "name": "stderr",
     "output_type": "stream",
     "text": [
      "  7%|▋         | 1460/20859 [05:55<38:59,  8.29it/s]"
     ]
    },
    {
     "name": "stdout",
     "output_type": "stream",
     "text": [
      "Saved embedding for therapy to ../../graphs/drug/ATC3/drug_ent_emb/therapy.json\n"
     ]
    },
    {
     "name": "stderr",
     "output_type": "stream",
     "text": [
      "  7%|▋         | 1461/20859 [05:55<50:50,  6.36it/s]"
     ]
    },
    {
     "name": "stdout",
     "output_type": "stream",
     "text": [
      "Saved embedding for avoided by pregnant and breastfeeding women to ../../graphs/drug/ATC3/drug_ent_emb/avoided by pregnant and breastfeeding women.json\n"
     ]
    },
    {
     "name": "stderr",
     "output_type": "stream",
     "text": [
      "  7%|▋         | 1462/20859 [05:55<1:02:08,  5.20it/s]"
     ]
    },
    {
     "name": "stdout",
     "output_type": "stream",
     "text": [
      "Saved embedding for B cells to ../../graphs/drug/ATC3/drug_ent_emb/B cells.json\n",
      "Skipping temporary blurriness. Embedding file already exists.\n"
     ]
    },
    {
     "name": "stderr",
     "output_type": "stream",
     "text": [
      "  7%|▋         | 1464/20859 [05:56<1:10:16,  4.60it/s]"
     ]
    },
    {
     "name": "stdout",
     "output_type": "stream",
     "text": [
      "Saved embedding for obtained from human donors to ../../graphs/drug/ATC3/drug_ent_emb/obtained from human donors.json\n",
      "Skipping benztropine. Embedding file already exists.\n",
      "Skipping symptoms of vertigo. Embedding file already exists.\n",
      "Skipping animal studies. Embedding file already exists.\n"
     ]
    },
    {
     "name": "stderr",
     "output_type": "stream",
     "text": [
      "  7%|▋         | 1468/20859 [05:57<56:39,  5.70it/s]  "
     ]
    },
    {
     "name": "stdout",
     "output_type": "stream",
     "text": [
      "Saved embedding for prescribed for urinary fistulas to ../../graphs/drug/ATC3/drug_ent_emb/prescribed for urinary fistulas.json\n"
     ]
    },
    {
     "name": "stderr",
     "output_type": "stream",
     "text": [
      "  7%|▋         | 1469/20859 [05:57<1:08:12,  4.74it/s]"
     ]
    },
    {
     "name": "stdout",
     "output_type": "stream",
     "text": [
      "Saved embedding for in managing postoperative nausea and vomiting to ../../graphs/drug/ATC3/drug_ent_emb/in managing postoperative nausea and vomiting.json\n",
      "Skipping androgen receptors. Embedding file already exists.\n"
     ]
    },
    {
     "name": "stderr",
     "output_type": "stream",
     "text": [
      "  7%|▋         | 1471/20859 [05:57<1:10:27,  4.59it/s]"
     ]
    },
    {
     "name": "stdout",
     "output_type": "stream",
     "text": [
      "Saved embedding for combined with antineoplastic drugs to ../../graphs/drug/ATC3/drug_ent_emb/combined with antineoplastic drugs.json\n"
     ]
    },
    {
     "name": "stderr",
     "output_type": "stream",
     "text": [
      "  7%|▋         | 1472/20859 [05:59<1:53:54,  2.84it/s]"
     ]
    },
    {
     "name": "stdout",
     "output_type": "stream",
     "text": [
      "Saved embedding for checked before use to ../../graphs/drug/ATC3/drug_ent_emb/checked before use.json\n",
      "Skipping symptoms of uremia. Embedding file already exists.\n"
     ]
    },
    {
     "name": "stderr",
     "output_type": "stream",
     "text": [
      "  7%|▋         | 1474/20859 [05:59<1:41:36,  3.18it/s]"
     ]
    },
    {
     "name": "stdout",
     "output_type": "stream",
     "text": [
      "Saved embedding for involved in the metabolism of tryptophan to ../../graphs/drug/ATC3/drug_ent_emb/involved in the metabolism of tryptophan.json\n",
      "Skipping recommended guidelines. Embedding file already exists.\n",
      "Skipping proper injection technique. Embedding file already exists.\n"
     ]
    },
    {
     "name": "stderr",
     "output_type": "stream",
     "text": [
      "  7%|▋         | 1477/20859 [05:59<1:19:33,  4.06it/s]"
     ]
    },
    {
     "name": "stdout",
     "output_type": "stream",
     "text": [
      "Saved embedding for increased risk of side effects to ../../graphs/drug/ATC3/drug_ent_emb/increased risk of side effects.json\n",
      "Skipping used for localized skin conditions. Embedding file already exists.\n",
      "Skipping cool and dry place. Embedding file already exists.\n"
     ]
    },
    {
     "name": "stderr",
     "output_type": "stream",
     "text": [
      "  7%|▋         | 1480/20859 [06:00<1:07:41,  4.77it/s]"
     ]
    },
    {
     "name": "stdout",
     "output_type": "stream",
     "text": [
      "Saved embedding for blood pressure when taken with antidepressant medications to ../../graphs/drug/ATC3/drug_ent_emb/blood pressure when taken with antidepressant medications.json\n"
     ]
    },
    {
     "name": "stderr",
     "output_type": "stream",
     "text": [
      "  7%|▋         | 1481/20859 [06:00<1:18:17,  4.13it/s]"
     ]
    },
    {
     "name": "stdout",
     "output_type": "stream",
     "text": [
      "Saved embedding for regulate blood pressure to ../../graphs/drug/ATC3/drug_ent_emb/regulate blood pressure.json\n"
     ]
    },
    {
     "name": "stderr",
     "output_type": "stream",
     "text": [
      "  7%|▋         | 1482/20859 [06:01<1:30:11,  3.58it/s]"
     ]
    },
    {
     "name": "stdout",
     "output_type": "stream",
     "text": [
      "Saved embedding for variations in the effectiveness of the medication to ../../graphs/drug/ATC3/drug_ent_emb/variations in the effectiveness of the medication.json\n"
     ]
    },
    {
     "name": "stderr",
     "output_type": "stream",
     "text": [
      "  7%|▋         | 1483/20859 [06:01<1:40:12,  3.22it/s]"
     ]
    },
    {
     "name": "stdout",
     "output_type": "stream",
     "text": [
      "Saved embedding for used in patients receiving palliative care to ../../graphs/drug/ATC3/drug_ent_emb/used in patients receiving palliative care.json\n"
     ]
    },
    {
     "name": "stderr",
     "output_type": "stream",
     "text": [
      "  7%|▋         | 1484/20859 [06:02<1:50:33,  2.92it/s]"
     ]
    },
    {
     "name": "stdout",
     "output_type": "stream",
     "text": [
      "Saved embedding for increased susceptibility to infections to ../../graphs/drug/ATC3/drug_ent_emb/increased susceptibility to infections.json\n"
     ]
    },
    {
     "name": "stderr",
     "output_type": "stream",
     "text": [
      "  7%|▋         | 1485/20859 [06:02<2:01:28,  2.66it/s]"
     ]
    },
    {
     "name": "stdout",
     "output_type": "stream",
     "text": [
      "Saved embedding for increased or decreased to ../../graphs/drug/ATC3/drug_ent_emb/increased or decreased.json\n",
      "Skipping the functioning of the endocrine system. Embedding file already exists.\n",
      "Skipping waste products from blood. Embedding file already exists.\n",
      "Skipping immune dysregulation. Embedding file already exists.\n",
      "Skipping iron to be excreted by the skin. Embedding file already exists.\n",
      "Skipping ankylosing spondylitis. Embedding file already exists.\n"
     ]
    },
    {
     "name": "stderr",
     "output_type": "stream",
     "text": [
      "  7%|▋         | 1491/20859 [06:03<1:05:03,  4.96it/s]"
     ]
    },
    {
     "name": "stdout",
     "output_type": "stream",
     "text": [
      "Saved embedding for hemorrhage risk to ../../graphs/drug/ATC3/drug_ent_emb/hemorrhage risk.json\n"
     ]
    },
    {
     "name": "stderr",
     "output_type": "stream",
     "text": [
      "  7%|▋         | 1492/20859 [06:03<1:15:21,  4.28it/s]"
     ]
    },
    {
     "name": "stdout",
     "output_type": "stream",
     "text": [
      "Saved embedding for decreased renal function to ../../graphs/drug/ATC3/drug_ent_emb/decreased renal function.json\n",
      "Skipping success in weight loss. Embedding file already exists.\n"
     ]
    },
    {
     "name": "stderr",
     "output_type": "stream",
     "text": [
      "  7%|▋         | 1494/20859 [06:04<1:38:58,  3.26it/s]"
     ]
    },
    {
     "name": "stdout",
     "output_type": "stream",
     "text": [
      "Saved embedding for effective for short-term relief to ../../graphs/drug/ATC3/drug_ent_emb/effective for short-term relief.json\n"
     ]
    },
    {
     "name": "stderr",
     "output_type": "stream",
     "text": [
      "  7%|▋         | 1495/20859 [06:05<1:48:28,  2.98it/s]"
     ]
    },
    {
     "name": "stdout",
     "output_type": "stream",
     "text": [
      "Saved embedding for Liddle syndrome to ../../graphs/drug/ATC3/drug_ent_emb/Liddle syndrome.json\n",
      "Skipping drug interactions with certain antibiotics. Embedding file already exists.\n",
      "Skipping if allergic reactions occur. Embedding file already exists.\n"
     ]
    },
    {
     "name": "stderr",
     "output_type": "stream",
     "text": [
      "  7%|▋         | 1498/20859 [06:05<1:32:18,  3.50it/s]"
     ]
    },
    {
     "name": "stdout",
     "output_type": "stream",
     "text": [
      "Saved embedding for success for all to ../../graphs/drug/ATC3/drug_ent_emb/success for all.json\n"
     ]
    },
    {
     "name": "stderr",
     "output_type": "stream",
     "text": [
      "  7%|▋         | 1499/20859 [06:06<1:40:11,  3.22it/s]"
     ]
    },
    {
     "name": "stdout",
     "output_type": "stream",
     "text": [
      "Saved embedding for appropriateness and safety to ../../graphs/drug/ATC3/drug_ent_emb/appropriateness and safety.json\n"
     ]
    },
    {
     "name": "stderr",
     "output_type": "stream",
     "text": [
      "  7%|▋         | 1500/20859 [06:06<1:52:07,  2.88it/s]"
     ]
    },
    {
     "name": "stdout",
     "output_type": "stream",
     "text": [
      "Saved embedding for further evidence to ../../graphs/drug/ATC3/drug_ent_emb/further evidence.json\n"
     ]
    },
    {
     "name": "stderr",
     "output_type": "stream",
     "text": [
      "  7%|▋         | 1501/20859 [06:07<2:01:24,  2.66it/s]"
     ]
    },
    {
     "name": "stdout",
     "output_type": "stream",
     "text": [
      "Saved embedding for proper administration to ../../graphs/drug/ATC3/drug_ent_emb/proper administration.json\n"
     ]
    },
    {
     "name": "stderr",
     "output_type": "stream",
     "text": [
      "  7%|▋         | 1502/20859 [06:07<2:16:51,  2.36it/s]"
     ]
    },
    {
     "name": "stdout",
     "output_type": "stream",
     "text": [
      "Saved embedding for cautiously with antacids to ../../graphs/drug/ATC3/drug_ent_emb/cautiously with antacids.json\n",
      "Skipping with oral hydration. Embedding file already exists.\n",
      "Skipping heat-sensitive. Embedding file already exists.\n",
      "Skipping regular monitoring of vital signs. Embedding file already exists.\n",
      "Skipping stored in ultra-low temperature freezers. Embedding file already exists.\n",
      "Skipping evaluating thyroid hormone receptor status. Embedding file already exists.\n"
     ]
    },
    {
     "name": "stderr",
     "output_type": "stream",
     "text": [
      "  7%|▋         | 1508/20859 [06:08<1:02:05,  5.19it/s]"
     ]
    },
    {
     "name": "stdout",
     "output_type": "stream",
     "text": [
      "Saved embedding for antiandrogenic effects to ../../graphs/drug/ATC3/drug_ent_emb/antiandrogenic effects.json\n"
     ]
    },
    {
     "name": "stderr",
     "output_type": "stream",
     "text": [
      "  7%|▋         | 1509/20859 [06:08<1:17:52,  4.14it/s]"
     ]
    },
    {
     "name": "stdout",
     "output_type": "stream",
     "text": [
      "Saved embedding for sharing insulin to ../../graphs/drug/ATC3/drug_ent_emb/sharing insulin.json\n"
     ]
    },
    {
     "name": "stderr",
     "output_type": "stream",
     "text": [
      "  7%|▋         | 1510/20859 [06:09<1:35:57,  3.36it/s]"
     ]
    },
    {
     "name": "stdout",
     "output_type": "stream",
     "text": [
      "Saved embedding for a maximum dosage to ../../graphs/drug/ATC3/drug_ent_emb/a maximum dosage.json\n"
     ]
    },
    {
     "name": "stderr",
     "output_type": "stream",
     "text": [
      "  7%|▋         | 1511/20859 [06:09<1:44:00,  3.10it/s]"
     ]
    },
    {
     "name": "stdout",
     "output_type": "stream",
     "text": [
      "Saved embedding for debris to ../../graphs/drug/ATC3/drug_ent_emb/debris.json\n",
      "Skipping have neuroprotective effects. Embedding file already exists.\n",
      "Skipping daily nutrient requirements. Embedding file already exists.\n"
     ]
    },
    {
     "name": "stderr",
     "output_type": "stream",
     "text": [
      "  7%|▋         | 1514/20859 [06:10<1:23:33,  3.86it/s]"
     ]
    },
    {
     "name": "stdout",
     "output_type": "stream",
     "text": [
      "Saved embedding for interactions with supplements to ../../graphs/drug/ATC3/drug_ent_emb/interactions with supplements.json\n"
     ]
    },
    {
     "name": "stderr",
     "output_type": "stream",
     "text": [
      "  7%|▋         | 1515/20859 [06:10<1:34:14,  3.42it/s]"
     ]
    },
    {
     "name": "stdout",
     "output_type": "stream",
     "text": [
      "Saved embedding for used for treatment of pemphigus vulgaris to ../../graphs/drug/ATC3/drug_ent_emb/used for treatment of pemphigus vulgaris.json\n",
      "Skipping renal excretion. Embedding file already exists.\n"
     ]
    },
    {
     "name": "stderr",
     "output_type": "stream",
     "text": [
      "  7%|▋         | 1517/20859 [06:11<1:26:08,  3.74it/s]"
     ]
    },
    {
     "name": "stdout",
     "output_type": "stream",
     "text": [
      "Saved embedding for keratolytics to ../../graphs/drug/ATC3/drug_ent_emb/keratolytics.json\n",
      "Skipping safe for pregnant women. Embedding file already exists.\n",
      "Skipping it should be stored in a sterile environment. Embedding file already exists.\n",
      "Skipping difficulties in impulse control. Embedding file already exists.\n"
     ]
    },
    {
     "name": "stderr",
     "output_type": "stream",
     "text": [
      "  7%|▋         | 1521/20859 [06:11<1:01:40,  5.23it/s]"
     ]
    },
    {
     "name": "stdout",
     "output_type": "stream",
     "text": [
      "Saved embedding for adherence to ../../graphs/drug/ATC3/drug_ent_emb/adherence.json\n"
     ]
    },
    {
     "name": "stderr",
     "output_type": "stream",
     "text": [
      "  7%|▋         | 1522/20859 [06:12<1:14:15,  4.34it/s]"
     ]
    },
    {
     "name": "stdout",
     "output_type": "stream",
     "text": [
      "Saved embedding for appropriate management to ../../graphs/drug/ATC3/drug_ent_emb/appropriate management.json\n"
     ]
    },
    {
     "name": "stderr",
     "output_type": "stream",
     "text": [
      "  7%|▋         | 1523/20859 [06:12<1:35:08,  3.39it/s]"
     ]
    },
    {
     "name": "stdout",
     "output_type": "stream",
     "text": [
      "Saved embedding for sexually transmitted infections to ../../graphs/drug/ATC3/drug_ent_emb/sexually transmitted infections.json\n",
      "Skipping postpartum anxiety. Embedding file already exists.\n"
     ]
    },
    {
     "name": "stderr",
     "output_type": "stream",
     "text": [
      "  7%|▋         | 1525/20859 [06:13<1:26:51,  3.71it/s]"
     ]
    },
    {
     "name": "stdout",
     "output_type": "stream",
     "text": [
      "Saved embedding for chronic ear infections to ../../graphs/drug/ATC3/drug_ent_emb/chronic ear infections.json\n",
      "Skipping metabolized in the liver. Embedding file already exists.\n"
     ]
    },
    {
     "name": "stderr",
     "output_type": "stream",
     "text": [
      "  7%|▋         | 1527/20859 [06:13<1:23:49,  3.84it/s]"
     ]
    },
    {
     "name": "stdout",
     "output_type": "stream",
     "text": [
      "Saved embedding for providing pre-formed antibodies to ../../graphs/drug/ATC3/drug_ent_emb/providing pre-formed antibodies.json\n",
      "Skipping enhanced image contrast. Embedding file already exists.\n",
      "Skipping protected from contamination. Embedding file already exists.\n"
     ]
    },
    {
     "name": "stderr",
     "output_type": "stream",
     "text": [
      "  7%|▋         | 1530/20859 [06:14<1:09:27,  4.64it/s]"
     ]
    },
    {
     "name": "stdout",
     "output_type": "stream",
     "text": [
      "Saved embedding for bronchospasms to ../../graphs/drug/ATC3/drug_ent_emb/bronchospasms.json\n",
      "Skipping holistic health. Embedding file already exists.\n"
     ]
    },
    {
     "name": "stderr",
     "output_type": "stream",
     "text": [
      "  7%|▋         | 1532/20859 [06:14<1:11:53,  4.48it/s]"
     ]
    },
    {
     "name": "stdout",
     "output_type": "stream",
     "text": [
      "Saved embedding for in patients with bleeding disorders to ../../graphs/drug/ATC3/drug_ent_emb/in patients with bleeding disorders.json\n",
      "Skipping respiratory depression in high doses. Embedding file already exists.\n",
      "Skipping manage bleeding in patients with thrombocythemia. Embedding file already exists.\n"
     ]
    },
    {
     "name": "stderr",
     "output_type": "stream",
     "text": [
      "  7%|▋         | 1535/20859 [06:15<1:02:51,  5.12it/s]"
     ]
    },
    {
     "name": "stdout",
     "output_type": "stream",
     "text": [
      "Saved embedding for shots given into muscle to ../../graphs/drug/ATC3/drug_ent_emb/shots given into muscle.json\n",
      "Skipping pellet administration. Embedding file already exists.\n",
      "Skipping while taking other antidiarrheals. Embedding file already exists.\n",
      "Skipping for chronic pain relief. Embedding file already exists.\n",
      "Skipping manage rheumatoid arthritis. Embedding file already exists.\n"
     ]
    },
    {
     "name": "stderr",
     "output_type": "stream",
     "text": [
      "  7%|▋         | 1540/20859 [06:15<46:44,  6.89it/s]  "
     ]
    },
    {
     "name": "stdout",
     "output_type": "stream",
     "text": [
      "Saved embedding for bacterial growth to ../../graphs/drug/ATC3/drug_ent_emb/bacterial growth.json\n",
      "Skipping healthcare-associated infection prevention. Embedding file already exists.\n",
      "Skipping ethopropazine. Embedding file already exists.\n",
      "Skipping in the form of lotions. Embedding file already exists.\n",
      "Skipping studied for potential drug repurposing. Embedding file already exists.\n"
     ]
    },
    {
     "name": "stderr",
     "output_type": "stream",
     "text": [
      "  7%|▋         | 1545/20859 [06:16<39:49,  8.08it/s]"
     ]
    },
    {
     "name": "stdout",
     "output_type": "stream",
     "text": [
      "Saved embedding for erythropoiesis stimulation to ../../graphs/drug/ATC3/drug_ent_emb/erythropoiesis stimulation.json\n",
      "Skipping regular liver function tests. Embedding file already exists.\n",
      "Skipping heart health. Embedding file already exists.\n"
     ]
    },
    {
     "name": "stderr",
     "output_type": "stream",
     "text": [
      "  7%|▋         | 1548/20859 [06:16<41:26,  7.77it/s]"
     ]
    },
    {
     "name": "stdout",
     "output_type": "stream",
     "text": [
      "Saved embedding for in the management of Crohn's disease to ../../graphs/drug/ATC3/drug_ent_emb/in the management of Crohn's disease.json\n",
      "Skipping dosage adherence. Embedding file already exists.\n",
      "Skipping various mechanisms of action. Embedding file already exists.\n"
     ]
    },
    {
     "name": "stderr",
     "output_type": "stream",
     "text": [
      "  7%|▋         | 1551/20859 [06:16<44:49,  7.18it/s]"
     ]
    },
    {
     "name": "stdout",
     "output_type": "stream",
     "text": [
      "Saved embedding for slow titration to ../../graphs/drug/ATC3/drug_ent_emb/slow titration.json\n"
     ]
    },
    {
     "name": "stderr",
     "output_type": "stream",
     "text": [
      "  7%|▋         | 1552/20859 [06:17<56:57,  5.65it/s]"
     ]
    },
    {
     "name": "stdout",
     "output_type": "stream",
     "text": [
      "Saved embedding for individuals and communities to ../../graphs/drug/ATC3/drug_ent_emb/individuals and communities.json\n",
      "Skipping relieving bronchospasms. Embedding file already exists.\n",
      "Skipping saliva substitutes. Embedding file already exists.\n"
     ]
    },
    {
     "name": "stderr",
     "output_type": "stream",
     "text": [
      "  7%|▋         | 1555/20859 [06:17<54:01,  5.95it/s]"
     ]
    },
    {
     "name": "stdout",
     "output_type": "stream",
     "text": [
      "Saved embedding for acute anxiety to ../../graphs/drug/ATC3/drug_ent_emb/acute anxiety.json\n"
     ]
    },
    {
     "name": "stderr",
     "output_type": "stream",
     "text": [
      "  7%|▋         | 1556/20859 [06:18<1:07:16,  4.78it/s]"
     ]
    },
    {
     "name": "stdout",
     "output_type": "stream",
     "text": [
      "Saved embedding for diarrhea and vomiting to ../../graphs/drug/ATC3/drug_ent_emb/diarrhea and vomiting.json\n"
     ]
    },
    {
     "name": "stderr",
     "output_type": "stream",
     "text": [
      "  7%|▋         | 1557/20859 [06:18<1:18:45,  4.08it/s]"
     ]
    },
    {
     "name": "stdout",
     "output_type": "stream",
     "text": [
      "Saved embedding for organ perfusion to ../../graphs/drug/ATC3/drug_ent_emb/organ perfusion.json\n",
      "Skipping pregnancy complication characterized by high blood pressure and damage to organs. Embedding file already exists.\n",
      "Skipping attenuated whole-cell vaccines. Embedding file already exists.\n"
     ]
    },
    {
     "name": "stderr",
     "output_type": "stream",
     "text": [
      "  7%|▋         | 1560/20859 [06:19<1:05:59,  4.87it/s]"
     ]
    },
    {
     "name": "stdout",
     "output_type": "stream",
     "text": [
      "Saved embedding for regulated medicines to ../../graphs/drug/ATC3/drug_ent_emb/regulated medicines.json\n"
     ]
    },
    {
     "name": "stderr",
     "output_type": "stream",
     "text": [
      "  7%|▋         | 1561/20859 [06:19<1:31:24,  3.52it/s]"
     ]
    },
    {
     "name": "stdout",
     "output_type": "stream",
     "text": [
      "Saved embedding for metabolized by the liver to ../../graphs/drug/ATC3/drug_ent_emb/metabolized by the liver.json\n"
     ]
    },
    {
     "name": "stderr",
     "output_type": "stream",
     "text": [
      "  7%|▋         | 1562/20859 [06:20<1:41:51,  3.16it/s]"
     ]
    },
    {
     "name": "stdout",
     "output_type": "stream",
     "text": [
      "Saved embedding for varying protein content to ../../graphs/drug/ATC3/drug_ent_emb/varying protein content.json\n"
     ]
    },
    {
     "name": "stderr",
     "output_type": "stream",
     "text": [
      "  7%|▋         | 1563/20859 [06:20<1:59:30,  2.69it/s]"
     ]
    },
    {
     "name": "stdout",
     "output_type": "stream",
     "text": [
      "Saved embedding for a natural process to ../../graphs/drug/ATC3/drug_ent_emb/a natural process.json\n",
      "Skipping vehicles. Embedding file already exists.\n"
     ]
    },
    {
     "name": "stderr",
     "output_type": "stream",
     "text": [
      "  8%|▊         | 1565/20859 [06:21<1:41:41,  3.16it/s]"
     ]
    },
    {
     "name": "stdout",
     "output_type": "stream",
     "text": [
      "Saved embedding for itching and scaling of the scalp to ../../graphs/drug/ATC3/drug_ent_emb/itching and scaling of the scalp.json\n",
      "Skipping for the treatment of cutaneous sarcoidosis. Embedding file already exists.\n"
     ]
    },
    {
     "name": "stderr",
     "output_type": "stream",
     "text": [
      "  8%|▊         | 1567/20859 [06:21<1:31:14,  3.52it/s]"
     ]
    },
    {
     "name": "stdout",
     "output_type": "stream",
     "text": [
      "Saved embedding for dapsone to ../../graphs/drug/ATC3/drug_ent_emb/dapsone.json\n"
     ]
    },
    {
     "name": "stderr",
     "output_type": "stream",
     "text": [
      "  8%|▊         | 1568/20859 [06:22<1:43:36,  3.10it/s]"
     ]
    },
    {
     "name": "stdout",
     "output_type": "stream",
     "text": [
      "Saved embedding for assess glomerular filtration rate to ../../graphs/drug/ATC3/drug_ent_emb/assess glomerular filtration rate.json\n",
      "Skipping individuals with neurological disorders. Embedding file already exists.\n"
     ]
    },
    {
     "name": "stderr",
     "output_type": "stream",
     "text": [
      "  8%|▊         | 1570/20859 [06:22<1:31:07,  3.53it/s]"
     ]
    },
    {
     "name": "stdout",
     "output_type": "stream",
     "text": [
      "Saved embedding for with caution in patients with hormone-sensitive cancers to ../../graphs/drug/ATC3/drug_ent_emb/with caution in patients with hormone-sensitive cancers.json\n"
     ]
    },
    {
     "name": "stderr",
     "output_type": "stream",
     "text": [
      "  8%|▊         | 1571/20859 [06:23<1:58:23,  2.72it/s]"
     ]
    },
    {
     "name": "stdout",
     "output_type": "stream",
     "text": [
      "Saved embedding for options for patients to ../../graphs/drug/ATC3/drug_ent_emb/options for patients.json\n"
     ]
    },
    {
     "name": "stderr",
     "output_type": "stream",
     "text": [
      "  8%|▊         | 1572/20859 [06:23<2:04:30,  2.58it/s]"
     ]
    },
    {
     "name": "stdout",
     "output_type": "stream",
     "text": [
      "Saved embedding for it should not be used in individuals with specific health conditions to ../../graphs/drug/ATC3/drug_ent_emb/it should not be used in individuals with specific health conditions.json\n"
     ]
    },
    {
     "name": "stderr",
     "output_type": "stream",
     "text": [
      "  8%|▊         | 1573/20859 [06:24<2:11:11,  2.45it/s]"
     ]
    },
    {
     "name": "stdout",
     "output_type": "stream",
     "text": [
      "Saved embedding for in the form of patches to ../../graphs/drug/ATC3/drug_ent_emb/in the form of patches.json\n"
     ]
    },
    {
     "name": "stderr",
     "output_type": "stream",
     "text": [
      "  8%|▊         | 1574/20859 [06:24<2:16:14,  2.36it/s]"
     ]
    },
    {
     "name": "stdout",
     "output_type": "stream",
     "text": [
      "Saved embedding for treating sleep disorders to ../../graphs/drug/ATC3/drug_ent_emb/treating sleep disorders.json\n",
      "Skipping treatment plan. Embedding file already exists.\n",
      "Skipping eggs. Embedding file already exists.\n",
      "Skipping in combination with other antibiotics. Embedding file already exists.\n"
     ]
    },
    {
     "name": "stderr",
     "output_type": "stream",
     "text": [
      "  8%|▊         | 1578/20859 [06:25<1:21:03,  3.96it/s]"
     ]
    },
    {
     "name": "stdout",
     "output_type": "stream",
     "text": [
      "Saved embedding for selective calcium channel blockers to ../../graphs/drug/ATC3/drug_ent_emb/selective calcium channel blockers.json\n"
     ]
    },
    {
     "name": "stderr",
     "output_type": "stream",
     "text": [
      "  8%|▊         | 1579/20859 [06:25<1:31:30,  3.51it/s]"
     ]
    },
    {
     "name": "stdout",
     "output_type": "stream",
     "text": [
      "Saved embedding for harmful to honeybees to ../../graphs/drug/ATC3/drug_ent_emb/harmful to honeybees.json\n",
      "Skipping require careful monitoring. Embedding file already exists.\n",
      "Skipping used with caution in individuals with a compromised immune system. Embedding file already exists.\n"
     ]
    },
    {
     "name": "stderr",
     "output_type": "stream",
     "text": [
      "  8%|▊         | 1582/20859 [06:26<1:12:57,  4.40it/s]"
     ]
    },
    {
     "name": "stdout",
     "output_type": "stream",
     "text": [
      "Saved embedding for open sores in the stomach lining to ../../graphs/drug/ATC3/drug_ent_emb/open sores in the stomach lining.json\n",
      "Skipping more than a certain number of days. Embedding file already exists.\n",
      "Skipping infection transmission. Embedding file already exists.\n"
     ]
    },
    {
     "name": "stderr",
     "output_type": "stream",
     "text": [
      "  8%|▊         | 1585/20859 [06:26<1:04:11,  5.00it/s]"
     ]
    },
    {
     "name": "stdout",
     "output_type": "stream",
     "text": [
      "Saved embedding for excreted by the kidneys to ../../graphs/drug/ATC3/drug_ent_emb/excreted by the kidneys.json\n"
     ]
    },
    {
     "name": "stderr",
     "output_type": "stream",
     "text": [
      "  8%|▊         | 1586/20859 [06:27<1:16:36,  4.19it/s]"
     ]
    },
    {
     "name": "stdout",
     "output_type": "stream",
     "text": [
      "Saved embedding for difficulty in speaking to ../../graphs/drug/ATC3/drug_ent_emb/difficulty in speaking.json\n"
     ]
    },
    {
     "name": "stderr",
     "output_type": "stream",
     "text": [
      "  8%|▊         | 1587/20859 [06:27<1:31:27,  3.51it/s]"
     ]
    },
    {
     "name": "stdout",
     "output_type": "stream",
     "text": [
      "Saved embedding for parasitic infections to ../../graphs/drug/ATC3/drug_ent_emb/parasitic infections.json\n",
      "Skipping dependency. Embedding file already exists.\n"
     ]
    },
    {
     "name": "stderr",
     "output_type": "stream",
     "text": [
      "  8%|▊         | 1589/20859 [06:28<1:24:48,  3.79it/s]"
     ]
    },
    {
     "name": "stdout",
     "output_type": "stream",
     "text": [
      "Saved embedding for stinging to ../../graphs/drug/ATC3/drug_ent_emb/stinging.json\n",
      "Skipping professional supervision. Embedding file already exists.\n"
     ]
    },
    {
     "name": "stderr",
     "output_type": "stream",
     "text": [
      "  8%|▊         | 1591/20859 [06:28<1:31:24,  3.51it/s]"
     ]
    },
    {
     "name": "stdout",
     "output_type": "stream",
     "text": [
      "Saved embedding for response to anti-cancer therapies to ../../graphs/drug/ATC3/drug_ent_emb/response to anti-cancer therapies.json\n",
      "Skipping used with caution in patients with liver or kidney problems. Embedding file already exists.\n",
      "Skipping dose adjustments in patients with impaired renal function. Embedding file already exists.\n",
      "Skipping bloating and gas. Embedding file already exists.\n"
     ]
    },
    {
     "name": "stderr",
     "output_type": "stream",
     "text": [
      "  8%|▊         | 1595/20859 [06:29<1:04:06,  5.01it/s]"
     ]
    },
    {
     "name": "stdout",
     "output_type": "stream",
     "text": [
      "Saved embedding for convenience for patients to ../../graphs/drug/ATC3/drug_ent_emb/convenience for patients.json\n",
      "Skipping risk of gout attacks. Embedding file already exists.\n"
     ]
    },
    {
     "name": "stderr",
     "output_type": "stream",
     "text": [
      "  8%|▊         | 1597/20859 [06:29<1:07:06,  4.78it/s]"
     ]
    },
    {
     "name": "stdout",
     "output_type": "stream",
     "text": [
      "Saved embedding for various parts of the body to ../../graphs/drug/ATC3/drug_ent_emb/various parts of the body.json\n"
     ]
    },
    {
     "name": "stderr",
     "output_type": "stream",
     "text": [
      "  8%|▊         | 1598/20859 [06:30<1:18:56,  4.07it/s]"
     ]
    },
    {
     "name": "stdout",
     "output_type": "stream",
     "text": [
      "Saved embedding for the development of autoimmune diseases to ../../graphs/drug/ATC3/drug_ent_emb/the development of autoimmune diseases.json\n"
     ]
    },
    {
     "name": "stderr",
     "output_type": "stream",
     "text": [
      "  8%|▊         | 1599/20859 [06:30<1:31:33,  3.51it/s]"
     ]
    },
    {
     "name": "stdout",
     "output_type": "stream",
     "text": [
      "Saved embedding for skin dryness to ../../graphs/drug/ATC3/drug_ent_emb/skin dryness.json\n",
      "Skipping chronic daily headache. Embedding file already exists.\n"
     ]
    },
    {
     "name": "stderr",
     "output_type": "stream",
     "text": [
      "  8%|▊         | 1601/20859 [06:31<1:27:26,  3.67it/s]"
     ]
    },
    {
     "name": "stdout",
     "output_type": "stream",
     "text": [
      "Saved embedding for manage bleeding in patients with hemophilia to ../../graphs/drug/ATC3/drug_ent_emb/manage bleeding in patients with hemophilia.json\n",
      "Skipping depending on the type. Embedding file already exists.\n",
      "Skipping debt. Embedding file already exists.\n"
     ]
    },
    {
     "name": "stderr",
     "output_type": "stream",
     "text": [
      "  8%|▊         | 1604/20859 [06:31<1:11:03,  4.52it/s]"
     ]
    },
    {
     "name": "stdout",
     "output_type": "stream",
     "text": [
      "Saved embedding for used in fertility treatments to ../../graphs/drug/ATC3/drug_ent_emb/used in fertility treatments.json\n",
      "Skipping used to reduce ear inflammation. Embedding file already exists.\n",
      "Skipping improve mobility and strength. Embedding file already exists.\n",
      "Skipping assist in research studies. Embedding file already exists.\n"
     ]
    },
    {
     "name": "stderr",
     "output_type": "stream",
     "text": [
      "  8%|▊         | 1608/20859 [06:32<56:09,  5.71it/s]  "
     ]
    },
    {
     "name": "stdout",
     "output_type": "stream",
     "text": [
      "Saved embedding for patient conditions to ../../graphs/drug/ATC3/drug_ent_emb/patient conditions.json\n",
      "Skipping hives and difficulty breathing. Embedding file already exists.\n",
      "Skipping evolving knowledge. Embedding file already exists.\n",
      "Skipping beneficial for individuals with heart failure. Embedding file already exists.\n",
      "Skipping neuropathic itch. Embedding file already exists.\n",
      "Skipping given to patients undergoing chemotherapy. Embedding file already exists.\n",
      "Skipping increased risk of photosensitivity. Embedding file already exists.\n",
      "Skipping protein separation by electrophoresis. Embedding file already exists.\n"
     ]
    },
    {
     "name": "stderr",
     "output_type": "stream",
     "text": [
      "  8%|▊         | 1616/20859 [06:32<34:45,  9.23it/s]"
     ]
    },
    {
     "name": "stdout",
     "output_type": "stream",
     "text": [
      "Saved embedding for topical route to ../../graphs/drug/ATC3/drug_ent_emb/topical route.json\n",
      "Skipping patient compliance. Embedding file already exists.\n",
      "Skipping slow down joint erosion. Embedding file already exists.\n",
      "Skipping different doses. Embedding file already exists.\n",
      "Skipping cardiotoxicity. Embedding file already exists.\n",
      "Skipping mouth ulcer gel. Embedding file already exists.\n",
      "Skipping side effect of cancer treatment. Embedding file already exists.\n"
     ]
    },
    {
     "name": "stderr",
     "output_type": "stream",
     "text": [
      "  8%|▊         | 1623/20859 [06:33<32:48,  9.77it/s]"
     ]
    },
    {
     "name": "stdout",
     "output_type": "stream",
     "text": [
      "Saved embedding for infection with topical antibiotics to ../../graphs/drug/ATC3/drug_ent_emb/infection with topical antibiotics.json\n",
      "Skipping with caution in patients with a history of pancreatitis. Embedding file already exists.\n",
      "Skipping tendon rupture. Embedding file already exists.\n",
      "Skipping used in patients with a history of ear infections. Embedding file already exists.\n",
      "Skipping requiring significant time commitment. Embedding file already exists.\n"
     ]
    },
    {
     "name": "stderr",
     "output_type": "stream",
     "text": [
      "  8%|▊         | 1628/20859 [06:33<38:38,  8.29it/s]"
     ]
    },
    {
     "name": "stdout",
     "output_type": "stream",
     "text": [
      "Saved embedding for diabetic retinopathy treatment to ../../graphs/drug/ATC3/drug_ent_emb/diabetic retinopathy treatment.json\n",
      "Skipping reduce the risk of diarrhea. Embedding file already exists.\n",
      "Skipping dialysis dependence. Embedding file already exists.\n"
     ]
    },
    {
     "name": "stderr",
     "output_type": "stream",
     "text": [
      "  8%|▊         | 1631/20859 [06:34<40:45,  7.86it/s]"
     ]
    },
    {
     "name": "stdout",
     "output_type": "stream",
     "text": [
      "Saved embedding for high-energy radiation to ../../graphs/drug/ATC3/drug_ent_emb/high-energy radiation.json\n",
      "Skipping include hernias. Embedding file already exists.\n"
     ]
    },
    {
     "name": "stderr",
     "output_type": "stream",
     "text": [
      "  8%|▊         | 1633/20859 [06:34<49:16,  6.50it/s]"
     ]
    },
    {
     "name": "stdout",
     "output_type": "stream",
     "text": [
      "Saved embedding for risk of tooth decay to ../../graphs/drug/ATC3/drug_ent_emb/risk of tooth decay.json\n"
     ]
    },
    {
     "name": "stderr",
     "output_type": "stream",
     "text": [
      "  8%|▊         | 1634/20859 [06:35<1:01:27,  5.21it/s]"
     ]
    },
    {
     "name": "stdout",
     "output_type": "stream",
     "text": [
      "Saved embedding for heart rhythm abnormalities to ../../graphs/drug/ATC3/drug_ent_emb/heart rhythm abnormalities.json\n"
     ]
    },
    {
     "name": "stderr",
     "output_type": "stream",
     "text": [
      "  8%|▊         | 1635/20859 [06:36<1:15:13,  4.26it/s]"
     ]
    },
    {
     "name": "stdout",
     "output_type": "stream",
     "text": [
      "Saved embedding for decreased exercise capacity to ../../graphs/drug/ATC3/drug_ent_emb/decreased exercise capacity.json\n"
     ]
    },
    {
     "name": "stderr",
     "output_type": "stream",
     "text": [
      "  8%|▊         | 1636/20859 [06:36<1:25:02,  3.77it/s]"
     ]
    },
    {
     "name": "stdout",
     "output_type": "stream",
     "text": [
      "Saved embedding for a skin biopsy to ../../graphs/drug/ATC3/drug_ent_emb/a skin biopsy.json\n"
     ]
    },
    {
     "name": "stderr",
     "output_type": "stream",
     "text": [
      "  8%|▊         | 1637/20859 [06:36<1:35:11,  3.37it/s]"
     ]
    },
    {
     "name": "stdout",
     "output_type": "stream",
     "text": [
      "Saved embedding for prophylactic treatment to ../../graphs/drug/ATC3/drug_ent_emb/prophylactic treatment.json\n",
      "Skipping antiinfectives. Embedding file already exists.\n"
     ]
    },
    {
     "name": "stderr",
     "output_type": "stream",
     "text": [
      "  8%|▊         | 1639/20859 [06:37<1:54:52,  2.79it/s]"
     ]
    },
    {
     "name": "stdout",
     "output_type": "stream",
     "text": [
      "Saved embedding for for treating conditions like headaches to ../../graphs/drug/ATC3/drug_ent_emb/for treating conditions like headaches.json\n"
     ]
    },
    {
     "name": "stderr",
     "output_type": "stream",
     "text": [
      "  8%|▊         | 1640/20859 [06:38<2:01:08,  2.64it/s]"
     ]
    },
    {
     "name": "stdout",
     "output_type": "stream",
     "text": [
      "Saved embedding for beriberi to ../../graphs/drug/ATC3/drug_ent_emb/beriberi.json\n",
      "Skipping adjustment of dosage. Embedding file already exists.\n"
     ]
    },
    {
     "name": "stderr",
     "output_type": "stream",
     "text": [
      "  8%|▊         | 1642/20859 [06:38<1:52:13,  2.85it/s]"
     ]
    },
    {
     "name": "stdout",
     "output_type": "stream",
     "text": [
      "Saved embedding for for acute gastroenteritis to ../../graphs/drug/ATC3/drug_ent_emb/for acute gastroenteritis.json\n"
     ]
    },
    {
     "name": "stderr",
     "output_type": "stream",
     "text": [
      "  8%|▊         | 1643/20859 [06:39<1:58:51,  2.69it/s]"
     ]
    },
    {
     "name": "stdout",
     "output_type": "stream",
     "text": [
      "Saved embedding for digestion in individuals with digestive disorders to ../../graphs/drug/ATC3/drug_ent_emb/digestion in individuals with digestive disorders.json\n",
      "Skipping in hormone replacement therapy. Embedding file already exists.\n",
      "Skipping proper dosage. Embedding file already exists.\n"
     ]
    },
    {
     "name": "stderr",
     "output_type": "stream",
     "text": [
      "  8%|▊         | 1646/20859 [06:39<1:24:59,  3.77it/s]"
     ]
    },
    {
     "name": "stdout",
     "output_type": "stream",
     "text": [
      "Saved embedding for liver glucose metabolism to ../../graphs/drug/ATC3/drug_ent_emb/liver glucose metabolism.json\n"
     ]
    },
    {
     "name": "stderr",
     "output_type": "stream",
     "text": [
      "  8%|▊         | 1647/20859 [06:40<1:47:03,  2.99it/s]"
     ]
    },
    {
     "name": "stdout",
     "output_type": "stream",
     "text": [
      "Saved embedding for treat protozoal infections in animals to ../../graphs/drug/ATC3/drug_ent_emb/treat protozoal infections in animals.json\n"
     ]
    },
    {
     "name": "stderr",
     "output_type": "stream",
     "text": [
      "  8%|▊         | 1648/20859 [06:40<1:56:01,  2.76it/s]"
     ]
    },
    {
     "name": "stdout",
     "output_type": "stream",
     "text": [
      "Saved embedding for allergy symptoms to ../../graphs/drug/ATC3/drug_ent_emb/allergy symptoms.json\n"
     ]
    },
    {
     "name": "stderr",
     "output_type": "stream",
     "text": [
      "  8%|▊         | 1649/20859 [06:41<2:05:13,  2.56it/s]"
     ]
    },
    {
     "name": "stdout",
     "output_type": "stream",
     "text": [
      "Saved embedding for a temporary solution to ../../graphs/drug/ATC3/drug_ent_emb/a temporary solution.json\n"
     ]
    },
    {
     "name": "stderr",
     "output_type": "stream",
     "text": [
      "  8%|▊         | 1650/20859 [06:42<2:34:03,  2.08it/s]"
     ]
    },
    {
     "name": "stdout",
     "output_type": "stream",
     "text": [
      "Saved embedding for high vaccination rates to ../../graphs/drug/ATC3/drug_ent_emb/high vaccination rates.json\n"
     ]
    },
    {
     "name": "stderr",
     "output_type": "stream",
     "text": [
      "  8%|▊         | 1651/20859 [06:43<4:25:49,  1.20it/s]"
     ]
    },
    {
     "name": "stdout",
     "output_type": "stream",
     "text": [
      "Saved embedding for evaluating treatment progress to ../../graphs/drug/ATC3/drug_ent_emb/evaluating treatment progress.json\n"
     ]
    },
    {
     "name": "stderr",
     "output_type": "stream",
     "text": [
      "  8%|▊         | 1652/20859 [06:44<3:52:47,  1.38it/s]"
     ]
    },
    {
     "name": "stdout",
     "output_type": "stream",
     "text": [
      "Saved embedding for permanent disability to ../../graphs/drug/ATC3/drug_ent_emb/permanent disability.json\n",
      "Skipping maintain the stability of the medication. Embedding file already exists.\n"
     ]
    },
    {
     "name": "stderr",
     "output_type": "stream",
     "text": [
      "  8%|▊         | 1654/20859 [06:44<2:42:44,  1.97it/s]"
     ]
    },
    {
     "name": "stdout",
     "output_type": "stream",
     "text": [
      "Saved embedding for dalfopristin to ../../graphs/drug/ATC3/drug_ent_emb/dalfopristin.json\n",
      "Skipping effective treatment options. Embedding file already exists.\n",
      "Skipping applied to affected areas only. Embedding file already exists.\n"
     ]
    },
    {
     "name": "stderr",
     "output_type": "stream",
     "text": [
      "  8%|▊         | 1657/20859 [06:45<1:46:45,  3.00it/s]"
     ]
    },
    {
     "name": "stdout",
     "output_type": "stream",
     "text": [
      "Saved embedding for categorized by mechanism of action to ../../graphs/drug/ATC3/drug_ent_emb/categorized by mechanism of action.json\n",
      "Skipping aspergillosis. Embedding file already exists.\n",
      "Skipping with caution in children. Embedding file already exists.\n",
      "Skipping used for bodybuilding. Embedding file already exists.\n"
     ]
    },
    {
     "name": "stderr",
     "output_type": "stream",
     "text": [
      "  8%|▊         | 1661/20859 [06:45<1:12:13,  4.43it/s]"
     ]
    },
    {
     "name": "stdout",
     "output_type": "stream",
     "text": [
      "Saved embedding for Bacteroides species to ../../graphs/drug/ATC3/drug_ent_emb/Bacteroides species.json\n"
     ]
    },
    {
     "name": "stderr",
     "output_type": "stream",
     "text": [
      "  8%|▊         | 1662/20859 [06:46<1:22:07,  3.90it/s]"
     ]
    },
    {
     "name": "stdout",
     "output_type": "stream",
     "text": [
      "Saved embedding for decreased production of blood cells to ../../graphs/drug/ATC3/drug_ent_emb/decreased production of blood cells.json\n",
      "Skipping used for both prophylactic and therapeutic purposes. Embedding file already exists.\n",
      "Skipping cholinergic receptors. Embedding file already exists.\n",
      "Skipping manage daily challenges. Embedding file already exists.\n"
     ]
    },
    {
     "name": "stderr",
     "output_type": "stream",
     "text": [
      "  8%|▊         | 1666/20859 [06:46<1:01:48,  5.17it/s]"
     ]
    },
    {
     "name": "stdout",
     "output_type": "stream",
     "text": [
      "Saved embedding for stomach acid production to ../../graphs/drug/ATC3/drug_ent_emb/stomach acid production.json\n"
     ]
    },
    {
     "name": "stderr",
     "output_type": "stream",
     "text": [
      "  8%|▊         | 1667/20859 [06:47<1:13:39,  4.34it/s]"
     ]
    },
    {
     "name": "stdout",
     "output_type": "stream",
     "text": [
      "Saved embedding for mental health settings to ../../graphs/drug/ATC3/drug_ent_emb/mental health settings.json\n"
     ]
    },
    {
     "name": "stderr",
     "output_type": "stream",
     "text": [
      "  8%|▊         | 1668/20859 [06:47<1:37:07,  3.29it/s]"
     ]
    },
    {
     "name": "stdout",
     "output_type": "stream",
     "text": [
      "Saved embedding for tape to ../../graphs/drug/ATC3/drug_ent_emb/tape.json\n",
      "Skipping sunken eyes. Embedding file already exists.\n"
     ]
    },
    {
     "name": "stderr",
     "output_type": "stream",
     "text": [
      "  8%|▊         | 1670/20859 [06:48<1:30:37,  3.53it/s]"
     ]
    },
    {
     "name": "stdout",
     "output_type": "stream",
     "text": [
      "Saved embedding for clot stability to ../../graphs/drug/ATC3/drug_ent_emb/clot stability.json\n"
     ]
    },
    {
     "name": "stderr",
     "output_type": "stream",
     "text": [
      "  8%|▊         | 1671/20859 [06:48<1:41:32,  3.15it/s]"
     ]
    },
    {
     "name": "stdout",
     "output_type": "stream",
     "text": [
      "Saved embedding for blood clot that travels through the bloodstream and lodges in an artery to ../../graphs/drug/ATC3/drug_ent_emb/blood clot that travels through the bloodstream and lodges in an artery.json\n",
      "Skipping increase urine production. Embedding file already exists.\n",
      "Skipping multiple times a day. Embedding file already exists.\n",
      "Skipping patient access. Embedding file already exists.\n",
      "Skipping as part of a comprehensive diarrhea management approach. Embedding file already exists.\n",
      "Skipping affect the menstrual cycle. Embedding file already exists.\n"
     ]
    },
    {
     "name": "stderr",
     "output_type": "stream",
     "text": [
      "  8%|▊         | 1677/20859 [06:49<55:18,  5.78it/s]  "
     ]
    },
    {
     "name": "stdout",
     "output_type": "stream",
     "text": [
      "Saved embedding for administered intravascularly to ../../graphs/drug/ATC3/drug_ent_emb/administered intravascularly.json\n",
      "Skipping for external use only. Embedding file already exists.\n",
      "Skipping purchasable without a prescription. Embedding file already exists.\n",
      "Skipping through injections. Embedding file already exists.\n",
      "Skipping faster absorption. Embedding file already exists.\n"
     ]
    },
    {
     "name": "stderr",
     "output_type": "stream",
     "text": [
      "  8%|▊         | 1682/20859 [06:49<44:51,  7.13it/s]"
     ]
    },
    {
     "name": "stdout",
     "output_type": "stream",
     "text": [
      "Saved embedding for protected from light during storage to ../../graphs/drug/ATC3/drug_ent_emb/protected from light during storage.json\n",
      "Skipping different dosages for different indications. Embedding file already exists.\n",
      "Skipping additional medications and therapies. Embedding file already exists.\n",
      "Skipping sputum test. Embedding file already exists.\n",
      "Skipping tested on a small area of skin first. Embedding file already exists.\n",
      "Skipping serious health problems. Embedding file already exists.\n",
      "Skipping administered to individuals with allergies. Embedding file already exists.\n",
      "Skipping include bloating. Embedding file already exists.\n",
      "Skipping storage in a cool place. Embedding file already exists.\n"
     ]
    },
    {
     "name": "stderr",
     "output_type": "stream",
     "text": [
      "  8%|▊         | 1691/20859 [06:50<30:31, 10.47it/s]"
     ]
    },
    {
     "name": "stdout",
     "output_type": "stream",
     "text": [
      "Saved embedding for for individuals with heart disease to ../../graphs/drug/ATC3/drug_ent_emb/for individuals with heart disease.json\n"
     ]
    },
    {
     "name": "stderr",
     "output_type": "stream",
     "text": [
      "  8%|▊         | 1693/20859 [06:50<37:28,  8.52it/s]"
     ]
    },
    {
     "name": "stdout",
     "output_type": "stream",
     "text": [
      "Saved embedding for treatment modifications to ../../graphs/drug/ATC3/drug_ent_emb/treatment modifications.json\n",
      "Skipping recombinant protein vaccines. Embedding file already exists.\n",
      "Skipping ionizing radiation. Embedding file already exists.\n",
      "Skipping regular liver function monitoring. Embedding file already exists.\n"
     ]
    },
    {
     "name": "stderr",
     "output_type": "stream",
     "text": [
      "  8%|▊         | 1696/20859 [06:51<44:49,  7.13it/s]"
     ]
    },
    {
     "name": "stdout",
     "output_type": "stream",
     "text": [
      "Saved embedding for routes of drug administration to ../../graphs/drug/ATC3/drug_ent_emb/routes of drug administration.json\n"
     ]
    },
    {
     "name": "stderr",
     "output_type": "stream",
     "text": [
      "  8%|▊         | 1697/20859 [06:52<1:14:43,  4.27it/s]"
     ]
    },
    {
     "name": "stdout",
     "output_type": "stream",
     "text": [
      "Saved embedding for gut-brain axis to ../../graphs/drug/ATC3/drug_ent_emb/gut-brain axis.json\n"
     ]
    },
    {
     "name": "stderr",
     "output_type": "stream",
     "text": [
      "  8%|▊         | 1698/20859 [06:52<1:23:46,  3.81it/s]"
     ]
    },
    {
     "name": "stdout",
     "output_type": "stream",
     "text": [
      "Saved embedding for used on broken or punctured skin to ../../graphs/drug/ATC3/drug_ent_emb/used on broken or punctured skin.json\n"
     ]
    },
    {
     "name": "stderr",
     "output_type": "stream",
     "text": [
      "  8%|▊         | 1699/20859 [06:53<1:33:06,  3.43it/s]"
     ]
    },
    {
     "name": "stdout",
     "output_type": "stream",
     "text": [
      "Saved embedding for appropriate drug clearance to ../../graphs/drug/ATC3/drug_ent_emb/appropriate drug clearance.json\n",
      "Skipping based on individual tolerability. Embedding file already exists.\n",
      "Skipping is necessary. Embedding file already exists.\n"
     ]
    },
    {
     "name": "stderr",
     "output_type": "stream",
     "text": [
      "  8%|▊         | 1702/20859 [06:53<1:17:38,  4.11it/s]"
     ]
    },
    {
     "name": "stdout",
     "output_type": "stream",
     "text": [
      "Saved embedding for side effects of the drugs to ../../graphs/drug/ATC3/drug_ent_emb/side effects of the drugs.json\n"
     ]
    },
    {
     "name": "stderr",
     "output_type": "stream",
     "text": [
      "  8%|▊         | 1703/20859 [06:54<1:26:58,  3.67it/s]"
     ]
    },
    {
     "name": "stdout",
     "output_type": "stream",
     "text": [
      "Saved embedding for middle ear infections to ../../graphs/drug/ATC3/drug_ent_emb/middle ear infections.json\n"
     ]
    },
    {
     "name": "stderr",
     "output_type": "stream",
     "text": [
      "  8%|▊         | 1704/20859 [06:54<1:39:50,  3.20it/s]"
     ]
    },
    {
     "name": "stdout",
     "output_type": "stream",
     "text": [
      "Saved embedding for administered ophthalmically to ../../graphs/drug/ATC3/drug_ent_emb/administered ophthalmically.json\n"
     ]
    },
    {
     "name": "stderr",
     "output_type": "stream",
     "text": [
      "  8%|▊         | 1705/20859 [06:55<1:49:59,  2.90it/s]"
     ]
    },
    {
     "name": "stdout",
     "output_type": "stream",
     "text": [
      "Saved embedding for spleen imaging to ../../graphs/drug/ATC3/drug_ent_emb/spleen imaging.json\n"
     ]
    },
    {
     "name": "stderr",
     "output_type": "stream",
     "text": [
      "  8%|▊         | 1706/20859 [06:55<2:00:16,  2.65it/s]"
     ]
    },
    {
     "name": "stdout",
     "output_type": "stream",
     "text": [
      "Saved embedding for overall fitness to ../../graphs/drug/ATC3/drug_ent_emb/overall fitness.json\n",
      "Skipping improve bone health. Embedding file already exists.\n"
     ]
    },
    {
     "name": "stderr",
     "output_type": "stream",
     "text": [
      "  8%|▊         | 1708/20859 [06:56<1:42:41,  3.11it/s]"
     ]
    },
    {
     "name": "stdout",
     "output_type": "stream",
     "text": [
      "Saved embedding for applied under tight bandages or wraps to ../../graphs/drug/ATC3/drug_ent_emb/applied under tight bandages or wraps.json\n"
     ]
    },
    {
     "name": "stderr",
     "output_type": "stream",
     "text": [
      "  8%|▊         | 1709/20859 [06:56<1:51:40,  2.86it/s]"
     ]
    },
    {
     "name": "stdout",
     "output_type": "stream",
     "text": [
      "Saved embedding for can cause death to ../../graphs/drug/ATC3/drug_ent_emb/can cause death.json\n",
      "Skipping physical transformations. Embedding file already exists.\n",
      "Skipping production of specific antibodies. Embedding file already exists.\n",
      "Skipping with caution in certain populations. Embedding file already exists.\n"
     ]
    },
    {
     "name": "stderr",
     "output_type": "stream",
     "text": [
      "  8%|▊         | 1713/20859 [06:57<1:09:31,  4.59it/s]"
     ]
    },
    {
     "name": "stdout",
     "output_type": "stream",
     "text": [
      "Saved embedding for administered systemically to ../../graphs/drug/ATC3/drug_ent_emb/administered systemically.json\n",
      "Skipping tracheal stenosis. Embedding file already exists.\n",
      "Skipping certain pollutants. Embedding file already exists.\n",
      "Skipping thrombosis treatment. Embedding file already exists.\n",
      "Skipping worsened by malaria infection. Embedding file already exists.\n"
     ]
    },
    {
     "name": "stderr",
     "output_type": "stream",
     "text": [
      "  8%|▊         | 1718/20859 [06:57<56:36,  5.64it/s]  "
     ]
    },
    {
     "name": "stdout",
     "output_type": "stream",
     "text": [
      "Saved embedding for local irritation at the injection site to ../../graphs/drug/ATC3/drug_ent_emb/local irritation at the injection site.json\n"
     ]
    },
    {
     "name": "stderr",
     "output_type": "stream",
     "text": [
      "  8%|▊         | 1719/20859 [06:58<1:06:47,  4.78it/s]"
     ]
    },
    {
     "name": "stdout",
     "output_type": "stream",
     "text": [
      "Saved embedding for thiazides to ../../graphs/drug/ATC3/drug_ent_emb/thiazides.json\n",
      "Skipping loss of contact with reality. Embedding file already exists.\n"
     ]
    },
    {
     "name": "stderr",
     "output_type": "stream",
     "text": [
      "  8%|▊         | 1721/20859 [06:58<1:10:03,  4.55it/s]"
     ]
    },
    {
     "name": "stdout",
     "output_type": "stream",
     "text": [
      "Saved embedding for pulmonary hypertension to ../../graphs/drug/ATC3/drug_ent_emb/pulmonary hypertension.json\n"
     ]
    },
    {
     "name": "stderr",
     "output_type": "stream",
     "text": [
      "  8%|▊         | 1722/20859 [06:59<1:23:58,  3.80it/s]"
     ]
    },
    {
     "name": "stdout",
     "output_type": "stream",
     "text": [
      "Saved embedding for in susceptible individuals to ../../graphs/drug/ATC3/drug_ent_emb/in susceptible individuals.json\n"
     ]
    },
    {
     "name": "stderr",
     "output_type": "stream",
     "text": [
      "  8%|▊         | 1723/20859 [06:59<1:43:35,  3.08it/s]"
     ]
    },
    {
     "name": "stdout",
     "output_type": "stream",
     "text": [
      "Saved embedding for muscle aches to ../../graphs/drug/ATC3/drug_ent_emb/muscle aches.json\n"
     ]
    },
    {
     "name": "stderr",
     "output_type": "stream",
     "text": [
      "  8%|▊         | 1724/20859 [07:00<2:04:34,  2.56it/s]"
     ]
    },
    {
     "name": "stdout",
     "output_type": "stream",
     "text": [
      "Saved embedding for used for acid reflux to ../../graphs/drug/ATC3/drug_ent_emb/used for acid reflux.json\n",
      "Skipping stable in acidic conditions. Embedding file already exists.\n",
      "Skipping spasmodic dysphonia. Embedding file already exists.\n"
     ]
    },
    {
     "name": "stderr",
     "output_type": "stream",
     "text": [
      "  8%|▊         | 1727/20859 [07:00<1:29:22,  3.57it/s]"
     ]
    },
    {
     "name": "stdout",
     "output_type": "stream",
     "text": [
      "Saved embedding for stain-resistant to ../../graphs/drug/ATC3/drug_ent_emb/stain-resistant.json\n"
     ]
    },
    {
     "name": "stderr",
     "output_type": "stream",
     "text": [
      "  8%|▊         | 1728/20859 [07:01<1:38:29,  3.24it/s]"
     ]
    },
    {
     "name": "stdout",
     "output_type": "stream",
     "text": [
      "Saved embedding for intercostal neuralgia to ../../graphs/drug/ATC3/drug_ent_emb/intercostal neuralgia.json\n",
      "Skipping indicated for specific infections. Embedding file already exists.\n",
      "Skipping keeping at a low temperature. Embedding file already exists.\n"
     ]
    },
    {
     "name": "stderr",
     "output_type": "stream",
     "text": [
      "  8%|▊         | 1731/20859 [07:01<1:16:55,  4.14it/s]"
     ]
    },
    {
     "name": "stdout",
     "output_type": "stream",
     "text": [
      "Saved embedding for timely arrival to ../../graphs/drug/ATC3/drug_ent_emb/timely arrival.json\n",
      "Skipping lab results. Embedding file already exists.\n",
      "Skipping skin thinning. Embedding file already exists.\n",
      "Skipping with certain medical conditions. Embedding file already exists.\n",
      "Skipping prescribed in combination with other diabetes medications. Embedding file already exists.\n",
      "Skipping antipruritics. Embedding file already exists.\n",
      "Skipping pancreas. Embedding file already exists.\n"
     ]
    },
    {
     "name": "stderr",
     "output_type": "stream",
     "text": [
      "  8%|▊         | 1738/20859 [07:02<42:59,  7.41it/s]  "
     ]
    },
    {
     "name": "stdout",
     "output_type": "stream",
     "text": [
      "Saved embedding for topical or intraocular administration to ../../graphs/drug/ATC3/drug_ent_emb/topical or intraocular administration.json\n"
     ]
    },
    {
     "name": "stderr",
     "output_type": "stream",
     "text": [
      "  8%|▊         | 1739/20859 [07:02<53:23,  5.97it/s]"
     ]
    },
    {
     "name": "stdout",
     "output_type": "stream",
     "text": [
      "Saved embedding for used in patients with peripheral arterial disease to ../../graphs/drug/ATC3/drug_ent_emb/used in patients with peripheral arterial disease.json\n"
     ]
    },
    {
     "name": "stderr",
     "output_type": "stream",
     "text": [
      "  8%|▊         | 1740/20859 [07:03<1:06:35,  4.79it/s]"
     ]
    },
    {
     "name": "stdout",
     "output_type": "stream",
     "text": [
      "Saved embedding for decrease retinal ischemia to ../../graphs/drug/ATC3/drug_ent_emb/decrease retinal ischemia.json\n",
      "Skipping characterization of tumors. Embedding file already exists.\n"
     ]
    },
    {
     "name": "stderr",
     "output_type": "stream",
     "text": [
      "  8%|▊         | 1742/20859 [07:03<1:10:11,  4.54it/s]"
     ]
    },
    {
     "name": "stdout",
     "output_type": "stream",
     "text": [
      "Saved embedding for prevent nutrient deficiencies to ../../graphs/drug/ATC3/drug_ent_emb/prevent nutrient deficiencies.json\n",
      "Skipping gallstone dissolution. Embedding file already exists.\n"
     ]
    },
    {
     "name": "stderr",
     "output_type": "stream",
     "text": [
      "  8%|▊         | 1744/20859 [07:04<1:12:00,  4.42it/s]"
     ]
    },
    {
     "name": "stdout",
     "output_type": "stream",
     "text": [
      "Saved embedding for using judiciously in geriatric patients to ../../graphs/drug/ATC3/drug_ent_emb/using judiciously in geriatric patients.json\n"
     ]
    },
    {
     "name": "stderr",
     "output_type": "stream",
     "text": [
      "  8%|▊         | 1745/20859 [07:04<1:23:19,  3.82it/s]"
     ]
    },
    {
     "name": "stdout",
     "output_type": "stream",
     "text": [
      "Saved embedding for ear infection to ../../graphs/drug/ATC3/drug_ent_emb/ear infection.json\n",
      "Skipping weight loss. Embedding file already exists.\n",
      "Skipping regulatory authorities. Embedding file already exists.\n"
     ]
    },
    {
     "name": "stderr",
     "output_type": "stream",
     "text": [
      "  8%|▊         | 1748/20859 [07:05<1:08:20,  4.66it/s]"
     ]
    },
    {
     "name": "stdout",
     "output_type": "stream",
     "text": [
      "Saved embedding for for different durations to ../../graphs/drug/ATC3/drug_ent_emb/for different durations.json\n"
     ]
    },
    {
     "name": "stderr",
     "output_type": "stream",
     "text": [
      "  8%|▊         | 1749/20859 [07:05<1:20:29,  3.96it/s]"
     ]
    },
    {
     "name": "stdout",
     "output_type": "stream",
     "text": [
      "Saved embedding for safe medication use to ../../graphs/drug/ATC3/drug_ent_emb/safe medication use.json\n",
      "Skipping feeling weak. Embedding file already exists.\n",
      "Skipping specific bacterial protein fragments. Embedding file already exists.\n"
     ]
    },
    {
     "name": "stderr",
     "output_type": "stream",
     "text": [
      "  8%|▊         | 1752/20859 [07:05<1:06:23,  4.80it/s]"
     ]
    },
    {
     "name": "stdout",
     "output_type": "stream",
     "text": [
      "Saved embedding for satiety to ../../graphs/drug/ATC3/drug_ent_emb/satiety.json\n",
      "Skipping antiseptics for wound care. Embedding file already exists.\n",
      "Skipping environmental harm. Embedding file already exists.\n",
      "Skipping used as post-exposure prophylaxis for certain diseases. Embedding file already exists.\n",
      "Skipping medications available without a prescription. Embedding file already exists.\n",
      "Skipping dental floss. Embedding file already exists.\n",
      "Skipping potential complication of gout. Embedding file already exists.\n",
      "Skipping different indications. Embedding file already exists.\n",
      "Skipping combination therapies. Embedding file already exists.\n",
      "Skipping breast density. Embedding file already exists.\n",
      "Skipping dose adjustments in certain populations. Embedding file already exists.\n",
      "Skipping a reliable method of contraception. Embedding file already exists.\n"
     ]
    },
    {
     "name": "stderr",
     "output_type": "stream",
     "text": [
      "  8%|▊         | 1764/20859 [07:06<33:48,  9.41it/s]  "
     ]
    },
    {
     "name": "stdout",
     "output_type": "stream",
     "text": [
      "Saved embedding for nutrient absorption from carbohydrates to ../../graphs/drug/ATC3/drug_ent_emb/nutrient absorption from carbohydrates.json\n",
      "Skipping hormonal acne treatment. Embedding file already exists.\n",
      "Skipping adjusting the iv rate. Embedding file already exists.\n"
     ]
    },
    {
     "name": "stderr",
     "output_type": "stream",
     "text": [
      "  8%|▊         | 1767/20859 [07:07<37:08,  8.57it/s]"
     ]
    },
    {
     "name": "stdout",
     "output_type": "stream",
     "text": [
      "Saved embedding for in the form of liniments to ../../graphs/drug/ATC3/drug_ent_emb/in the form of liniments.json\n",
      "Skipping lung disorders. Embedding file already exists.\n",
      "Skipping used with caution. Embedding file already exists.\n",
      "Skipping vaccine adoption rates. Embedding file already exists.\n",
      "Skipping topical medications. Embedding file already exists.\n",
      "Skipping dilate small blood vessels. Embedding file already exists.\n",
      "Skipping low blood volume. Embedding file already exists.\n",
      "Skipping caution in patients with sulfa allergies. Embedding file already exists.\n",
      "Skipping the effectiveness. Embedding file already exists.\n",
      "Skipping immune system dysfunction. Embedding file already exists.\n"
     ]
    },
    {
     "name": "stderr",
     "output_type": "stream",
     "text": [
      "  9%|▊         | 1777/20859 [07:07<25:46, 12.34it/s]"
     ]
    },
    {
     "name": "stdout",
     "output_type": "stream",
     "text": [
      "Saved embedding for corticosteroid to ../../graphs/drug/ATC3/drug_ent_emb/corticosteroid.json\n",
      "Skipping organic. Embedding file already exists.\n",
      "Skipping diagnosing and treating vascular conditions. Embedding file already exists.\n",
      "Skipping lincosamide antibiotics. Embedding file already exists.\n"
     ]
    },
    {
     "name": "stderr",
     "output_type": "stream",
     "text": [
      "  9%|▊         | 1781/20859 [07:08<27:50, 11.42it/s]"
     ]
    },
    {
     "name": "stdout",
     "output_type": "stream",
     "text": [
      "Saved embedding for acute pain to ../../graphs/drug/ATC3/drug_ent_emb/acute pain.json\n",
      "Skipping stored in a dark place. Embedding file already exists.\n"
     ]
    },
    {
     "name": "stderr",
     "output_type": "stream",
     "text": [
      "  9%|▊         | 1783/20859 [07:08<33:50,  9.40it/s]"
     ]
    },
    {
     "name": "stdout",
     "output_type": "stream",
     "text": [
      "Saved embedding for certain yeasts to ../../graphs/drug/ATC3/drug_ent_emb/certain yeasts.json\n",
      "Skipping iron to be absorbed in the gastrointestinal tract. Embedding file already exists.\n",
      "Skipping long-term side effects. Embedding file already exists.\n",
      "Skipping taking with certain medications. Embedding file already exists.\n"
     ]
    },
    {
     "name": "stderr",
     "output_type": "stream",
     "text": [
      "  9%|▊         | 1787/20859 [07:08<34:04,  9.33it/s]"
     ]
    },
    {
     "name": "stdout",
     "output_type": "stream",
     "text": [
      "Saved embedding for class 6 drugs to ../../graphs/drug/ATC3/drug_ent_emb/class 6 drugs.json\n"
     ]
    },
    {
     "name": "stderr",
     "output_type": "stream",
     "text": [
      "  9%|▊         | 1788/20859 [07:09<44:35,  7.13it/s]"
     ]
    },
    {
     "name": "stdout",
     "output_type": "stream",
     "text": [
      "Saved embedding for life-threatening conditions to ../../graphs/drug/ATC3/drug_ent_emb/life-threatening conditions.json\n",
      "Skipping alpha-2 receptor agonists. Embedding file already exists.\n"
     ]
    },
    {
     "name": "stderr",
     "output_type": "stream",
     "text": [
      "  9%|▊         | 1790/20859 [07:09<49:41,  6.40it/s]"
     ]
    },
    {
     "name": "stdout",
     "output_type": "stream",
     "text": [
      "Saved embedding for manage nephrotic syndrome to ../../graphs/drug/ATC3/drug_ent_emb/manage nephrotic syndrome.json\n",
      "Skipping includes praziquantel. Embedding file already exists.\n",
      "Skipping ocular blood flow. Embedding file already exists.\n",
      "Skipping crucial role. Embedding file already exists.\n"
     ]
    },
    {
     "name": "stderr",
     "output_type": "stream",
     "text": [
      "  9%|▊         | 1794/20859 [07:10<45:56,  6.92it/s]"
     ]
    },
    {
     "name": "stdout",
     "output_type": "stream",
     "text": [
      "Saved embedding for organ transplant rejection prevention to ../../graphs/drug/ATC3/drug_ent_emb/organ transplant rejection prevention.json\n",
      "Skipping improved patient management. Embedding file already exists.\n",
      "Skipping systemic effects. Embedding file already exists.\n"
     ]
    },
    {
     "name": "stderr",
     "output_type": "stream",
     "text": [
      "  9%|▊         | 1797/20859 [07:10<45:45,  6.94it/s]"
     ]
    },
    {
     "name": "stdout",
     "output_type": "stream",
     "text": [
      "Saved embedding for taken after a heavy meal to ../../graphs/drug/ATC3/drug_ent_emb/taken after a heavy meal.json\n"
     ]
    },
    {
     "name": "stderr",
     "output_type": "stream",
     "text": [
      "  9%|▊         | 1798/20859 [07:11<57:05,  5.56it/s]"
     ]
    },
    {
     "name": "stdout",
     "output_type": "stream",
     "text": [
      "Saved embedding for patient right to ../../graphs/drug/ATC3/drug_ent_emb/patient right.json\n"
     ]
    },
    {
     "name": "stderr",
     "output_type": "stream",
     "text": [
      "  9%|▊         | 1799/20859 [07:11<1:16:01,  4.18it/s]"
     ]
    },
    {
     "name": "stdout",
     "output_type": "stream",
     "text": [
      "Saved embedding for leg discomfort to ../../graphs/drug/ATC3/drug_ent_emb/leg discomfort.json\n",
      "Skipping used cautiously in patients with a history of substance abuse. Embedding file already exists.\n",
      "Skipping symptoms of lactose intolerance. Embedding file already exists.\n"
     ]
    },
    {
     "name": "stderr",
     "output_type": "stream",
     "text": [
      "  9%|▊         | 1802/20859 [07:12<1:04:53,  4.89it/s]"
     ]
    },
    {
     "name": "stdout",
     "output_type": "stream",
     "text": [
      "Saved embedding for intestinal spasms to ../../graphs/drug/ATC3/drug_ent_emb/intestinal spasms.json\n",
      "Skipping professional intervention. Embedding file already exists.\n"
     ]
    },
    {
     "name": "stderr",
     "output_type": "stream",
     "text": [
      "  9%|▊         | 1804/20859 [07:12<1:08:19,  4.65it/s]"
     ]
    },
    {
     "name": "stdout",
     "output_type": "stream",
     "text": [
      "Saved embedding for prescribed by a healthcare provider to ../../graphs/drug/ATC3/drug_ent_emb/prescribed by a healthcare provider.json\n",
      "Skipping diagnostic criterion. Embedding file already exists.\n",
      "Skipping combined with other procedures. Embedding file already exists.\n",
      "Skipping in the treatment of cancer pain. Embedding file already exists.\n",
      "Skipping habit-forming. Embedding file already exists.\n"
     ]
    },
    {
     "name": "stderr",
     "output_type": "stream",
     "text": [
      "  9%|▊         | 1809/20859 [07:13<49:29,  6.42it/s]  "
     ]
    },
    {
     "name": "stdout",
     "output_type": "stream",
     "text": [
      "Saved embedding for obtained with a doctor's prescription to ../../graphs/drug/ATC3/drug_ent_emb/obtained with a doctor's prescription.json\n",
      "Skipping gels. Embedding file already exists.\n",
      "Skipping as a gel. Embedding file already exists.\n"
     ]
    },
    {
     "name": "stderr",
     "output_type": "stream",
     "text": [
      "  9%|▊         | 1812/20859 [07:13<48:36,  6.53it/s]"
     ]
    },
    {
     "name": "stdout",
     "output_type": "stream",
     "text": [
      "Saved embedding for a common symptom of inflammation to ../../graphs/drug/ATC3/drug_ent_emb/a common symptom of inflammation.json\n",
      "Skipping taken with other medications. Embedding file already exists.\n",
      "Skipping detection of specific analytes. Embedding file already exists.\n",
      "Skipping cellular responses. Embedding file already exists.\n"
     ]
    },
    {
     "name": "stderr",
     "output_type": "stream",
     "text": [
      "  9%|▊         | 1816/20859 [07:14<44:28,  7.14it/s]"
     ]
    },
    {
     "name": "stdout",
     "output_type": "stream",
     "text": [
      "Saved embedding for cholesterol to ../../graphs/drug/ATC3/drug_ent_emb/cholesterol.json\n"
     ]
    },
    {
     "name": "stderr",
     "output_type": "stream",
     "text": [
      "  9%|▊         | 1817/20859 [07:14<1:10:30,  4.50it/s]"
     ]
    },
    {
     "name": "stdout",
     "output_type": "stream",
     "text": [
      "Saved embedding for used for generalized anxiety to ../../graphs/drug/ATC3/drug_ent_emb/used for generalized anxiety.json\n"
     ]
    },
    {
     "name": "stderr",
     "output_type": "stream",
     "text": [
      "  9%|▊         | 1818/20859 [07:15<1:21:30,  3.89it/s]"
     ]
    },
    {
     "name": "stdout",
     "output_type": "stream",
     "text": [
      "Saved embedding for treating anemia to ../../graphs/drug/ATC3/drug_ent_emb/treating anemia.json\n"
     ]
    },
    {
     "name": "stderr",
     "output_type": "stream",
     "text": [
      "  9%|▊         | 1819/20859 [07:16<1:52:39,  2.82it/s]"
     ]
    },
    {
     "name": "stdout",
     "output_type": "stream",
     "text": [
      "Saved embedding for administered as an injection to ../../graphs/drug/ATC3/drug_ent_emb/administered as an injection.json\n"
     ]
    },
    {
     "name": "stderr",
     "output_type": "stream",
     "text": [
      "  9%|▊         | 1820/20859 [07:16<1:58:01,  2.69it/s]"
     ]
    },
    {
     "name": "stdout",
     "output_type": "stream",
     "text": [
      "Saved embedding for tissues transparent to ../../graphs/drug/ATC3/drug_ent_emb/tissues transparent.json\n",
      "Skipping freeze-dried. Embedding file already exists.\n"
     ]
    },
    {
     "name": "stderr",
     "output_type": "stream",
     "text": [
      "  9%|▊         | 1822/20859 [07:17<1:57:58,  2.69it/s]"
     ]
    },
    {
     "name": "stdout",
     "output_type": "stream",
     "text": [
      "Saved embedding for professional development to ../../graphs/drug/ATC3/drug_ent_emb/professional development.json\n",
      "Skipping national immunization campaigns. Embedding file already exists.\n",
      "Skipping decreased energy levels. Embedding file already exists.\n",
      "Skipping healthcare system. Embedding file already exists.\n"
     ]
    },
    {
     "name": "stderr",
     "output_type": "stream",
     "text": [
      "  9%|▉         | 1826/20859 [07:17<1:15:54,  4.18it/s]"
     ]
    },
    {
     "name": "stdout",
     "output_type": "stream",
     "text": [
      "Saved embedding for parasites to ../../graphs/drug/ATC3/drug_ent_emb/parasites.json\n",
      "Skipping angina prophylaxis. Embedding file already exists.\n",
      "Skipping HIV infection. Embedding file already exists.\n"
     ]
    },
    {
     "name": "stderr",
     "output_type": "stream",
     "text": [
      "  9%|▉         | 1829/20859 [07:18<1:06:02,  4.80it/s]"
     ]
    },
    {
     "name": "stdout",
     "output_type": "stream",
     "text": [
      "Saved embedding for reduce symptoms of deficiency to ../../graphs/drug/ATC3/drug_ent_emb/reduce symptoms of deficiency.json\n"
     ]
    },
    {
     "name": "stderr",
     "output_type": "stream",
     "text": [
      "  9%|▉         | 1830/20859 [07:18<1:16:55,  4.12it/s]"
     ]
    },
    {
     "name": "stdout",
     "output_type": "stream",
     "text": [
      "Saved embedding for short-term basis to ../../graphs/drug/ATC3/drug_ent_emb/short-term basis.json\n",
      "Skipping cholangiography. Embedding file already exists.\n",
      "Skipping immunomodulators. Embedding file already exists.\n",
      "Skipping natural killer cells. Embedding file already exists.\n"
     ]
    },
    {
     "name": "stderr",
     "output_type": "stream",
     "text": [
      "  9%|▉         | 1834/20859 [07:19<58:07,  5.46it/s]  "
     ]
    },
    {
     "name": "stdout",
     "output_type": "stream",
     "text": [
      "Saved embedding for in dental practices to ../../graphs/drug/ATC3/drug_ent_emb/in dental practices.json\n",
      "Skipping vertigo. Embedding file already exists.\n",
      "Skipping used as adjunct to a healthy diet. Embedding file already exists.\n"
     ]
    },
    {
     "name": "stderr",
     "output_type": "stream",
     "text": [
      "  9%|▉         | 1837/20859 [07:19<55:13,  5.74it/s]"
     ]
    },
    {
     "name": "stdout",
     "output_type": "stream",
     "text": [
      "Saved embedding for adjusting treatment to ../../graphs/drug/ATC3/drug_ent_emb/adjusting treatment.json\n",
      "Skipping used for optimizing gut-brain communication. Embedding file already exists.\n"
     ]
    },
    {
     "name": "stderr",
     "output_type": "stream",
     "text": [
      "  9%|▉         | 1839/20859 [07:20<1:00:21,  5.25it/s]"
     ]
    },
    {
     "name": "stdout",
     "output_type": "stream",
     "text": [
      "Saved embedding for different brands and formulations to ../../graphs/drug/ATC3/drug_ent_emb/different brands and formulations.json\n",
      "Skipping skin staining. Embedding file already exists.\n",
      "Skipping treating nausea and vomiting. Embedding file already exists.\n",
      "Skipping oral vaccines. Embedding file already exists.\n"
     ]
    },
    {
     "name": "stderr",
     "output_type": "stream",
     "text": [
      "  9%|▉         | 1843/20859 [07:20<50:52,  6.23it/s]  "
     ]
    },
    {
     "name": "stdout",
     "output_type": "stream",
     "text": [
      "Saved embedding for stored in a dry and cool place to ../../graphs/drug/ATC3/drug_ent_emb/stored in a dry and cool place.json\n",
      "Skipping gluten-free. Embedding file already exists.\n"
     ]
    },
    {
     "name": "stderr",
     "output_type": "stream",
     "text": [
      "  9%|▉         | 1845/20859 [07:21<55:13,  5.74it/s]"
     ]
    },
    {
     "name": "stdout",
     "output_type": "stream",
     "text": [
      "Saved embedding for administered to individuals with weakened immune systems to ../../graphs/drug/ATC3/drug_ent_emb/administered to individuals with weakened immune systems.json\n",
      "Skipping camping activities. Embedding file already exists.\n",
      "Skipping the function of the small intestine. Embedding file already exists.\n"
     ]
    },
    {
     "name": "stderr",
     "output_type": "stream",
     "text": [
      "  9%|▉         | 1848/20859 [07:21<53:57,  5.87it/s]"
     ]
    },
    {
     "name": "stdout",
     "output_type": "stream",
     "text": [
      "Saved embedding for high blood sugar levels to ../../graphs/drug/ATC3/drug_ent_emb/high blood sugar levels.json\n",
      "Skipping to be refrigerated. Embedding file already exists.\n"
     ]
    },
    {
     "name": "stderr",
     "output_type": "stream",
     "text": [
      "  9%|▉         | 1850/20859 [07:22<58:40,  5.40it/s]"
     ]
    },
    {
     "name": "stdout",
     "output_type": "stream",
     "text": [
      "Saved embedding for regular testing of vision to ../../graphs/drug/ATC3/drug_ent_emb/regular testing of vision.json\n"
     ]
    },
    {
     "name": "stderr",
     "output_type": "stream",
     "text": [
      "  9%|▉         | 1851/20859 [07:22<1:10:27,  4.50it/s]"
     ]
    },
    {
     "name": "stdout",
     "output_type": "stream",
     "text": [
      "Saved embedding for sporozoite exposure to ../../graphs/drug/ATC3/drug_ent_emb/sporozoite exposure.json\n",
      "Skipping the dosage may need to be increased or decreased. Embedding file already exists.\n",
      "Skipping product integrity. Embedding file already exists.\n"
     ]
    },
    {
     "name": "stderr",
     "output_type": "stream",
     "text": [
      "  9%|▉         | 1854/20859 [07:22<1:01:30,  5.15it/s]"
     ]
    },
    {
     "name": "stdout",
     "output_type": "stream",
     "text": [
      "Saved embedding for QT interval prolongation to ../../graphs/drug/ATC3/drug_ent_emb/QT interval prolongation.json\n"
     ]
    },
    {
     "name": "stderr",
     "output_type": "stream",
     "text": [
      "  9%|▉         | 1855/20859 [07:23<1:21:34,  3.88it/s]"
     ]
    },
    {
     "name": "stdout",
     "output_type": "stream",
     "text": [
      "Saved embedding for shaken before use to ../../graphs/drug/ATC3/drug_ent_emb/shaken before use.json\n",
      "Skipping in liver cell regeneration. Embedding file already exists.\n",
      "Skipping mitigated. Embedding file already exists.\n"
     ]
    },
    {
     "name": "stderr",
     "output_type": "stream",
     "text": [
      "  9%|▉         | 1858/20859 [07:24<1:09:10,  4.58it/s]"
     ]
    },
    {
     "name": "stdout",
     "output_type": "stream",
     "text": [
      "Saved embedding for in patients with tuberous sclerosis complex to ../../graphs/drug/ATC3/drug_ent_emb/in patients with tuberous sclerosis complex.json\n",
      "Skipping proper monitoring. Embedding file already exists.\n",
      "Skipping for new strains. Embedding file already exists.\n"
     ]
    },
    {
     "name": "stderr",
     "output_type": "stream",
     "text": [
      "  9%|▉         | 1861/20859 [07:24<1:01:02,  5.19it/s]"
     ]
    },
    {
     "name": "stdout",
     "output_type": "stream",
     "text": [
      "Saved embedding for improve quality of life to ../../graphs/drug/ATC3/drug_ent_emb/improve quality of life.json\n",
      "Skipping dental calculus removal. Embedding file already exists.\n"
     ]
    },
    {
     "name": "stderr",
     "output_type": "stream",
     "text": [
      "  9%|▉         | 1863/20859 [07:25<1:10:52,  4.47it/s]"
     ]
    },
    {
     "name": "stdout",
     "output_type": "stream",
     "text": [
      "Saved embedding for monitoring effectiveness and safety to ../../graphs/drug/ATC3/drug_ent_emb/monitoring effectiveness and safety.json\n"
     ]
    },
    {
     "name": "stderr",
     "output_type": "stream",
     "text": [
      "  9%|▉         | 1864/20859 [07:25<1:22:34,  3.83it/s]"
     ]
    },
    {
     "name": "stdout",
     "output_type": "stream",
     "text": [
      "Saved embedding for treatment for H. pylori infection to ../../graphs/drug/ATC3/drug_ent_emb/treatment for H. pylori infection.json\n"
     ]
    },
    {
     "name": "stderr",
     "output_type": "stream",
     "text": [
      "  9%|▉         | 1865/20859 [07:26<1:33:49,  3.37it/s]"
     ]
    },
    {
     "name": "stdout",
     "output_type": "stream",
     "text": [
      "Saved embedding for marketed for different purposes to ../../graphs/drug/ATC3/drug_ent_emb/marketed for different purposes.json\n"
     ]
    },
    {
     "name": "stderr",
     "output_type": "stream",
     "text": [
      "  9%|▉         | 1866/20859 [07:26<1:42:58,  3.07it/s]"
     ]
    },
    {
     "name": "stdout",
     "output_type": "stream",
     "text": [
      "Saved embedding for tularemia to ../../graphs/drug/ATC3/drug_ent_emb/tularemia.json\n",
      "Skipping quality. Embedding file already exists.\n"
     ]
    },
    {
     "name": "stderr",
     "output_type": "stream",
     "text": [
      "  9%|▉         | 1868/20859 [07:26<1:30:27,  3.50it/s]"
     ]
    },
    {
     "name": "stdout",
     "output_type": "stream",
     "text": [
      "Saved embedding for utilized for therapy monitoring to ../../graphs/drug/ATC3/drug_ent_emb/utilized for therapy monitoring.json\n",
      "Skipping used near the eyes. Embedding file already exists.\n",
      "Skipping various diseases. Embedding file already exists.\n",
      "Skipping reduced efficacy. Embedding file already exists.\n"
     ]
    },
    {
     "name": "stderr",
     "output_type": "stream",
     "text": [
      "  9%|▉         | 1872/20859 [07:27<1:02:28,  5.07it/s]"
     ]
    },
    {
     "name": "stdout",
     "output_type": "stream",
     "text": [
      "Saved embedding for digestive symptoms in individuals with irritable bowel syndrome to ../../graphs/drug/ATC3/drug_ent_emb/digestive symptoms in individuals with irritable bowel syndrome.json\n",
      "Skipping post-myocardial infarction treatment. Embedding file already exists.\n",
      "Skipping used in conjunction with voice rest for vocal health. Embedding file already exists.\n",
      "Skipping scientific knowledge and evidence. Embedding file already exists.\n"
     ]
    },
    {
     "name": "stderr",
     "output_type": "stream",
     "text": [
      "  9%|▉         | 1876/20859 [07:27<51:40,  6.12it/s]  "
     ]
    },
    {
     "name": "stdout",
     "output_type": "stream",
     "text": [
      "Saved embedding for guide surgical interventions to ../../graphs/drug/ATC3/drug_ent_emb/guide surgical interventions.json\n"
     ]
    },
    {
     "name": "stderr",
     "output_type": "stream",
     "text": [
      "  9%|▉         | 1877/20859 [07:28<1:07:04,  4.72it/s]"
     ]
    },
    {
     "name": "stdout",
     "output_type": "stream",
     "text": [
      "Saved embedding for anti-exudative effects to ../../graphs/drug/ATC3/drug_ent_emb/anti-exudative effects.json\n",
      "Skipping home improvement. Embedding file already exists.\n"
     ]
    },
    {
     "name": "stderr",
     "output_type": "stream",
     "text": [
      "  9%|▉         | 1879/20859 [07:29<1:23:55,  3.77it/s]"
     ]
    },
    {
     "name": "stdout",
     "output_type": "stream",
     "text": [
      "Saved embedding for medical interventions to ../../graphs/drug/ATC3/drug_ent_emb/medical interventions.json\n",
      "Skipping used to reduce the need for blood transfusions. Embedding file already exists.\n",
      "Skipping important for overall well-being. Embedding file already exists.\n",
      "Skipping improve comfort during pregnancy. Embedding file already exists.\n",
      "Skipping prescribed in different strengths. Embedding file already exists.\n",
      "Skipping drug-induced hypoglycemia. Embedding file already exists.\n"
     ]
    },
    {
     "name": "stderr",
     "output_type": "stream",
     "text": [
      "  9%|▉         | 1885/20859 [07:29<53:08,  5.95it/s]  "
     ]
    },
    {
     "name": "stdout",
     "output_type": "stream",
     "text": [
      "Saved embedding for applied to open wounds to ../../graphs/drug/ATC3/drug_ent_emb/applied to open wounds.json\n"
     ]
    },
    {
     "name": "stderr",
     "output_type": "stream",
     "text": [
      "  9%|▉         | 1886/20859 [07:30<1:02:40,  5.05it/s]"
     ]
    },
    {
     "name": "stdout",
     "output_type": "stream",
     "text": [
      "Saved embedding for enlarged thyroid gland to ../../graphs/drug/ATC3/drug_ent_emb/enlarged thyroid gland.json\n",
      "Skipping pain relievers. Embedding file already exists.\n"
     ]
    },
    {
     "name": "stderr",
     "output_type": "stream",
     "text": [
      "  9%|▉         | 1888/20859 [07:30<1:05:29,  4.83it/s]"
     ]
    },
    {
     "name": "stdout",
     "output_type": "stream",
     "text": [
      "Saved embedding for dizziness or drowsiness to ../../graphs/drug/ATC3/drug_ent_emb/dizziness or drowsiness.json\n"
     ]
    },
    {
     "name": "stderr",
     "output_type": "stream",
     "text": [
      "  9%|▉         | 1889/20859 [07:31<1:27:01,  3.63it/s]"
     ]
    },
    {
     "name": "stdout",
     "output_type": "stream",
     "text": [
      "Saved embedding for recommended temperatures to ../../graphs/drug/ATC3/drug_ent_emb/recommended temperatures.json\n",
      "Skipping compromised immunity. Embedding file already exists.\n",
      "Skipping ability of the heart's main pumping chamber to contract. Embedding file already exists.\n"
     ]
    },
    {
     "name": "stderr",
     "output_type": "stream",
     "text": [
      "  9%|▉         | 1892/20859 [07:31<1:13:13,  4.32it/s]"
     ]
    },
    {
     "name": "stdout",
     "output_type": "stream",
     "text": [
      "Saved embedding for iron to bind to ferritin to ../../graphs/drug/ATC3/drug_ent_emb/iron to bind to ferritin.json\n"
     ]
    },
    {
     "name": "stderr",
     "output_type": "stream",
     "text": [
      "  9%|▉         | 1893/20859 [07:32<1:23:14,  3.80it/s]"
     ]
    },
    {
     "name": "stdout",
     "output_type": "stream",
     "text": [
      "Saved embedding for risk of falls in patients with dementia to ../../graphs/drug/ATC3/drug_ent_emb/risk of falls in patients with dementia.json\n"
     ]
    },
    {
     "name": "stderr",
     "output_type": "stream",
     "text": [
      "  9%|▉         | 1894/20859 [07:32<1:51:06,  2.85it/s]"
     ]
    },
    {
     "name": "stdout",
     "output_type": "stream",
     "text": [
      "Saved embedding for higher chance of developing them to ../../graphs/drug/ATC3/drug_ent_emb/higher chance of developing them.json\n"
     ]
    },
    {
     "name": "stderr",
     "output_type": "stream",
     "text": [
      "  9%|▉         | 1895/20859 [07:33<1:58:16,  2.67it/s]"
     ]
    },
    {
     "name": "stdout",
     "output_type": "stream",
     "text": [
      "Saved embedding for used on broken skin to ../../graphs/drug/ATC3/drug_ent_emb/used on broken skin.json\n"
     ]
    },
    {
     "name": "stderr",
     "output_type": "stream",
     "text": [
      "  9%|▉         | 1896/20859 [07:33<2:11:42,  2.40it/s]"
     ]
    },
    {
     "name": "stdout",
     "output_type": "stream",
     "text": [
      "Saved embedding for medical imaging to ../../graphs/drug/ATC3/drug_ent_emb/medical imaging.json\n",
      "Skipping used with caution in individuals with a history of drug interactions. Embedding file already exists.\n"
     ]
    },
    {
     "name": "stderr",
     "output_type": "stream",
     "text": [
      "  9%|▉         | 1898/20859 [07:34<1:49:42,  2.88it/s]"
     ]
    },
    {
     "name": "stdout",
     "output_type": "stream",
     "text": [
      "Saved embedding for beneficial for individuals with malnutrition to ../../graphs/drug/ATC3/drug_ent_emb/beneficial for individuals with malnutrition.json\n"
     ]
    },
    {
     "name": "stderr",
     "output_type": "stream",
     "text": [
      "  9%|▉         | 1899/20859 [07:34<1:55:47,  2.73it/s]"
     ]
    },
    {
     "name": "stdout",
     "output_type": "stream",
     "text": [
      "Saved embedding for resistance the heart has to pump against to ../../graphs/drug/ATC3/drug_ent_emb/resistance the heart has to pump against.json\n",
      "Skipping stored in their original packaging. Embedding file already exists.\n",
      "Skipping mild to severe. Embedding file already exists.\n",
      "Skipping taken with caution in patients with gastrointestinal disorders. Embedding file already exists.\n"
     ]
    },
    {
     "name": "stderr",
     "output_type": "stream",
     "text": [
      "  9%|▉         | 1903/20859 [07:35<1:39:50,  3.16it/s]"
     ]
    },
    {
     "name": "stdout",
     "output_type": "stream",
     "text": [
      "Saved embedding for skin reactions to ../../graphs/drug/ATC3/drug_ent_emb/skin reactions.json\n",
      "Skipping serotype-specific vaccines. Embedding file already exists.\n"
     ]
    },
    {
     "name": "stderr",
     "output_type": "stream",
     "text": [
      "  9%|▉         | 1905/20859 [07:36<1:32:14,  3.42it/s]"
     ]
    },
    {
     "name": "stdout",
     "output_type": "stream",
     "text": [
      "Saved embedding for abscessed teeth to ../../graphs/drug/ATC3/drug_ent_emb/abscessed teeth.json\n"
     ]
    },
    {
     "name": "stderr",
     "output_type": "stream",
     "text": [
      "  9%|▉         | 1906/20859 [07:36<1:41:27,  3.11it/s]"
     ]
    },
    {
     "name": "stdout",
     "output_type": "stream",
     "text": [
      "Saved embedding for used in conjunction with physical activity to ../../graphs/drug/ATC3/drug_ent_emb/used in conjunction with physical activity.json\n",
      "Skipping transplant rejection. Embedding file already exists.\n"
     ]
    },
    {
     "name": "stderr",
     "output_type": "stream",
     "text": [
      "  9%|▉         | 1908/20859 [07:37<1:41:16,  3.12it/s]"
     ]
    },
    {
     "name": "stdout",
     "output_type": "stream",
     "text": [
      "Saved embedding for widespread skin lesions to ../../graphs/drug/ATC3/drug_ent_emb/widespread skin lesions.json\n",
      "Skipping infection control. Embedding file already exists.\n",
      "Skipping drug interactions with certain hypnotics. Embedding file already exists.\n"
     ]
    },
    {
     "name": "stderr",
     "output_type": "stream",
     "text": [
      "  9%|▉         | 1911/20859 [07:38<1:34:27,  3.34it/s]"
     ]
    },
    {
     "name": "stdout",
     "output_type": "stream",
     "text": [
      "Saved embedding for erythromycin to ../../graphs/drug/ATC3/drug_ent_emb/erythromycin.json\n"
     ]
    },
    {
     "name": "stderr",
     "output_type": "stream",
     "text": [
      "  9%|▉         | 1912/20859 [07:38<1:41:57,  3.10it/s]"
     ]
    },
    {
     "name": "stdout",
     "output_type": "stream",
     "text": [
      "Saved embedding for interventional ultrasound to ../../graphs/drug/ATC3/drug_ent_emb/interventional ultrasound.json\n",
      "Skipping prescribed for Rocky Mountain spotted fever. Embedding file already exists.\n"
     ]
    },
    {
     "name": "stderr",
     "output_type": "stream",
     "text": [
      "  9%|▉         | 1914/20859 [07:39<1:32:14,  3.42it/s]"
     ]
    },
    {
     "name": "stdout",
     "output_type": "stream",
     "text": [
      "Saved embedding for different contraindications for use to ../../graphs/drug/ATC3/drug_ent_emb/different contraindications for use.json\n"
     ]
    },
    {
     "name": "stderr",
     "output_type": "stream",
     "text": [
      "  9%|▉         | 1915/20859 [07:39<1:41:07,  3.12it/s]"
     ]
    },
    {
     "name": "stdout",
     "output_type": "stream",
     "text": [
      "Saved embedding for certain health conditions to ../../graphs/drug/ATC3/drug_ent_emb/certain health conditions.json\n"
     ]
    },
    {
     "name": "stderr",
     "output_type": "stream",
     "text": [
      "  9%|▉         | 1916/20859 [07:40<1:49:45,  2.88it/s]"
     ]
    },
    {
     "name": "stdout",
     "output_type": "stream",
     "text": [
      "Saved embedding for prevent bone loss to ../../graphs/drug/ATC3/drug_ent_emb/prevent bone loss.json\n",
      "Skipping rapid and accurate diagnosis. Embedding file already exists.\n"
     ]
    },
    {
     "name": "stderr",
     "output_type": "stream",
     "text": [
      "  9%|▉         | 1918/20859 [07:40<1:36:32,  3.27it/s]"
     ]
    },
    {
     "name": "stdout",
     "output_type": "stream",
     "text": [
      "Saved embedding for used in the treatment of pouchitis to ../../graphs/drug/ATC3/drug_ent_emb/used in the treatment of pouchitis.json\n",
      "Skipping maintaining overall health. Embedding file already exists.\n"
     ]
    },
    {
     "name": "stderr",
     "output_type": "stream",
     "text": [
      "  9%|▉         | 1920/20859 [07:41<1:28:44,  3.56it/s]"
     ]
    },
    {
     "name": "stdout",
     "output_type": "stream",
     "text": [
      "Saved embedding for community education to ../../graphs/drug/ATC3/drug_ent_emb/community education.json\n"
     ]
    },
    {
     "name": "stderr",
     "output_type": "stream",
     "text": [
      "  9%|▉         | 1921/20859 [07:41<1:39:46,  3.16it/s]"
     ]
    },
    {
     "name": "stdout",
     "output_type": "stream",
     "text": [
      "Saved embedding for used for improving digestion to ../../graphs/drug/ATC3/drug_ent_emb/used for improving digestion.json\n",
      "Skipping proper vaccine administration. Embedding file already exists.\n"
     ]
    },
    {
     "name": "stderr",
     "output_type": "stream",
     "text": [
      "  9%|▉         | 1923/20859 [07:41<1:28:05,  3.58it/s]"
     ]
    },
    {
     "name": "stdout",
     "output_type": "stream",
     "text": [
      "Saved embedding for vaccination effectiveness to ../../graphs/drug/ATC3/drug_ent_emb/vaccination effectiveness.json\n",
      "Skipping bile acid synthesis defects. Embedding file already exists.\n",
      "Skipping a more serious condition. Embedding file already exists.\n",
      "Skipping itching and redness in the groin area. Embedding file already exists.\n"
     ]
    },
    {
     "name": "stderr",
     "output_type": "stream",
     "text": [
      "  9%|▉         | 1927/20859 [07:42<1:00:28,  5.22it/s]"
     ]
    },
    {
     "name": "stdout",
     "output_type": "stream",
     "text": [
      "Saved embedding for prescribed for dental condition to ../../graphs/drug/ATC3/drug_ent_emb/prescribed for dental condition.json\n",
      "Skipping mechanism of action. Embedding file already exists.\n",
      "Skipping optimal digestion. Embedding file already exists.\n",
      "Skipping feeling thirsty all the time. Embedding file already exists.\n",
      "Skipping the immune system's functioning. Embedding file already exists.\n"
     ]
    },
    {
     "name": "stderr",
     "output_type": "stream",
     "text": [
      "  9%|▉         | 1932/20859 [07:42<45:22,  6.95it/s]  "
     ]
    },
    {
     "name": "stdout",
     "output_type": "stream",
     "text": [
      "Saved embedding for multidisciplinary collaboration to ../../graphs/drug/ATC3/drug_ent_emb/multidisciplinary collaboration.json\n"
     ]
    },
    {
     "name": "stderr",
     "output_type": "stream",
     "text": [
      "  9%|▉         | 1933/20859 [07:43<56:21,  5.60it/s]"
     ]
    },
    {
     "name": "stdout",
     "output_type": "stream",
     "text": [
      "Saved embedding for visualizing kidneys to ../../graphs/drug/ATC3/drug_ent_emb/visualizing kidneys.json\n",
      "Skipping proper diagnosis. Embedding file already exists.\n",
      "Skipping interfering with medication absorption. Embedding file already exists.\n"
     ]
    },
    {
     "name": "stderr",
     "output_type": "stream",
     "text": [
      "  9%|▉         | 1936/20859 [07:43<54:08,  5.83it/s]"
     ]
    },
    {
     "name": "stdout",
     "output_type": "stream",
     "text": [
      "Saved embedding for gout exacerbation to ../../graphs/drug/ATC3/drug_ent_emb/gout exacerbation.json\n",
      "Skipping conception. Embedding file already exists.\n"
     ]
    },
    {
     "name": "stderr",
     "output_type": "stream",
     "text": [
      "  9%|▉         | 1938/20859 [07:44<1:00:33,  5.21it/s]"
     ]
    },
    {
     "name": "stdout",
     "output_type": "stream",
     "text": [
      "Saved embedding for poor circulation to ../../graphs/drug/ATC3/drug_ent_emb/poor circulation.json\n"
     ]
    },
    {
     "name": "stderr",
     "output_type": "stream",
     "text": [
      "  9%|▉         | 1939/20859 [07:44<1:16:25,  4.13it/s]"
     ]
    },
    {
     "name": "stdout",
     "output_type": "stream",
     "text": [
      "Saved embedding for detect renal tumors to ../../graphs/drug/ATC3/drug_ent_emb/detect renal tumors.json\n",
      "Skipping microbubbles. Embedding file already exists.\n",
      "Skipping administered in a medical setting. Embedding file already exists.\n"
     ]
    },
    {
     "name": "stderr",
     "output_type": "stream",
     "text": [
      "  9%|▉         | 1942/20859 [07:45<1:10:52,  4.45it/s]"
     ]
    },
    {
     "name": "stdout",
     "output_type": "stream",
     "text": [
      "Saved embedding for for some patients to ../../graphs/drug/ATC3/drug_ent_emb/for some patients.json\n"
     ]
    },
    {
     "name": "stderr",
     "output_type": "stream",
     "text": [
      "  9%|▉         | 1943/20859 [07:45<1:21:41,  3.86it/s]"
     ]
    },
    {
     "name": "stdout",
     "output_type": "stream",
     "text": [
      "Saved embedding for barrier to access to ../../graphs/drug/ATC3/drug_ent_emb/barrier to access.json\n",
      "Skipping to regulatory agencies. Embedding file already exists.\n"
     ]
    },
    {
     "name": "stderr",
     "output_type": "stream",
     "text": [
      "  9%|▉         | 1945/20859 [07:46<1:27:44,  3.59it/s]"
     ]
    },
    {
     "name": "stdout",
     "output_type": "stream",
     "text": [
      "Saved embedding for from light exposure to ../../graphs/drug/ATC3/drug_ent_emb/from light exposure.json\n",
      "Skipping through prescription. Embedding file already exists.\n",
      "Skipping immunization coverage. Embedding file already exists.\n"
     ]
    },
    {
     "name": "stderr",
     "output_type": "stream",
     "text": [
      "  9%|▉         | 1948/20859 [07:46<1:11:53,  4.38it/s]"
     ]
    },
    {
     "name": "stdout",
     "output_type": "stream",
     "text": [
      "Saved embedding for contraindicated populations to ../../graphs/drug/ATC3/drug_ent_emb/contraindicated populations.json\n",
      "Skipping used cautiously in children. Embedding file already exists.\n",
      "Skipping suitable for everyone. Embedding file already exists.\n",
      "Skipping hospice care. Embedding file already exists.\n"
     ]
    },
    {
     "name": "stderr",
     "output_type": "stream",
     "text": [
      "  9%|▉         | 1952/20859 [07:47<56:09,  5.61it/s]  "
     ]
    },
    {
     "name": "stdout",
     "output_type": "stream",
     "text": [
      "Saved embedding for recurrent urinary tract infections to ../../graphs/drug/ATC3/drug_ent_emb/recurrent urinary tract infections.json\n",
      "Skipping combined with opioids. Embedding file already exists.\n",
      "Skipping proteinuria management. Embedding file already exists.\n",
      "Skipping prescribed for anxiety disorders. Embedding file already exists.\n"
     ]
    },
    {
     "name": "stderr",
     "output_type": "stream",
     "text": [
      "  9%|▉         | 1956/20859 [07:47<47:45,  6.60it/s]"
     ]
    },
    {
     "name": "stdout",
     "output_type": "stream",
     "text": [
      "Saved embedding for hemophilia to ../../graphs/drug/ATC3/drug_ent_emb/hemophilia.json\n"
     ]
    },
    {
     "name": "stderr",
     "output_type": "stream",
     "text": [
      "  9%|▉         | 1957/20859 [07:48<58:13,  5.41it/s]"
     ]
    },
    {
     "name": "stdout",
     "output_type": "stream",
     "text": [
      "Saved embedding for administered intravenously or by inhalation to ../../graphs/drug/ATC3/drug_ent_emb/administered intravenously or by inhalation.json\n",
      "Skipping microalbuminuria. Embedding file already exists.\n",
      "Skipping vaccine coolers. Embedding file already exists.\n",
      "Skipping certain types of birth control. Embedding file already exists.\n"
     ]
    },
    {
     "name": "stderr",
     "output_type": "stream",
     "text": [
      "  9%|▉         | 1961/20859 [07:49<59:34,  5.29it/s]"
     ]
    },
    {
     "name": "stdout",
     "output_type": "stream",
     "text": [
      "Saved embedding for a common complication of ocular vascular disorders to ../../graphs/drug/ATC3/drug_ent_emb/a common complication of ocular vascular disorders.json\n"
     ]
    },
    {
     "name": "stderr",
     "output_type": "stream",
     "text": [
      "  9%|▉         | 1962/20859 [07:49<1:10:49,  4.45it/s]"
     ]
    },
    {
     "name": "stdout",
     "output_type": "stream",
     "text": [
      "Saved embedding for manage bleeding in patients with disseminated intravascular coagulation to ../../graphs/drug/ATC3/drug_ent_emb/manage bleeding in patients with disseminated intravascular coagulation.json\n",
      "Skipping administered with caution. Embedding file already exists.\n",
      "Skipping free of charge. Embedding file already exists.\n",
      "Skipping allows for rapid drug delivery. Embedding file already exists.\n"
     ]
    },
    {
     "name": "stderr",
     "output_type": "stream",
     "text": [
      "  9%|▉         | 1966/20859 [07:49<55:50,  5.64it/s]  "
     ]
    },
    {
     "name": "stdout",
     "output_type": "stream",
     "text": [
      "Saved embedding for increased wax production to ../../graphs/drug/ATC3/drug_ent_emb/increased wax production.json\n",
      "Skipping used for chemoprophylaxis in individuals with organ transplant. Embedding file already exists.\n"
     ]
    },
    {
     "name": "stderr",
     "output_type": "stream",
     "text": [
      "  9%|▉         | 1968/20859 [07:50<59:35,  5.28it/s]"
     ]
    },
    {
     "name": "stdout",
     "output_type": "stream",
     "text": [
      "Saved embedding for used during open heart surgery to ../../graphs/drug/ATC3/drug_ent_emb/used during open heart surgery.json\n"
     ]
    },
    {
     "name": "stderr",
     "output_type": "stream",
     "text": [
      "  9%|▉         | 1969/20859 [07:50<1:12:43,  4.33it/s]"
     ]
    },
    {
     "name": "stdout",
     "output_type": "stream",
     "text": [
      "Saved embedding for in primary immunodeficiency disorders to ../../graphs/drug/ATC3/drug_ent_emb/in primary immunodeficiency disorders.json\n",
      "Skipping cellular functions. Embedding file already exists.\n",
      "Skipping used for reducing the risk of chronic digestive conditions. Embedding file already exists.\n",
      "Skipping uterine development. Embedding file already exists.\n"
     ]
    },
    {
     "name": "stderr",
     "output_type": "stream",
     "text": [
      "  9%|▉         | 1973/20859 [07:51<57:20,  5.49it/s]  "
     ]
    },
    {
     "name": "stdout",
     "output_type": "stream",
     "text": [
      "Saved embedding for in patients with tachycardia-induced heart failure to ../../graphs/drug/ATC3/drug_ent_emb/in patients with tachycardia-induced heart failure.json\n",
      "Skipping reducing the risk of age-related macular degeneration. Embedding file already exists.\n"
     ]
    },
    {
     "name": "stderr",
     "output_type": "stream",
     "text": [
      "  9%|▉         | 1975/20859 [07:51<1:00:06,  5.24it/s]"
     ]
    },
    {
     "name": "stdout",
     "output_type": "stream",
     "text": [
      "Saved embedding for blood glucose levels to ../../graphs/drug/ATC3/drug_ent_emb/blood glucose levels.json\n"
     ]
    },
    {
     "name": "stderr",
     "output_type": "stream",
     "text": [
      "  9%|▉         | 1976/20859 [07:52<1:11:28,  4.40it/s]"
     ]
    },
    {
     "name": "stdout",
     "output_type": "stream",
     "text": [
      "Saved embedding for thyroid cancer to ../../graphs/drug/ATC3/drug_ent_emb/thyroid cancer.json\n",
      "Skipping visual acuity. Embedding file already exists.\n",
      "Skipping patients with angina. Embedding file already exists.\n",
      "Skipping temporary solution. Embedding file already exists.\n"
     ]
    },
    {
     "name": "stderr",
     "output_type": "stream",
     "text": [
      "  9%|▉         | 1980/20859 [07:52<55:15,  5.69it/s]  "
     ]
    },
    {
     "name": "stdout",
     "output_type": "stream",
     "text": [
      "Saved embedding for guidance to ../../graphs/drug/ATC3/drug_ent_emb/guidance.json\n"
     ]
    },
    {
     "name": "stderr",
     "output_type": "stream",
     "text": [
      "  9%|▉         | 1981/20859 [07:53<1:11:31,  4.40it/s]"
     ]
    },
    {
     "name": "stdout",
     "output_type": "stream",
     "text": [
      "Saved embedding for suddenly stopped to ../../graphs/drug/ATC3/drug_ent_emb/suddenly stopped.json\n",
      "Skipping the communication between cells through hormones. Embedding file already exists.\n",
      "Skipping dental impression disinfection. Embedding file already exists.\n",
      "Skipping minimum dosage. Embedding file already exists.\n",
      "Skipping color Doppler imaging. Embedding file already exists.\n",
      "Skipping a decrease in blood cell counts. Embedding file already exists.\n",
      "Skipping off-target effects. Embedding file already exists.\n",
      "Skipping a vital component of fungal cell membranes. Embedding file already exists.\n",
      "Skipping increased risk of infection. Embedding file already exists.\n"
     ]
    },
    {
     "name": "stderr",
     "output_type": "stream",
     "text": [
      " 10%|▉         | 1990/20859 [07:53<35:27,  8.87it/s]  "
     ]
    },
    {
     "name": "stdout",
     "output_type": "stream",
     "text": [
      "Saved embedding for required for the synthesis of glucocorticoids to ../../graphs/drug/ATC3/drug_ent_emb/required for the synthesis of glucocorticoids.json\n",
      "Skipping identifying diseases. Embedding file already exists.\n"
     ]
    },
    {
     "name": "stderr",
     "output_type": "stream",
     "text": [
      " 10%|▉         | 1992/20859 [07:54<43:42,  7.19it/s]"
     ]
    },
    {
     "name": "stdout",
     "output_type": "stream",
     "text": [
      "Saved embedding for chronic gout to ../../graphs/drug/ATC3/drug_ent_emb/chronic gout.json\n",
      "Skipping diuretics. Embedding file already exists.\n"
     ]
    },
    {
     "name": "stderr",
     "output_type": "stream",
     "text": [
      " 10%|▉         | 1994/20859 [07:54<55:41,  5.65it/s]"
     ]
    },
    {
     "name": "stdout",
     "output_type": "stream",
     "text": [
      "Saved embedding for in the treatment of ear infections to ../../graphs/drug/ATC3/drug_ent_emb/in the treatment of ear infections.json\n"
     ]
    },
    {
     "name": "stderr",
     "output_type": "stream",
     "text": [
      " 10%|▉         | 1995/20859 [07:55<1:19:39,  3.95it/s]"
     ]
    },
    {
     "name": "stdout",
     "output_type": "stream",
     "text": [
      "Saved embedding for topically to ../../graphs/drug/ATC3/drug_ent_emb/topically.json\n"
     ]
    },
    {
     "name": "stderr",
     "output_type": "stream",
     "text": [
      " 10%|▉         | 1996/20859 [07:56<1:28:29,  3.55it/s]"
     ]
    },
    {
     "name": "stdout",
     "output_type": "stream",
     "text": [
      "Saved embedding for obtained through mail order pharmacies to ../../graphs/drug/ATC3/drug_ent_emb/obtained through mail order pharmacies.json\n",
      "Skipping reduce pain and swelling. Embedding file already exists.\n"
     ]
    },
    {
     "name": "stderr",
     "output_type": "stream",
     "text": [
      " 10%|▉         | 1998/20859 [07:56<1:23:05,  3.78it/s]"
     ]
    },
    {
     "name": "stdout",
     "output_type": "stream",
     "text": [
      "Saved embedding for alternative form of delivery to ../../graphs/drug/ATC3/drug_ent_emb/alternative form of delivery.json\n",
      "Skipping help with calcium absorption. Embedding file already exists.\n"
     ]
    },
    {
     "name": "stderr",
     "output_type": "stream",
     "text": [
      " 10%|▉         | 2000/20859 [07:57<1:20:09,  3.92it/s]"
     ]
    },
    {
     "name": "stdout",
     "output_type": "stream",
     "text": [
      "Saved embedding for bacterial polysaccharides to stimulate immune response to ../../graphs/drug/ATC3/drug_ent_emb/bacterial polysaccharides to stimulate immune response.json\n"
     ]
    },
    {
     "name": "stderr",
     "output_type": "stream",
     "text": [
      " 10%|▉         | 2001/20859 [07:57<1:31:47,  3.42it/s]"
     ]
    },
    {
     "name": "stdout",
     "output_type": "stream",
     "text": [
      "Saved embedding for patient agreement to ../../graphs/drug/ATC3/drug_ent_emb/patient agreement.json\n",
      "Skipping taking as prescribed. Embedding file already exists.\n",
      "Skipping treating viral infections. Embedding file already exists.\n",
      "Skipping administered in hospitals or outpatient settings. Embedding file already exists.\n",
      "Skipping personalized treatment. Embedding file already exists.\n",
      "Skipping iron to be excreted by the body. Embedding file already exists.\n"
     ]
    },
    {
     "name": "stderr",
     "output_type": "stream",
     "text": [
      " 10%|▉         | 2007/20859 [07:58<52:59,  5.93it/s]  "
     ]
    },
    {
     "name": "stdout",
     "output_type": "stream",
     "text": [
      "Saved embedding for in digestion to ../../graphs/drug/ATC3/drug_ent_emb/in digestion.json\n",
      "Skipping authorities. Embedding file already exists.\n"
     ]
    },
    {
     "name": "stderr",
     "output_type": "stream",
     "text": [
      " 10%|▉         | 2009/20859 [07:58<1:02:14,  5.05it/s]"
     ]
    },
    {
     "name": "stdout",
     "output_type": "stream",
     "text": [
      "Saved embedding for used for tendonitis to ../../graphs/drug/ATC3/drug_ent_emb/used for tendonitis.json\n",
      "Skipping used on broken or damaged skin. Embedding file already exists.\n"
     ]
    },
    {
     "name": "stderr",
     "output_type": "stream",
     "text": [
      " 10%|▉         | 2011/20859 [07:59<1:04:10,  4.90it/s]"
     ]
    },
    {
     "name": "stdout",
     "output_type": "stream",
     "text": [
      "Saved embedding for in healing of small ulcers to ../../graphs/drug/ATC3/drug_ent_emb/in healing of small ulcers.json\n",
      "Skipping alpha-1 blockers. Embedding file already exists.\n",
      "Skipping healing in chronic wounds. Embedding file already exists.\n",
      "Skipping used in combination with stress management techniques. Embedding file already exists.\n"
     ]
    },
    {
     "name": "stderr",
     "output_type": "stream",
     "text": [
      " 10%|▉         | 2015/20859 [07:59<51:56,  6.05it/s]  "
     ]
    },
    {
     "name": "stdout",
     "output_type": "stream",
     "text": [
      "Saved embedding for used for insect bites to ../../graphs/drug/ATC3/drug_ent_emb/used for insect bites.json\n",
      "Skipping rapid changes in mental function. Embedding file already exists.\n"
     ]
    },
    {
     "name": "stderr",
     "output_type": "stream",
     "text": [
      " 10%|▉         | 2017/20859 [07:59<57:13,  5.49it/s]"
     ]
    },
    {
     "name": "stdout",
     "output_type": "stream",
     "text": [
      "Saved embedding for symptom relief in allergies to ../../graphs/drug/ATC3/drug_ent_emb/symptom relief in allergies.json\n",
      "Skipping following prescription. Embedding file already exists.\n"
     ]
    },
    {
     "name": "stderr",
     "output_type": "stream",
     "text": [
      " 10%|▉         | 2019/20859 [08:00<1:04:47,  4.85it/s]"
     ]
    },
    {
     "name": "stdout",
     "output_type": "stream",
     "text": [
      "Saved embedding for used in combination with anti-inflammatory drugs to ../../graphs/drug/ATC3/drug_ent_emb/used in combination with anti-inflammatory drugs.json\n"
     ]
    },
    {
     "name": "stderr",
     "output_type": "stream",
     "text": [
      " 10%|▉         | 2020/20859 [08:01<1:22:15,  3.82it/s]"
     ]
    },
    {
     "name": "stdout",
     "output_type": "stream",
     "text": [
      "Saved embedding for improve endothelial function to ../../graphs/drug/ATC3/drug_ent_emb/improve endothelial function.json\n",
      "Skipping at increased risk of infections. Embedding file already exists.\n",
      "Skipping for immunodepletion. Embedding file already exists.\n",
      "Skipping in spray form. Embedding file already exists.\n"
     ]
    },
    {
     "name": "stderr",
     "output_type": "stream",
     "text": [
      " 10%|▉         | 2024/20859 [08:01<1:01:20,  5.12it/s]"
     ]
    },
    {
     "name": "stdout",
     "output_type": "stream",
     "text": [
      "Saved embedding for intraarticular administration of parasympathomimetics to ../../graphs/drug/ATC3/drug_ent_emb/intraarticular administration of parasympathomimetics.json\n"
     ]
    },
    {
     "name": "stderr",
     "output_type": "stream",
     "text": [
      " 10%|▉         | 2025/20859 [08:02<1:13:32,  4.27it/s]"
     ]
    },
    {
     "name": "stdout",
     "output_type": "stream",
     "text": [
      "Saved embedding for stomatitis to ../../graphs/drug/ATC3/drug_ent_emb/stomatitis.json\n"
     ]
    },
    {
     "name": "stderr",
     "output_type": "stream",
     "text": [
      " 10%|▉         | 2026/20859 [08:02<1:24:28,  3.72it/s]"
     ]
    },
    {
     "name": "stdout",
     "output_type": "stream",
     "text": [
      "Saved embedding for antioxidant support to ../../graphs/drug/ATC3/drug_ent_emb/antioxidant support.json\n",
      "Skipping poor nutritional status. Embedding file already exists.\n",
      "Skipping hormone deficiencies. Embedding file already exists.\n",
      "Skipping muscle tightness. Embedding file already exists.\n",
      "Skipping commonly prescribed. Embedding file already exists.\n",
      "Skipping prevent bleeding in patients with dental surgery. Embedding file already exists.\n",
      "Skipping immune response and antibody production. Embedding file already exists.\n",
      "Skipping synthetic estrogens. Embedding file already exists.\n",
      "Skipping used as a maintenance therapy in chronic gout. Embedding file already exists.\n",
      "Skipping iron to be absorbed in the kidney. Embedding file already exists.\n",
      "Skipping cognitive function. Embedding file already exists.\n"
     ]
    },
    {
     "name": "stderr",
     "output_type": "stream",
     "text": [
      " 10%|▉         | 2037/20859 [08:03<33:25,  9.39it/s]  "
     ]
    },
    {
     "name": "stdout",
     "output_type": "stream",
     "text": [
      "Saved embedding for dizziness and sleep disturbances to ../../graphs/drug/ATC3/drug_ent_emb/dizziness and sleep disturbances.json\n"
     ]
    },
    {
     "name": "stderr",
     "output_type": "stream",
     "text": [
      " 10%|▉         | 2038/20859 [08:03<42:40,  7.35it/s]"
     ]
    },
    {
     "name": "stdout",
     "output_type": "stream",
     "text": [
      "Saved embedding for anti-inflammatory effects to ../../graphs/drug/ATC3/drug_ent_emb/anti-inflammatory effects.json\n",
      "Skipping other antifungal agents. Embedding file already exists.\n",
      "Skipping a step in gene expression. Embedding file already exists.\n",
      "Skipping infected wounds. Embedding file already exists.\n"
     ]
    },
    {
     "name": "stderr",
     "output_type": "stream",
     "text": [
      " 10%|▉         | 2042/20859 [08:03<39:46,  7.89it/s]"
     ]
    },
    {
     "name": "stdout",
     "output_type": "stream",
     "text": [
      "Saved embedding for tick-borne infection to ../../graphs/drug/ATC3/drug_ent_emb/tick-borne infection.json\n"
     ]
    },
    {
     "name": "stderr",
     "output_type": "stream",
     "text": [
      " 10%|▉         | 2043/20859 [08:04<53:50,  5.82it/s]"
     ]
    },
    {
     "name": "stdout",
     "output_type": "stream",
     "text": [
      "Saved embedding for water sources and contaminate to ../../graphs/drug/ATC3/drug_ent_emb/water sources and contaminate.json\n"
     ]
    },
    {
     "name": "stderr",
     "output_type": "stream",
     "text": [
      " 10%|▉         | 2044/20859 [08:04<1:05:25,  4.79it/s]"
     ]
    },
    {
     "name": "stdout",
     "output_type": "stream",
     "text": [
      "Saved embedding for itching and redness to ../../graphs/drug/ATC3/drug_ent_emb/itching and redness.json\n"
     ]
    },
    {
     "name": "stderr",
     "output_type": "stream",
     "text": [
      " 10%|▉         | 2045/20859 [08:05<1:18:28,  4.00it/s]"
     ]
    },
    {
     "name": "stdout",
     "output_type": "stream",
     "text": [
      "Saved embedding for close monitoring of treatment response to ../../graphs/drug/ATC3/drug_ent_emb/close monitoring of treatment response.json\n",
      "Skipping used in patients with psychiatric conditions. Embedding file already exists.\n",
      "Skipping stored in a dry place. Embedding file already exists.\n",
      "Skipping storing in a dry place. Embedding file already exists.\n"
     ]
    },
    {
     "name": "stderr",
     "output_type": "stream",
     "text": [
      " 10%|▉         | 2049/20859 [08:05<58:59,  5.31it/s]  "
     ]
    },
    {
     "name": "stdout",
     "output_type": "stream",
     "text": [
      "Saved embedding for detecting liver tumors to ../../graphs/drug/ATC3/drug_ent_emb/detecting liver tumors.json\n",
      "Skipping levels of estrogen. Embedding file already exists.\n"
     ]
    },
    {
     "name": "stderr",
     "output_type": "stream",
     "text": [
      " 10%|▉         | 2051/20859 [08:06<1:09:00,  4.54it/s]"
     ]
    },
    {
     "name": "stdout",
     "output_type": "stream",
     "text": [
      "Saved embedding for prophylaxis during surgery to ../../graphs/drug/ATC3/drug_ent_emb/prophylaxis during surgery.json\n"
     ]
    },
    {
     "name": "stderr",
     "output_type": "stream",
     "text": [
      " 10%|▉         | 2052/20859 [08:06<1:20:28,  3.90it/s]"
     ]
    },
    {
     "name": "stdout",
     "output_type": "stream",
     "text": [
      "Saved embedding for prolonged pressure to ../../graphs/drug/ATC3/drug_ent_emb/prolonged pressure.json\n",
      "Skipping in environments without oxygen. Embedding file already exists.\n"
     ]
    },
    {
     "name": "stderr",
     "output_type": "stream",
     "text": [
      " 10%|▉         | 2054/20859 [08:07<1:19:00,  3.97it/s]"
     ]
    },
    {
     "name": "stdout",
     "output_type": "stream",
     "text": [
      "Saved embedding for improved hepatobiliary function to ../../graphs/drug/ATC3/drug_ent_emb/improved hepatobiliary function.json\n",
      "Skipping varying effectiveness in different populations. Embedding file already exists.\n"
     ]
    },
    {
     "name": "stderr",
     "output_type": "stream",
     "text": [
      " 10%|▉         | 2056/20859 [08:08<1:27:05,  3.60it/s]"
     ]
    },
    {
     "name": "stdout",
     "output_type": "stream",
     "text": [
      "Saved embedding for contraindications to ../../graphs/drug/ATC3/drug_ent_emb/contraindications.json\n",
      "Skipping visual processing. Embedding file already exists.\n",
      "Skipping antiretrovirals. Embedding file already exists.\n",
      "Skipping regulating insulin levels. Embedding file already exists.\n"
     ]
    },
    {
     "name": "stderr",
     "output_type": "stream",
     "text": [
      " 10%|▉         | 2060/20859 [08:08<1:03:17,  4.95it/s]"
     ]
    },
    {
     "name": "stdout",
     "output_type": "stream",
     "text": [
      "Saved embedding for brain chemistry to ../../graphs/drug/ATC3/drug_ent_emb/brain chemistry.json\n",
      "Skipping have a typical cell wall structure. Embedding file already exists.\n"
     ]
    },
    {
     "name": "stderr",
     "output_type": "stream",
     "text": [
      " 10%|▉         | 2062/20859 [08:08<1:04:24,  4.86it/s]"
     ]
    },
    {
     "name": "stdout",
     "output_type": "stream",
     "text": [
      "Saved embedding for used near food or drinks to ../../graphs/drug/ATC3/drug_ent_emb/used near food or drinks.json\n",
      "Skipping dental veneers. Embedding file already exists.\n",
      "Skipping for individuals with certain respiratory disorders. Embedding file already exists.\n",
      "Skipping liver cell damage. Embedding file already exists.\n"
     ]
    },
    {
     "name": "stderr",
     "output_type": "stream",
     "text": [
      " 10%|▉         | 2066/20859 [08:09<51:53,  6.04it/s]  "
     ]
    },
    {
     "name": "stdout",
     "output_type": "stream",
     "text": [
      "Saved embedding for administered to individuals with respiratory conditions to ../../graphs/drug/ATC3/drug_ent_emb/administered to individuals with respiratory conditions.json\n"
     ]
    },
    {
     "name": "stderr",
     "output_type": "stream",
     "text": [
      " 10%|▉         | 2067/20859 [08:10<1:15:20,  4.16it/s]"
     ]
    },
    {
     "name": "stdout",
     "output_type": "stream",
     "text": [
      "Saved embedding for drug degradation to ../../graphs/drug/ATC3/drug_ent_emb/drug degradation.json\n",
      "Skipping used by children without proper medical supervision. Embedding file already exists.\n"
     ]
    },
    {
     "name": "stderr",
     "output_type": "stream",
     "text": [
      " 10%|▉         | 2069/20859 [08:10<1:13:27,  4.26it/s]"
     ]
    },
    {
     "name": "stdout",
     "output_type": "stream",
     "text": [
      "Saved embedding for pirlimycin to ../../graphs/drug/ATC3/drug_ent_emb/pirlimycin.json\n"
     ]
    },
    {
     "name": "stderr",
     "output_type": "stream",
     "text": [
      " 10%|▉         | 2070/20859 [08:11<2:02:45,  2.55it/s]"
     ]
    },
    {
     "name": "stdout",
     "output_type": "stream",
     "text": [
      "Saved embedding for an eye condition to ../../graphs/drug/ATC3/drug_ent_emb/an eye condition.json\n",
      "Skipping antiglaucoma preparations. Embedding file already exists.\n",
      "Skipping interpreting images. Embedding file already exists.\n",
      "Skipping dental sealant maintenance. Embedding file already exists.\n",
      "Skipping other sedatives. Embedding file already exists.\n",
      "Skipping support brain health. Embedding file already exists.\n"
     ]
    },
    {
     "name": "stderr",
     "output_type": "stream",
     "text": [
      " 10%|▉         | 2076/20859 [08:12<1:05:14,  4.80it/s]"
     ]
    },
    {
     "name": "stdout",
     "output_type": "stream",
     "text": [
      "Saved embedding for post-operative medication to ../../graphs/drug/ATC3/drug_ent_emb/post-operative medication.json\n"
     ]
    },
    {
     "name": "stderr",
     "output_type": "stream",
     "text": [
      " 10%|▉         | 2077/20859 [08:12<1:15:20,  4.16it/s]"
     ]
    },
    {
     "name": "stdout",
     "output_type": "stream",
     "text": [
      "Saved embedding for in conjunction with other treatments to ../../graphs/drug/ATC3/drug_ent_emb/in conjunction with other treatments.json\n"
     ]
    },
    {
     "name": "stderr",
     "output_type": "stream",
     "text": [
      " 10%|▉         | 2078/20859 [08:13<1:23:57,  3.73it/s]"
     ]
    },
    {
     "name": "stdout",
     "output_type": "stream",
     "text": [
      "Saved embedding for achieve desired gender transition to ../../graphs/drug/ATC3/drug_ent_emb/achieve desired gender transition.json\n",
      "Skipping used for chemoprophylaxis in individuals with epilepsy. Embedding file already exists.\n",
      "Skipping jitteriness. Embedding file already exists.\n",
      "Skipping reduce cholesterol levels. Embedding file already exists.\n"
     ]
    },
    {
     "name": "stderr",
     "output_type": "stream",
     "text": [
      " 10%|▉         | 2082/20859 [08:13<1:03:24,  4.94it/s]"
     ]
    },
    {
     "name": "stdout",
     "output_type": "stream",
     "text": [
      "Saved embedding for cytotoxic to cancer cells to ../../graphs/drug/ATC3/drug_ent_emb/cytotoxic to cancer cells.json\n",
      "Skipping used for post-operative care. Embedding file already exists.\n",
      "Skipping enzymes involved in nucleotide salvage. Embedding file already exists.\n",
      "Skipping used in the treatment of septicemia. Embedding file already exists.\n",
      "Skipping cause temperature fluctuations. Embedding file already exists.\n",
      "Skipping varying availability. Embedding file already exists.\n",
      "Skipping evaluation. Embedding file already exists.\n",
      "Skipping swallowed whole. Embedding file already exists.\n"
     ]
    },
    {
     "name": "stderr",
     "output_type": "stream",
     "text": [
      " 10%|█         | 2090/20859 [08:14<40:37,  7.70it/s]  "
     ]
    },
    {
     "name": "stdout",
     "output_type": "stream",
     "text": [
      "Saved embedding for specific storage temperature requirements to ../../graphs/drug/ATC3/drug_ent_emb/specific storage temperature requirements.json\n",
      "Skipping live vaccines. Embedding file already exists.\n",
      "Skipping heart attack. Embedding file already exists.\n",
      "Skipping risk of transmission. Embedding file already exists.\n",
      "Skipping acute rhinitis. Embedding file already exists.\n"
     ]
    },
    {
     "name": "stderr",
     "output_type": "stream",
     "text": [
      " 10%|█         | 2095/20859 [08:14<39:10,  7.98it/s]"
     ]
    },
    {
     "name": "stdout",
     "output_type": "stream",
     "text": [
      "Saved embedding for dose adjustments in geriatric patients to ../../graphs/drug/ATC3/drug_ent_emb/dose adjustments in geriatric patients.json\n",
      "Skipping tablets and liquid suspensions. Embedding file already exists.\n",
      "Skipping common gastrointestinal disorder. Embedding file already exists.\n",
      "Skipping condition characterized by excessive urination and thirst. Embedding file already exists.\n",
      "Skipping the environment. Embedding file already exists.\n"
     ]
    },
    {
     "name": "stderr",
     "output_type": "stream",
     "text": [
      " 10%|█         | 2100/20859 [08:15<35:36,  8.78it/s]"
     ]
    },
    {
     "name": "stdout",
     "output_type": "stream",
     "text": [
      "Saved embedding for rash to ../../graphs/drug/ATC3/drug_ent_emb/rash.json\n",
      "Skipping sun sensitivity. Embedding file already exists.\n"
     ]
    },
    {
     "name": "stderr",
     "output_type": "stream",
     "text": [
      " 10%|█         | 2102/20859 [08:16<47:44,  6.55it/s]"
     ]
    },
    {
     "name": "stdout",
     "output_type": "stream",
     "text": [
      "Saved embedding for used on infected or open wounds to ../../graphs/drug/ATC3/drug_ent_emb/used on infected or open wounds.json\n"
     ]
    },
    {
     "name": "stderr",
     "output_type": "stream",
     "text": [
      " 10%|█         | 2103/20859 [08:16<56:48,  5.50it/s]"
     ]
    },
    {
     "name": "stdout",
     "output_type": "stream",
     "text": [
      "Saved embedding for consolidation chemotherapy to ../../graphs/drug/ATC3/drug_ent_emb/consolidation chemotherapy.json\n"
     ]
    },
    {
     "name": "stderr",
     "output_type": "stream",
     "text": [
      " 10%|█         | 2104/20859 [08:16<1:10:23,  4.44it/s]"
     ]
    },
    {
     "name": "stdout",
     "output_type": "stream",
     "text": [
      "Saved embedding for treatment targets to ../../graphs/drug/ATC3/drug_ent_emb/treatment targets.json\n"
     ]
    },
    {
     "name": "stderr",
     "output_type": "stream",
     "text": [
      " 10%|█         | 2105/20859 [08:17<1:42:01,  3.06it/s]"
     ]
    },
    {
     "name": "stdout",
     "output_type": "stream",
     "text": [
      "Saved embedding for effective prevention strategy to ../../graphs/drug/ATC3/drug_ent_emb/effective prevention strategy.json\n"
     ]
    },
    {
     "name": "stderr",
     "output_type": "stream",
     "text": [
      " 10%|█         | 2106/20859 [08:18<1:48:09,  2.89it/s]"
     ]
    },
    {
     "name": "stdout",
     "output_type": "stream",
     "text": [
      "Saved embedding for irrigating solutions to ../../graphs/drug/ATC3/drug_ent_emb/irrigating solutions.json\n"
     ]
    },
    {
     "name": "stderr",
     "output_type": "stream",
     "text": [
      " 10%|█         | 2107/20859 [08:18<1:54:20,  2.73it/s]"
     ]
    },
    {
     "name": "stdout",
     "output_type": "stream",
     "text": [
      "Saved embedding for risk of falls in patients with muscle weakness to ../../graphs/drug/ATC3/drug_ent_emb/risk of falls in patients with muscle weakness.json\n"
     ]
    },
    {
     "name": "stderr",
     "output_type": "stream",
     "text": [
      " 10%|█         | 2108/20859 [08:19<2:00:49,  2.59it/s]"
     ]
    },
    {
     "name": "stdout",
     "output_type": "stream",
     "text": [
      "Saved embedding for avoided while using other otologicals to ../../graphs/drug/ATC3/drug_ent_emb/avoided while using other otologicals.json\n",
      "Skipping antacids. Embedding file already exists.\n"
     ]
    },
    {
     "name": "stderr",
     "output_type": "stream",
     "text": [
      " 10%|█         | 2110/20859 [08:19<1:39:40,  3.14it/s]"
     ]
    },
    {
     "name": "stdout",
     "output_type": "stream",
     "text": [
      "Saved embedding for hormonal contraception to ../../graphs/drug/ATC3/drug_ent_emb/hormonal contraception.json\n"
     ]
    },
    {
     "name": "stderr",
     "output_type": "stream",
     "text": [
      " 10%|█         | 2111/20859 [08:20<1:49:48,  2.85it/s]"
     ]
    },
    {
     "name": "stdout",
     "output_type": "stream",
     "text": [
      "Saved embedding for rapid absorption of the medication to ../../graphs/drug/ATC3/drug_ent_emb/rapid absorption of the medication.json\n",
      "Skipping iron to be transported to the bone marrow. Embedding file already exists.\n"
     ]
    },
    {
     "name": "stderr",
     "output_type": "stream",
     "text": [
      " 10%|█         | 2113/20859 [08:20<1:59:03,  2.62it/s]"
     ]
    },
    {
     "name": "stdout",
     "output_type": "stream",
     "text": [
      "Saved embedding for reduce stomach acid production to ../../graphs/drug/ATC3/drug_ent_emb/reduce stomach acid production.json\n",
      "Skipping testosterone conversion. Embedding file already exists.\n"
     ]
    },
    {
     "name": "stderr",
     "output_type": "stream",
     "text": [
      " 10%|█         | 2115/20859 [08:21<1:42:09,  3.06it/s]"
     ]
    },
    {
     "name": "stdout",
     "output_type": "stream",
     "text": [
      "Saved embedding for activated charcoal to ../../graphs/drug/ATC3/drug_ent_emb/activated charcoal.json\n"
     ]
    },
    {
     "name": "stderr",
     "output_type": "stream",
     "text": [
      " 10%|█         | 2116/20859 [08:21<1:50:26,  2.83it/s]"
     ]
    },
    {
     "name": "stdout",
     "output_type": "stream",
     "text": [
      "Saved embedding for disease outbreaks to ../../graphs/drug/ATC3/drug_ent_emb/disease outbreaks.json\n"
     ]
    },
    {
     "name": "stderr",
     "output_type": "stream",
     "text": [
      " 10%|█         | 2117/20859 [08:22<2:01:40,  2.57it/s]"
     ]
    },
    {
     "name": "stdout",
     "output_type": "stream",
     "text": [
      "Saved embedding for skin discoloration to ../../graphs/drug/ATC3/drug_ent_emb/skin discoloration.json\n",
      "Skipping in herbal form. Embedding file already exists.\n",
      "Skipping improve health. Embedding file already exists.\n",
      "Skipping bone turnover. Embedding file already exists.\n",
      "Skipping a healthcare professional. Embedding file already exists.\n",
      "Skipping according to evidence-based guidelines. Embedding file already exists.\n"
     ]
    },
    {
     "name": "stderr",
     "output_type": "stream",
     "text": [
      " 10%|█         | 2123/20859 [08:23<1:04:51,  4.81it/s]"
     ]
    },
    {
     "name": "stdout",
     "output_type": "stream",
     "text": [
      "Saved embedding for healthcare evaluation to ../../graphs/drug/ATC3/drug_ent_emb/healthcare evaluation.json\n"
     ]
    },
    {
     "name": "stderr",
     "output_type": "stream",
     "text": [
      " 10%|█         | 2124/20859 [08:23<1:28:32,  3.53it/s]"
     ]
    },
    {
     "name": "stdout",
     "output_type": "stream",
     "text": [
      "Saved embedding for medical evaluation to ../../graphs/drug/ATC3/drug_ent_emb/medical evaluation.json\n",
      "Skipping liver energy production. Embedding file already exists.\n",
      "Skipping gastrointestinal health. Embedding file already exists.\n"
     ]
    },
    {
     "name": "stderr",
     "output_type": "stream",
     "text": [
      " 10%|█         | 2127/20859 [08:24<1:22:17,  3.79it/s]"
     ]
    },
    {
     "name": "stdout",
     "output_type": "stream",
     "text": [
      "Saved embedding for insect bites and stings to ../../graphs/drug/ATC3/drug_ent_emb/insect bites and stings.json\n",
      "Skipping alleviate symptoms of traveler's diarrhea. Embedding file already exists.\n",
      "Skipping serious or life-threatening. Embedding file already exists.\n",
      "Skipping used with heat or cold packs. Embedding file already exists.\n",
      "Skipping increased sensitivity to cold. Embedding file already exists.\n",
      "Skipping vitamin D supplements. Embedding file already exists.\n",
      "Skipping diagnosing kidney disease. Embedding file already exists.\n"
     ]
    },
    {
     "name": "stderr",
     "output_type": "stream",
     "text": [
      " 10%|█         | 2134/20859 [08:25<49:20,  6.32it/s]  "
     ]
    },
    {
     "name": "stdout",
     "output_type": "stream",
     "text": [
      "Saved embedding for discontinuation of therapy to ../../graphs/drug/ATC3/drug_ent_emb/discontinuation of therapy.json\n",
      "Skipping prescribed for bacterial infection. Embedding file already exists.\n",
      "Skipping hematological side effects. Embedding file already exists.\n",
      "Skipping manage inflammatory eye diseases. Embedding file already exists.\n",
      "Skipping taken with or without meals. Embedding file already exists.\n"
     ]
    },
    {
     "name": "stderr",
     "output_type": "stream",
     "text": [
      " 10%|█         | 2139/20859 [08:25<41:12,  7.57it/s]"
     ]
    },
    {
     "name": "stdout",
     "output_type": "stream",
     "text": [
      "Saved embedding for dental emergency treatments to ../../graphs/drug/ATC3/drug_ent_emb/dental emergency treatments.json\n"
     ]
    },
    {
     "name": "stderr",
     "output_type": "stream",
     "text": [
      " 10%|█         | 2140/20859 [08:26<1:00:39,  5.14it/s]"
     ]
    },
    {
     "name": "stdout",
     "output_type": "stream",
     "text": [
      "Saved embedding for frequency and severity of bowel movements to ../../graphs/drug/ATC3/drug_ent_emb/frequency and severity of bowel movements.json\n",
      "Skipping synergistic effect. Embedding file already exists.\n"
     ]
    },
    {
     "name": "stderr",
     "output_type": "stream",
     "text": [
      " 10%|█         | 2142/20859 [08:27<1:12:03,  4.33it/s]"
     ]
    },
    {
     "name": "stdout",
     "output_type": "stream",
     "text": [
      "Saved embedding for used with caution in patients with certain medical conditions to ../../graphs/drug/ATC3/drug_ent_emb/used with caution in patients with certain medical conditions.json\n",
      "Skipping leg pain. Embedding file already exists.\n",
      "Skipping enhance treatment effectiveness. Embedding file already exists.\n"
     ]
    },
    {
     "name": "stderr",
     "output_type": "stream",
     "text": [
      " 10%|█         | 2145/20859 [08:27<1:03:59,  4.87it/s]"
     ]
    },
    {
     "name": "stdout",
     "output_type": "stream",
     "text": [
      "Saved embedding for thorough evaluation to ../../graphs/drug/ATC3/drug_ent_emb/thorough evaluation.json\n",
      "Skipping individual and population-level immune protection. Embedding file already exists.\n",
      "Skipping difficulty in swallowing. Embedding file already exists.\n",
      "Skipping kidney disorder diagnosis. Embedding file already exists.\n",
      "Skipping maintaining the integrity of epithelial tissues. Embedding file already exists.\n",
      "Skipping stored near heat sources. Embedding file already exists.\n"
     ]
    },
    {
     "name": "stderr",
     "output_type": "stream",
     "text": [
      " 10%|█         | 2151/20859 [08:27<46:04,  6.77it/s]  "
     ]
    },
    {
     "name": "stdout",
     "output_type": "stream",
     "text": [
      "Saved embedding for anticholinergic drugs to ../../graphs/drug/ATC3/drug_ent_emb/anticholinergic drugs.json\n"
     ]
    },
    {
     "name": "stderr",
     "output_type": "stream",
     "text": [
      " 10%|█         | 2152/20859 [08:28<56:10,  5.55it/s]"
     ]
    },
    {
     "name": "stdout",
     "output_type": "stream",
     "text": [
      "Saved embedding for derived from opium to ../../graphs/drug/ATC3/drug_ent_emb/derived from opium.json\n",
      "Skipping used as an adjunct therapy. Embedding file already exists.\n"
     ]
    },
    {
     "name": "stderr",
     "output_type": "stream",
     "text": [
      " 10%|█         | 2154/20859 [08:28<59:55,  5.20it/s]"
     ]
    },
    {
     "name": "stdout",
     "output_type": "stream",
     "text": [
      "Saved embedding for dark circles under the eyes to ../../graphs/drug/ATC3/drug_ent_emb/dark circles under the eyes.json\n",
      "Skipping antiseptics for burns. Embedding file already exists.\n",
      "Skipping treating cancer. Embedding file already exists.\n"
     ]
    },
    {
     "name": "stderr",
     "output_type": "stream",
     "text": [
      " 10%|█         | 2157/20859 [08:29<55:15,  5.64it/s]"
     ]
    },
    {
     "name": "stdout",
     "output_type": "stream",
     "text": [
      "Saved embedding for baby care products to ../../graphs/drug/ATC3/drug_ent_emb/baby care products.json\n",
      "Skipping parenterally or orally. Embedding file already exists.\n"
     ]
    },
    {
     "name": "stderr",
     "output_type": "stream",
     "text": [
      " 10%|█         | 2159/20859 [08:29<59:36,  5.23it/s]"
     ]
    },
    {
     "name": "stdout",
     "output_type": "stream",
     "text": [
      "Saved embedding for tapering off the medication to ../../graphs/drug/ATC3/drug_ent_emb/tapering off the medication.json\n",
      "Skipping as part of a comprehensive wound care plan. Embedding file already exists.\n",
      "Skipping important instructions for use. Embedding file already exists.\n"
     ]
    },
    {
     "name": "stderr",
     "output_type": "stream",
     "text": [
      " 10%|█         | 2162/20859 [08:30<1:01:11,  5.09it/s]"
     ]
    },
    {
     "name": "stdout",
     "output_type": "stream",
     "text": [
      "Saved embedding for fainting to ../../graphs/drug/ATC3/drug_ent_emb/fainting.json\n"
     ]
    },
    {
     "name": "stderr",
     "output_type": "stream",
     "text": [
      " 10%|█         | 2163/20859 [08:30<1:11:48,  4.34it/s]"
     ]
    },
    {
     "name": "stdout",
     "output_type": "stream",
     "text": [
      "Saved embedding for contraindicated in children to ../../graphs/drug/ATC3/drug_ent_emb/contraindicated in children.json\n",
      "Skipping a handle. Embedding file already exists.\n",
      "Skipping used for preventing digestive issues. Embedding file already exists.\n",
      "Skipping diuretic efficacy. Embedding file already exists.\n",
      "Skipping ovulation. Embedding file already exists.\n"
     ]
    },
    {
     "name": "stderr",
     "output_type": "stream",
     "text": [
      " 10%|█         | 2168/20859 [08:31<50:13,  6.20it/s]  "
     ]
    },
    {
     "name": "stdout",
     "output_type": "stream",
     "text": [
      "Saved embedding for used in patients with reduced gastrointestinal motility to ../../graphs/drug/ATC3/drug_ent_emb/used in patients with reduced gastrointestinal motility.json\n"
     ]
    },
    {
     "name": "stderr",
     "output_type": "stream",
     "text": [
      " 10%|█         | 2169/20859 [08:31<1:00:42,  5.13it/s]"
     ]
    },
    {
     "name": "stdout",
     "output_type": "stream",
     "text": [
      "Saved embedding for glucose release to ../../graphs/drug/ATC3/drug_ent_emb/glucose release.json\n"
     ]
    },
    {
     "name": "stderr",
     "output_type": "stream",
     "text": [
      " 10%|█         | 2170/20859 [08:32<1:28:22,  3.52it/s]"
     ]
    },
    {
     "name": "stdout",
     "output_type": "stream",
     "text": [
      "Saved embedding for may vary depending on the individual to ../../graphs/drug/ATC3/drug_ent_emb/may vary depending on the individual.json\n"
     ]
    },
    {
     "name": "stderr",
     "output_type": "stream",
     "text": [
      " 10%|█         | 2171/20859 [08:32<1:37:29,  3.19it/s]"
     ]
    },
    {
     "name": "stdout",
     "output_type": "stream",
     "text": [
      "Saved embedding for torsemide to ../../graphs/drug/ATC3/drug_ent_emb/torsemide.json\n",
      "Skipping childproof storage. Embedding file already exists.\n",
      "Skipping healthy diet. Embedding file already exists.\n",
      "Skipping antipyretics. Embedding file already exists.\n"
     ]
    },
    {
     "name": "stderr",
     "output_type": "stream",
     "text": [
      " 10%|█         | 2175/20859 [08:33<1:05:30,  4.75it/s]"
     ]
    },
    {
     "name": "stdout",
     "output_type": "stream",
     "text": [
      "Saved embedding for reduced stomach acid production to ../../graphs/drug/ATC3/drug_ent_emb/reduced stomach acid production.json\n",
      "Skipping remove slough. Embedding file already exists.\n"
     ]
    },
    {
     "name": "stderr",
     "output_type": "stream",
     "text": [
      " 10%|█         | 2177/20859 [08:33<1:07:38,  4.60it/s]"
     ]
    },
    {
     "name": "stdout",
     "output_type": "stream",
     "text": [
      "Saved embedding for in patients with gestational hypertension to ../../graphs/drug/ATC3/drug_ent_emb/in patients with gestational hypertension.json\n",
      "Skipping treat cancer. Embedding file already exists.\n",
      "Skipping liver glycogen storage. Embedding file already exists.\n",
      "Skipping temporary. Embedding file already exists.\n",
      "Skipping used as part of a comprehensive liver care approach. Embedding file already exists.\n"
     ]
    },
    {
     "name": "stderr",
     "output_type": "stream",
     "text": [
      " 10%|█         | 2182/20859 [08:34<53:14,  5.85it/s]  "
     ]
    },
    {
     "name": "stdout",
     "output_type": "stream",
     "text": [
      "Saved embedding for dental splints to ../../graphs/drug/ATC3/drug_ent_emb/dental splints.json\n",
      "Skipping physical performance. Embedding file already exists.\n"
     ]
    },
    {
     "name": "stderr",
     "output_type": "stream",
     "text": [
      " 10%|█         | 2184/20859 [08:35<1:08:48,  4.52it/s]"
     ]
    },
    {
     "name": "stdout",
     "output_type": "stream",
     "text": [
      "Saved embedding for to reconstitute vaccine formulations to ../../graphs/drug/ATC3/drug_ent_emb/to reconstitute vaccine formulations.json\n",
      "Skipping splanchnicography. Embedding file already exists.\n",
      "Skipping vaccine production. Embedding file already exists.\n"
     ]
    },
    {
     "name": "stderr",
     "output_type": "stream",
     "text": [
      " 10%|█         | 2187/20859 [08:35<1:07:42,  4.60it/s]"
     ]
    },
    {
     "name": "stdout",
     "output_type": "stream",
     "text": [
      "Saved embedding for using in appropriate dosages for pediatric patients to ../../graphs/drug/ATC3/drug_ent_emb/using in appropriate dosages for pediatric patients.json\n"
     ]
    },
    {
     "name": "stderr",
     "output_type": "stream",
     "text": [
      " 10%|█         | 2188/20859 [08:37<1:43:54,  2.99it/s]"
     ]
    },
    {
     "name": "stdout",
     "output_type": "stream",
     "text": [
      "Saved embedding for toxic in high doses to ../../graphs/drug/ATC3/drug_ent_emb/toxic in high doses.json\n"
     ]
    },
    {
     "name": "stderr",
     "output_type": "stream",
     "text": [
      " 10%|█         | 2189/20859 [08:37<1:59:05,  2.61it/s]"
     ]
    },
    {
     "name": "stdout",
     "output_type": "stream",
     "text": [
      "Saved embedding for medication results to ../../graphs/drug/ATC3/drug_ent_emb/medication results.json\n"
     ]
    },
    {
     "name": "stderr",
     "output_type": "stream",
     "text": [
      " 10%|█         | 2190/20859 [08:39<3:00:44,  1.72it/s]"
     ]
    },
    {
     "name": "stdout",
     "output_type": "stream",
     "text": [
      "Saved embedding for increased risk to ../../graphs/drug/ATC3/drug_ent_emb/increased risk.json\n"
     ]
    },
    {
     "name": "stderr",
     "output_type": "stream",
     "text": [
      " 11%|█         | 2191/20859 [08:40<3:32:08,  1.47it/s]"
     ]
    },
    {
     "name": "stdout",
     "output_type": "stream",
     "text": [
      "Saved embedding for antipruritic agents to ../../graphs/drug/ATC3/drug_ent_emb/antipruritic agents.json\n",
      "Skipping risk of skin infections. Embedding file already exists.\n"
     ]
    },
    {
     "name": "stderr",
     "output_type": "stream",
     "text": [
      " 11%|█         | 2193/20859 [08:41<3:01:38,  1.71it/s]"
     ]
    },
    {
     "name": "stdout",
     "output_type": "stream",
     "text": [
      "Saved embedding for seafood allergies to ../../graphs/drug/ATC3/drug_ent_emb/seafood allergies.json\n",
      "Skipping risk of fractures. Embedding file already exists.\n"
     ]
    },
    {
     "name": "stderr",
     "output_type": "stream",
     "text": [
      " 11%|█         | 2195/20859 [08:41<2:35:36,  2.00it/s]"
     ]
    },
    {
     "name": "stdout",
     "output_type": "stream",
     "text": [
      "Saved embedding for used for borderline personality disorder to ../../graphs/drug/ATC3/drug_ent_emb/used for borderline personality disorder.json\n"
     ]
    },
    {
     "name": "stderr",
     "output_type": "stream",
     "text": [
      " 11%|█         | 2196/20859 [08:42<2:44:56,  1.89it/s]"
     ]
    },
    {
     "name": "stdout",
     "output_type": "stream",
     "text": [
      "Saved embedding for be used in combination with lifestyle changes to ../../graphs/drug/ATC3/drug_ent_emb/be used in combination with lifestyle changes.json\n",
      "Skipping the anticholinergic effects. Embedding file already exists.\n",
      "Skipping reduce myocardial oxygen demand. Embedding file already exists.\n"
     ]
    },
    {
     "name": "stderr",
     "output_type": "stream",
     "text": [
      " 11%|█         | 2199/20859 [08:42<1:51:13,  2.80it/s]"
     ]
    },
    {
     "name": "stdout",
     "output_type": "stream",
     "text": [
      "Saved embedding for certain antibiotics to ../../graphs/drug/ATC3/drug_ent_emb/certain antibiotics.json\n",
      "Skipping reduce retinal inflammation. Embedding file already exists.\n",
      "Skipping for the treatment of osteoarthritis. Embedding file already exists.\n"
     ]
    },
    {
     "name": "stderr",
     "output_type": "stream",
     "text": [
      " 11%|█         | 2202/20859 [08:43<1:26:03,  3.61it/s]"
     ]
    },
    {
     "name": "stdout",
     "output_type": "stream",
     "text": [
      "Saved embedding for decreased fluid intake to ../../graphs/drug/ATC3/drug_ent_emb/decreased fluid intake.json\n",
      "Skipping knowledge of uterotonics. Embedding file already exists.\n"
     ]
    },
    {
     "name": "stderr",
     "output_type": "stream",
     "text": [
      " 11%|█         | 2204/20859 [08:44<2:05:51,  2.47it/s]"
     ]
    },
    {
     "name": "stdout",
     "output_type": "stream",
     "text": [
      "Saved embedding for prevent tophi formation to ../../graphs/drug/ATC3/drug_ent_emb/prevent tophi formation.json\n",
      "Skipping isradipine as an example. Embedding file already exists.\n",
      "Skipping soothing. Embedding file already exists.\n"
     ]
    },
    {
     "name": "stderr",
     "output_type": "stream",
     "text": [
      " 11%|█         | 2207/20859 [08:45<1:43:05,  3.02it/s]"
     ]
    },
    {
     "name": "stdout",
     "output_type": "stream",
     "text": [
      "Saved embedding for in patients with arterial fibrillation to ../../graphs/drug/ATC3/drug_ent_emb/in patients with arterial fibrillation.json\n"
     ]
    },
    {
     "name": "stderr",
     "output_type": "stream",
     "text": [
      " 11%|█         | 2208/20859 [08:45<1:48:26,  2.87it/s]"
     ]
    },
    {
     "name": "stdout",
     "output_type": "stream",
     "text": [
      "Saved embedding for the risk of complications to ../../graphs/drug/ATC3/drug_ent_emb/the risk of complications.json\n",
      "Skipping in autoimmune diseases. Embedding file already exists.\n"
     ]
    },
    {
     "name": "stderr",
     "output_type": "stream",
     "text": [
      " 11%|█         | 2210/20859 [08:46<1:36:03,  3.24it/s]"
     ]
    },
    {
     "name": "stdout",
     "output_type": "stream",
     "text": [
      "Saved embedding for future treatment options to ../../graphs/drug/ATC3/drug_ent_emb/future treatment options.json\n",
      "Skipping skin moisturization. Embedding file already exists.\n",
      "Skipping individual health conditions. Embedding file already exists.\n",
      "Skipping used for dryness. Embedding file already exists.\n",
      "Skipping taken alongside other supplements. Embedding file already exists.\n"
     ]
    },
    {
     "name": "stderr",
     "output_type": "stream",
     "text": [
      " 11%|█         | 2215/20859 [08:46<1:04:24,  4.82it/s]"
     ]
    },
    {
     "name": "stdout",
     "output_type": "stream",
     "text": [
      "Saved embedding for the risk of electrolyte imbalances to ../../graphs/drug/ATC3/drug_ent_emb/the risk of electrolyte imbalances.json\n",
      "Skipping side effects of opioid medications. Embedding file already exists.\n"
     ]
    },
    {
     "name": "stderr",
     "output_type": "stream",
     "text": [
      " 11%|█         | 2217/20859 [08:47<1:12:43,  4.27it/s]"
     ]
    },
    {
     "name": "stdout",
     "output_type": "stream",
     "text": [
      "Saved embedding for with drug dosage to ../../graphs/drug/ATC3/drug_ent_emb/with drug dosage.json\n"
     ]
    },
    {
     "name": "stderr",
     "output_type": "stream",
     "text": [
      " 11%|█         | 2218/20859 [08:48<1:24:19,  3.68it/s]"
     ]
    },
    {
     "name": "stdout",
     "output_type": "stream",
     "text": [
      "Saved embedding for achieve high vaccine coverage to ../../graphs/drug/ATC3/drug_ent_emb/achieve high vaccine coverage.json\n",
      "Skipping combined with muscle relaxants. Embedding file already exists.\n",
      "Skipping used for improving overall health and wellness. Embedding file already exists.\n",
      "Skipping during eye examinations. Embedding file already exists.\n"
     ]
    },
    {
     "name": "stderr",
     "output_type": "stream",
     "text": [
      " 11%|█         | 2222/20859 [08:48<1:02:21,  4.98it/s]"
     ]
    },
    {
     "name": "stdout",
     "output_type": "stream",
     "text": [
      "Saved embedding for individualized therapy to ../../graphs/drug/ATC3/drug_ent_emb/individualized therapy.json\n"
     ]
    },
    {
     "name": "stderr",
     "output_type": "stream",
     "text": [
      " 11%|█         | 2223/20859 [08:48<1:12:21,  4.29it/s]"
     ]
    },
    {
     "name": "stdout",
     "output_type": "stream",
     "text": [
      "Saved embedding for actions taken to avoid a certain condition to ../../graphs/drug/ATC3/drug_ent_emb/actions taken to avoid a certain condition.json\n"
     ]
    },
    {
     "name": "stderr",
     "output_type": "stream",
     "text": [
      " 11%|█         | 2224/20859 [08:49<1:42:27,  3.03it/s]"
     ]
    },
    {
     "name": "stdout",
     "output_type": "stream",
     "text": [
      "Saved embedding for various body systems to ../../graphs/drug/ATC3/drug_ent_emb/various body systems.json\n"
     ]
    },
    {
     "name": "stderr",
     "output_type": "stream",
     "text": [
      " 11%|█         | 2225/20859 [08:50<1:50:17,  2.82it/s]"
     ]
    },
    {
     "name": "stdout",
     "output_type": "stream",
     "text": [
      "Saved embedding for monitor medication levels to ../../graphs/drug/ATC3/drug_ent_emb/monitor medication levels.json\n",
      "Skipping imaging interpretation. Embedding file already exists.\n"
     ]
    },
    {
     "name": "stderr",
     "output_type": "stream",
     "text": [
      " 11%|█         | 2227/20859 [08:50<1:35:26,  3.25it/s]"
     ]
    },
    {
     "name": "stdout",
     "output_type": "stream",
     "text": [
      "Saved embedding for at regular intervals to ../../graphs/drug/ATC3/drug_ent_emb/at regular intervals.json\n",
      "Skipping fertility concerns. Embedding file already exists.\n"
     ]
    },
    {
     "name": "stderr",
     "output_type": "stream",
     "text": [
      " 11%|█         | 2229/20859 [08:51<1:26:15,  3.60it/s]"
     ]
    },
    {
     "name": "stdout",
     "output_type": "stream",
     "text": [
      "Saved embedding for ptosis repair to ../../graphs/drug/ATC3/drug_ent_emb/ptosis repair.json\n"
     ]
    },
    {
     "name": "stderr",
     "output_type": "stream",
     "text": [
      " 11%|█         | 2230/20859 [08:51<1:47:38,  2.88it/s]"
     ]
    },
    {
     "name": "stdout",
     "output_type": "stream",
     "text": [
      "Saved embedding for used with caution in patients with high blood pressure to ../../graphs/drug/ATC3/drug_ent_emb/used with caution in patients with high blood pressure.json\n",
      "Skipping improve care. Embedding file already exists.\n"
     ]
    },
    {
     "name": "stderr",
     "output_type": "stream",
     "text": [
      " 11%|█         | 2232/20859 [08:52<1:34:57,  3.27it/s]"
     ]
    },
    {
     "name": "stdout",
     "output_type": "stream",
     "text": [
      "Saved embedding for special instructions for use in elderly patients to ../../graphs/drug/ATC3/drug_ent_emb/special instructions for use in elderly patients.json\n",
      "Skipping stimulate an immune response. Embedding file already exists.\n",
      "Skipping altered pharmacokinetics. Embedding file already exists.\n"
     ]
    },
    {
     "name": "stderr",
     "output_type": "stream",
     "text": [
      " 11%|█         | 2235/20859 [08:52<1:26:39,  3.58it/s]"
     ]
    },
    {
     "name": "stdout",
     "output_type": "stream",
     "text": [
      "Saved embedding for used to support overall health and well-being to ../../graphs/drug/ATC3/drug_ent_emb/used to support overall health and well-being.json\n",
      "Skipping inflammation of the surgically created pouch. Embedding file already exists.\n"
     ]
    },
    {
     "name": "stderr",
     "output_type": "stream",
     "text": [
      " 11%|█         | 2237/20859 [08:53<1:20:54,  3.84it/s]"
     ]
    },
    {
     "name": "stdout",
     "output_type": "stream",
     "text": [
      "Saved embedding for anti-infective agents to ../../graphs/drug/ATC3/drug_ent_emb/anti-infective agents.json\n"
     ]
    },
    {
     "name": "stderr",
     "output_type": "stream",
     "text": [
      " 11%|█         | 2238/20859 [08:53<1:30:36,  3.43it/s]"
     ]
    },
    {
     "name": "stdout",
     "output_type": "stream",
     "text": [
      "Saved embedding for drug excretion to ../../graphs/drug/ATC3/drug_ent_emb/drug excretion.json\n",
      "Skipping in maintaining healthy liver function. Embedding file already exists.\n",
      "Skipping prescribed for fluid retention. Embedding file already exists.\n"
     ]
    },
    {
     "name": "stderr",
     "output_type": "stream",
     "text": [
      " 11%|█         | 2241/20859 [08:54<1:14:43,  4.15it/s]"
     ]
    },
    {
     "name": "stdout",
     "output_type": "stream",
     "text": [
      "Saved embedding for changes in body composition to ../../graphs/drug/ATC3/drug_ent_emb/changes in body composition.json\n"
     ]
    },
    {
     "name": "stderr",
     "output_type": "stream",
     "text": [
      " 11%|█         | 2242/20859 [08:55<1:40:56,  3.07it/s]"
     ]
    },
    {
     "name": "stdout",
     "output_type": "stream",
     "text": [
      "Saved embedding for dose adjustments in hepatic dysfunction to ../../graphs/drug/ATC3/drug_ent_emb/dose adjustments in hepatic dysfunction.json\n",
      "Skipping different durations of action. Embedding file already exists.\n"
     ]
    },
    {
     "name": "stderr",
     "output_type": "stream",
     "text": [
      " 11%|█         | 2244/20859 [08:55<1:34:28,  3.28it/s]"
     ]
    },
    {
     "name": "stdout",
     "output_type": "stream",
     "text": [
      "Saved embedding for hyperkalemia and renal dysfunction to ../../graphs/drug/ATC3/drug_ent_emb/hyperkalemia and renal dysfunction.json\n",
      "Skipping improve cholesterol levels. Embedding file already exists.\n"
     ]
    },
    {
     "name": "stderr",
     "output_type": "stream",
     "text": [
      " 11%|█         | 2246/20859 [08:55<1:26:41,  3.58it/s]"
     ]
    },
    {
     "name": "stdout",
     "output_type": "stream",
     "text": [
      "Saved embedding for peripheral neuropathies to ../../graphs/drug/ATC3/drug_ent_emb/peripheral neuropathies.json\n",
      "Skipping if wound is actively bleeding. Embedding file already exists.\n",
      "Skipping solid tumors. Embedding file already exists.\n",
      "Skipping topically applied. Embedding file already exists.\n"
     ]
    },
    {
     "name": "stderr",
     "output_type": "stream",
     "text": [
      " 11%|█         | 2250/20859 [08:56<1:04:19,  4.82it/s]"
     ]
    },
    {
     "name": "stdout",
     "output_type": "stream",
     "text": [
      "Saved embedding for sites of metastasis to ../../graphs/drug/ATC3/drug_ent_emb/sites of metastasis.json\n"
     ]
    },
    {
     "name": "stderr",
     "output_type": "stream",
     "text": [
      " 11%|█         | 2251/20859 [08:57<1:36:09,  3.23it/s]"
     ]
    },
    {
     "name": "stdout",
     "output_type": "stream",
     "text": [
      "Saved embedding for the use of opioids to ../../graphs/drug/ATC3/drug_ent_emb/the use of opioids.json\n",
      "Skipping prescribed to children. Embedding file already exists.\n",
      "Skipping after application. Embedding file already exists.\n",
      "Skipping can damage genetic material. Embedding file already exists.\n",
      "Skipping infusion. Embedding file already exists.\n",
      "Skipping a safe medication when used as directed. Embedding file already exists.\n"
     ]
    },
    {
     "name": "stderr",
     "output_type": "stream",
     "text": [
      " 11%|█         | 2257/20859 [08:57<56:37,  5.48it/s]  "
     ]
    },
    {
     "name": "stdout",
     "output_type": "stream",
     "text": [
      "Saved embedding for as needed to ../../graphs/drug/ATC3/drug_ent_emb/as needed.json\n"
     ]
    },
    {
     "name": "stderr",
     "output_type": "stream",
     "text": [
      " 11%|█         | 2258/20859 [08:58<1:07:50,  4.57it/s]"
     ]
    },
    {
     "name": "stdout",
     "output_type": "stream",
     "text": [
      "Saved embedding for used for liver detoxification to ../../graphs/drug/ATC3/drug_ent_emb/used for liver detoxification.json\n"
     ]
    },
    {
     "name": "stderr",
     "output_type": "stream",
     "text": [
      " 11%|█         | 2259/20859 [08:58<1:18:24,  3.95it/s]"
     ]
    },
    {
     "name": "stdout",
     "output_type": "stream",
     "text": [
      "Saved embedding for respiratory tract infections to ../../graphs/drug/ATC3/drug_ent_emb/respiratory tract infections.json\n"
     ]
    },
    {
     "name": "stderr",
     "output_type": "stream",
     "text": [
      " 11%|█         | 2260/20859 [08:59<1:29:05,  3.48it/s]"
     ]
    },
    {
     "name": "stdout",
     "output_type": "stream",
     "text": [
      "Saved embedding for visualization of the uterus to ../../graphs/drug/ATC3/drug_ent_emb/visualization of the uterus.json\n",
      "Skipping in combination with other drugs. Embedding file already exists.\n"
     ]
    },
    {
     "name": "stderr",
     "output_type": "stream",
     "text": [
      " 11%|█         | 2262/20859 [08:59<1:22:40,  3.75it/s]"
     ]
    },
    {
     "name": "stdout",
     "output_type": "stream",
     "text": [
      "Saved embedding for restoring gut health to ../../graphs/drug/ATC3/drug_ent_emb/restoring gut health.json\n"
     ]
    },
    {
     "name": "stderr",
     "output_type": "stream",
     "text": [
      " 11%|█         | 2263/20859 [09:00<1:33:18,  3.32it/s]"
     ]
    },
    {
     "name": "stdout",
     "output_type": "stream",
     "text": [
      "Saved embedding for into the vagina to ../../graphs/drug/ATC3/drug_ent_emb/into the vagina.json\n",
      "Skipping for relief of sinus pressure. Embedding file already exists.\n",
      "Skipping nerve function. Embedding file already exists.\n"
     ]
    },
    {
     "name": "stderr",
     "output_type": "stream",
     "text": [
      " 11%|█         | 2266/20859 [09:00<1:11:44,  4.32it/s]"
     ]
    },
    {
     "name": "stdout",
     "output_type": "stream",
     "text": [
      "Saved embedding for reported to a healthcare professional to ../../graphs/drug/ATC3/drug_ent_emb/reported to a healthcare professional.json\n"
     ]
    },
    {
     "name": "stderr",
     "output_type": "stream",
     "text": [
      " 11%|█         | 2267/20859 [09:01<1:24:25,  3.67it/s]"
     ]
    },
    {
     "name": "stdout",
     "output_type": "stream",
     "text": [
      "Saved embedding for easy bruising to ../../graphs/drug/ATC3/drug_ent_emb/easy bruising.json\n"
     ]
    },
    {
     "name": "stderr",
     "output_type": "stream",
     "text": [
      " 11%|█         | 2268/20859 [09:02<2:37:02,  1.97it/s]"
     ]
    },
    {
     "name": "stdout",
     "output_type": "stream",
     "text": [
      "Saved embedding for drug-induced gastrointestinal bleeding to ../../graphs/drug/ATC3/drug_ent_emb/drug-induced gastrointestinal bleeding.json\n",
      "Skipping medication utilization. Embedding file already exists.\n",
      "Skipping proper muscle function. Embedding file already exists.\n"
     ]
    },
    {
     "name": "stderr",
     "output_type": "stream",
     "text": [
      " 11%|█         | 2271/20859 [09:02<1:45:29,  2.94it/s]"
     ]
    },
    {
     "name": "stdout",
     "output_type": "stream",
     "text": [
      "Saved embedding for used in combination with antipyretics to ../../graphs/drug/ATC3/drug_ent_emb/used in combination with antipyretics.json\n",
      "Skipping overall liver health improvement. Embedding file already exists.\n"
     ]
    },
    {
     "name": "stderr",
     "output_type": "stream",
     "text": [
      " 11%|█         | 2273/20859 [09:03<1:35:54,  3.23it/s]"
     ]
    },
    {
     "name": "stdout",
     "output_type": "stream",
     "text": [
      "Saved embedding for plasma therapy to ../../graphs/drug/ATC3/drug_ent_emb/plasma therapy.json\n",
      "Skipping maintenance chemotherapy. Embedding file already exists.\n"
     ]
    },
    {
     "name": "stderr",
     "output_type": "stream",
     "text": [
      " 11%|█         | 2275/20859 [09:04<1:32:23,  3.35it/s]"
     ]
    },
    {
     "name": "stdout",
     "output_type": "stream",
     "text": [
      "Saved embedding for iron to be excreted by the kidneys to ../../graphs/drug/ATC3/drug_ent_emb/iron to be excreted by the kidneys.json\n",
      "Skipping increased antibody diversity. Embedding file already exists.\n",
      "Skipping used as part of a comprehensive ear care plan. Embedding file already exists.\n",
      "Skipping anxiety. Embedding file already exists.\n"
     ]
    },
    {
     "name": "stderr",
     "output_type": "stream",
     "text": [
      " 11%|█         | 2279/20859 [09:04<1:05:43,  4.71it/s]"
     ]
    },
    {
     "name": "stdout",
     "output_type": "stream",
     "text": [
      "Saved embedding for x-ray contrast media to ../../graphs/drug/ATC3/drug_ent_emb/x-ray contrast media.json\n",
      "Skipping individuals with known allergies. Embedding file already exists.\n"
     ]
    },
    {
     "name": "stderr",
     "output_type": "stream",
     "text": [
      " 11%|█         | 2281/20859 [09:04<1:05:48,  4.71it/s]"
     ]
    },
    {
     "name": "stdout",
     "output_type": "stream",
     "text": [
      "Saved embedding for provide fast-acting relief to ../../graphs/drug/ATC3/drug_ent_emb/provide fast-acting relief.json\n",
      "Skipping flushing of the skin. Embedding file already exists.\n",
      "Skipping used for chemoprophylaxis in individuals with sickle cell disease. Embedding file already exists.\n",
      "Skipping temporary eye discomfort. Embedding file already exists.\n",
      "Skipping kept away from eyes. Embedding file already exists.\n",
      "Skipping pruritus severity. Embedding file already exists.\n"
     ]
    },
    {
     "name": "stderr",
     "output_type": "stream",
     "text": [
      " 11%|█         | 2286/20859 [09:05<1:13:50,  4.19it/s]\n"
     ]
    },
    {
     "ename": "FileNotFoundError",
     "evalue": "[Errno 2] No such file or directory: '../../graphs/drug/ATC3/drug_ent_emb/for the treatment of cutaneous adult T-cell leukemia/lymphoma.json'",
     "output_type": "error",
     "traceback": [
      "\u001b[1;31m---------------------------------------------------------------------------\u001b[0m",
      "\u001b[1;31mFileNotFoundError\u001b[0m                         Traceback (most recent call last)",
      "\u001b[1;32md:\\OneDrive fengysconnect\\OneDrive - connect.hku.hk\\桌面\\Research\\GraphCare-main\\graphcare_\\graph_generation\\drug_emb_ret.ipynb Cell 4\u001b[0m in \u001b[0;36m<cell line: 15>\u001b[1;34m()\u001b[0m\n\u001b[0;32m     <a href='vscode-notebook-cell:/d%3A/OneDrive%20fengysconnect/OneDrive%20-%20connect.hku.hk/%E6%A1%8C%E9%9D%A2/Research/GraphCare-main/graphcare_/graph_generation/drug_emb_ret.ipynb#X21sZmlsZQ%3D%3D?line=20'>21</a>\u001b[0m embedding \u001b[39m=\u001b[39m embedding_retriever(term\u001b[39m=\u001b[39ment)\n\u001b[0;32m     <a href='vscode-notebook-cell:/d%3A/OneDrive%20fengysconnect/OneDrive%20-%20connect.hku.hk/%E6%A1%8C%E9%9D%A2/Research/GraphCare-main/graphcare_/graph_generation/drug_emb_ret.ipynb#X21sZmlsZQ%3D%3D?line=21'>22</a>\u001b[0m embedding \u001b[39m=\u001b[39m np\u001b[39m.\u001b[39marray(embedding)\n\u001b[1;32m---> <a href='vscode-notebook-cell:/d%3A/OneDrive%20fengysconnect/OneDrive%20-%20connect.hku.hk/%E6%A1%8C%E9%9D%A2/Research/GraphCare-main/graphcare_/graph_generation/drug_emb_ret.ipynb#X21sZmlsZQ%3D%3D?line=22'>23</a>\u001b[0m \u001b[39mwith\u001b[39;00m \u001b[39mopen\u001b[39;49m(emb_filename, \u001b[39m\"\u001b[39;49m\u001b[39mw\u001b[39;49m\u001b[39m\"\u001b[39;49m) \u001b[39mas\u001b[39;00m f:\n\u001b[0;32m     <a href='vscode-notebook-cell:/d%3A/OneDrive%20fengysconnect/OneDrive%20-%20connect.hku.hk/%E6%A1%8C%E9%9D%A2/Research/GraphCare-main/graphcare_/graph_generation/drug_emb_ret.ipynb#X21sZmlsZQ%3D%3D?line=23'>24</a>\u001b[0m     json\u001b[39m.\u001b[39mdump(embedding\u001b[39m.\u001b[39mtolist(), f)\n\u001b[0;32m     <a href='vscode-notebook-cell:/d%3A/OneDrive%20fengysconnect/OneDrive%20-%20connect.hku.hk/%E6%A1%8C%E9%9D%A2/Research/GraphCare-main/graphcare_/graph_generation/drug_emb_ret.ipynb#X21sZmlsZQ%3D%3D?line=24'>25</a>\u001b[0m     \u001b[39mprint\u001b[39m(\u001b[39mf\u001b[39m\u001b[39m\"\u001b[39m\u001b[39mSaved embedding for \u001b[39m\u001b[39m{\u001b[39;00ment\u001b[39m}\u001b[39;00m\u001b[39m to \u001b[39m\u001b[39m{\u001b[39;00memb_filename\u001b[39m}\u001b[39;00m\u001b[39m\"\u001b[39m)\n",
      "\u001b[1;31mFileNotFoundError\u001b[0m: [Errno 2] No such file or directory: '../../graphs/drug/ATC3/drug_ent_emb/for the treatment of cutaneous adult T-cell leukemia/lymphoma.json'"
     ]
    }
   ],
   "source": [
    "import json\n",
    "import pickle\n",
    "import numpy as np\n",
    "from tqdm import tqdm\n",
    "from get_emb import embedding_retriever\n",
    "import os\n",
    "import glob\n",
    "\n",
    "drug_ent_emb_dir = f\"{file_dir}/drug_ent_emb\"\n",
    "\n",
    "if not os.path.exists(drug_ent_emb_dir):\n",
    "    print(f\"Creating directory {drug_ent_emb_dir}\")\n",
    "    os.makedirs(drug_ent_emb_dir)\n",
    "\n",
    "for idx in tqdm(range(len(drug_id2ent))):\n",
    "    ent = drug_id2ent[str(idx)]\n",
    "    emb_filename = f\"{drug_ent_emb_dir}/{ent}.json\"\n",
    "    if os.path.isfile(emb_filename):\n",
    "        print(f\"Skipping {ent}. Embedding file already exists.\")\n",
    "        continue\n",
    "    embedding = embedding_retriever(term=ent)\n",
    "    embedding = np.array(embedding)\n",
    "    with open(emb_filename, \"w\") as f:\n",
    "        json.dump(embedding.tolist(), f)\n",
    "        print(f\"Saved embedding for {ent} to {emb_filename}\")\n",
    "\n",
    "emb_files = glob.glob(f\"{drug_ent_emb_dir}/*.json\")\n",
    "emb_list = []\n",
    "for emb_file in emb_files:\n",
    "    with open(emb_file, \"r\") as f:\n",
    "        emb_list.append(np.array(json.load(f)))\n",
    "stacked_embedding = np.vstack(emb_list)\n",
    "\n",
    "emb_pkl = f\"{file_dir}/entity_embedding.pkl\"\n",
    "with open(emb_pkl, \"wb\") as file:\n",
    "    pickle.dump(stacked_embedding, file)"
   ]
  },
  {
   "cell_type": "code",
   "execution_count": 5,
   "metadata": {},
   "outputs": [],
   "source": [
    "# 加载所有entity的embedding，并将它们合并为一个numpy数组\n",
    "emb_files = glob.glob(f\"{drug_ent_emb_dir}/*.json\")\n",
    "emb_list = []\n",
    "for emb_file in emb_files:\n",
    "    with open(emb_file, \"r\") as f:\n",
    "        emb_list.append(np.array(json.load(f)))\n",
    "stacked_embedding = np.vstack(emb_list)\n",
    "\n",
    "# 保存所有entity的embedding到pickle文件中\n",
    "emb_pkl = f\"{file_dir}/entity_embedding.pkl\"\n",
    "with open(emb_pkl, \"wb\") as file:\n",
    "    pickle.dump(stacked_embedding, file)"
   ]
  },
  {
   "cell_type": "code",
   "execution_count": 6,
   "metadata": {},
   "outputs": [
    {
     "name": "stderr",
     "output_type": "stream",
     "text": [
      " 71%|███████   | 14785/20859 [2:12:26<54:24,  1.86it/s]  \n"
     ]
    },
    {
     "ename": "SSLError",
     "evalue": "HTTPSConnectionPool(host='api.openai.com', port=443): Max retries exceeded with url: /v1/embeddings (Caused by SSLError(SSLError(1, '[SSL: SSLV3_ALERT_HANDSHAKE_FAILURE] sslv3 alert handshake failure (_ssl.c:1129)')))",
     "output_type": "error",
     "traceback": [
      "\u001b[1;31m---------------------------------------------------------------------------\u001b[0m",
      "\u001b[1;31mSSLError\u001b[0m                                  Traceback (most recent call last)",
      "File \u001b[1;32md:\\anaconda3\\lib\\site-packages\\urllib3\\connectionpool.py:703\u001b[0m, in \u001b[0;36mHTTPConnectionPool.urlopen\u001b[1;34m(self, method, url, body, headers, retries, redirect, assert_same_host, timeout, pool_timeout, release_conn, chunked, body_pos, **response_kw)\u001b[0m\n\u001b[0;32m    702\u001b[0m \u001b[39m# Make the request on the httplib connection object.\u001b[39;00m\n\u001b[1;32m--> 703\u001b[0m httplib_response \u001b[39m=\u001b[39m \u001b[39mself\u001b[39;49m\u001b[39m.\u001b[39;49m_make_request(\n\u001b[0;32m    704\u001b[0m     conn,\n\u001b[0;32m    705\u001b[0m     method,\n\u001b[0;32m    706\u001b[0m     url,\n\u001b[0;32m    707\u001b[0m     timeout\u001b[39m=\u001b[39;49mtimeout_obj,\n\u001b[0;32m    708\u001b[0m     body\u001b[39m=\u001b[39;49mbody,\n\u001b[0;32m    709\u001b[0m     headers\u001b[39m=\u001b[39;49mheaders,\n\u001b[0;32m    710\u001b[0m     chunked\u001b[39m=\u001b[39;49mchunked,\n\u001b[0;32m    711\u001b[0m )\n\u001b[0;32m    713\u001b[0m \u001b[39m# If we're going to release the connection in ``finally:``, then\u001b[39;00m\n\u001b[0;32m    714\u001b[0m \u001b[39m# the response doesn't need to know about the connection. Otherwise\u001b[39;00m\n\u001b[0;32m    715\u001b[0m \u001b[39m# it will also try to release it and we'll have a double-release\u001b[39;00m\n\u001b[0;32m    716\u001b[0m \u001b[39m# mess.\u001b[39;00m\n",
      "File \u001b[1;32md:\\anaconda3\\lib\\site-packages\\urllib3\\connectionpool.py:386\u001b[0m, in \u001b[0;36mHTTPConnectionPool._make_request\u001b[1;34m(self, conn, method, url, timeout, chunked, **httplib_request_kw)\u001b[0m\n\u001b[0;32m    385\u001b[0m \u001b[39mtry\u001b[39;00m:\n\u001b[1;32m--> 386\u001b[0m     \u001b[39mself\u001b[39;49m\u001b[39m.\u001b[39;49m_validate_conn(conn)\n\u001b[0;32m    387\u001b[0m \u001b[39mexcept\u001b[39;00m (SocketTimeout, BaseSSLError) \u001b[39mas\u001b[39;00m e:\n\u001b[0;32m    388\u001b[0m     \u001b[39m# Py2 raises this as a BaseSSLError, Py3 raises it as socket timeout.\u001b[39;00m\n",
      "File \u001b[1;32md:\\anaconda3\\lib\\site-packages\\urllib3\\connectionpool.py:1040\u001b[0m, in \u001b[0;36mHTTPSConnectionPool._validate_conn\u001b[1;34m(self, conn)\u001b[0m\n\u001b[0;32m   1039\u001b[0m \u001b[39mif\u001b[39;00m \u001b[39mnot\u001b[39;00m \u001b[39mgetattr\u001b[39m(conn, \u001b[39m\"\u001b[39m\u001b[39msock\u001b[39m\u001b[39m\"\u001b[39m, \u001b[39mNone\u001b[39;00m):  \u001b[39m# AppEngine might not have  `.sock`\u001b[39;00m\n\u001b[1;32m-> 1040\u001b[0m     conn\u001b[39m.\u001b[39;49mconnect()\n\u001b[0;32m   1042\u001b[0m \u001b[39mif\u001b[39;00m \u001b[39mnot\u001b[39;00m conn\u001b[39m.\u001b[39mis_verified:\n",
      "File \u001b[1;32md:\\anaconda3\\lib\\site-packages\\urllib3\\connection.py:414\u001b[0m, in \u001b[0;36mHTTPSConnection.connect\u001b[1;34m(self)\u001b[0m\n\u001b[0;32m    412\u001b[0m     context\u001b[39m.\u001b[39mload_default_certs()\n\u001b[1;32m--> 414\u001b[0m \u001b[39mself\u001b[39m\u001b[39m.\u001b[39msock \u001b[39m=\u001b[39m ssl_wrap_socket(\n\u001b[0;32m    415\u001b[0m     sock\u001b[39m=\u001b[39;49mconn,\n\u001b[0;32m    416\u001b[0m     keyfile\u001b[39m=\u001b[39;49m\u001b[39mself\u001b[39;49m\u001b[39m.\u001b[39;49mkey_file,\n\u001b[0;32m    417\u001b[0m     certfile\u001b[39m=\u001b[39;49m\u001b[39mself\u001b[39;49m\u001b[39m.\u001b[39;49mcert_file,\n\u001b[0;32m    418\u001b[0m     key_password\u001b[39m=\u001b[39;49m\u001b[39mself\u001b[39;49m\u001b[39m.\u001b[39;49mkey_password,\n\u001b[0;32m    419\u001b[0m     ca_certs\u001b[39m=\u001b[39;49m\u001b[39mself\u001b[39;49m\u001b[39m.\u001b[39;49mca_certs,\n\u001b[0;32m    420\u001b[0m     ca_cert_dir\u001b[39m=\u001b[39;49m\u001b[39mself\u001b[39;49m\u001b[39m.\u001b[39;49mca_cert_dir,\n\u001b[0;32m    421\u001b[0m     ca_cert_data\u001b[39m=\u001b[39;49m\u001b[39mself\u001b[39;49m\u001b[39m.\u001b[39;49mca_cert_data,\n\u001b[0;32m    422\u001b[0m     server_hostname\u001b[39m=\u001b[39;49mserver_hostname,\n\u001b[0;32m    423\u001b[0m     ssl_context\u001b[39m=\u001b[39;49mcontext,\n\u001b[0;32m    424\u001b[0m     tls_in_tls\u001b[39m=\u001b[39;49mtls_in_tls,\n\u001b[0;32m    425\u001b[0m )\n\u001b[0;32m    427\u001b[0m \u001b[39m# If we're using all defaults and the connection\u001b[39;00m\n\u001b[0;32m    428\u001b[0m \u001b[39m# is TLSv1 or TLSv1.1 we throw a DeprecationWarning\u001b[39;00m\n\u001b[0;32m    429\u001b[0m \u001b[39m# for the host.\u001b[39;00m\n",
      "File \u001b[1;32md:\\anaconda3\\lib\\site-packages\\urllib3\\util\\ssl_.py:449\u001b[0m, in \u001b[0;36mssl_wrap_socket\u001b[1;34m(sock, keyfile, certfile, cert_reqs, ca_certs, server_hostname, ssl_version, ciphers, ssl_context, ca_cert_dir, key_password, ca_cert_data, tls_in_tls)\u001b[0m\n\u001b[0;32m    448\u001b[0m \u001b[39mif\u001b[39;00m send_sni:\n\u001b[1;32m--> 449\u001b[0m     ssl_sock \u001b[39m=\u001b[39m _ssl_wrap_socket_impl(\n\u001b[0;32m    450\u001b[0m         sock, context, tls_in_tls, server_hostname\u001b[39m=\u001b[39;49mserver_hostname\n\u001b[0;32m    451\u001b[0m     )\n\u001b[0;32m    452\u001b[0m \u001b[39melse\u001b[39;00m:\n",
      "File \u001b[1;32md:\\anaconda3\\lib\\site-packages\\urllib3\\util\\ssl_.py:493\u001b[0m, in \u001b[0;36m_ssl_wrap_socket_impl\u001b[1;34m(sock, ssl_context, tls_in_tls, server_hostname)\u001b[0m\n\u001b[0;32m    492\u001b[0m \u001b[39mif\u001b[39;00m server_hostname:\n\u001b[1;32m--> 493\u001b[0m     \u001b[39mreturn\u001b[39;00m ssl_context\u001b[39m.\u001b[39;49mwrap_socket(sock, server_hostname\u001b[39m=\u001b[39;49mserver_hostname)\n\u001b[0;32m    494\u001b[0m \u001b[39melse\u001b[39;00m:\n",
      "File \u001b[1;32md:\\anaconda3\\lib\\ssl.py:500\u001b[0m, in \u001b[0;36mSSLContext.wrap_socket\u001b[1;34m(self, sock, server_side, do_handshake_on_connect, suppress_ragged_eofs, server_hostname, session)\u001b[0m\n\u001b[0;32m    494\u001b[0m \u001b[39mdef\u001b[39;00m \u001b[39mwrap_socket\u001b[39m(\u001b[39mself\u001b[39m, sock, server_side\u001b[39m=\u001b[39m\u001b[39mFalse\u001b[39;00m,\n\u001b[0;32m    495\u001b[0m                 do_handshake_on_connect\u001b[39m=\u001b[39m\u001b[39mTrue\u001b[39;00m,\n\u001b[0;32m    496\u001b[0m                 suppress_ragged_eofs\u001b[39m=\u001b[39m\u001b[39mTrue\u001b[39;00m,\n\u001b[0;32m    497\u001b[0m                 server_hostname\u001b[39m=\u001b[39m\u001b[39mNone\u001b[39;00m, session\u001b[39m=\u001b[39m\u001b[39mNone\u001b[39;00m):\n\u001b[0;32m    498\u001b[0m     \u001b[39m# SSLSocket class handles server_hostname encoding before it calls\u001b[39;00m\n\u001b[0;32m    499\u001b[0m     \u001b[39m# ctx._wrap_socket()\u001b[39;00m\n\u001b[1;32m--> 500\u001b[0m     \u001b[39mreturn\u001b[39;00m \u001b[39mself\u001b[39;49m\u001b[39m.\u001b[39;49msslsocket_class\u001b[39m.\u001b[39;49m_create(\n\u001b[0;32m    501\u001b[0m         sock\u001b[39m=\u001b[39;49msock,\n\u001b[0;32m    502\u001b[0m         server_side\u001b[39m=\u001b[39;49mserver_side,\n\u001b[0;32m    503\u001b[0m         do_handshake_on_connect\u001b[39m=\u001b[39;49mdo_handshake_on_connect,\n\u001b[0;32m    504\u001b[0m         suppress_ragged_eofs\u001b[39m=\u001b[39;49msuppress_ragged_eofs,\n\u001b[0;32m    505\u001b[0m         server_hostname\u001b[39m=\u001b[39;49mserver_hostname,\n\u001b[0;32m    506\u001b[0m         context\u001b[39m=\u001b[39;49m\u001b[39mself\u001b[39;49m,\n\u001b[0;32m    507\u001b[0m         session\u001b[39m=\u001b[39;49msession\n\u001b[0;32m    508\u001b[0m     )\n",
      "File \u001b[1;32md:\\anaconda3\\lib\\ssl.py:1040\u001b[0m, in \u001b[0;36mSSLSocket._create\u001b[1;34m(cls, sock, server_side, do_handshake_on_connect, suppress_ragged_eofs, server_hostname, context, session)\u001b[0m\n\u001b[0;32m   1039\u001b[0m             \u001b[39mraise\u001b[39;00m \u001b[39mValueError\u001b[39;00m(\u001b[39m\"\u001b[39m\u001b[39mdo_handshake_on_connect should not be specified for non-blocking sockets\u001b[39m\u001b[39m\"\u001b[39m)\n\u001b[1;32m-> 1040\u001b[0m         \u001b[39mself\u001b[39;49m\u001b[39m.\u001b[39;49mdo_handshake()\n\u001b[0;32m   1041\u001b[0m \u001b[39mexcept\u001b[39;00m (\u001b[39mOSError\u001b[39;00m, \u001b[39mValueError\u001b[39;00m):\n",
      "File \u001b[1;32md:\\anaconda3\\lib\\ssl.py:1309\u001b[0m, in \u001b[0;36mSSLSocket.do_handshake\u001b[1;34m(self, block)\u001b[0m\n\u001b[0;32m   1308\u001b[0m         \u001b[39mself\u001b[39m\u001b[39m.\u001b[39msettimeout(\u001b[39mNone\u001b[39;00m)\n\u001b[1;32m-> 1309\u001b[0m     \u001b[39mself\u001b[39;49m\u001b[39m.\u001b[39;49m_sslobj\u001b[39m.\u001b[39;49mdo_handshake()\n\u001b[0;32m   1310\u001b[0m \u001b[39mfinally\u001b[39;00m:\n",
      "\u001b[1;31mSSLError\u001b[0m: [SSL: SSLV3_ALERT_HANDSHAKE_FAILURE] sslv3 alert handshake failure (_ssl.c:1129)",
      "\nDuring handling of the above exception, another exception occurred:\n",
      "\u001b[1;31mMaxRetryError\u001b[0m                             Traceback (most recent call last)",
      "File \u001b[1;32md:\\anaconda3\\lib\\site-packages\\requests\\adapters.py:439\u001b[0m, in \u001b[0;36mHTTPAdapter.send\u001b[1;34m(self, request, stream, timeout, verify, cert, proxies)\u001b[0m\n\u001b[0;32m    438\u001b[0m \u001b[39mif\u001b[39;00m \u001b[39mnot\u001b[39;00m chunked:\n\u001b[1;32m--> 439\u001b[0m     resp \u001b[39m=\u001b[39m conn\u001b[39m.\u001b[39;49murlopen(\n\u001b[0;32m    440\u001b[0m         method\u001b[39m=\u001b[39;49mrequest\u001b[39m.\u001b[39;49mmethod,\n\u001b[0;32m    441\u001b[0m         url\u001b[39m=\u001b[39;49murl,\n\u001b[0;32m    442\u001b[0m         body\u001b[39m=\u001b[39;49mrequest\u001b[39m.\u001b[39;49mbody,\n\u001b[0;32m    443\u001b[0m         headers\u001b[39m=\u001b[39;49mrequest\u001b[39m.\u001b[39;49mheaders,\n\u001b[0;32m    444\u001b[0m         redirect\u001b[39m=\u001b[39;49m\u001b[39mFalse\u001b[39;49;00m,\n\u001b[0;32m    445\u001b[0m         assert_same_host\u001b[39m=\u001b[39;49m\u001b[39mFalse\u001b[39;49;00m,\n\u001b[0;32m    446\u001b[0m         preload_content\u001b[39m=\u001b[39;49m\u001b[39mFalse\u001b[39;49;00m,\n\u001b[0;32m    447\u001b[0m         decode_content\u001b[39m=\u001b[39;49m\u001b[39mFalse\u001b[39;49;00m,\n\u001b[0;32m    448\u001b[0m         retries\u001b[39m=\u001b[39;49m\u001b[39mself\u001b[39;49m\u001b[39m.\u001b[39;49mmax_retries,\n\u001b[0;32m    449\u001b[0m         timeout\u001b[39m=\u001b[39;49mtimeout\n\u001b[0;32m    450\u001b[0m     )\n\u001b[0;32m    452\u001b[0m \u001b[39m# Send the request.\u001b[39;00m\n\u001b[0;32m    453\u001b[0m \u001b[39melse\u001b[39;00m:\n",
      "File \u001b[1;32md:\\anaconda3\\lib\\site-packages\\urllib3\\connectionpool.py:785\u001b[0m, in \u001b[0;36mHTTPConnectionPool.urlopen\u001b[1;34m(self, method, url, body, headers, retries, redirect, assert_same_host, timeout, pool_timeout, release_conn, chunked, body_pos, **response_kw)\u001b[0m\n\u001b[0;32m    783\u001b[0m     e \u001b[39m=\u001b[39m ProtocolError(\u001b[39m\"\u001b[39m\u001b[39mConnection aborted.\u001b[39m\u001b[39m\"\u001b[39m, e)\n\u001b[1;32m--> 785\u001b[0m retries \u001b[39m=\u001b[39m retries\u001b[39m.\u001b[39;49mincrement(\n\u001b[0;32m    786\u001b[0m     method, url, error\u001b[39m=\u001b[39;49me, _pool\u001b[39m=\u001b[39;49m\u001b[39mself\u001b[39;49m, _stacktrace\u001b[39m=\u001b[39;49msys\u001b[39m.\u001b[39;49mexc_info()[\u001b[39m2\u001b[39;49m]\n\u001b[0;32m    787\u001b[0m )\n\u001b[0;32m    788\u001b[0m retries\u001b[39m.\u001b[39msleep()\n",
      "File \u001b[1;32md:\\anaconda3\\lib\\site-packages\\urllib3\\util\\retry.py:592\u001b[0m, in \u001b[0;36mRetry.increment\u001b[1;34m(self, method, url, response, error, _pool, _stacktrace)\u001b[0m\n\u001b[0;32m    591\u001b[0m \u001b[39mif\u001b[39;00m new_retry\u001b[39m.\u001b[39mis_exhausted():\n\u001b[1;32m--> 592\u001b[0m     \u001b[39mraise\u001b[39;00m MaxRetryError(_pool, url, error \u001b[39mor\u001b[39;00m ResponseError(cause))\n\u001b[0;32m    594\u001b[0m log\u001b[39m.\u001b[39mdebug(\u001b[39m\"\u001b[39m\u001b[39mIncremented Retry for (url=\u001b[39m\u001b[39m'\u001b[39m\u001b[39m%s\u001b[39;00m\u001b[39m'\u001b[39m\u001b[39m): \u001b[39m\u001b[39m%r\u001b[39;00m\u001b[39m\"\u001b[39m, url, new_retry)\n",
      "\u001b[1;31mMaxRetryError\u001b[0m: HTTPSConnectionPool(host='api.openai.com', port=443): Max retries exceeded with url: /v1/embeddings (Caused by SSLError(SSLError(1, '[SSL: SSLV3_ALERT_HANDSHAKE_FAILURE] sslv3 alert handshake failure (_ssl.c:1129)')))",
      "\nDuring handling of the above exception, another exception occurred:\n",
      "\u001b[1;31mSSLError\u001b[0m                                  Traceback (most recent call last)",
      "\u001b[1;32md:\\OneDrive fengysconnect\\OneDrive - connect.hku.hk\\桌面\\Research\\GraphCare-main\\graphcare_\\graph_generation\\drug_emb_ret.ipynb Cell 4\u001b[0m in \u001b[0;36m<cell line: 9>\u001b[1;34m()\u001b[0m\n\u001b[0;32m      <a href='vscode-notebook-cell:/d%3A/OneDrive%20fengysconnect/OneDrive%20-%20connect.hku.hk/%E6%A1%8C%E9%9D%A2/Research/GraphCare-main/graphcare_/graph_generation/drug_emb_ret.ipynb#W3sZmlsZQ%3D%3D?line=8'>9</a>\u001b[0m \u001b[39mfor\u001b[39;00m idx \u001b[39min\u001b[39;00m tqdm(\u001b[39mrange\u001b[39m(\u001b[39mlen\u001b[39m(drug_id2ent))):\n\u001b[0;32m     <a href='vscode-notebook-cell:/d%3A/OneDrive%20fengysconnect/OneDrive%20-%20connect.hku.hk/%E6%A1%8C%E9%9D%A2/Research/GraphCare-main/graphcare_/graph_generation/drug_emb_ret.ipynb#W3sZmlsZQ%3D%3D?line=9'>10</a>\u001b[0m     ent \u001b[39m=\u001b[39m drug_id2ent[\u001b[39mstr\u001b[39m(idx)]\n\u001b[1;32m---> <a href='vscode-notebook-cell:/d%3A/OneDrive%20fengysconnect/OneDrive%20-%20connect.hku.hk/%E6%A1%8C%E9%9D%A2/Research/GraphCare-main/graphcare_/graph_generation/drug_emb_ret.ipynb#W3sZmlsZQ%3D%3D?line=10'>11</a>\u001b[0m     embedding \u001b[39m=\u001b[39m embedding_retriever(term\u001b[39m=\u001b[39;49ment)\n\u001b[0;32m     <a href='vscode-notebook-cell:/d%3A/OneDrive%20fengysconnect/OneDrive%20-%20connect.hku.hk/%E6%A1%8C%E9%9D%A2/Research/GraphCare-main/graphcare_/graph_generation/drug_emb_ret.ipynb#W3sZmlsZQ%3D%3D?line=11'>12</a>\u001b[0m     embedding \u001b[39m=\u001b[39m np\u001b[39m.\u001b[39marray(embedding)\n\u001b[0;32m     <a href='vscode-notebook-cell:/d%3A/OneDrive%20fengysconnect/OneDrive%20-%20connect.hku.hk/%E6%A1%8C%E9%9D%A2/Research/GraphCare-main/graphcare_/graph_generation/drug_emb_ret.ipynb#W3sZmlsZQ%3D%3D?line=12'>13</a>\u001b[0m     drug_ent_emb\u001b[39m.\u001b[39mappend(embedding)\n",
      "File \u001b[1;32md:\\OneDrive fengysconnect\\OneDrive - connect.hku.hk\\桌面\\Research\\GraphCare-main\\graphcare_\\graph_generation\\get_emb.py:23\u001b[0m, in \u001b[0;36membedding_retriever\u001b[1;34m(term)\u001b[0m\n\u001b[0;32m     17\u001b[0m payload \u001b[39m=\u001b[39m {\n\u001b[0;32m     18\u001b[0m     \u001b[39m\"\u001b[39m\u001b[39minput\u001b[39m\u001b[39m\"\u001b[39m: term,\n\u001b[0;32m     19\u001b[0m     \u001b[39m\"\u001b[39m\u001b[39mmodel\u001b[39m\u001b[39m\"\u001b[39m: \u001b[39m\"\u001b[39m\u001b[39mtext-embedding-ada-002\u001b[39m\u001b[39m\"\u001b[39m\n\u001b[0;32m     20\u001b[0m }\n\u001b[0;32m     22\u001b[0m \u001b[39m# Send the request and retrieve the response\u001b[39;00m\n\u001b[1;32m---> 23\u001b[0m response \u001b[39m=\u001b[39m requests\u001b[39m.\u001b[39;49mpost(url, headers\u001b[39m=\u001b[39;49mheaders, data\u001b[39m=\u001b[39;49mjson\u001b[39m.\u001b[39;49mdumps(payload))\n\u001b[0;32m     25\u001b[0m \u001b[39m# Extract the text embeddings from the response JSON\u001b[39;00m\n\u001b[0;32m     26\u001b[0m embedding \u001b[39m=\u001b[39m response\u001b[39m.\u001b[39mjson()[\u001b[39m'\u001b[39m\u001b[39mdata\u001b[39m\u001b[39m'\u001b[39m][\u001b[39m0\u001b[39m][\u001b[39m'\u001b[39m\u001b[39membedding\u001b[39m\u001b[39m'\u001b[39m]\n",
      "File \u001b[1;32md:\\anaconda3\\lib\\site-packages\\requests\\api.py:119\u001b[0m, in \u001b[0;36mpost\u001b[1;34m(url, data, json, **kwargs)\u001b[0m\n\u001b[0;32m    107\u001b[0m \u001b[39mdef\u001b[39;00m \u001b[39mpost\u001b[39m(url, data\u001b[39m=\u001b[39m\u001b[39mNone\u001b[39;00m, json\u001b[39m=\u001b[39m\u001b[39mNone\u001b[39;00m, \u001b[39m*\u001b[39m\u001b[39m*\u001b[39mkwargs):\n\u001b[0;32m    108\u001b[0m     \u001b[39mr\u001b[39m\u001b[39m\"\"\"Sends a POST request.\u001b[39;00m\n\u001b[0;32m    109\u001b[0m \n\u001b[0;32m    110\u001b[0m \u001b[39m    :param url: URL for the new :class:`Request` object.\u001b[39;00m\n\u001b[1;32m   (...)\u001b[0m\n\u001b[0;32m    116\u001b[0m \u001b[39m    :rtype: requests.Response\u001b[39;00m\n\u001b[0;32m    117\u001b[0m \u001b[39m    \"\"\"\u001b[39;00m\n\u001b[1;32m--> 119\u001b[0m     \u001b[39mreturn\u001b[39;00m request(\u001b[39m'\u001b[39m\u001b[39mpost\u001b[39m\u001b[39m'\u001b[39m, url, data\u001b[39m=\u001b[39mdata, json\u001b[39m=\u001b[39mjson, \u001b[39m*\u001b[39m\u001b[39m*\u001b[39mkwargs)\n",
      "File \u001b[1;32md:\\anaconda3\\lib\\site-packages\\requests\\api.py:61\u001b[0m, in \u001b[0;36mrequest\u001b[1;34m(method, url, **kwargs)\u001b[0m\n\u001b[0;32m     57\u001b[0m \u001b[39m# By using the 'with' statement we are sure the session is closed, thus we\u001b[39;00m\n\u001b[0;32m     58\u001b[0m \u001b[39m# avoid leaving sockets open which can trigger a ResourceWarning in some\u001b[39;00m\n\u001b[0;32m     59\u001b[0m \u001b[39m# cases, and look like a memory leak in others.\u001b[39;00m\n\u001b[0;32m     60\u001b[0m \u001b[39mwith\u001b[39;00m sessions\u001b[39m.\u001b[39mSession() \u001b[39mas\u001b[39;00m session:\n\u001b[1;32m---> 61\u001b[0m     \u001b[39mreturn\u001b[39;00m session\u001b[39m.\u001b[39mrequest(method\u001b[39m=\u001b[39mmethod, url\u001b[39m=\u001b[39murl, \u001b[39m*\u001b[39m\u001b[39m*\u001b[39mkwargs)\n",
      "File \u001b[1;32md:\\anaconda3\\lib\\site-packages\\requests\\sessions.py:542\u001b[0m, in \u001b[0;36mSession.request\u001b[1;34m(self, method, url, params, data, headers, cookies, files, auth, timeout, allow_redirects, proxies, hooks, stream, verify, cert, json)\u001b[0m\n\u001b[0;32m    537\u001b[0m send_kwargs \u001b[39m=\u001b[39m {\n\u001b[0;32m    538\u001b[0m     \u001b[39m'\u001b[39m\u001b[39mtimeout\u001b[39m\u001b[39m'\u001b[39m: timeout,\n\u001b[0;32m    539\u001b[0m     \u001b[39m'\u001b[39m\u001b[39mallow_redirects\u001b[39m\u001b[39m'\u001b[39m: allow_redirects,\n\u001b[0;32m    540\u001b[0m }\n\u001b[0;32m    541\u001b[0m send_kwargs\u001b[39m.\u001b[39mupdate(settings)\n\u001b[1;32m--> 542\u001b[0m resp \u001b[39m=\u001b[39m \u001b[39mself\u001b[39m\u001b[39m.\u001b[39msend(prep, \u001b[39m*\u001b[39m\u001b[39m*\u001b[39msend_kwargs)\n\u001b[0;32m    544\u001b[0m \u001b[39mreturn\u001b[39;00m resp\n",
      "File \u001b[1;32md:\\anaconda3\\lib\\site-packages\\requests\\sessions.py:655\u001b[0m, in \u001b[0;36mSession.send\u001b[1;34m(self, request, **kwargs)\u001b[0m\n\u001b[0;32m    652\u001b[0m start \u001b[39m=\u001b[39m preferred_clock()\n\u001b[0;32m    654\u001b[0m \u001b[39m# Send the request\u001b[39;00m\n\u001b[1;32m--> 655\u001b[0m r \u001b[39m=\u001b[39m adapter\u001b[39m.\u001b[39msend(request, \u001b[39m*\u001b[39m\u001b[39m*\u001b[39mkwargs)\n\u001b[0;32m    657\u001b[0m \u001b[39m# Total elapsed time of the request (approximately)\u001b[39;00m\n\u001b[0;32m    658\u001b[0m elapsed \u001b[39m=\u001b[39m preferred_clock() \u001b[39m-\u001b[39m start\n",
      "File \u001b[1;32md:\\anaconda3\\lib\\site-packages\\requests\\adapters.py:514\u001b[0m, in \u001b[0;36mHTTPAdapter.send\u001b[1;34m(self, request, stream, timeout, verify, cert, proxies)\u001b[0m\n\u001b[0;32m    510\u001b[0m         \u001b[39mraise\u001b[39;00m ProxyError(e, request\u001b[39m=\u001b[39mrequest)\n\u001b[0;32m    512\u001b[0m     \u001b[39mif\u001b[39;00m \u001b[39misinstance\u001b[39m(e\u001b[39m.\u001b[39mreason, _SSLError):\n\u001b[0;32m    513\u001b[0m         \u001b[39m# This branch is for urllib3 v1.22 and later.\u001b[39;00m\n\u001b[1;32m--> 514\u001b[0m         \u001b[39mraise\u001b[39;00m SSLError(e, request\u001b[39m=\u001b[39mrequest)\n\u001b[0;32m    516\u001b[0m     \u001b[39mraise\u001b[39;00m \u001b[39mConnectionError\u001b[39;00m(e, request\u001b[39m=\u001b[39mrequest)\n\u001b[0;32m    518\u001b[0m \u001b[39mexcept\u001b[39;00m ClosedPoolError \u001b[39mas\u001b[39;00m e:\n",
      "\u001b[1;31mSSLError\u001b[0m: HTTPSConnectionPool(host='api.openai.com', port=443): Max retries exceeded with url: /v1/embeddings (Caused by SSLError(SSLError(1, '[SSL: SSLV3_ALERT_HANDSHAKE_FAILURE] sslv3 alert handshake failure (_ssl.c:1129)')))"
     ]
    }
   ],
   "source": [
    "from get_emb import embedding_retriever\n",
    "import numpy as np\n",
    "from tqdm import tqdm\n",
    "import pickle\n",
    "\n",
    "## get embedding for drug entities\n",
    "drug_ent_emb = []\n",
    "\n",
    "for idx in tqdm(range(len(drug_id2ent))):\n",
    "    ent = drug_id2ent[str(idx)]\n",
    "    embedding = embedding_retriever(term=ent)\n",
    "    embedding = np.array(embedding)\n",
    "    drug_ent_emb.append(embedding)\n",
    "\n",
    "stacked_embedding = np.vstack(drug_ent_emb)\n",
    "\n",
    "emb_pkl = f\"{file_dir}/entity_embedding.pkl\"\n",
    "\n",
    "with open(emb_pkl, \"wb\") as file:\n",
    "    pickle.dump(stacked_embedding, file)"
   ]
  },
  {
   "cell_type": "code",
   "execution_count": 16,
   "metadata": {},
   "outputs": [
    {
     "name": "stderr",
     "output_type": "stream",
     "text": [
      "  2%|▏         | 507/20859 [00:00<00:04, 5068.74it/s]"
     ]
    },
    {
     "name": "stdout",
     "output_type": "stream",
     "text": [
      "Skipping combined with other procedures. Embedding file already exists.\n",
      "Skipping used as a supplement. Embedding file already exists.\n",
      "Skipping can be measured. Embedding file already exists.\n",
      "Skipping drug dependence. Embedding file already exists.\n",
      "Skipping the appearance of scars. Embedding file already exists.\n",
      "Skipping Alzheimer's disease pathology. Embedding file already exists.\n",
      "Skipping urinary dribbling. Embedding file already exists.\n",
      "Skipping hormone therapy to express their gender identity. Embedding file already exists.\n",
      "Skipping be applied as directed. Embedding file already exists.\n",
      "Skipping treatment of ulcerative colitis. Embedding file already exists.\n",
      "Skipping loss of sensation. Embedding file already exists.\n",
      "Skipping adjustments in patients with psychiatric disorders. Embedding file already exists.\n",
      "Skipping increased risk of infection. Embedding file already exists.\n",
      "Skipping diuretic medications. Embedding file already exists.\n",
      "Skipping kill cancer cells. Embedding file already exists.\n",
      "Skipping patients with psychosis. Embedding file already exists.\n",
      "Skipping imaging teeth. Embedding file already exists.\n",
      "Skipping pharmacological agents. Embedding file already exists.\n",
      "Skipping have a typical cell wall structure. Embedding file already exists.\n",
      "Skipping important for the synthesis of cartilage. Embedding file already exists.\n",
      "Skipping for individuals with certain respiratory disorders. Embedding file already exists.\n",
      "Skipping synthetic cannabinoids. Embedding file already exists.\n",
      "Skipping decreased sex drive. Embedding file already exists.\n",
      "Skipping eye procedures. Embedding file already exists.\n",
      "Skipping used for skin allergies. Embedding file already exists.\n",
      "Skipping administered intravesically. Embedding file already exists.\n",
      "Skipping increased risk of adverse effects. Embedding file already exists.\n",
      "Skipping radioprotective agents. Embedding file already exists.\n",
      "Skipping ineffective treatment. Embedding file already exists.\n",
      "Skipping lower heart rate. Embedding file already exists.\n",
      "Skipping lesions. Embedding file already exists.\n",
      "Skipping hormonal oral contraceptives. Embedding file already exists.\n",
      "Skipping an internal drive to achieve goals. Embedding file already exists.\n",
      "Skipping in patients with resistant hypertension. Embedding file already exists.\n",
      "Skipping critical role in disease control. Embedding file already exists.\n",
      "Skipping hormone regulation. Embedding file already exists.\n",
      "Skipping dryness and discomfort. Embedding file already exists.\n",
      "Skipping potassium balance. Embedding file already exists.\n",
      "Skipping used in different formulations. Embedding file already exists.\n",
      "Skipping not suitable. Embedding file already exists.\n",
      "Skipping cortisone. Embedding file already exists.\n",
      "Skipping suppressing inflammation. Embedding file already exists.\n",
      "Skipping obese patients. Embedding file already exists.\n",
      "Skipping topical drug application. Embedding file already exists.\n",
      "Skipping sperm production. Embedding file already exists.\n",
      "Skipping cytotoxic. Embedding file already exists.\n",
      "Skipping beneficial for individuals with nutrient malabsorption. Embedding file already exists.\n",
      "Skipping psychological component. Embedding file already exists.\n",
      "Skipping severe abdominal pain. Embedding file already exists.\n",
      "Skipping imaging interpretation. Embedding file already exists.\n",
      "Skipping disease monitoring. Embedding file already exists.\n",
      "Skipping the effectiveness of intestinal antiinfectives. Embedding file already exists.\n",
      "Skipping monitoring of drug levels. Embedding file already exists.\n",
      "Skipping intramuscular administration. Embedding file already exists.\n",
      "Skipping neutropenia. Embedding file already exists.\n",
      "Skipping used for preventing digestive issues. Embedding file already exists.\n",
      "Skipping anti-diarrheal medications. Embedding file already exists.\n",
      "Skipping subcutaneous. Embedding file already exists.\n",
      "Skipping recommended storage conditions. Embedding file already exists.\n",
      "Skipping taken with magnesium supplements. Embedding file already exists.\n",
      "Skipping changes in blood cell counts. Embedding file already exists.\n",
      "Skipping energy mobilization. Embedding file already exists.\n",
      "Skipping with caution in patients with hypoglycemia unawareness. Embedding file already exists.\n",
      "Skipping during certain infections. Embedding file already exists.\n",
      "Skipping visual perception. Embedding file already exists.\n",
      "Skipping gastroenterologist. Embedding file already exists.\n",
      "Skipping vaginal ring form. Embedding file already exists.\n",
      "Skipping in patients with Raynaud's disease. Embedding file already exists.\n",
      "Skipping hormone activity. Embedding file already exists.\n",
      "Skipping increased risk of adverse outcomes. Embedding file already exists.\n",
      "Skipping route of administration. Embedding file already exists.\n",
      "Skipping changes in blood work. Embedding file already exists.\n",
      "Skipping used for hormone therapy. Embedding file already exists.\n",
      "Skipping improve mood. Embedding file already exists.\n",
      "Skipping for prolonged periods. Embedding file already exists.\n",
      "Skipping tablets and injections. Embedding file already exists.\n",
      "Skipping image visibility. Embedding file already exists.\n",
      "Skipping at different stages of wound healing. Embedding file already exists.\n",
      "Skipping can lead to neural tube defects. Embedding file already exists.\n",
      "Skipping esters or amides. Embedding file already exists.\n",
      "Skipping derived from human plasma. Embedding file already exists.\n",
      "Skipping drug interactions with certain antihistamines. Embedding file already exists.\n",
      "Skipping worms. Embedding file already exists.\n",
      "Skipping reduce bronchial secretions. Embedding file already exists.\n",
      "Skipping binds to estrogen. Embedding file already exists.\n",
      "Skipping used for poor appetite. Embedding file already exists.\n",
      "Skipping surgical incision healing. Embedding file already exists.\n",
      "Skipping the time after which the medication may not be effective. Embedding file already exists.\n",
      "Skipping dosage adjustments in hepatic impairment. Embedding file already exists.\n",
      "Skipping for the treatment of juvenile idiopathic arthritis. Embedding file already exists.\n",
      "Skipping dental restorations. Embedding file already exists.\n",
      "Skipping relaxation. Embedding file already exists.\n",
      "Skipping the absorption of vitamins. Embedding file already exists.\n",
      "Skipping adherence to medication. Embedding file already exists.\n",
      "Skipping eardrops. Embedding file already exists.\n",
      "Skipping antihistamine medications. Embedding file already exists.\n",
      "Skipping for blood clot prevention. Embedding file already exists.\n",
      "Skipping children and infants. Embedding file already exists.\n",
      "Skipping in patients with superior vena cava syndrome. Embedding file already exists.\n",
      "Skipping vision stabilization. Embedding file already exists.\n",
      "Skipping prescription medications. Embedding file already exists.\n",
      "Skipping antiviral medications. Embedding file already exists.\n",
      "Skipping angina prophylaxis. Embedding file already exists.\n",
      "Skipping headaches. Embedding file already exists.\n",
      "Skipping men. Embedding file already exists.\n",
      "Skipping dilate blood vessels. Embedding file already exists.\n",
      "Skipping effective for renal support. Embedding file already exists.\n",
      "Skipping dosage adjustments based on the severity of infection. Embedding file already exists.\n",
      "Skipping iron overload to occur. Embedding file already exists.\n",
      "Skipping treat high blood pressure. Embedding file already exists.\n",
      "Skipping maintaining optimal eye health. Embedding file already exists.\n",
      "Skipping by heat. Embedding file already exists.\n",
      "Skipping intranasal administration. Embedding file already exists.\n",
      "Skipping monitored by a healthcare professional. Embedding file already exists.\n",
      "Skipping in a dark place. Embedding file already exists.\n",
      "Skipping worsening medical conditions. Embedding file already exists.\n",
      "Skipping angiology. Embedding file already exists.\n",
      "Skipping conditions in the uterus. Embedding file already exists.\n",
      "Skipping keeping the mouth clean. Embedding file already exists.\n",
      "Skipping recommended dose. Embedding file already exists.\n",
      "Skipping important for overall well-being. Embedding file already exists.\n",
      "Skipping birth abnormalities. Embedding file already exists.\n",
      "Skipping bladder outlet obstruction. Embedding file already exists.\n",
      "Skipping as generics or brand names. Embedding file already exists.\n",
      "Skipping appropriate usage. Embedding file already exists.\n",
      "Skipping used for reducing the risk of digestive disorders. Embedding file already exists.\n",
      "Skipping reduced physical performance. Embedding file already exists.\n",
      "Skipping patient-specific considerations. Embedding file already exists.\n",
      "Skipping renal dysfunction and hyperkalemia in patients with renal artery stenosis. Embedding file already exists.\n",
      "Skipping sticky. Embedding file already exists.\n",
      "Skipping regularly. Embedding file already exists.\n",
      "Skipping sustained symptom relief. Embedding file already exists.\n",
      "Skipping allergenic. Embedding file already exists.\n",
      "Skipping for treating conditions like menstrual cramps. Embedding file already exists.\n",
      "Skipping used in patients with sleep apnea. Embedding file already exists.\n",
      "Skipping bonding between parents and children. Embedding file already exists.\n",
      "Skipping added heavy metals. Embedding file already exists.\n",
      "Skipping stored near heat sources. Embedding file already exists.\n",
      "Skipping with swallowing. Embedding file already exists.\n",
      "Skipping Serratia marcescens. Embedding file already exists.\n",
      "Skipping with a full glass of water. Embedding file already exists.\n",
      "Skipping with caution in patients with a history of cataracts. Embedding file already exists.\n",
      "Skipping liver glycogen storage. Embedding file already exists.\n",
      "Skipping weight status. Embedding file already exists.\n",
      "Skipping minimize the risk of infection. Embedding file already exists.\n",
      "Skipping at home. Embedding file already exists.\n",
      "Skipping 5-fluorouracil. Embedding file already exists.\n",
      "Skipping for specific medical conditions. Embedding file already exists.\n",
      "Skipping lowest effective dose. Embedding file already exists.\n",
      "Skipping dental infections. Embedding file already exists.\n",
      "Skipping used in the prevention of graft rejection. Embedding file already exists.\n",
      "Skipping used in both adults and children. Embedding file already exists.\n",
      "Skipping avoided in patients with diabetes. Embedding file already exists.\n",
      "Skipping administered via infusion. Embedding file already exists.\n",
      "Skipping renal blood flow. Embedding file already exists.\n",
      "Skipping the body's defense mechanism. Embedding file already exists.\n",
      "Skipping be ineffective. Embedding file already exists.\n",
      "Skipping hormonal birth control. Embedding file already exists.\n",
      "Skipping fluid accumulation in the legs. Embedding file already exists.\n",
      "Skipping surgical wounds. Embedding file already exists.\n",
      "Skipping damaging the DNA. Embedding file already exists.\n",
      "Skipping inactivated vaccines. Embedding file already exists.\n",
      "Skipping symptoms of Parkinson's disease. Embedding file already exists.\n",
      "Skipping in the ATC system. Embedding file already exists.\n",
      "Skipping to wash out body cavities. Embedding file already exists.\n",
      "Skipping neutralizing stomach acid. Embedding file already exists.\n",
      "Skipping treatment success. Embedding file already exists.\n",
      "Skipping in patients with kidney disease. Embedding file already exists.\n",
      "Skipping used in combination with other eye medications. Embedding file already exists.\n",
      "Skipping diagnose diseases. Embedding file already exists.\n",
      "Skipping lipid levels. Embedding file already exists.\n",
      "Skipping used for autism. Embedding file already exists.\n",
      "Skipping using with caution in individuals with heart conditions. Embedding file already exists.\n",
      "Skipping impaired coordination. Embedding file already exists.\n",
      "Skipping pain palliation. Embedding file already exists.\n",
      "Skipping manage autoimmune thyroiditis. Embedding file already exists.\n",
      "Skipping ovarian hyperstimulation syndrome. Embedding file already exists.\n",
      "Skipping patients with gout. Embedding file already exists.\n",
      "Skipping post-herpetic neuralgia. Embedding file already exists.\n",
      "Skipping assess the response. Embedding file already exists.\n",
      "Skipping liver regeneration processes. Embedding file already exists.\n",
      "Skipping used for treating infections caused by Clostridium difficile. Embedding file already exists.\n",
      "Skipping mechanisms of bacterial killing. Embedding file already exists.\n",
      "Skipping in healthcare settings. Embedding file already exists.\n",
      "Skipping proper diagnosis. Embedding file already exists.\n",
      "Skipping prescribed for rosacea. Embedding file already exists.\n",
      "Skipping the patient for any adverse reactions. Embedding file already exists.\n",
      "Skipping available in various dosage forms. Embedding file already exists.\n",
      "Skipping effective against a wide range of bacteria. Embedding file already exists.\n",
      "Skipping a risk. Embedding file already exists.\n",
      "Skipping administration adjustments in patients with eye injuries or surgeries. Embedding file already exists.\n",
      "Skipping patch form. Embedding file already exists.\n",
      "Skipping entertainment items. Embedding file already exists.\n",
      "Skipping used in the treatment of delusions. Embedding file already exists.\n",
      "Skipping mucus clearance. Embedding file already exists.\n",
      "Skipping renal flow. Embedding file already exists.\n",
      "Skipping applied as sprays or creams. Embedding file already exists.\n",
      "Skipping as a short-term treatment. Embedding file already exists.\n",
      "Skipping chronic daily headache. Embedding file already exists.\n",
      "Skipping avoided when taking antiepileptics. Embedding file already exists.\n",
      "Skipping cancer chemotherapy. Embedding file already exists.\n",
      "Skipping statins. Embedding file already exists.\n",
      "Skipping taking with certain herbal supplements. Embedding file already exists.\n",
      "Skipping necessity. Embedding file already exists.\n",
      "Skipping with caution in patients with a history of hepatic disorders. Embedding file already exists.\n",
      "Skipping intracavitary imaging. Embedding file already exists.\n",
      "Skipping improve blood sugar control. Embedding file already exists.\n",
      "Skipping synthetic or natural. Embedding file already exists.\n",
      "Skipping anticonvulsant properties. Embedding file already exists.\n",
      "Skipping used as part of a comprehensive ear care plan. Embedding file already exists.\n",
      "Skipping constant infusion. Embedding file already exists.\n",
      "Skipping approved for medical use. Embedding file already exists.\n",
      "Skipping taken with coffee. Embedding file already exists.\n",
      "Skipping combined with vasodilators. Embedding file already exists.\n",
      "Skipping fortified with vitamin D. Embedding file already exists.\n",
      "Skipping symptoms like irregular heartbeat. Embedding file already exists.\n",
      "Skipping graft rejection. Embedding file already exists.\n",
      "Skipping bowel care. Embedding file already exists.\n",
      "Skipping an allergic response. Embedding file already exists.\n",
      "Skipping reduce the severity of diarrhea. Embedding file already exists.\n",
      "Skipping fast-acting relief. Embedding file already exists.\n",
      "Skipping the same time each day. Embedding file already exists.\n",
      "Skipping the metabolism of fatty acids. Embedding file already exists.\n",
      "Skipping can cause memory loss. Embedding file already exists.\n",
      "Skipping used for eye health. Embedding file already exists.\n",
      "Skipping iron to be utilized in brain function. Embedding file already exists.\n",
      "Skipping household tasks. Embedding file already exists.\n",
      "Skipping bone abnormalities. Embedding file already exists.\n",
      "Skipping approved for use by the Food and Drug Administration. Embedding file already exists.\n",
      "Skipping for bronchoconstriction. Embedding file already exists.\n",
      "Skipping Q fever. Embedding file already exists.\n",
      "Skipping used as a reducing agent in chemical reactions. Embedding file already exists.\n",
      "Skipping adverse reactions to medications. Embedding file already exists.\n",
      "Skipping treat allergies. Embedding file already exists.\n",
      "Skipping bone marrow depression. Embedding file already exists.\n",
      "Skipping improved capillary resistance. Embedding file already exists.\n",
      "Skipping bacterial meningitis. Embedding file already exists.\n",
      "Skipping different dosing schedules. Embedding file already exists.\n",
      "Skipping as an adjunct therapy for chemotherapy-induced diarrhea. Embedding file already exists.\n",
      "Skipping different dosage forms. Embedding file already exists.\n",
      "Skipping fast heart rate. Embedding file already exists.\n",
      "Skipping retinal blood flow. Embedding file already exists.\n",
      "Skipping vaginal creams. Embedding file already exists.\n",
      "Skipping inhibits the cell wall synthesis. Embedding file already exists.\n",
      "Skipping vascular retinopathies. Embedding file already exists.\n",
      "Skipping weakened but live bacteria for immune response. Embedding file already exists.\n",
      "Skipping relieving heartburn. Embedding file already exists.\n",
      "Skipping for temporary relief. Embedding file already exists.\n",
      "Skipping long-term for chronic allergies. Embedding file already exists.\n",
      "Skipping an appropriate dosage of antidiarrheal microorganisms. Embedding file already exists.\n",
      "Skipping managing diseases. Embedding file already exists.\n",
      "Skipping taken with caution in patients with gastrointestinal disorders. Embedding file already exists.\n",
      "Skipping a genetic disorder. Embedding file already exists.\n",
      "Skipping be triggered by certain foods and drinks. Embedding file already exists.\n",
      "Skipping low mood. Embedding file already exists.\n",
      "Skipping medical procedure. Embedding file already exists.\n",
      "Skipping resumed after pregnancy or breastfeeding. Embedding file already exists.\n",
      "Skipping formed by the body's clotting system. Embedding file already exists.\n",
      "Skipping administered via an intramammary route. Embedding file already exists.\n",
      "Skipping liver conditions. Embedding file already exists.\n",
      "Skipping long-term weight management. Embedding file already exists.\n",
      "Skipping organs. Embedding file already exists.\n",
      "Skipping used in adults. Embedding file already exists.\n",
      "Skipping sarcoidosis. Embedding file already exists.\n",
      "Skipping metabolism of other drugs. Embedding file already exists.\n",
      "Skipping blood vessel appearance. Embedding file already exists.\n",
      "Skipping age groups. Embedding file already exists.\n",
      "Skipping duration depends on the infection severity. Embedding file already exists.\n",
      "Skipping severity of diarrhea. Embedding file already exists.\n",
      "Skipping in breastfeeding women. Embedding file already exists.\n",
      "Skipping well-tolerated by most patients. Embedding file already exists.\n",
      "Skipping lithium-induced diabetes insipidus. Embedding file already exists.\n",
      "Skipping used by children without proper medical supervision. Embedding file already exists.\n",
      "Skipping preventing bacterial infections. Embedding file already exists.\n",
      "Skipping improved outcomes. Embedding file already exists.\n",
      "Skipping involves neutralizing pathogens. Embedding file already exists.\n",
      "Skipping the risk of vision changes. Embedding file already exists.\n",
      "Skipping healthy enzyme activity. Embedding file already exists.\n",
      "Skipping minutes. Embedding file already exists.\n",
      "Skipping specific metabolic pathways. Embedding file already exists.\n",
      "Skipping patients with heart failure and reduced ejection fraction. Embedding file already exists.\n",
      "Skipping kidney failure. Embedding file already exists.\n",
      "Skipping appropriate doses. Embedding file already exists.\n",
      "Skipping degeneration of joint cartilage. Embedding file already exists.\n",
      "Skipping Pseudomonas species. Embedding file already exists.\n",
      "Skipping recommended in a comprehensive treatment plan. Embedding file already exists.\n",
      "Skipping once daily dosing. Embedding file already exists.\n",
      "Skipping global eradication efforts. Embedding file already exists.\n",
      "Skipping administered by a healthcare professional. Embedding file already exists.\n",
      "Skipping for inflammatory bowel disease. Embedding file already exists.\n",
      "Skipping symptoms of ENT conditions. Embedding file already exists.\n",
      "Skipping used for gastritis. Embedding file already exists.\n",
      "Skipping subject to regulation. Embedding file already exists.\n",
      "Skipping specific receptors in the brain. Embedding file already exists.\n",
      "Skipping used in combination with exercise. Embedding file already exists.\n",
      "Skipping can cause hallucinations. Embedding file already exists.\n",
      "Skipping clindamycin. Embedding file already exists.\n",
      "Skipping mood-altering effects. Embedding file already exists.\n",
      "Skipping both acute and chronic wounds. Embedding file already exists.\n",
      "Skipping complex and dynamic. Embedding file already exists.\n",
      "Skipping reduced mobility. Embedding file already exists.\n",
      "Skipping storage in a cool place. Embedding file already exists.\n",
      "Skipping be impacted by glaucoma. Embedding file already exists.\n",
      "Skipping ventricular hypertrophy. Embedding file already exists.\n",
      "Skipping the class of serotonin 5-HT3 receptor antagonists. Embedding file already exists.\n",
      "Skipping used for promoting emotional well-being. Embedding file already exists.\n",
      "Skipping occasional use. Embedding file already exists.\n",
      "Skipping patient population characteristics. Embedding file already exists.\n",
      "Skipping contaminated water. Embedding file already exists.\n",
      "Skipping used with caution in patients with liver or kidney problems. Embedding file already exists.\n",
      "Skipping persistent diarrhea. Embedding file already exists.\n",
      "Skipping prescribed for throat infection. Embedding file already exists.\n",
      "Skipping susceptible to adverse effects. Embedding file already exists.\n",
      "Skipping nutrient balance. Embedding file already exists.\n",
      "Skipping zinc supplements. Embedding file already exists.\n",
      "Skipping amlodipine as a brand name. Embedding file already exists.\n",
      "Skipping sexual desire. Embedding file already exists.\n",
      "Skipping same active ingredients. Embedding file already exists.\n",
      "Skipping the brain. Embedding file already exists.\n",
      "Skipping drug interactions with oral antibiotics. Embedding file already exists.\n",
      "Skipping other cardiac preparations. Embedding file already exists.\n",
      "Skipping driving or operating machinery. Embedding file already exists.\n",
      "Skipping enhance imaging. Embedding file already exists.\n",
      "Skipping circulating blood volume. Embedding file already exists.\n",
      "Skipping used for treating intra-abdominal infections. Embedding file already exists.\n",
      "Skipping abrupt cessation. Embedding file already exists.\n",
      "Skipping iron to be excreted by the body. Embedding file already exists.\n",
      "Skipping manage hypokalemia. Embedding file already exists.\n",
      "Skipping professional supervision. Embedding file already exists.\n",
      "Skipping redness or itching. Embedding file already exists.\n",
      "Skipping patients for transplantation. Embedding file already exists.\n",
      "Skipping healthy bile flow. Embedding file already exists.\n",
      "Skipping damage to the optic nerve. Embedding file already exists.\n",
      "Skipping upper gastrointestinal bleeding. Embedding file already exists.\n",
      "Skipping difficulty concentrating. Embedding file already exists.\n",
      "Skipping non-greasy. Embedding file already exists.\n",
      "Skipping a range of symptoms. Embedding file already exists.\n",
      "Skipping changes in taste. Embedding file already exists.\n",
      "Skipping positive outcome. Embedding file already exists.\n",
      "Skipping burning or stinging sensation. Embedding file already exists.\n",
      "Skipping cataracts. Embedding file already exists.\n",
      "Skipping iron-based. Embedding file already exists.\n",
      "Skipping used in combination with antiviral medications. Embedding file already exists.\n",
      "Skipping ibuprofen. Embedding file already exists.\n",
      "Skipping used for insect stings. Embedding file already exists.\n",
      "Skipping liver cancer. Embedding file already exists.\n",
      "Skipping effectiveness. Embedding file already exists.\n",
      "Skipping contraindicated in certain medical conditions. Embedding file already exists.\n",
      "Skipping be used with certain heart conditions. Embedding file already exists.\n",
      "Skipping proper nerve function. Embedding file already exists.\n",
      "Skipping harmful effects. Embedding file already exists.\n",
      "Skipping transparent dressings. Embedding file already exists.\n",
      "Skipping dose adjustments for patients with comorbidities. Embedding file already exists.\n",
      "Skipping insulin resistance. Embedding file already exists.\n",
      "Skipping improved digestion. Embedding file already exists.\n",
      "Skipping recommended for specific health conditions. Embedding file already exists.\n",
      "Skipping taken consistently. Embedding file already exists.\n",
      "Skipping in combination with other gastrointestinal medications. Embedding file already exists.\n",
      "Skipping other drugs that also prolong the QT interval. Embedding file already exists.\n",
      "Skipping in patients with glomerulopathy. Embedding file already exists.\n",
      "Skipping by trained healthcare professionals. Embedding file already exists.\n",
      "Skipping necessary for certain conditions. Embedding file already exists.\n",
      "Skipping for treating colic. Embedding file already exists.\n",
      "Skipping home appliances. Embedding file already exists.\n",
      "Skipping improve symptoms. Embedding file already exists.\n",
      "Skipping liver cell repair. Embedding file already exists.\n",
      "Skipping inflammatory bowel syndrome. Embedding file already exists.\n",
      "Skipping methcathinone. Embedding file already exists.\n",
      "Skipping irritation or pain at the site of administration. Embedding file already exists.\n",
      "Skipping prescribed based on individual needs. Embedding file already exists.\n",
      "Skipping injected into spinal cord. Embedding file already exists.\n",
      "Skipping to individual patients. Embedding file already exists.\n",
      "Skipping necessary for the production of adrenaline and noradrenaline. Embedding file already exists.\n",
      "Skipping daily potassium needs. Embedding file already exists.\n",
      "Skipping sunken fontanelles in babies. Embedding file already exists.\n",
      "Skipping treatment cessation. Embedding file already exists.\n",
      "Skipping hormone levels are disrupted. Embedding file already exists.\n",
      "Skipping in patients with narrow-angle glaucoma. Embedding file already exists.\n",
      "Skipping long-term effects on the retina. Embedding file already exists.\n",
      "Skipping swelling of body tissues. Embedding file already exists.\n",
      "Skipping periodic monitoring. Embedding file already exists.\n",
      "Skipping spectrums of activity. Embedding file already exists.\n",
      "Skipping exhibit increased microbial kill with higher doses. Embedding file already exists.\n",
      "Skipping dystonic reactions. Embedding file already exists.\n",
      "Skipping prescribed for cholera. Embedding file already exists.\n",
      "Skipping tablets and syrups. Embedding file already exists.\n",
      "Skipping life-saving in some cases. Embedding file already exists.\n",
      "Skipping rescue medication. Embedding file already exists.\n",
      "Skipping in patients with interstitial nephritis. Embedding file already exists.\n",
      "Skipping formulated as suspensions. Embedding file already exists.\n",
      "Skipping maintain electrolyte balance. Embedding file already exists.\n",
      "Skipping legally required for medication dispensing. Embedding file already exists.\n",
      "Skipping used in small amounts. Embedding file already exists.\n",
      "Skipping antihypertensive effects. Embedding file already exists.\n",
      "Skipping GERD. Embedding file already exists.\n",
      "Skipping reporting to public health authorities. Embedding file already exists.\n",
      "Skipping adjunct therapy. Embedding file already exists.\n",
      "Skipping Bacillus Calmette-Guérin (BCG) vaccine. Embedding file already exists.\n",
      "Skipping common side effect of other antidiarrheals. Embedding file already exists.\n",
      "Skipping specific patient populations. Embedding file already exists.\n",
      "Skipping risk of gout. Embedding file already exists.\n",
      "Skipping as anticholinergics. Embedding file already exists.\n",
      "Skipping liver function test results. Embedding file already exists.\n",
      "Skipping essential for growth and development. Embedding file already exists.\n",
      "Skipping post-surgical diarrhea. Embedding file already exists.\n",
      "Skipping essential for the biosynthesis of collagen. Embedding file already exists.\n",
      "Skipping patients about vaccines. Embedding file already exists.\n",
      "Skipping terms of demographics. Embedding file already exists.\n",
      "Skipping intraurethral administration of parasympathomimetics. Embedding file already exists.\n",
      "Skipping effectiveness of antiinflammatory and antirheumatic products. Embedding file already exists.\n",
      "Skipping performing daily tasks. Embedding file already exists.\n",
      "Skipping growth. Embedding file already exists.\n",
      "Skipping affecting the skin. Embedding file already exists.\n",
      "Skipping in conjunction with other therapies. Embedding file already exists.\n",
      "Skipping increase cardiac contractility. Embedding file already exists.\n",
      "Skipping allergy to the drug. Embedding file already exists.\n",
      "Skipping used in the treatment of acute mania. Embedding file already exists.\n",
      "Skipping several weeks to show full effect. Embedding file already exists.\n",
      "Skipping based on patient age. Embedding file already exists.\n",
      "Skipping left ventricular dysfunction. Embedding file already exists.\n",
      "Skipping discover new agents. Embedding file already exists.\n",
      "Skipping waste removal. Embedding file already exists.\n",
      "Skipping a process of DNA copying. Embedding file already exists.\n",
      "Skipping athletic performance. Embedding file already exists.\n",
      "Skipping disulfiram-like reaction. Embedding file already exists.\n",
      "Skipping combined with other medications. Embedding file already exists.\n",
      "Skipping iv solutions. Embedding file already exists.\n",
      "Skipping moderate use. Embedding file already exists.\n",
      "Skipping new treatment options. Embedding file already exists.\n",
      "Skipping the liver's detoxification processes. Embedding file already exists.\n",
      "Skipping scar formation. Embedding file already exists.\n",
      "Skipping fistulography. Embedding file already exists.\n",
      "Skipping reduce immune activity. Embedding file already exists.\n",
      "Skipping liver mitochondrial function. Embedding file already exists.\n",
      "Skipping sodium levels. Embedding file already exists.\n",
      "Skipping tissue regeneration. Embedding file already exists.\n",
      "Skipping multiple births. Embedding file already exists.\n",
      "Skipping propoxyphene. Embedding file already exists.\n",
      "Skipping Clostridium difficile infection. Embedding file already exists.\n",
      "Skipping reduced tears. Embedding file already exists.\n",
      "Skipping a systemic infection. Embedding file already exists.\n",
      "Skipping autoimmune disease. Embedding file already exists.\n",
      "Skipping respiratory infections. Embedding file already exists.\n",
      "Skipping promote better sleep quality. Embedding file already exists.\n",
      "Skipping condition where fluid accumulates in the lungs due to exposure to high altitude. Embedding file already exists.\n",
      "Skipping inflammation of the spine. Embedding file already exists.\n",
      "Skipping in various forms such as tablets and capsules. Embedding file already exists.\n",
      "Skipping compliance with usage. Embedding file already exists.\n",
      "Skipping in patients with nephrolithiasis. Embedding file already exists.\n",
      "Skipping performed during treatment with iodine therapy drugs. Embedding file already exists.\n",
      "Skipping can cause delayed awakening from anesthesia. Embedding file already exists.\n",
      "Skipping in patients with hypertension and renal artery stenosis. Embedding file already exists.\n",
      "Skipping ocular surface disease. Embedding file already exists.\n",
      "Skipping aid in patient care. Embedding file already exists.\n",
      "Skipping toxic to pollinators. Embedding file already exists.\n",
      "Skipping around the catheter. Embedding file already exists.\n",
      "Skipping muscle weakness. Embedding file already exists.\n",
      "Skipping uric acid control. Embedding file already exists.\n",
      "Skipping used in excessive amounts. Embedding file already exists.\n",
      "Skipping treatment adjustment. Embedding file already exists.\n",
      "Skipping pharmaceutical companies. Embedding file already exists.\n",
      "Skipping increased susceptibility to adverse effects. Embedding file already exists.\n",
      "Skipping drug pharmacokinetics and drug response. Embedding file already exists.\n",
      "Skipping neurotransmitters. Embedding file already exists.\n",
      "Skipping nasal spray form. Embedding file already exists.\n",
      "Skipping fatigue and weakness. Embedding file already exists.\n",
      "Skipping protected from light. Embedding file already exists.\n",
      "Skipping silver-based dressings. Embedding file already exists.\n",
      "Skipping dose adjustments in patients with gastroparesis. Embedding file already exists.\n",
      "Skipping multiple bacterial components. Embedding file already exists.\n",
      "Skipping overall health. Embedding file already exists.\n",
      "Skipping sterile containers. Embedding file already exists.\n",
      "Skipping different durations of effectiveness. Embedding file already exists.\n",
      "Skipping used for bladder pain. Embedding file already exists.\n",
      "Skipping as decongestants. Embedding file already exists.\n",
      "Skipping the risk of heart disease. Embedding file already exists.\n",
      "Skipping iron to be absorbed in the colon. Embedding file already exists.\n",
      "Skipping in patients with patent ductus arteriosus. Embedding file already exists.\n",
      "Skipping hormonal patches. Embedding file already exists.\n",
      "Skipping out of reach of children. Embedding file already exists.\n",
      "Skipping in patients of all ages. Embedding file already exists.\n",
      "Skipping impaired communication. Embedding file already exists.\n",
      "Skipping prescription or over-the-counter. Embedding file already exists.\n",
      "Skipping ankylosing spondylitis. Embedding file already exists.\n",
      "Skipping tuberculoid lepra. Embedding file already exists.\n",
      "Skipping anovulation. Embedding file already exists.\n",
      "Skipping the pharmacokinetics of ultrasound contrast media. Embedding file already exists.\n",
      "Skipping relieving symptoms. Embedding file already exists.\n",
      "Skipping used with caution in individuals with a history of adverse drug reactions. Embedding file already exists.\n",
      "Skipping used to treat bacterial vaginosis. Embedding file already exists.\n",
      "Skipping used within the recommended expiry date. Embedding file already exists.\n",
      "Skipping treating urinary retention. Embedding file already exists.\n",
      "Skipping erythropoiesis. Embedding file already exists.\n",
      "Skipping prescribed for mycoplasma pneumoniae infection. Embedding file already exists.\n",
      "Skipping for surgical instruments. Embedding file already exists.\n",
      "Skipping taken with caution in patients with a history of cardiac arrhythmias. Embedding file already exists.\n",
      "Skipping coronary artery blood flow. Embedding file already exists.\n",
      "Skipping physical protection. Embedding file already exists.\n",
      "Skipping water balance. Embedding file already exists.\n",
      "Skipping in patients with vitamin D toxicity. Embedding file already exists.\n",
      "Skipping increases diameter of blood vessels. Embedding file already exists.\n",
      "Skipping acute mania. Embedding file already exists.\n",
      "Skipping foreign bodies. Embedding file already exists.\n",
      "Skipping urinary reflux. Embedding file already exists.\n",
      "Skipping regulate bone metabolism. Embedding file already exists.\n",
      "Skipping liver glutathione levels. Embedding file already exists.\n",
      "Skipping varying onset and duration of action. Embedding file already exists.\n",
      "Skipping symptom control. Embedding file already exists.\n",
      "Skipping renin inhibitors. Embedding file already exists.\n",
      "Skipping acute and chronic conditions. Embedding file already exists.\n",
      "Skipping hybridoma technology. Embedding file already exists.\n",
      "Skipping unwanted proteins from samples. Embedding file already exists.\n",
      "Skipping be taken as needed for symptom relief. Embedding file already exists.\n",
      "Skipping efficacy. Embedding file already exists.\n",
      "Skipping excessive amounts of antacids. Embedding file already exists.\n",
      "Skipping hospitalization time. Embedding file already exists.\n",
      "Skipping praziquantel. Embedding file already exists.\n",
      "Skipping misaligned teeth. Embedding file already exists.\n",
      "Skipping dental prosthetic maintenance. Embedding file already exists.\n",
      "Skipping anti-seizure medications. Embedding file already exists.\n",
      "Skipping dopamine levels. Embedding file already exists.\n",
      "Skipping prescribed for joint condition. Embedding file already exists.\n",
      "Skipping diagnostic agent efficacy. Embedding file already exists.\n",
      "Skipping specialized care. Embedding file already exists.\n",
      "Skipping multiple medications. Embedding file already exists.\n",
      "Skipping emergency imaging. Embedding file already exists.\n",
      "Skipping improve bone health. Embedding file already exists.\n",
      "Skipping effective in preventing relapses. Embedding file already exists.\n",
      "Skipping libido and performance. Embedding file already exists.\n",
      "Skipping required for the synthesis of collagen in bones. Embedding file already exists.\n",
      "Skipping recurrent gout attacks. Embedding file already exists.\n",
      "Skipping Anatomical Therapeutic Chemical Classification System. Embedding file already exists.\n",
      "Skipping liver cancer stage. Embedding file already exists.\n",
      "Skipping using a medication for a purpose not approved by the FDA. Embedding file already exists.\n",
      "Skipping the risk of adverse cardiac events. Embedding file already exists.\n",
      "Skipping be expensive. Embedding file already exists.\n",
      "Skipping prescribed for blood infection. Embedding file already exists.\n",
      "Skipping antidiarrheal microorganisms. Embedding file already exists.\n",
      "Skipping urinary obstruction. Embedding file already exists.\n",
      "Skipping natural ingredients. Embedding file already exists.\n",
      "Skipping sympathomimetic agent. Embedding file already exists.\n",
      "Skipping with certain diuretic medications. Embedding file already exists.\n",
      "Skipping used for treating infections caused by drug-resistant bacteria. Embedding file already exists.\n",
      "Skipping a powerful antioxidant. Embedding file already exists.\n",
      "Skipping contagious. Embedding file already exists.\n",
      "Skipping body structure. Embedding file already exists.\n",
      "Skipping the risk of recurrent heart attacks. Embedding file already exists.\n",
      "Skipping coronary blood flow. Embedding file already exists.\n",
      "Skipping if the solution is discolored. Embedding file already exists.\n",
      "Skipping protected from freezing. Embedding file already exists.\n",
      "Skipping used for acute conditions. Embedding file already exists.\n",
      "Skipping risk of bleeding. Embedding file already exists.\n",
      "Skipping used to treat psoriasis. Embedding file already exists.\n",
      "Skipping overall mobility. Embedding file already exists.\n",
      "Skipping specific receptors. Embedding file already exists.\n",
      "Skipping treat medical conditions. Embedding file already exists.\n",
      "Skipping while breastfeeding without medical advice. Embedding file already exists.\n",
      "Skipping by belladonna and derivatives containing drugs. Embedding file already exists.\n",
      "Skipping control bleeding. Embedding file already exists.\n",
      "Skipping medications that affect liver function. Embedding file already exists.\n",
      "Skipping iodine-based. Embedding file already exists.\n",
      "Skipping treat hypokalemia. Embedding file already exists.\n",
      "Skipping blood cell differentiation. Embedding file already exists.\n",
      "Skipping weight loss. Embedding file already exists.\n",
      "Skipping the risk of kidney damage. Embedding file already exists.\n",
      "Skipping a substitute for healthy lifestyle choices. Embedding file already exists.\n",
      "Skipping epinephrine. Embedding file already exists.\n",
      "Skipping night sweats. Embedding file already exists.\n"
     ]
    },
    {
     "name": "stderr",
     "output_type": "stream",
     "text": [
      "  3%|▎         | 568/20859 [00:01<01:11, 284.35it/s] \n"
     ]
    },
    {
     "ename": "FileNotFoundError",
     "evalue": "[Errno 2] No such file or directory: '../../graphs/drug/ATC3/drug_ent_emb/intestinal antiinflammatory/antiinfective agents.json'",
     "output_type": "error",
     "traceback": [
      "\u001b[1;31m---------------------------------------------------------------------------\u001b[0m",
      "\u001b[1;31mFileNotFoundError\u001b[0m                         Traceback (most recent call last)",
      "\u001b[1;32md:\\OneDrive fengysconnect\\OneDrive - connect.hku.hk\\桌面\\Research\\GraphCare-main\\graphcare_\\graph_generation\\drug_emb_ret.ipynb Cell 7\u001b[0m in \u001b[0;36m<cell line: 15>\u001b[1;34m()\u001b[0m\n\u001b[0;32m     <a href='vscode-notebook-cell:/d%3A/OneDrive%20fengysconnect/OneDrive%20-%20connect.hku.hk/%E6%A1%8C%E9%9D%A2/Research/GraphCare-main/graphcare_/graph_generation/drug_emb_ret.ipynb#X26sZmlsZQ%3D%3D?line=20'>21</a>\u001b[0m embedding \u001b[39m=\u001b[39m embedding_retriever(term\u001b[39m=\u001b[39ment)\n\u001b[0;32m     <a href='vscode-notebook-cell:/d%3A/OneDrive%20fengysconnect/OneDrive%20-%20connect.hku.hk/%E6%A1%8C%E9%9D%A2/Research/GraphCare-main/graphcare_/graph_generation/drug_emb_ret.ipynb#X26sZmlsZQ%3D%3D?line=21'>22</a>\u001b[0m embedding \u001b[39m=\u001b[39m np\u001b[39m.\u001b[39marray(embedding)\n\u001b[1;32m---> <a href='vscode-notebook-cell:/d%3A/OneDrive%20fengysconnect/OneDrive%20-%20connect.hku.hk/%E6%A1%8C%E9%9D%A2/Research/GraphCare-main/graphcare_/graph_generation/drug_emb_ret.ipynb#X26sZmlsZQ%3D%3D?line=22'>23</a>\u001b[0m \u001b[39mwith\u001b[39;00m \u001b[39mopen\u001b[39;49m(emb_filename, \u001b[39m\"\u001b[39;49m\u001b[39mw\u001b[39;49m\u001b[39m\"\u001b[39;49m) \u001b[39mas\u001b[39;00m f:\n\u001b[0;32m     <a href='vscode-notebook-cell:/d%3A/OneDrive%20fengysconnect/OneDrive%20-%20connect.hku.hk/%E6%A1%8C%E9%9D%A2/Research/GraphCare-main/graphcare_/graph_generation/drug_emb_ret.ipynb#X26sZmlsZQ%3D%3D?line=23'>24</a>\u001b[0m     json\u001b[39m.\u001b[39mdump(embedding\u001b[39m.\u001b[39mtolist(), f)\n\u001b[0;32m     <a href='vscode-notebook-cell:/d%3A/OneDrive%20fengysconnect/OneDrive%20-%20connect.hku.hk/%E6%A1%8C%E9%9D%A2/Research/GraphCare-main/graphcare_/graph_generation/drug_emb_ret.ipynb#X26sZmlsZQ%3D%3D?line=24'>25</a>\u001b[0m     \u001b[39mprint\u001b[39m(\u001b[39mf\u001b[39m\u001b[39m\"\u001b[39m\u001b[39mSaved embedding for \u001b[39m\u001b[39m{\u001b[39;00ment\u001b[39m}\u001b[39;00m\u001b[39m to \u001b[39m\u001b[39m{\u001b[39;00memb_filename\u001b[39m}\u001b[39;00m\u001b[39m\"\u001b[39m)\n",
      "\u001b[1;31mFileNotFoundError\u001b[0m: [Errno 2] No such file or directory: '../../graphs/drug/ATC3/drug_ent_emb/intestinal antiinflammatory/antiinfective agents.json'"
     ]
    }
   ],
   "source": [
    "import json\n",
    "import pickle\n",
    "import numpy as np\n",
    "from tqdm import tqdm\n",
    "from get_emb import embedding_retriever\n",
    "import os\n",
    "import glob\n",
    "\n",
    "drug_ent_emb_dir = f\"{file_dir}/drug_ent_emb\"\n",
    "\n",
    "if not os.path.exists(drug_ent_emb_dir):\n",
    "    print(f\"Creating directory {drug_ent_emb_dir}\")\n",
    "    os.makedirs(drug_ent_emb_dir)\n",
    "\n",
    "for idx in tqdm(range(len(drug_id2ent))):\n",
    "    ent = drug_id2ent[str(idx)]\n",
    "    emb_filename = f\"{drug_ent_emb_dir}/{ent}.json\"\n",
    "    if os.path.isfile(emb_filename):\n",
    "        print(f\"Skipping {ent}. Embedding file already exists.\")\n",
    "        continue\n",
    "    embedding = embedding_retriever(term=ent)\n",
    "    embedding = np.array(embedding)\n",
    "    with open(emb_filename, \"w\") as f:\n",
    "        json.dump(embedding.tolist(), f)\n",
    "        print(f\"Saved embedding for {ent} to {emb_filename}\")\n",
    "\n",
    "emb_files = glob.glob(f\"{drug_ent_emb_dir}/*.json\")\n",
    "emb_list = []\n",
    "for emb_file in emb_files:\n",
    "    with open(emb_file, \"r\") as f:\n",
    "        emb_list.append(np.array(json.load(f)))\n",
    "stacked_embedding = np.vstack(emb_list)\n",
    "\n",
    "emb_pkl = f\"{file_dir}/entity_embedding.pkl\"\n",
    "with open(emb_pkl, \"wb\") as file:\n",
    "    pickle.dump(stacked_embedding, file)"
   ]
  },
  {
   "cell_type": "code",
   "execution_count": 9,
   "metadata": {},
   "outputs": [
    {
     "name": "stderr",
     "output_type": "stream",
     "text": [
      "100%|██████████| 2283/2283 [22:39<00:00,  1.68it/s] \n"
     ]
    }
   ],
   "source": [
    "from get_emb import embedding_retriever\n",
    "import numpy as np\n",
    "from tqdm import tqdm\n",
    "import pickle\n",
    "\n",
    "## get embedding for drug relations\n",
    "drug_rel_emb = []\n",
    "\n",
    "for idx in tqdm(range(len(drug_id2rel))):\n",
    "    rel = drug_id2rel[str(idx)]\n",
    "    embedding = embedding_retriever(term=rel)\n",
    "    embedding = np.array(embedding)\n",
    "    drug_rel_emb.append(embedding)\n",
    "\n",
    "stacked_embedding = np.vstack(drug_rel_emb)\n",
    "\n",
    "emb_pkl = f\"{file_dir}/relation_embedding.pkl\"\n",
    "\n",
    "with open(emb_pkl, \"wb\") as file:\n",
    "    pickle.dump(stacked_embedding, file)"
   ]
  },
  {
   "attachments": {},
   "cell_type": "markdown",
   "metadata": {},
   "source": [
    "--------------------"
   ]
  },
  {
   "cell_type": "code",
   "execution_count": null,
   "metadata": {},
   "outputs": [],
   "source": [
    "import csv\n",
    "\n",
    "condition_mapping_file = \"../../resources/CCSCM.csv\"\n",
    "procedure_mapping_file = \"../../resources/CCSPROC.csv\"\n",
    "drug_file = \"../../resources/ATC.csv\"\n",
    "\n",
    "condition_dict = {}\n",
    "with open(condition_mapping_file, newline='') as csvfile:\n",
    "    reader = csv.DictReader(csvfile)\n",
    "    for row in reader:\n",
    "        condition_dict[row['code']] = row['name'].lower()\n",
    "\n",
    "procedure_dict = {}\n",
    "with open(procedure_mapping_file, newline='') as csvfile:\n",
    "    reader = csv.DictReader(csvfile)\n",
    "    for row in reader:\n",
    "        procedure_dict[row['code']] = row['name'].lower()\n",
    "\n",
    "drug_dict = {}\n",
    "with open(drug_file, newline='') as csvfile:\n",
    "    reader = csv.DictReader(csvfile)\n",
    "    for row in reader:\n",
    "        if row['level'] == '3':   #the prior cade was '5.0', changed to '3' to match graph_gen.ipynb\n",
    "            drug_dict[row['code']] = row['name'].lower()\n"
   ]
  },
  {
   "cell_type": "code",
   "execution_count": null,
   "metadata": {},
   "outputs": [],
   "source": [
    "from tqdm import tqdm\n",
    "import json\n",
    "\n",
    "proc_ent = set()\n",
    "proc_rel = set()\n",
    "\n",
    "file_dir = \"../../graphs/procedure/CCSPROC\"\n",
    "\n",
    "for key in procedure_dict.keys():\n",
    "    file = f\"{file_dir}/{key}.txt\"\n",
    "    with open(file=file, mode='r') as f:\n",
    "        lines = f.readlines()\n",
    "    \n",
    "    for line in lines:\n",
    "        parsed = line.split('\\t')\n",
    "        if len(parsed) == 3:\n",
    "            h, r, t = line.split('\\t')\n",
    "            t = t[:-1]\n",
    "            proc_ent.add(h)\n",
    "            proc_ent.add(t)\n",
    "            proc_rel.add(r)\n",
    "\n",
    "\n",
    "proc_id2ent = {index: value for index, value in enumerate(proc_ent)}\n",
    "proc_ent2id = {value: index for index, value in enumerate(proc_ent)}\n",
    "proc_id2rel = {index: value for index, value in enumerate(proc_rel)}\n",
    "proc_rel2id = {value: index for index, value in enumerate(proc_rel)}\n",
    "\n",
    "out_file_id2ent = f\"{file_dir}/id2ent.json\"\n",
    "out_file_ent2id = f\"{file_dir}/ent2id.json\"\n",
    "out_file_id2rel = f\"{file_dir}/id2rel.json\"\n",
    "out_file_rel2id = f\"{file_dir}/rel2id.json\"\n",
    "\n",
    "with open(out_file_id2ent, 'w') as file:\n",
    "    json.dump(proc_id2ent, file, indent=6)\n",
    "with open(out_file_ent2id, 'w') as file:\n",
    "    json.dump(proc_ent2id, file, indent=6)\n",
    "with open(out_file_id2rel, 'w') as file:\n",
    "    json.dump(proc_id2rel, file, indent=6)\n",
    "with open(out_file_rel2id, 'w') as file:\n",
    "    json.dump(proc_rel2id, file, indent=6)\n",
    "    "
   ]
  },
  {
   "cell_type": "code",
   "execution_count": null,
   "metadata": {},
   "outputs": [],
   "source": [
    "import json\n",
    "\n",
    "file_dir = \"../../graphs/procedure/CCSPROC\"\n",
    "\n",
    "file_id2ent = f\"{file_dir}/id2ent.json\"\n",
    "file_ent2id = f\"{file_dir}/ent2id.json\"\n",
    "file_id2rel = f\"{file_dir}/id2rel.json\"\n",
    "file_rel2id = f\"{file_dir}/rel2id.json\"\n",
    "\n",
    "with open(file_id2ent, 'r') as file:\n",
    "    proc_id2ent = json.load(file)\n",
    "with open(file_ent2id, 'r') as file:\n",
    "    proc_ent2id = json.load(file)\n",
    "with open(file_id2rel, 'r') as file:\n",
    "    proc_id2rel = json.load(file)\n",
    "with open(file_rel2id, 'r') as file:\n",
    "    proc_rel2id = json.load(file)"
   ]
  },
  {
   "cell_type": "code",
   "execution_count": null,
   "metadata": {},
   "outputs": [],
   "source": [
    "from get_emb import embedding_retriever\n",
    "import numpy as np\n",
    "from tqdm import tqdm\n",
    "import pickle\n",
    "\n",
    "## get embedding for procedure entities\n",
    "proc_ent_emb = []\n",
    "\n",
    "for idx in tqdm(range(len(proc_id2ent))):\n",
    "    ent = proc_id2ent[str(idx)]\n",
    "    embedding = embedding_retriever(term=ent)\n",
    "    embedding = np.array(embedding)\n",
    "    proc_ent_emb.append(embedding)\n",
    "\n",
    "stacked_embedding = np.vstack(proc_ent_emb)\n",
    "\n",
    "emb_pkl = f\"{file_dir}/entity_embedding.pkl\"\n",
    "\n",
    "with open(emb_pkl, \"wb\") as file:\n",
    "    pickle.dump(stacked_embedding, file)"
   ]
  },
  {
   "cell_type": "code",
   "execution_count": null,
   "metadata": {},
   "outputs": [],
   "source": [
    "from get_emb import embedding_retriever\n",
    "import numpy as np\n",
    "from tqdm import tqdm\n",
    "import pickle\n",
    "\n",
    "## get embedding for procedure relations\n",
    "proc_rel_emb = []\n",
    "\n",
    "for idx in tqdm(range(len(proc_id2rel))):\n",
    "    rel = proc_id2rel[str(idx)]\n",
    "    embedding = embedding_retriever(term=rel)\n",
    "    embedding = np.array(embedding)\n",
    "    proc_rel_emb.append(embedding)\n",
    "\n",
    "stacked_embedding = np.vstack(proc_rel_emb)\n",
    "\n",
    "emb_pkl = f\"{file_dir}/relation_embedding.pkl\"\n",
    "\n",
    "with open(emb_pkl, \"wb\") as file:\n",
    "    pickle.dump(stacked_embedding, file)"
   ]
  },
  {
   "cell_type": "code",
   "execution_count": null,
   "metadata": {},
   "outputs": [],
   "source": []
  }
 ],
 "metadata": {
  "kernelspec": {
   "display_name": "Python 3.8.13 ('kgc')",
   "language": "python",
   "name": "python3"
  },
  "language_info": {
   "codemirror_mode": {
    "name": "ipython",
    "version": 3
   },
   "file_extension": ".py",
   "mimetype": "text/x-python",
   "name": "python",
   "nbconvert_exporter": "python",
   "pygments_lexer": "ipython3",
   "version": "3.9.12"
  },
  "orig_nbformat": 4,
  "vscode": {
   "interpreter": {
    "hash": "3d0509d9aa81f2882b18eeb72d4d23c32cae9029e9b99f63cde94ba86c35ac78"
   }
  }
 },
 "nbformat": 4,
 "nbformat_minor": 2
}
